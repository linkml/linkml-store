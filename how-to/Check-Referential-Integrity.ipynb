{
 "cells": [
  {
   "cell_type": "markdown",
   "id": "fc4794dd116ed21",
   "metadata": {
    "collapsed": false
   },
   "source": [
    "# How to Check Referential Integrity\n",
    "\n",
    "This example uses MongoDB"
   ]
  },
  {
   "cell_type": "code",
   "execution_count": 1,
   "id": "initial_id",
   "metadata": {
    "ExecuteTime": {
     "end_time": "2025-03-07T02:08:28.986444Z",
     "start_time": "2025-03-07T02:08:27.758566Z"
    },
    "collapsed": false
   },
   "outputs": [],
   "source": [
    "from linkml_store import Client\n",
    "\n",
    "client = Client()"
   ]
  },
  {
   "cell_type": "code",
   "execution_count": 2,
   "id": "cc164c0acbe4c39d",
   "metadata": {
    "ExecuteTime": {
     "end_time": "2025-03-07T02:08:29.030994Z",
     "start_time": "2025-03-07T02:08:28.989892Z"
    },
    "collapsed": false
   },
   "outputs": [],
   "source": [
    "db = client.attach_database(\"mongodb://localhost:27017\", \"test-ri\")\n",
    "db.metadata.ensure_referential_integrity = True\n",
    "db.set_schema_view(\"../../tests/input/countries/countries.linkml.yaml\")\n"
   ]
  },
  {
   "cell_type": "code",
   "execution_count": 5,
   "id": "cec53323f880da30",
   "metadata": {
    "ExecuteTime": {
     "end_time": "2025-03-07T02:08:29.335618Z",
     "start_time": "2025-03-07T02:08:29.318131Z"
    }
   },
   "outputs": [],
   "source": [
    "countries_coll = db.create_collection(\"Country\", alias=\"countries\", recreate_if_exists=True)\n",
    "routes_coll = db.create_collection(\"Route\", alias=\"routes\", recreate_if_exists=True)"
   ]
  },
  {
   "cell_type": "code",
   "execution_count": 6,
   "id": "5286ef4e9dd0f316",
   "metadata": {
    "ExecuteTime": {
     "end_time": "2025-03-07T02:08:29.343921Z",
     "start_time": "2025-03-07T02:08:29.341972Z"
    },
    "collapsed": false
   },
   "outputs": [],
   "source": [
    "COUNTRIES = \"../../tests/input/countries/countries.jsonl\"\n",
    "ROUTES = \"../../tests/input/countries/routes.csv\""
   ]
  },
  {
   "cell_type": "code",
   "execution_count": 7,
   "id": "2e21988e4fc13f58",
   "metadata": {
    "ExecuteTime": {
     "end_time": "2025-03-07T02:08:29.353362Z",
     "start_time": "2025-03-07T02:08:29.349890Z"
    },
    "collapsed": false
   },
   "outputs": [
    {
     "data": {
      "text/plain": [
       "[{'origin': 'DE', 'destination': 'FR', 'method': 'rail'}]"
      ]
     },
     "execution_count": 7,
     "metadata": {},
     "output_type": "execute_result"
    }
   ],
   "source": [
    "from linkml_store.utils.format_utils import load_objects\n",
    "\n",
    "countries = load_objects(COUNTRIES)\n",
    "routes = load_objects(ROUTES)\n",
    "routes"
   ]
  },
  {
   "cell_type": "code",
   "execution_count": 8,
   "id": "668e59a8f28e7bfe",
   "metadata": {
    "ExecuteTime": {
     "end_time": "2025-03-07T02:08:29.583920Z",
     "start_time": "2025-03-07T02:08:29.359788Z"
    },
    "collapsed": false
   },
   "outputs": [],
   "source": [
    "countries_coll.insert(countries)\n",
    "routes_coll.insert(routes)"
   ]
  },
  {
   "cell_type": "code",
   "execution_count": 9,
   "id": "995e63f873ea9353",
   "metadata": {
    "ExecuteTime": {
     "end_time": "2025-03-07T02:08:29.596327Z",
     "start_time": "2025-03-07T02:08:29.591085Z"
    },
    "collapsed": false
   },
   "outputs": [
    {
     "data": {
      "text/plain": [
       "[{'origin': 'DE', 'destination': 'FR', 'method': 'rail'}]"
      ]
     },
     "execution_count": 9,
     "metadata": {},
     "output_type": "execute_result"
    }
   ],
   "source": [
    "routes_coll.find().rows"
   ]
  },
  {
   "cell_type": "code",
   "execution_count": 10,
   "id": "a8ef16a3fbc6bfe6",
   "metadata": {
    "ExecuteTime": {
     "end_time": "2025-03-07T02:08:29.737342Z",
     "start_time": "2025-03-07T02:08:29.602408Z"
    },
    "collapsed": false
   },
   "outputs": [],
   "source": [
    "for result in db.iter_validate_database():\n",
    "    print(result)"
   ]
  },
  {
   "cell_type": "markdown",
   "id": "24fb15bce092c2d1",
   "metadata": {
    "collapsed": false
   },
   "source": [
    "## Inserting invalid data\n",
    "\n",
    "We will intentionally insert an invalid row"
   ]
  },
  {
   "cell_type": "code",
   "execution_count": 11,
   "id": "f712a82be775f413",
   "metadata": {
    "ExecuteTime": {
     "end_time": "2025-03-07T02:08:29.747005Z",
     "start_time": "2025-03-07T02:08:29.743644Z"
    },
    "collapsed": false
   },
   "outputs": [],
   "source": [
    "routes_coll.insert({\"origin\": \"ZZZ\", \"destination\": \"YYY\", \"method\": \"rail\"})"
   ]
  },
  {
   "cell_type": "code",
   "execution_count": 12,
   "id": "18ffa996e3893b96",
   "metadata": {
    "ExecuteTime": {
     "end_time": "2025-03-07T02:08:29.766855Z",
     "start_time": "2025-03-07T02:08:29.753525Z"
    },
    "collapsed": false
   },
   "outputs": [
    {
     "data": {
      "text/html": [
       "<div>\n",
       "<style scoped>\n",
       "    .dataframe tbody tr th:only-of-type {\n",
       "        vertical-align: middle;\n",
       "    }\n",
       "\n",
       "    .dataframe tbody tr th {\n",
       "        vertical-align: top;\n",
       "    }\n",
       "\n",
       "    .dataframe thead th {\n",
       "        text-align: right;\n",
       "    }\n",
       "</style>\n",
       "<table border=\"1\" class=\"dataframe\">\n",
       "  <thead>\n",
       "    <tr style=\"text-align: right;\">\n",
       "      <th></th>\n",
       "      <th>origin</th>\n",
       "      <th>destination</th>\n",
       "      <th>method</th>\n",
       "    </tr>\n",
       "  </thead>\n",
       "  <tbody>\n",
       "    <tr>\n",
       "      <th>0</th>\n",
       "      <td>DE</td>\n",
       "      <td>FR</td>\n",
       "      <td>rail</td>\n",
       "    </tr>\n",
       "    <tr>\n",
       "      <th>1</th>\n",
       "      <td>ZZZ</td>\n",
       "      <td>YYY</td>\n",
       "      <td>rail</td>\n",
       "    </tr>\n",
       "  </tbody>\n",
       "</table>\n",
       "</div>"
      ],
      "text/plain": [
       "  origin destination method\n",
       "0     DE          FR   rail\n",
       "1    ZZZ         YYY   rail"
      ]
     },
     "execution_count": 12,
     "metadata": {},
     "output_type": "execute_result"
    }
   ],
   "source": [
    "routes_coll.find().rows_dataframe"
   ]
  },
  {
   "cell_type": "code",
   "execution_count": 13,
   "id": "c67517aece5d47c5",
   "metadata": {
    "ExecuteTime": {
     "end_time": "2025-03-07T02:08:29.880295Z",
     "start_time": "2025-03-07T02:08:29.792681Z"
    },
    "collapsed": false
   },
   "outputs": [
    {
     "name": "stdout",
     "output_type": "stream",
     "text": [
      "type='ReferentialIntegrity' severity=<Severity.ERROR: 'ERROR'> message='Referential integrity error: Country not found' instance='ZZZ' instance_index=None instantiates='Country' context=[] source=None\n",
      "type='ReferentialIntegrity' severity=<Severity.ERROR: 'ERROR'> message='Referential integrity error: Country not found' instance='YYY' instance_index=None instantiates='Country' context=[] source=None\n"
     ]
    }
   ],
   "source": [
    "results = list(db.iter_validate_database())"
   ]
  },
  {
   "cell_type": "code",
   "execution_count": 14,
   "id": "ab65fa35df1319fa",
   "metadata": {
    "ExecuteTime": {
     "end_time": "2025-03-07T02:09:42.929682Z",
     "start_time": "2025-03-07T02:09:42.926860Z"
    }
   },
   "outputs": [],
   "source": [
    "assert any(r for r in results if \"Referential integrity\" in r.message)"
   ]
  },
  {
   "cell_type": "code",
   "execution_count": 16,
   "id": "755df23ea86fb8fe",
   "metadata": {
    "ExecuteTime": {
     "end_time": "2025-03-07T02:09:59.275684Z",
     "start_time": "2025-03-07T02:09:59.273035Z"
    }
   },
   "outputs": [
    {
     "name": "stdout",
     "output_type": "stream",
     "text": [
      "Expected error:  type='ReferentialIntegrity' severity=<Severity.ERROR: 'ERROR'> message='Referential integrity error: Country not found' instance='ZZZ' instance_index=None instantiates='Country' context=[] source=None\n",
      "Expected error:  type='ReferentialIntegrity' severity=<Severity.ERROR: 'ERROR'> message='Referential integrity error: Country not found' instance='YYY' instance_index=None instantiates='Country' context=[] source=None\n"
     ]
    }
   ],
   "source": [
    "for result in results:\n",
    "    print(\"Expected error: \", result)"
   ]
  },
  {
   "cell_type": "markdown",
   "id": "cbfa9918f43120bb",
   "metadata": {},
   "source": [
    "## Command Line Example using DuckDB\n",
    "\n",
    "We'll next show a command line example; we will use DuckDB here and CSVs, but the same principles apply to other databases and formats.\n",
    "\n",
    "First we'll make two CSVs, one for patients and one for samples. The samples will refer to patients.\n"
   ]
  },
  {
   "cell_type": "code",
   "execution_count": 81,
   "id": "c5180f555f0d8532",
   "metadata": {
    "ExecuteTime": {
     "end_time": "2025-03-07T02:53:43.124840Z",
     "start_time": "2025-03-07T02:53:43.120716Z"
    }
   },
   "outputs": [],
   "source": [
    "PATIENTS = \"\"\"id,name,age\n",
    "p1,John Doe,34\n",
    "p2,Jane Doe,65\n",
    "\"\"\"\n",
    "with open(\"output/patients.csv\", \"w\") as stream:\n",
    "    stream.write(PATIENTS)"
   ]
  },
  {
   "cell_type": "code",
   "execution_count": 82,
   "id": "b98c49c121875d2c",
   "metadata": {
    "ExecuteTime": {
     "end_time": "2025-03-07T02:53:44.072343Z",
     "start_time": "2025-03-07T02:53:44.069087Z"
    }
   },
   "outputs": [],
   "source": [
    "SAMPLES = \"\"\"id,patient\n",
    "s1,p1\n",
    "s2,p2\n",
    "s3,p2\n",
    "\"\"\"\n",
    "with open(\"output/samples.csv\", \"w\") as stream:\n",
    "    stream.write(SAMPLES)"
   ]
  },
  {
   "cell_type": "markdown",
   "id": "e59cea007cb4677a",
   "metadata": {},
   "source": [
    "Note this dataset is well-behaved, every sample refers to a patient.\n",
    "\n",
    "There is one issue with the data though, and that is that the default loader doesn't perform ptype inference, so the ages will\n",
    "be treated as strings.\n",
    "\n",
    "Next we'll add a schema file"
   ]
  },
  {
   "cell_type": "code",
   "execution_count": 86,
   "id": "bce56a2623bda439",
   "metadata": {
    "ExecuteTime": {
     "end_time": "2025-03-07T02:57:03.648738Z",
     "start_time": "2025-03-07T02:57:03.642949Z"
    }
   },
   "outputs": [],
   "source": [
    "SCHEMA = \"\"\"\n",
    "id: http://example.org/patients\n",
    "name: patients\n",
    "description: Patients and samples\n",
    "prefixes:\n",
    "  linkml: http://w3id.org/linkml/\n",
    "  ex: http://example.org/\n",
    "default_prefix: ex  \n",
    "imports:\n",
    "  - linkml:types\n",
    "classes:\n",
    "  Sample:\n",
    "    attributes:\n",
    "      id:\n",
    "        identifier: true\n",
    "      patient:\n",
    "        range: Patient\n",
    "\n",
    "  Patient:\n",
    "    attributes:\n",
    "      id:\n",
    "        identifier: true\n",
    "      name:\n",
    "        required: true\n",
    "      age:\n",
    "        range: integer\n",
    "\"\"\"\n",
    "with open(\"output/patients.linkml.yaml\", \"w\") as stream:\n",
    "    stream.write(SCHEMA)"
   ]
  },
  {
   "cell_type": "markdown",
   "id": "89949c3688a654d2",
   "metadata": {},
   "source": [
    "### Load data into DuckDB\n",
    "\n",
    "We'll first clear any older databases we may have created"
   ]
  },
  {
   "cell_type": "code",
   "execution_count": 87,
   "id": "d1688d7868c91f51",
   "metadata": {
    "ExecuteTime": {
     "end_time": "2025-03-07T02:57:04.596382Z",
     "start_time": "2025-03-07T02:57:04.593728Z"
    }
   },
   "outputs": [],
   "source": [
    "from pathlib import Path\n",
    "\n",
    "Path(\"output/patient_samples.ddb\").unlink(missing_ok=True)"
   ]
  },
  {
   "cell_type": "markdown",
   "id": "d137280f635ffdaf",
   "metadata": {},
   "source": [
    "Then we'll load the data"
   ]
  },
  {
   "cell_type": "code",
   "execution_count": 88,
   "id": "3fb54173c9dc7ef6",
   "metadata": {
    "ExecuteTime": {
     "end_time": "2025-03-07T02:57:09.101026Z",
     "start_time": "2025-03-07T02:57:05.936337Z"
    }
   },
   "outputs": [
    {
     "name": "stdout",
     "output_type": "stream",
     "text": [
      "Inserted 2 objects from output/patients.csv into collection 'Patient'.\n"
     ]
    }
   ],
   "source": [
    "%%bash\n",
    "linkml-store \\\n",
    "   -d output/patient_samples.ddb \\\n",
    "   -c Patient \\\n",
    "   insert output/patients.csv\n"
   ]
  },
  {
   "cell_type": "code",
   "execution_count": 89,
   "id": "b02ecd6e707d8c4",
   "metadata": {
    "ExecuteTime": {
     "end_time": "2025-03-07T02:57:11.542085Z",
     "start_time": "2025-03-07T02:57:09.108440Z"
    }
   },
   "outputs": [
    {
     "name": "stdout",
     "output_type": "stream",
     "text": [
      "Inserted 3 objects from output/samples.csv into collection 'Sample'.\n"
     ]
    }
   ],
   "source": [
    "%%bash\n",
    "linkml-store \\\n",
    "  -d output/patient_samples.ddb \\\n",
    "  -c Sample \\\n",
    "  insert output/samples.csv"
   ]
  },
  {
   "cell_type": "markdown",
   "id": "beb5290779c89866",
   "metadata": {},
   "source": [
    "### Check Referential Integrity (no RI)\n",
    "\n",
    "We don't expect any referential integrity issues here\n",
    "\n"
   ]
  },
  {
   "cell_type": "code",
   "execution_count": 90,
   "id": "1e2fac4b84ac1188",
   "metadata": {
    "ExecuteTime": {
     "end_time": "2025-03-07T02:57:27.170889Z",
     "start_time": "2025-03-07T02:57:24.627460Z"
    }
   },
   "outputs": [
    {
     "name": "stdout",
     "output_type": "stream",
     "text": [
      "type,severity,message,instance,instance_index,instantiates,context\r\n",
      "jsonschema validation,ERROR,\"'34' is not of type 'integer', 'null' in /age\",\"{'id': 'p1', 'name': 'John Doe', 'age': '34'}\",0,Patient,[]\r\n",
      "jsonschema validation,ERROR,\"'65' is not of type 'integer', 'null' in /age\",\"{'id': 'p2', 'name': 'Jane Doe', 'age': '65'}\",0,Patient,[]\r\n",
      "\n"
     ]
    }
   ],
   "source": [
    "%%bash\n",
    "linkml-store --schema output/patients.linkml.yaml -d output/patient_samples.ddb validate -O csv"
   ]
  },
  {
   "cell_type": "markdown",
   "id": "fcfe323a8374efe7",
   "metadata": {},
   "source": [
    "### Adding dangling references\n",
    "\n",
    "We'll deliberately add a sample that refers to a non-existent patient"
   ]
  },
  {
   "cell_type": "code",
   "execution_count": 91,
   "id": "fbd2644bdba7b35",
   "metadata": {
    "ExecuteTime": {
     "end_time": "2025-03-07T02:57:51.753795Z",
     "start_time": "2025-03-07T02:57:48.526129Z"
    }
   },
   "outputs": [
    {
     "name": "stdout",
     "output_type": "stream",
     "text": [
      "Inserted 1 objects from {\"id\": \"s4\", \"patient\": \"p3\"} into collection 'Sample'.\n"
     ]
    }
   ],
   "source": [
    "%%bash\n",
    "linkml-store \\\n",
    "  -d output/patient_samples.ddb \\\n",
    "  -c Sample \\\n",
    "  insert --object '{\"id\": \"s4\", \"patient\": \"p3\"}'"
   ]
  },
  {
   "cell_type": "markdown",
   "id": "6632297dfd6934d6",
   "metadata": {},
   "source": [
    "And then re-validate"
   ]
  },
  {
   "cell_type": "code",
   "execution_count": 92,
   "id": "9c572e7e68343dee",
   "metadata": {
    "ExecuteTime": {
     "end_time": "2025-03-07T02:58:06.960138Z",
     "start_time": "2025-03-07T02:58:03.546955Z"
    }
   },
   "outputs": [
    {
     "name": "stdout",
     "output_type": "stream",
     "text": [
      "type,severity,message,instance,instance_index,instantiates,context\r\n",
      "jsonschema validation,ERROR,\"'34' is not of type 'integer', 'null' in /age\",\"{'id': 'p1', 'name': 'John Doe', 'age': '34'}\",0,Patient,[]\r\n",
      "jsonschema validation,ERROR,\"'65' is not of type 'integer', 'null' in /age\",\"{'id': 'p2', 'name': 'Jane Doe', 'age': '65'}\",0,Patient,[]\r\n",
      "ReferentialIntegrity,ERROR,Referential integrity error: Patient not found,p3,,Patient,[]\r\n",
      "\n"
     ]
    }
   ],
   "source": [
    "%%bash\n",
    "linkml-store --schema output/patients.linkml.yaml --set ensure_referential_integrity=true -d output/patient_samples.ddb validate -O csv"
   ]
  },
  {
   "cell_type": "code",
   "execution_count": null,
   "id": "edd5d9b201dbfa5f",
   "metadata": {},
   "outputs": [],
   "source": []
  }
 ],
 "metadata": {
  "kernelspec": {
   "display_name": "Python 3",
   "language": "python",
   "name": "python3"
  },
  "language_info": {
   "codemirror_mode": {
    "name": "ipython",
    "version": 2
   },
   "file_extension": ".py",
   "mimetype": "text/x-python",
   "name": "python",
   "nbconvert_exporter": "python",
   "pygments_lexer": "ipython2",
   "version": "2.7.6"
  }
 },
 "nbformat": 4,
 "nbformat_minor": 5
}
