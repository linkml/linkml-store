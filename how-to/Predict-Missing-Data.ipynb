{
 "cells": [
  {
   "cell_type": "markdown",
   "id": "611f205e9444130c",
   "metadata": {
    "collapsed": false
   },
   "source": [
    "# How to predict missing data\n",
    "\n",
    "LinkML implements the \"CRUDSI\" design pattern. In addition to **Create**, **Read**, **Update**, **Delete**, LinkML also supports Search and *Inference*.\n",
    "\n",
    "The framework is designed to support different kinds of inference, including rule-based and LLMs. This notebooks shows simple ML-based inference using scikit-learn DecisionTrees.\n",
    "\n",
    "We will use the Iris dataset:"
   ]
  },
  {
   "cell_type": "code",
   "execution_count": 18,
   "id": "d2ef6e85292b5a20",
   "metadata": {
    "ExecuteTime": {
     "end_time": "2024-08-12T20:08:06.401967Z",
     "start_time": "2024-08-12T20:08:03.933123Z"
    },
    "collapsed": false
   },
   "outputs": [
    {
     "name": "stdout",
     "output_type": "stream",
     "text": [
      "              count unique     top freq   mean       std  min  25%   50%    75%  max\n",
      "petal_length  100.0    NaN     NaN  NaN  2.861  1.449549  1.0  1.5  2.45  4.325  5.1\n",
      "petal_width   100.0    NaN     NaN  NaN  0.786  0.565153  0.1  0.2   0.8    1.3  1.8\n",
      "sepal_length  100.0    NaN     NaN  NaN  5.471  0.641698  4.3  5.0   5.4    5.9  7.0\n",
      "sepal_width   100.0    NaN     NaN  NaN  3.099  0.478739  2.0  2.8  3.05    3.4  4.4\n",
      "species         100      2  setosa   50    NaN       NaN  NaN  NaN   NaN    NaN  NaN\n"
     ]
    }
   ],
   "source": [
    "%%bash\n",
    "linkml-store -i ../../tests/input/iris.jsonl describe"
   ]
  },
  {
   "cell_type": "markdown",
   "id": "2b7b1b83be1db9de",
   "metadata": {
    "collapsed": false
   },
   "source": [
    "## Training and Inference\n",
    "\n",
    "We can perform training and inference in a single step:"
   ]
  },
  {
   "cell_type": "code",
   "execution_count": 9,
   "id": "4984aeb4016df154",
   "metadata": {
    "ExecuteTime": {
     "end_time": "2024-08-12T19:35:08.172872Z",
     "start_time": "2024-08-12T19:35:05.095856Z"
    },
    "collapsed": false
   },
   "outputs": [
    {
     "name": "stderr",
     "output_type": "stream",
     "text": [
      "/Users/cjm/Library/Caches/pypoetry/virtualenvs/linkml-store-8ZYO4kTy-py3.10/lib/python3.10/site-packages/sklearn/base.py:493: UserWarning: X does not have valid feature names, but DecisionTreeClassifier was fitted with feature names\n",
      "  warnings.warn(\n"
     ]
    },
    {
     "name": "stdout",
     "output_type": "stream",
     "text": [
      "predicted_object:\n",
      "  species: setosa\n",
      "confidence: 1.0\n"
     ]
    }
   ],
   "source": [
    "%%bash\n",
    "linkml-store -i ../../tests/input/iris.jsonl infer -t sklearn -T species -q \"{petal_length: 2.5, petal_width: 0.5, sepal_length: 5.0, sepal_width: 3.5}\" "
   ]
  },
  {
   "cell_type": "markdown",
   "id": "d5246f13699101c7",
   "metadata": {
    "collapsed": false
   },
   "source": [
    "## Saving the Model\n",
    "\n",
    "Performing training and inference in a single step is convenient where training is fast, but more typically we'd want to save the model for later use:"
   ]
  },
  {
   "cell_type": "code",
   "execution_count": 11,
   "id": "82dcfeb0bd355cff",
   "metadata": {
    "ExecuteTime": {
     "end_time": "2024-08-12T19:35:54.421780Z",
     "start_time": "2024-08-12T19:35:51.522109Z"
    },
    "collapsed": false
   },
   "outputs": [],
   "source": [
    "%%bash\n",
    "linkml-store -i ../../tests/input/iris.jsonl infer -t sklearn -T species -E \"tmp/iris-model.joblib\""
   ]
  },
  {
   "cell_type": "markdown",
   "id": "1dfc49d59872942a",
   "metadata": {
    "collapsed": false
   },
   "source": [
    "We can use a pre-saved model in inference:"
   ]
  },
  {
   "cell_type": "code",
   "execution_count": 14,
   "id": "e65cd3b7ca131615",
   "metadata": {
    "ExecuteTime": {
     "end_time": "2024-08-12T19:37:09.132122Z",
     "start_time": "2024-08-12T19:37:06.560577Z"
    },
    "collapsed": false
   },
   "outputs": [
    {
     "name": "stderr",
     "output_type": "stream",
     "text": [
      "/Users/cjm/Library/Caches/pypoetry/virtualenvs/linkml-store-8ZYO4kTy-py3.10/lib/python3.10/site-packages/sklearn/base.py:493: UserWarning: X does not have valid feature names, but DecisionTreeClassifier was fitted with feature names\n",
      "  warnings.warn(\n"
     ]
    },
    {
     "name": "stdout",
     "output_type": "stream",
     "text": [
      "predicted_object:\n",
      "  species: setosa\n",
      "confidence: 1.0\n"
     ]
    }
   ],
   "source": [
    "%%bash\n",
    "linkml-store -i ../../tests/input/iris.jsonl infer -t sklearn -L \"tmp/iris-model.joblib\" -q \"{petal_length: 2.5, petal_width: 0.5, sepal_length: 5.0, sepal_width: 3.5}\" "
   ]
  },
  {
   "cell_type": "markdown",
   "id": "20d5059d2efcd1ca",
   "metadata": {
    "collapsed": false
   },
   "source": [
    "## Exporting models to explainable visualizations\n",
    "\n",
    "We can export the model to a visual representation to make it more explaininable:"
   ]
  },
  {
   "cell_type": "code",
   "execution_count": 15,
   "id": "d7d14edd77e9e1fe",
   "metadata": {
    "ExecuteTime": {
     "end_time": "2024-08-12T19:57:43.145521Z",
     "start_time": "2024-08-12T19:57:40.441893Z"
    },
    "collapsed": false
   },
   "outputs": [],
   "source": [
    "%%bash\n",
    "linkml-store -i ../../tests/input/iris.jsonl infer -t sklearn -L \"tmp/iris-model.joblib\" -E \"tmp/iris-model.png\""
   ]
  },
  {
   "cell_type": "markdown",
   "id": "cca55edf629f8c26",
   "metadata": {
    "collapsed": false
   },
   "source": [
    "![img](tmp/iris-model.png)"
   ]
  },
  {
   "cell_type": "code",
   "execution_count": 29,
   "id": "acb7c57ecb3be9b",
   "metadata": {
    "ExecuteTime": {
     "end_time": "2024-08-12T21:59:26.805316Z",
     "start_time": "2024-08-12T21:59:24.343197Z"
    },
    "collapsed": false
   },
   "outputs": [],
   "source": [
    "%%bash\n",
    "linkml-store -i ../../tests/input/iris.jsonl infer -t sklearn -L tmp/iris-model.joblib -E tmp/iris-model.rulebased.yaml"
   ]
  },
  {
   "cell_type": "markdown",
   "id": "3ef8a6bc39b5e667",
   "metadata": {
    "collapsed": false
   },
   "source": [
    "## Generating a rule-based model\n",
    "\n",
    "Although traditionally ML is used for *statistical inference*, sometimes we might want to use ML (e.g. Decision Trees) to generate\n",
    "simple purely deterministic rule-based models.\n",
    "\n",
    "linkml-store has a different kind of inference engine that works using LinkML schemas, specifically\n",
    "\n",
    "- `rules` at the class an slot level\n",
    "- `expressions` that combine slot assignments logically and artithmetically\n",
    "\n",
    "We can export (some) ML models to this format:"
   ]
  },
  {
   "cell_type": "code",
   "execution_count": 30,
   "id": "4fdea226f501455e",
   "metadata": {
    "ExecuteTime": {
     "start_time": "2024-08-12T21:59:52.936844Z"
    },
    "collapsed": false
   },
   "outputs": [
    {
     "name": "stdout",
     "output_type": "stream",
     "text": [
      "class_rules: null\n",
      "config:\n",
      "  feature_attributes:\n",
      "  - petal_length\n",
      "  - petal_width\n",
      "  - sepal_length\n",
      "  - sepal_width\n",
      "  target_attributes:\n",
      "  - species\n",
      "slot_expressions:\n",
      "  species: (\"setosa\" if ({petal_width} <= 0.8000) else \"versicolor\")\n",
      "slot_rules: null\n"
     ]
    }
   ],
   "source": [
    "%%bash\n",
    "cat tmp/iris-model.rulebased.yaml"
   ]
  },
  {
   "cell_type": "code",
   "execution_count": 32,
   "id": "4df0d87dff96e667",
   "metadata": {
    "ExecuteTime": {
     "end_time": "2024-08-12T22:18:11.759880Z",
     "start_time": "2024-08-12T22:18:08.912484Z"
    },
    "collapsed": false
   },
   "outputs": [
    {
     "name": "stdout",
     "output_type": "stream",
     "text": [
      "EVAL {'petal_length': 2.5, 'petal_width': 0.5, 'sepal_length': 5.0, 'sepal_width': 3.5}\n",
      "predicted_object:\n",
      "  petal_length: 2.5\n",
      "  petal_width: 0.5\n",
      "  sepal_length: 5.0\n",
      "  sepal_width: 3.5\n",
      "  species: setosa\n"
     ]
    }
   ],
   "source": [
    "%%bash\n",
    "linkml-store --stacktrace -i ../../tests/input/iris.jsonl infer -t rulebased -L tmp/iris-model.rulebased.yaml  -q \"{petal_length: 2.5, petal_width: 0.5, sepal_length: 5.0, sepal_width: 3.5}\" "
   ]
  },
  {
   "cell_type": "code",
   "execution_count": null,
   "id": "cef5b6e4ee9cb5f5",
   "metadata": {
    "collapsed": false
   },
   "outputs": [],
   "source": []
  }
 ],
 "metadata": {
  "kernelspec": {
   "display_name": "Python 3",
   "language": "python",
   "name": "python3"
  },
  "language_info": {
   "codemirror_mode": {
    "name": "ipython",
    "version": 2
   },
   "file_extension": ".py",
   "mimetype": "text/x-python",
   "name": "python",
   "nbconvert_exporter": "python",
   "pygments_lexer": "ipython2",
   "version": "2.7.6"
  }
 },
 "nbformat": 4,
 "nbformat_minor": 5
}
