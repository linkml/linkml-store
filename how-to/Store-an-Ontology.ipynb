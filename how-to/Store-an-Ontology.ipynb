{
 "cells": [
  {
   "cell_type": "markdown",
   "id": "315813bcb5f486a4",
   "metadata": {
    "collapsed": false
   },
   "source": [
    "# Example: Storing an ontology\n",
    "\n",
    "This tutorial will show you how to store an ontology, via its JSON representation."
   ]
  },
  {
   "cell_type": "code",
   "execution_count": 11,
   "id": "b3962319d0e1cdd2",
   "metadata": {
    "ExecuteTime": {
     "end_time": "2024-04-22T20:50:03.887292Z",
     "start_time": "2024-04-22T20:50:03.869390Z"
    },
    "collapsed": false
   },
   "outputs": [],
   "source": [
    "import pandas as pd\n",
    "import pystow"
   ]
  },
  {
   "cell_type": "code",
   "execution_count": 12,
   "id": "5a0030a3e24b1545",
   "metadata": {
    "ExecuteTime": {
     "end_time": "2024-04-22T20:50:03.887512Z",
     "start_time": "2024-04-22T20:50:03.873291Z"
    },
    "collapsed": false
   },
   "outputs": [],
   "source": [
    "path=pystow.ensure(\"tmp\", \"eccode.json\", url=\"https://w3id.org/biopragmatics/resources/eccode/eccode.json\")"
   ]
  },
  {
   "cell_type": "code",
   "execution_count": 13,
   "id": "793566db96fc1cd9",
   "metadata": {
    "ExecuteTime": {
     "end_time": "2024-04-22T20:50:04.181894Z",
     "start_time": "2024-04-22T20:50:03.875729Z"
    },
    "collapsed": false
   },
   "outputs": [],
   "source": [
    "import json\n",
    "\n",
    "graphdoc = json.load(open(path))\n",
    "graph = graphdoc[\"graphs\"][0]"
   ]
  },
  {
   "cell_type": "code",
   "execution_count": 14,
   "id": "b3c3cf57c2d9aeed",
   "metadata": {
    "ExecuteTime": {
     "end_time": "2024-04-22T20:50:04.183617Z",
     "start_time": "2024-04-22T20:50:04.181412Z"
    },
    "collapsed": false
   },
   "outputs": [
    {
     "data": {
      "text/plain": [
       "(7177, 506022)"
      ]
     },
     "execution_count": 14,
     "metadata": {},
     "output_type": "execute_result"
    }
   ],
   "source": [
    "len(graph[\"nodes\"]), len(graph[\"edges\"])"
   ]
  },
  {
   "cell_type": "code",
   "execution_count": 15,
   "id": "93e613ff3730dd2a",
   "metadata": {
    "ExecuteTime": {
     "end_time": "2024-04-22T20:50:04.314842Z",
     "start_time": "2024-04-22T20:50:04.186207Z"
    },
    "collapsed": false
   },
   "outputs": [],
   "source": [
    "!rm -f /tmp/eccode.db"
   ]
  },
  {
   "cell_type": "code",
   "execution_count": 16,
   "id": "6a8adce3d3ec93c6",
   "metadata": {
    "ExecuteTime": {
     "end_time": "2024-04-22T20:50:04.319296Z",
     "start_time": "2024-04-22T20:50:04.316606Z"
    },
    "collapsed": false
   },
   "outputs": [],
   "source": [
    "from linkml_store import Client\n",
    "\n",
    "client = Client()\n",
    "db = client.attach_database(\"duckdb:////tmp/eccode.db\", \"eccode\")"
   ]
  },
  {
   "cell_type": "code",
   "execution_count": 17,
   "id": "4fa95b75cd1f19cf",
   "metadata": {
    "ExecuteTime": {
     "end_time": "2024-04-22T20:50:04.326018Z",
     "start_time": "2024-04-22T20:50:04.319969Z"
    },
    "collapsed": false
   },
   "outputs": [],
   "source": [
    "nodes_collection = db.create_collection(\"Node\", \"nodes\")"
   ]
  },
  {
   "cell_type": "code",
   "execution_count": 18,
   "id": "aee6a95b4a86432d",
   "metadata": {
    "ExecuteTime": {
     "end_time": "2024-04-22T20:50:04.614554Z",
     "start_time": "2024-04-22T20:50:04.334717Z"
    },
    "collapsed": false
   },
   "outputs": [],
   "source": [
    "nodes_collection.insert(graph[\"nodes\"])"
   ]
  },
  {
   "cell_type": "code",
   "execution_count": 19,
   "id": "8e75156bfdafe7b",
   "metadata": {
    "ExecuteTime": {
     "end_time": "2024-04-22T20:50:04.618406Z",
     "start_time": "2024-04-22T20:50:04.616386Z"
    },
    "collapsed": false
   },
   "outputs": [],
   "source": [
    "from linkml_store.index.implementations.llm_index import LLMIndex\n",
    "\n",
    "index = LLMIndex(name=\"test\")"
   ]
  },
  {
   "cell_type": "code",
   "execution_count": 20,
   "id": "993c0360941dbb3b",
   "metadata": {
    "ExecuteTime": {
     "end_time": "2024-04-22T21:11:29.678762Z",
     "start_time": "2024-04-22T20:50:04.621586Z"
    },
    "collapsed": false
   },
   "outputs": [],
   "source": [
    "nodes_collection.attach_index(index)"
   ]
  },
  {
   "cell_type": "code",
   "execution_count": 21,
   "id": "e3abb5d529063c6e",
   "metadata": {
    "ExecuteTime": {
     "end_time": "2024-04-22T21:11:34.507263Z",
     "start_time": "2024-04-22T21:11:29.684218Z"
    },
    "collapsed": false
   },
   "outputs": [
    {
     "data": {
      "application/vnd.jupyter.widget-view+json": {
       "model_id": "57e7e6483f4a44d480d2b33d20d52534",
       "version_major": 2,
       "version_minor": 0
      },
      "text/plain": [
       "FloatProgress(value=0.0, layout=Layout(width='auto'), style=ProgressStyle(bar_color='black'))"
      ]
     },
     "metadata": {},
     "output_type": "display_data"
    }
   ],
   "source": [
    "qr = nodes_collection.search(\"sugar transporters\")"
   ]
  },
  {
   "cell_type": "code",
   "execution_count": 22,
   "id": "cc3bce09e81d66a",
   "metadata": {
    "ExecuteTime": {
     "end_time": "2024-04-22T21:11:34.514381Z",
     "start_time": "2024-04-22T21:11:34.512629Z"
    },
    "collapsed": false
   },
   "outputs": [],
   "source": [
    "results = [{\"sim\": r[0], \"id\": r[1][\"id\"], \"name\": r[1][\"lbl\"]} for r in qr.ranked_rows]"
   ]
  },
  {
   "cell_type": "code",
   "execution_count": 23,
   "id": "5b9d6d63561b72db",
   "metadata": {
    "ExecuteTime": {
     "end_time": "2024-04-22T21:11:34.521054Z",
     "start_time": "2024-04-22T21:11:34.519586Z"
    },
    "collapsed": false
   },
   "outputs": [],
   "source": [
    "import pandas as pd\n",
    "df = pd.DataFrame(results)"
   ]
  },
  {
   "cell_type": "code",
   "execution_count": 24,
   "id": "dc81533a0b074360",
   "metadata": {
    "ExecuteTime": {
     "end_time": "2024-04-22T21:11:34.534196Z",
     "start_time": "2024-04-22T21:11:34.524830Z"
    },
    "collapsed": false
   },
   "outputs": [
    {
     "data": {
      "text/html": [
       "<div>\n",
       "<style scoped>\n",
       "    .dataframe tbody tr th:only-of-type {\n",
       "        vertical-align: middle;\n",
       "    }\n",
       "\n",
       "    .dataframe tbody tr th {\n",
       "        vertical-align: top;\n",
       "    }\n",
       "\n",
       "    .dataframe thead th {\n",
       "        text-align: right;\n",
       "    }\n",
       "</style>\n",
       "<table border=\"1\" class=\"dataframe\">\n",
       "  <thead>\n",
       "    <tr style=\"text-align: right;\">\n",
       "      <th></th>\n",
       "      <th>sim</th>\n",
       "      <th>id</th>\n",
       "      <th>name</th>\n",
       "    </tr>\n",
       "  </thead>\n",
       "  <tbody>\n",
       "    <tr>\n",
       "      <th>0</th>\n",
       "      <td>0.797146</td>\n",
       "      <td>http://purl.obolibrary.org/obo/eccode_7.5.2.2</td>\n",
       "      <td>ABC-type oligosaccharide transporter</td>\n",
       "    </tr>\n",
       "    <tr>\n",
       "      <th>1</th>\n",
       "      <td>0.792401</td>\n",
       "      <td>http://purl.obolibrary.org/obo/eccode_7.5.2.1</td>\n",
       "      <td>ABC-type maltose transporter</td>\n",
       "    </tr>\n",
       "    <tr>\n",
       "      <th>2</th>\n",
       "      <td>0.791971</td>\n",
       "      <td>http://purl.obolibrary.org/obo/eccode_7.3.2.3</td>\n",
       "      <td>ABC-type sulfate transporter</td>\n",
       "    </tr>\n",
       "    <tr>\n",
       "      <th>3</th>\n",
       "      <td>0.791232</td>\n",
       "      <td>http://purl.obolibrary.org/obo/eccode_7.5.2.11</td>\n",
       "      <td>ABC-type D-galactose transporter</td>\n",
       "    </tr>\n",
       "    <tr>\n",
       "      <th>4</th>\n",
       "      <td>0.789132</td>\n",
       "      <td>http://purl.obolibrary.org/obo/eccode_7.6.2.12</td>\n",
       "      <td>ABC-type capsular-polysaccharide transporter</td>\n",
       "    </tr>\n",
       "    <tr>\n",
       "      <th>...</th>\n",
       "      <td>...</td>\n",
       "      <td>...</td>\n",
       "      <td>...</td>\n",
       "    </tr>\n",
       "    <tr>\n",
       "      <th>7172</th>\n",
       "      <td>0.673991</td>\n",
       "      <td>http://purl.obolibrary.org/obo/eccode_3.4.22.57</td>\n",
       "      <td>caspase-4</td>\n",
       "    </tr>\n",
       "    <tr>\n",
       "      <th>7173</th>\n",
       "      <td>0.673331</td>\n",
       "      <td>http://purl.obolibrary.org/obo/eccode_3.4.22.63</td>\n",
       "      <td>caspase-10</td>\n",
       "    </tr>\n",
       "    <tr>\n",
       "      <th>7174</th>\n",
       "      <td>0.670908</td>\n",
       "      <td>http://purl.obolibrary.org/obo/eccode_1.14.99</td>\n",
       "      <td>Miscellaneous</td>\n",
       "    </tr>\n",
       "    <tr>\n",
       "      <th>7175</th>\n",
       "      <td>0.668042</td>\n",
       "      <td>http://purl.obolibrary.org/obo/eccode_3.4.24.4</td>\n",
       "      <td>3.4.24.30, 3.4.24.31, 3.4.24.32, 3.4.24.39 and...</td>\n",
       "    </tr>\n",
       "    <tr>\n",
       "      <th>7176</th>\n",
       "      <td>0.663048</td>\n",
       "      <td>http://www.geneontology.org/formats/oboInOwl#h...</td>\n",
       "      <td>has_obo_format_version</td>\n",
       "    </tr>\n",
       "  </tbody>\n",
       "</table>\n",
       "<p>7177 rows × 3 columns</p>\n",
       "</div>"
      ],
      "text/plain": [
       "           sim                                                 id  \\\n",
       "0     0.797146      http://purl.obolibrary.org/obo/eccode_7.5.2.2   \n",
       "1     0.792401      http://purl.obolibrary.org/obo/eccode_7.5.2.1   \n",
       "2     0.791971      http://purl.obolibrary.org/obo/eccode_7.3.2.3   \n",
       "3     0.791232     http://purl.obolibrary.org/obo/eccode_7.5.2.11   \n",
       "4     0.789132     http://purl.obolibrary.org/obo/eccode_7.6.2.12   \n",
       "...        ...                                                ...   \n",
       "7172  0.673991    http://purl.obolibrary.org/obo/eccode_3.4.22.57   \n",
       "7173  0.673331    http://purl.obolibrary.org/obo/eccode_3.4.22.63   \n",
       "7174  0.670908      http://purl.obolibrary.org/obo/eccode_1.14.99   \n",
       "7175  0.668042     http://purl.obolibrary.org/obo/eccode_3.4.24.4   \n",
       "7176  0.663048  http://www.geneontology.org/formats/oboInOwl#h...   \n",
       "\n",
       "                                                   name  \n",
       "0                  ABC-type oligosaccharide transporter  \n",
       "1                          ABC-type maltose transporter  \n",
       "2                          ABC-type sulfate transporter  \n",
       "3                      ABC-type D-galactose transporter  \n",
       "4          ABC-type capsular-polysaccharide transporter  \n",
       "...                                                 ...  \n",
       "7172                                          caspase-4  \n",
       "7173                                         caspase-10  \n",
       "7174                                      Miscellaneous  \n",
       "7175  3.4.24.30, 3.4.24.31, 3.4.24.32, 3.4.24.39 and...  \n",
       "7176                             has_obo_format_version  \n",
       "\n",
       "[7177 rows x 3 columns]"
      ]
     },
     "execution_count": 24,
     "metadata": {},
     "output_type": "execute_result"
    }
   ],
   "source": [
    "df"
   ]
  },
  {
   "cell_type": "code",
   "execution_count": 24,
   "id": "864179ee57c531f6",
   "metadata": {
    "ExecuteTime": {
     "end_time": "2024-04-22T21:11:34.542208Z",
     "start_time": "2024-04-22T21:11:34.533067Z"
    },
    "collapsed": false
   },
   "outputs": [],
   "source": []
  }
 ],
 "metadata": {
  "kernelspec": {
   "display_name": "Python 3",
   "language": "python",
   "name": "python3"
  },
  "language_info": {
   "codemirror_mode": {
    "name": "ipython",
    "version": 2
   },
   "file_extension": ".py",
   "mimetype": "text/x-python",
   "name": "python",
   "nbconvert_exporter": "python",
   "pygments_lexer": "ipython2",
   "version": "2.7.6"
  }
 },
 "nbformat": 4,
 "nbformat_minor": 5
}
