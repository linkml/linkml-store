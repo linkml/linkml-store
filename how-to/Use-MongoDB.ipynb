{
 "cells": [
  {
   "cell_type": "markdown",
   "id": "fc4794dd116ed21",
   "metadata": {
    "collapsed": false
   },
   "source": [
    "# How to use MongoDB with LinkML-Store\n",
    "\n",
    "LinkML-Store provides a uniform interface across different backends. It allows you to write database-neutral code\n",
    "and operations where it makes sense, and use database-specific code where you need it.\n",
    "\n",
    "The best supported backend is duckdb. The next best is MongoDB.\n",
    "\n",
    "This tutorial walks through using MongoDB via the Python interface. It is recommended you start first with the main\n",
    "tutorial.\n",
    "\n"
   ]
  },
  {
   "cell_type": "markdown",
   "id": "493c7599d2f40c27",
   "metadata": {
    "collapsed": false
   },
   "source": [
    "## Creating a client and attaching to a database\n",
    "\n",
    "First we will create a client as normal:"
   ]
  },
  {
   "cell_type": "code",
   "execution_count": 1,
   "id": "initial_id",
   "metadata": {
    "ExecuteTime": {
     "end_time": "2024-05-04T04:31:32.138754Z",
     "start_time": "2024-05-04T04:31:30.984678Z"
    },
    "collapsed": false
   },
   "outputs": [],
   "source": [
    "from linkml_store import Client\n",
    "\n",
    "client = Client()"
   ]
  },
  {
   "cell_type": "markdown",
   "id": "470f1cb70bf3641b",
   "metadata": {
    "collapsed": false
   },
   "source": [
    "Next we'll attach to a MongoDB instance. this assumes you have one running already."
   ]
  },
  {
   "cell_type": "code",
   "execution_count": 2,
   "id": "cc164c0acbe4c39d",
   "metadata": {
    "ExecuteTime": {
     "end_time": "2024-05-04T04:31:32.143001Z",
     "start_time": "2024-05-04T04:31:32.139616Z"
    },
    "collapsed": false
   },
   "outputs": [],
   "source": [
    "db = client.attach_database(\"mongodb://localhost:27017\", \"test\")"
   ]
  },
  {
   "cell_type": "markdown",
   "id": "334ea2ced79828f7",
   "metadata": {
    "collapsed": false
   },
   "source": [
    "## Creating a collection\n",
    "\n",
    "We'll create a simple test collection. The concept of collection in linkml-store maps directly to mongodb collections"
   ]
  },
  {
   "cell_type": "code",
   "execution_count": 3,
   "id": "c3a79013f9359a9",
   "metadata": {
    "ExecuteTime": {
     "end_time": "2024-05-04T04:31:32.196922Z",
     "start_time": "2024-05-04T04:31:32.143137Z"
    },
    "collapsed": false
   },
   "outputs": [],
   "source": [
    "collection = db.create_collection(\"test\", recreate_if_exists=True)"
   ]
  },
  {
   "cell_type": "markdown",
   "id": "207f35ee61edc14d",
   "metadata": {
    "collapsed": false
   },
   "source": [
    "## Preparing data to load"
   ]
  },
  {
   "cell_type": "markdown",
   "id": "9c6277c067fef8c7",
   "metadata": {
    "collapsed": false
   },
   "source": [
    "Next we'll parse an (incomplete) list of countries in JSON-Lines format:"
   ]
  },
  {
   "cell_type": "code",
   "execution_count": 15,
   "id": "5286ef4e9dd0f316",
   "metadata": {
    "ExecuteTime": {
     "end_time": "2024-05-09T23:45:34.555717Z",
     "start_time": "2024-05-09T23:45:34.551294Z"
    },
    "collapsed": false
   },
   "outputs": [],
   "source": [
    "COUNTRIES = \"../../tests/input/countries/countries.jsonl\""
   ]
  },
  {
   "cell_type": "code",
   "execution_count": 16,
   "id": "2e21988e4fc13f58",
   "metadata": {
    "ExecuteTime": {
     "end_time": "2024-05-09T23:45:35.253688Z",
     "start_time": "2024-05-09T23:45:35.233162Z"
    },
    "collapsed": false
   },
   "outputs": [],
   "source": [
    "from linkml_store.utils.format_utils import load_objects\n",
    "\n",
    "objects = load_objects(COUNTRIES)"
   ]
  },
  {
   "cell_type": "markdown",
   "id": "90e2e9793375431f",
   "metadata": {
    "collapsed": false
   },
   "source": [
    "Let's check with pandas just to make sure it looks as expected:"
   ]
  },
  {
   "cell_type": "code",
   "execution_count": 17,
   "id": "e98f9d6eb4a5e385",
   "metadata": {
    "ExecuteTime": {
     "end_time": "2024-05-09T23:45:38.327537Z",
     "start_time": "2024-05-09T23:45:38.324134Z"
    },
    "collapsed": false
   },
   "outputs": [
    {
     "data": {
      "text/html": [
       "<div>\n",
       "<style scoped>\n",
       "    .dataframe tbody tr th:only-of-type {\n",
       "        vertical-align: middle;\n",
       "    }\n",
       "\n",
       "    .dataframe tbody tr th {\n",
       "        vertical-align: top;\n",
       "    }\n",
       "\n",
       "    .dataframe thead th {\n",
       "        text-align: right;\n",
       "    }\n",
       "</style>\n",
       "<table border=\"1\" class=\"dataframe\">\n",
       "  <thead>\n",
       "    <tr style=\"text-align: right;\">\n",
       "      <th></th>\n",
       "      <th>name</th>\n",
       "      <th>code</th>\n",
       "      <th>capital</th>\n",
       "      <th>continent</th>\n",
       "      <th>languages</th>\n",
       "    </tr>\n",
       "  </thead>\n",
       "  <tbody>\n",
       "    <tr>\n",
       "      <th>0</th>\n",
       "      <td>United States</td>\n",
       "      <td>US</td>\n",
       "      <td>Washington, D.C.</td>\n",
       "      <td>North America</td>\n",
       "      <td>[English]</td>\n",
       "    </tr>\n",
       "    <tr>\n",
       "      <th>1</th>\n",
       "      <td>Canada</td>\n",
       "      <td>CA</td>\n",
       "      <td>Ottawa</td>\n",
       "      <td>North America</td>\n",
       "      <td>[English, French]</td>\n",
       "    </tr>\n",
       "    <tr>\n",
       "      <th>2</th>\n",
       "      <td>Mexico</td>\n",
       "      <td>MX</td>\n",
       "      <td>Mexico City</td>\n",
       "      <td>North America</td>\n",
       "      <td>[Spanish]</td>\n",
       "    </tr>\n",
       "    <tr>\n",
       "      <th>3</th>\n",
       "      <td>Brazil</td>\n",
       "      <td>BR</td>\n",
       "      <td>Brasília</td>\n",
       "      <td>South America</td>\n",
       "      <td>[Portuguese]</td>\n",
       "    </tr>\n",
       "    <tr>\n",
       "      <th>4</th>\n",
       "      <td>Argentina</td>\n",
       "      <td>AR</td>\n",
       "      <td>Buenos Aires</td>\n",
       "      <td>South America</td>\n",
       "      <td>[Spanish]</td>\n",
       "    </tr>\n",
       "    <tr>\n",
       "      <th>5</th>\n",
       "      <td>United Kingdom</td>\n",
       "      <td>GB</td>\n",
       "      <td>London</td>\n",
       "      <td>Europe</td>\n",
       "      <td>[English]</td>\n",
       "    </tr>\n",
       "    <tr>\n",
       "      <th>6</th>\n",
       "      <td>France</td>\n",
       "      <td>FR</td>\n",
       "      <td>Paris</td>\n",
       "      <td>Europe</td>\n",
       "      <td>[French]</td>\n",
       "    </tr>\n",
       "    <tr>\n",
       "      <th>7</th>\n",
       "      <td>Germany</td>\n",
       "      <td>DE</td>\n",
       "      <td>Berlin</td>\n",
       "      <td>Europe</td>\n",
       "      <td>[German]</td>\n",
       "    </tr>\n",
       "    <tr>\n",
       "      <th>8</th>\n",
       "      <td>Italy</td>\n",
       "      <td>IT</td>\n",
       "      <td>Rome</td>\n",
       "      <td>Europe</td>\n",
       "      <td>[Italian]</td>\n",
       "    </tr>\n",
       "    <tr>\n",
       "      <th>9</th>\n",
       "      <td>Spain</td>\n",
       "      <td>ES</td>\n",
       "      <td>Madrid</td>\n",
       "      <td>Europe</td>\n",
       "      <td>[Spanish]</td>\n",
       "    </tr>\n",
       "    <tr>\n",
       "      <th>10</th>\n",
       "      <td>China</td>\n",
       "      <td>CN</td>\n",
       "      <td>Beijing</td>\n",
       "      <td>Asia</td>\n",
       "      <td>[Standard Chinese]</td>\n",
       "    </tr>\n",
       "    <tr>\n",
       "      <th>11</th>\n",
       "      <td>Japan</td>\n",
       "      <td>JP</td>\n",
       "      <td>Tokyo</td>\n",
       "      <td>Asia</td>\n",
       "      <td>[Japanese]</td>\n",
       "    </tr>\n",
       "    <tr>\n",
       "      <th>12</th>\n",
       "      <td>India</td>\n",
       "      <td>IN</td>\n",
       "      <td>New Delhi</td>\n",
       "      <td>Asia</td>\n",
       "      <td>[Hindi, English]</td>\n",
       "    </tr>\n",
       "    <tr>\n",
       "      <th>13</th>\n",
       "      <td>South Korea</td>\n",
       "      <td>KR</td>\n",
       "      <td>Seoul</td>\n",
       "      <td>Asia</td>\n",
       "      <td>[Korean]</td>\n",
       "    </tr>\n",
       "    <tr>\n",
       "      <th>14</th>\n",
       "      <td>Indonesia</td>\n",
       "      <td>ID</td>\n",
       "      <td>Jakarta</td>\n",
       "      <td>Asia</td>\n",
       "      <td>[Indonesian]</td>\n",
       "    </tr>\n",
       "    <tr>\n",
       "      <th>15</th>\n",
       "      <td>Australia</td>\n",
       "      <td>AU</td>\n",
       "      <td>Canberra</td>\n",
       "      <td>Oceania</td>\n",
       "      <td>[English]</td>\n",
       "    </tr>\n",
       "    <tr>\n",
       "      <th>16</th>\n",
       "      <td>New Zealand</td>\n",
       "      <td>NZ</td>\n",
       "      <td>Wellington</td>\n",
       "      <td>Oceania</td>\n",
       "      <td>[English, Māori]</td>\n",
       "    </tr>\n",
       "    <tr>\n",
       "      <th>17</th>\n",
       "      <td>Egypt</td>\n",
       "      <td>EG</td>\n",
       "      <td>Cairo</td>\n",
       "      <td>Africa</td>\n",
       "      <td>[Arabic]</td>\n",
       "    </tr>\n",
       "    <tr>\n",
       "      <th>18</th>\n",
       "      <td>Nigeria</td>\n",
       "      <td>NG</td>\n",
       "      <td>Abuja</td>\n",
       "      <td>Africa</td>\n",
       "      <td>[English]</td>\n",
       "    </tr>\n",
       "    <tr>\n",
       "      <th>19</th>\n",
       "      <td>South Africa</td>\n",
       "      <td>ZA</td>\n",
       "      <td>Pretoria</td>\n",
       "      <td>Africa</td>\n",
       "      <td>[Zulu, Xhosa, Afrikaans, English, Northern Sot...</td>\n",
       "    </tr>\n",
       "  </tbody>\n",
       "</table>\n",
       "</div>"
      ],
      "text/plain": [
       "              name code           capital      continent  \\\n",
       "0    United States   US  Washington, D.C.  North America   \n",
       "1           Canada   CA            Ottawa  North America   \n",
       "2           Mexico   MX       Mexico City  North America   \n",
       "3           Brazil   BR          Brasília  South America   \n",
       "4        Argentina   AR      Buenos Aires  South America   \n",
       "5   United Kingdom   GB            London         Europe   \n",
       "6           France   FR             Paris         Europe   \n",
       "7          Germany   DE            Berlin         Europe   \n",
       "8            Italy   IT              Rome         Europe   \n",
       "9            Spain   ES            Madrid         Europe   \n",
       "10           China   CN           Beijing           Asia   \n",
       "11           Japan   JP             Tokyo           Asia   \n",
       "12           India   IN         New Delhi           Asia   \n",
       "13     South Korea   KR             Seoul           Asia   \n",
       "14       Indonesia   ID           Jakarta           Asia   \n",
       "15       Australia   AU          Canberra        Oceania   \n",
       "16     New Zealand   NZ        Wellington        Oceania   \n",
       "17           Egypt   EG             Cairo         Africa   \n",
       "18         Nigeria   NG             Abuja         Africa   \n",
       "19    South Africa   ZA          Pretoria         Africa   \n",
       "\n",
       "                                            languages  \n",
       "0                                           [English]  \n",
       "1                                   [English, French]  \n",
       "2                                           [Spanish]  \n",
       "3                                        [Portuguese]  \n",
       "4                                           [Spanish]  \n",
       "5                                           [English]  \n",
       "6                                            [French]  \n",
       "7                                            [German]  \n",
       "8                                           [Italian]  \n",
       "9                                           [Spanish]  \n",
       "10                                 [Standard Chinese]  \n",
       "11                                         [Japanese]  \n",
       "12                                   [Hindi, English]  \n",
       "13                                           [Korean]  \n",
       "14                                       [Indonesian]  \n",
       "15                                          [English]  \n",
       "16                                   [English, Māori]  \n",
       "17                                           [Arabic]  \n",
       "18                                          [English]  \n",
       "19  [Zulu, Xhosa, Afrikaans, English, Northern Sot...  "
      ]
     },
     "execution_count": 17,
     "metadata": {},
     "output_type": "execute_result"
    }
   ],
   "source": [
    "import pandas as pd\n",
    "pd.DataFrame(objects)"
   ]
  },
  {
   "cell_type": "markdown",
   "id": "d4db12be6a95b027",
   "metadata": {
    "collapsed": false
   },
   "source": [
    "## Inserting objects\n",
    "\n",
    "We will call `insert` on the collection to add the objects. Note we haven't specified a schema - this will be induced."
   ]
  },
  {
   "cell_type": "code",
   "execution_count": 7,
   "id": "668e59a8f28e7bfe",
   "metadata": {
    "ExecuteTime": {
     "end_time": "2024-05-04T04:31:32.259318Z",
     "start_time": "2024-05-04T04:31:32.214555Z"
    },
    "collapsed": false
   },
   "outputs": [],
   "source": [
    "collection.insert(objects)"
   ]
  },
  {
   "cell_type": "markdown",
   "id": "6a675e8546610e89",
   "metadata": {
    "collapsed": false
   },
   "source": [
    "Let's check this worked by querying:"
   ]
  },
  {
   "cell_type": "code",
   "execution_count": 8,
   "id": "9575e280dda32e41",
   "metadata": {
    "ExecuteTime": {
     "end_time": "2024-05-04T04:31:32.261486Z",
     "start_time": "2024-05-04T04:31:32.239305Z"
    },
    "collapsed": false
   },
   "outputs": [],
   "source": [
    "qr = collection.find()"
   ]
  },
  {
   "cell_type": "code",
   "execution_count": 9,
   "id": "9b65321ea7c7ee15",
   "metadata": {
    "ExecuteTime": {
     "end_time": "2024-05-04T04:31:32.265254Z",
     "start_time": "2024-05-04T04:31:32.261703Z"
    },
    "collapsed": false
   },
   "outputs": [
    {
     "data": {
      "text/html": [
       "<div>\n",
       "<style scoped>\n",
       "    .dataframe tbody tr th:only-of-type {\n",
       "        vertical-align: middle;\n",
       "    }\n",
       "\n",
       "    .dataframe tbody tr th {\n",
       "        vertical-align: top;\n",
       "    }\n",
       "\n",
       "    .dataframe thead th {\n",
       "        text-align: right;\n",
       "    }\n",
       "</style>\n",
       "<table border=\"1\" class=\"dataframe\">\n",
       "  <thead>\n",
       "    <tr style=\"text-align: right;\">\n",
       "      <th></th>\n",
       "      <th>name</th>\n",
       "      <th>code</th>\n",
       "      <th>capital</th>\n",
       "      <th>continent</th>\n",
       "      <th>languages</th>\n",
       "    </tr>\n",
       "  </thead>\n",
       "  <tbody>\n",
       "    <tr>\n",
       "      <th>0</th>\n",
       "      <td>United States</td>\n",
       "      <td>US</td>\n",
       "      <td>Washington, D.C.</td>\n",
       "      <td>North America</td>\n",
       "      <td>[English]</td>\n",
       "    </tr>\n",
       "    <tr>\n",
       "      <th>1</th>\n",
       "      <td>Canada</td>\n",
       "      <td>CA</td>\n",
       "      <td>Ottawa</td>\n",
       "      <td>North America</td>\n",
       "      <td>[English, French]</td>\n",
       "    </tr>\n",
       "    <tr>\n",
       "      <th>2</th>\n",
       "      <td>Mexico</td>\n",
       "      <td>MX</td>\n",
       "      <td>Mexico City</td>\n",
       "      <td>North America</td>\n",
       "      <td>[Spanish]</td>\n",
       "    </tr>\n",
       "    <tr>\n",
       "      <th>3</th>\n",
       "      <td>Brazil</td>\n",
       "      <td>BR</td>\n",
       "      <td>Brasília</td>\n",
       "      <td>South America</td>\n",
       "      <td>[Portuguese]</td>\n",
       "    </tr>\n",
       "    <tr>\n",
       "      <th>4</th>\n",
       "      <td>Argentina</td>\n",
       "      <td>AR</td>\n",
       "      <td>Buenos Aires</td>\n",
       "      <td>South America</td>\n",
       "      <td>[Spanish]</td>\n",
       "    </tr>\n",
       "    <tr>\n",
       "      <th>5</th>\n",
       "      <td>United Kingdom</td>\n",
       "      <td>GB</td>\n",
       "      <td>London</td>\n",
       "      <td>Europe</td>\n",
       "      <td>[English]</td>\n",
       "    </tr>\n",
       "    <tr>\n",
       "      <th>6</th>\n",
       "      <td>France</td>\n",
       "      <td>FR</td>\n",
       "      <td>Paris</td>\n",
       "      <td>Europe</td>\n",
       "      <td>[French]</td>\n",
       "    </tr>\n",
       "    <tr>\n",
       "      <th>7</th>\n",
       "      <td>Germany</td>\n",
       "      <td>DE</td>\n",
       "      <td>Berlin</td>\n",
       "      <td>Europe</td>\n",
       "      <td>[German]</td>\n",
       "    </tr>\n",
       "    <tr>\n",
       "      <th>8</th>\n",
       "      <td>Italy</td>\n",
       "      <td>IT</td>\n",
       "      <td>Rome</td>\n",
       "      <td>Europe</td>\n",
       "      <td>[Italian]</td>\n",
       "    </tr>\n",
       "    <tr>\n",
       "      <th>9</th>\n",
       "      <td>Spain</td>\n",
       "      <td>ES</td>\n",
       "      <td>Madrid</td>\n",
       "      <td>Europe</td>\n",
       "      <td>[Spanish]</td>\n",
       "    </tr>\n",
       "    <tr>\n",
       "      <th>10</th>\n",
       "      <td>China</td>\n",
       "      <td>CN</td>\n",
       "      <td>Beijing</td>\n",
       "      <td>Asia</td>\n",
       "      <td>[Standard Chinese]</td>\n",
       "    </tr>\n",
       "    <tr>\n",
       "      <th>11</th>\n",
       "      <td>Japan</td>\n",
       "      <td>JP</td>\n",
       "      <td>Tokyo</td>\n",
       "      <td>Asia</td>\n",
       "      <td>[Japanese]</td>\n",
       "    </tr>\n",
       "    <tr>\n",
       "      <th>12</th>\n",
       "      <td>India</td>\n",
       "      <td>IN</td>\n",
       "      <td>New Delhi</td>\n",
       "      <td>Asia</td>\n",
       "      <td>[Hindi, English]</td>\n",
       "    </tr>\n",
       "    <tr>\n",
       "      <th>13</th>\n",
       "      <td>South Korea</td>\n",
       "      <td>KR</td>\n",
       "      <td>Seoul</td>\n",
       "      <td>Asia</td>\n",
       "      <td>[Korean]</td>\n",
       "    </tr>\n",
       "    <tr>\n",
       "      <th>14</th>\n",
       "      <td>Indonesia</td>\n",
       "      <td>ID</td>\n",
       "      <td>Jakarta</td>\n",
       "      <td>Asia</td>\n",
       "      <td>[Indonesian]</td>\n",
       "    </tr>\n",
       "    <tr>\n",
       "      <th>15</th>\n",
       "      <td>Australia</td>\n",
       "      <td>AU</td>\n",
       "      <td>Canberra</td>\n",
       "      <td>Oceania</td>\n",
       "      <td>[English]</td>\n",
       "    </tr>\n",
       "    <tr>\n",
       "      <th>16</th>\n",
       "      <td>New Zealand</td>\n",
       "      <td>NZ</td>\n",
       "      <td>Wellington</td>\n",
       "      <td>Oceania</td>\n",
       "      <td>[English, Māori]</td>\n",
       "    </tr>\n",
       "    <tr>\n",
       "      <th>17</th>\n",
       "      <td>Egypt</td>\n",
       "      <td>EG</td>\n",
       "      <td>Cairo</td>\n",
       "      <td>Africa</td>\n",
       "      <td>[Arabic]</td>\n",
       "    </tr>\n",
       "    <tr>\n",
       "      <th>18</th>\n",
       "      <td>Nigeria</td>\n",
       "      <td>NG</td>\n",
       "      <td>Abuja</td>\n",
       "      <td>Africa</td>\n",
       "      <td>[English]</td>\n",
       "    </tr>\n",
       "    <tr>\n",
       "      <th>19</th>\n",
       "      <td>South Africa</td>\n",
       "      <td>ZA</td>\n",
       "      <td>Pretoria</td>\n",
       "      <td>Africa</td>\n",
       "      <td>[Zulu, Xhosa, Afrikaans, English, Northern Sot...</td>\n",
       "    </tr>\n",
       "  </tbody>\n",
       "</table>\n",
       "</div>"
      ],
      "text/plain": [
       "              name code           capital      continent  \\\n",
       "0    United States   US  Washington, D.C.  North America   \n",
       "1           Canada   CA            Ottawa  North America   \n",
       "2           Mexico   MX       Mexico City  North America   \n",
       "3           Brazil   BR          Brasília  South America   \n",
       "4        Argentina   AR      Buenos Aires  South America   \n",
       "5   United Kingdom   GB            London         Europe   \n",
       "6           France   FR             Paris         Europe   \n",
       "7          Germany   DE            Berlin         Europe   \n",
       "8            Italy   IT              Rome         Europe   \n",
       "9            Spain   ES            Madrid         Europe   \n",
       "10           China   CN           Beijing           Asia   \n",
       "11           Japan   JP             Tokyo           Asia   \n",
       "12           India   IN         New Delhi           Asia   \n",
       "13     South Korea   KR             Seoul           Asia   \n",
       "14       Indonesia   ID           Jakarta           Asia   \n",
       "15       Australia   AU          Canberra        Oceania   \n",
       "16     New Zealand   NZ        Wellington        Oceania   \n",
       "17           Egypt   EG             Cairo         Africa   \n",
       "18         Nigeria   NG             Abuja         Africa   \n",
       "19    South Africa   ZA          Pretoria         Africa   \n",
       "\n",
       "                                            languages  \n",
       "0                                           [English]  \n",
       "1                                   [English, French]  \n",
       "2                                           [Spanish]  \n",
       "3                                        [Portuguese]  \n",
       "4                                           [Spanish]  \n",
       "5                                           [English]  \n",
       "6                                            [French]  \n",
       "7                                            [German]  \n",
       "8                                           [Italian]  \n",
       "9                                           [Spanish]  \n",
       "10                                 [Standard Chinese]  \n",
       "11                                         [Japanese]  \n",
       "12                                   [Hindi, English]  \n",
       "13                                           [Korean]  \n",
       "14                                       [Indonesian]  \n",
       "15                                          [English]  \n",
       "16                                   [English, Māori]  \n",
       "17                                           [Arabic]  \n",
       "18                                          [English]  \n",
       "19  [Zulu, Xhosa, Afrikaans, English, Northern Sot...  "
      ]
     },
     "execution_count": 9,
     "metadata": {},
     "output_type": "execute_result"
    }
   ],
   "source": [
    "qr.rows_dataframe"
   ]
  },
  {
   "cell_type": "markdown",
   "id": "f49056b209918a9",
   "metadata": {
    "collapsed": false
   },
   "source": [
    "## Queries\n",
    "\n",
    "We can specify key-value constraints:"
   ]
  },
  {
   "cell_type": "code",
   "execution_count": 10,
   "id": "244378540320adcf",
   "metadata": {
    "ExecuteTime": {
     "end_time": "2024-05-04T04:31:32.276843Z",
     "start_time": "2024-05-04T04:31:32.265456Z"
    },
    "collapsed": false
   },
   "outputs": [],
   "source": [
    "qr = collection.find({\"continent\": \"Europe\"})"
   ]
  },
  {
   "cell_type": "code",
   "execution_count": 11,
   "id": "1ff46aef2d8abba1",
   "metadata": {
    "ExecuteTime": {
     "end_time": "2024-05-04T04:31:32.283217Z",
     "start_time": "2024-05-04T04:31:32.273826Z"
    },
    "collapsed": false
   },
   "outputs": [
    {
     "data": {
      "text/html": [
       "<div>\n",
       "<style scoped>\n",
       "    .dataframe tbody tr th:only-of-type {\n",
       "        vertical-align: middle;\n",
       "    }\n",
       "\n",
       "    .dataframe tbody tr th {\n",
       "        vertical-align: top;\n",
       "    }\n",
       "\n",
       "    .dataframe thead th {\n",
       "        text-align: right;\n",
       "    }\n",
       "</style>\n",
       "<table border=\"1\" class=\"dataframe\">\n",
       "  <thead>\n",
       "    <tr style=\"text-align: right;\">\n",
       "      <th></th>\n",
       "      <th>name</th>\n",
       "      <th>code</th>\n",
       "      <th>capital</th>\n",
       "      <th>continent</th>\n",
       "      <th>languages</th>\n",
       "    </tr>\n",
       "  </thead>\n",
       "  <tbody>\n",
       "    <tr>\n",
       "      <th>0</th>\n",
       "      <td>United Kingdom</td>\n",
       "      <td>GB</td>\n",
       "      <td>London</td>\n",
       "      <td>Europe</td>\n",
       "      <td>[English]</td>\n",
       "    </tr>\n",
       "    <tr>\n",
       "      <th>1</th>\n",
       "      <td>France</td>\n",
       "      <td>FR</td>\n",
       "      <td>Paris</td>\n",
       "      <td>Europe</td>\n",
       "      <td>[French]</td>\n",
       "    </tr>\n",
       "    <tr>\n",
       "      <th>2</th>\n",
       "      <td>Germany</td>\n",
       "      <td>DE</td>\n",
       "      <td>Berlin</td>\n",
       "      <td>Europe</td>\n",
       "      <td>[German]</td>\n",
       "    </tr>\n",
       "    <tr>\n",
       "      <th>3</th>\n",
       "      <td>Italy</td>\n",
       "      <td>IT</td>\n",
       "      <td>Rome</td>\n",
       "      <td>Europe</td>\n",
       "      <td>[Italian]</td>\n",
       "    </tr>\n",
       "    <tr>\n",
       "      <th>4</th>\n",
       "      <td>Spain</td>\n",
       "      <td>ES</td>\n",
       "      <td>Madrid</td>\n",
       "      <td>Europe</td>\n",
       "      <td>[Spanish]</td>\n",
       "    </tr>\n",
       "  </tbody>\n",
       "</table>\n",
       "</div>"
      ],
      "text/plain": [
       "             name code capital continent  languages\n",
       "0  United Kingdom   GB  London    Europe  [English]\n",
       "1          France   FR   Paris    Europe   [French]\n",
       "2         Germany   DE  Berlin    Europe   [German]\n",
       "3           Italy   IT    Rome    Europe  [Italian]\n",
       "4           Spain   ES  Madrid    Europe  [Spanish]"
      ]
     },
     "execution_count": 11,
     "metadata": {},
     "output_type": "execute_result"
    }
   ],
   "source": [
    "qr.rows_dataframe"
   ]
  },
  {
   "cell_type": "markdown",
   "id": "b0badaa4915f91ac",
   "metadata": {
    "collapsed": false
   },
   "source": [
    "## Facet counts\n",
    "\n",
    "We will now do a query fetching facet counts for all fields.\n",
    "\n",
    "Unlike Solr, MongoDB doesn't facet natively but under the hood linkml-store implements the necessary logic"
   ]
  },
  {
   "cell_type": "code",
   "execution_count": 18,
   "id": "df3c2afcdb8153e8",
   "metadata": {
    "ExecuteTime": {
     "end_time": "2024-05-09T23:49:28.838341Z",
     "start_time": "2024-05-09T23:49:28.805375Z"
    },
    "collapsed": false
   },
   "outputs": [],
   "source": [
    "fc = collection.query_facets()"
   ]
  },
  {
   "cell_type": "code",
   "execution_count": 19,
   "id": "61cd37ba4849ed22",
   "metadata": {
    "ExecuteTime": {
     "end_time": "2024-05-09T23:49:30.071922Z",
     "start_time": "2024-05-09T23:49:30.068967Z"
    },
    "collapsed": false
   },
   "outputs": [
    {
     "data": {
      "text/plain": [
       "[('Asia', 5),\n",
       " ('Europe', 5),\n",
       " ('North America', 3),\n",
       " ('Africa', 3),\n",
       " ('South America', 2),\n",
       " ('Oceania', 2)]"
      ]
     },
     "execution_count": 19,
     "metadata": {},
     "output_type": "execute_result"
    }
   ],
   "source": [
    "fc[\"continent\"]"
   ]
  },
  {
   "cell_type": "markdown",
   "id": "a27b08ea540659cd",
   "metadata": {
    "collapsed": false
   },
   "source": [
    "## Creating an LLM embedding index\n",
    "\n",
    "We will now attach an indexer. By default the `llm` indexer uses OpenAI so you will need a key:"
   ]
  },
  {
   "cell_type": "code",
   "execution_count": 20,
   "id": "674607f18f83360c",
   "metadata": {
    "ExecuteTime": {
     "end_time": "2024-05-09T23:50:16.729756Z",
     "start_time": "2024-05-09T23:50:12.200093Z"
    },
    "collapsed": false
   },
   "outputs": [],
   "source": [
    "collection.attach_indexer(\"llm\")"
   ]
  },
  {
   "cell_type": "markdown",
   "id": "df0094817a4c7980",
   "metadata": {
    "collapsed": false
   },
   "source": [
    "We can now query using the index. Note that search terms need only be *semantically* related, they don't need to contain the same lexical elements"
   ]
  },
  {
   "cell_type": "code",
   "execution_count": 21,
   "id": "1ddd4ac75719342d",
   "metadata": {
    "ExecuteTime": {
     "end_time": "2024-05-09T23:51:00.634942Z",
     "start_time": "2024-05-09T23:51:00.389929Z"
    },
    "collapsed": false
   },
   "outputs": [
    {
     "data": {
      "text/html": [
       "<div>\n",
       "<style scoped>\n",
       "    .dataframe tbody tr th:only-of-type {\n",
       "        vertical-align: middle;\n",
       "    }\n",
       "\n",
       "    .dataframe tbody tr th {\n",
       "        vertical-align: top;\n",
       "    }\n",
       "\n",
       "    .dataframe thead th {\n",
       "        text-align: right;\n",
       "    }\n",
       "</style>\n",
       "<table border=\"1\" class=\"dataframe\">\n",
       "  <thead>\n",
       "    <tr style=\"text-align: right;\">\n",
       "      <th></th>\n",
       "      <th>score</th>\n",
       "      <th>name</th>\n",
       "      <th>code</th>\n",
       "      <th>capital</th>\n",
       "      <th>continent</th>\n",
       "      <th>languages</th>\n",
       "    </tr>\n",
       "  </thead>\n",
       "  <tbody>\n",
       "    <tr>\n",
       "      <th>0</th>\n",
       "      <td>0.771005</td>\n",
       "      <td>United Kingdom</td>\n",
       "      <td>GB</td>\n",
       "      <td>London</td>\n",
       "      <td>Europe</td>\n",
       "      <td>[English]</td>\n",
       "    </tr>\n",
       "    <tr>\n",
       "      <th>1</th>\n",
       "      <td>0.758345</td>\n",
       "      <td>Australia</td>\n",
       "      <td>AU</td>\n",
       "      <td>Canberra</td>\n",
       "      <td>Oceania</td>\n",
       "      <td>[English]</td>\n",
       "    </tr>\n",
       "    <tr>\n",
       "      <th>2</th>\n",
       "      <td>0.754094</td>\n",
       "      <td>South Korea</td>\n",
       "      <td>KR</td>\n",
       "      <td>Seoul</td>\n",
       "      <td>Asia</td>\n",
       "      <td>[Korean]</td>\n",
       "    </tr>\n",
       "    <tr>\n",
       "      <th>3</th>\n",
       "      <td>0.750437</td>\n",
       "      <td>United States</td>\n",
       "      <td>US</td>\n",
       "      <td>Washington, D.C.</td>\n",
       "      <td>North America</td>\n",
       "      <td>[English]</td>\n",
       "    </tr>\n",
       "    <tr>\n",
       "      <th>4</th>\n",
       "      <td>0.750217</td>\n",
       "      <td>New Zealand</td>\n",
       "      <td>NZ</td>\n",
       "      <td>Wellington</td>\n",
       "      <td>Oceania</td>\n",
       "      <td>[English, Māori]</td>\n",
       "    </tr>\n",
       "    <tr>\n",
       "      <th>5</th>\n",
       "      <td>0.748993</td>\n",
       "      <td>South Africa</td>\n",
       "      <td>ZA</td>\n",
       "      <td>Pretoria</td>\n",
       "      <td>Africa</td>\n",
       "      <td>[Zulu, Xhosa, Afrikaans, English, Northern Sot...</td>\n",
       "    </tr>\n",
       "    <tr>\n",
       "      <th>6</th>\n",
       "      <td>0.748223</td>\n",
       "      <td>Canada</td>\n",
       "      <td>CA</td>\n",
       "      <td>Ottawa</td>\n",
       "      <td>North America</td>\n",
       "      <td>[English, French]</td>\n",
       "    </tr>\n",
       "    <tr>\n",
       "      <th>7</th>\n",
       "      <td>0.746446</td>\n",
       "      <td>France</td>\n",
       "      <td>FR</td>\n",
       "      <td>Paris</td>\n",
       "      <td>Europe</td>\n",
       "      <td>[French]</td>\n",
       "    </tr>\n",
       "    <tr>\n",
       "      <th>8</th>\n",
       "      <td>0.745456</td>\n",
       "      <td>Germany</td>\n",
       "      <td>DE</td>\n",
       "      <td>Berlin</td>\n",
       "      <td>Europe</td>\n",
       "      <td>[German]</td>\n",
       "    </tr>\n",
       "    <tr>\n",
       "      <th>9</th>\n",
       "      <td>0.743408</td>\n",
       "      <td>Spain</td>\n",
       "      <td>ES</td>\n",
       "      <td>Madrid</td>\n",
       "      <td>Europe</td>\n",
       "      <td>[Spanish]</td>\n",
       "    </tr>\n",
       "    <tr>\n",
       "      <th>10</th>\n",
       "      <td>0.739835</td>\n",
       "      <td>China</td>\n",
       "      <td>CN</td>\n",
       "      <td>Beijing</td>\n",
       "      <td>Asia</td>\n",
       "      <td>[Standard Chinese]</td>\n",
       "    </tr>\n",
       "    <tr>\n",
       "      <th>11</th>\n",
       "      <td>0.739585</td>\n",
       "      <td>Nigeria</td>\n",
       "      <td>NG</td>\n",
       "      <td>Abuja</td>\n",
       "      <td>Africa</td>\n",
       "      <td>[English]</td>\n",
       "    </tr>\n",
       "    <tr>\n",
       "      <th>12</th>\n",
       "      <td>0.738728</td>\n",
       "      <td>Egypt</td>\n",
       "      <td>EG</td>\n",
       "      <td>Cairo</td>\n",
       "      <td>Africa</td>\n",
       "      <td>[Arabic]</td>\n",
       "    </tr>\n",
       "    <tr>\n",
       "      <th>13</th>\n",
       "      <td>0.735895</td>\n",
       "      <td>Brazil</td>\n",
       "      <td>BR</td>\n",
       "      <td>Brasília</td>\n",
       "      <td>South America</td>\n",
       "      <td>[Portuguese]</td>\n",
       "    </tr>\n",
       "    <tr>\n",
       "      <th>14</th>\n",
       "      <td>0.735177</td>\n",
       "      <td>Mexico</td>\n",
       "      <td>MX</td>\n",
       "      <td>Mexico City</td>\n",
       "      <td>North America</td>\n",
       "      <td>[Spanish]</td>\n",
       "    </tr>\n",
       "    <tr>\n",
       "      <th>15</th>\n",
       "      <td>0.734055</td>\n",
       "      <td>Japan</td>\n",
       "      <td>JP</td>\n",
       "      <td>Tokyo</td>\n",
       "      <td>Asia</td>\n",
       "      <td>[Japanese]</td>\n",
       "    </tr>\n",
       "    <tr>\n",
       "      <th>16</th>\n",
       "      <td>0.731329</td>\n",
       "      <td>Argentina</td>\n",
       "      <td>AR</td>\n",
       "      <td>Buenos Aires</td>\n",
       "      <td>South America</td>\n",
       "      <td>[Spanish]</td>\n",
       "    </tr>\n",
       "    <tr>\n",
       "      <th>17</th>\n",
       "      <td>0.728073</td>\n",
       "      <td>Indonesia</td>\n",
       "      <td>ID</td>\n",
       "      <td>Jakarta</td>\n",
       "      <td>Asia</td>\n",
       "      <td>[Indonesian]</td>\n",
       "    </tr>\n",
       "    <tr>\n",
       "      <th>18</th>\n",
       "      <td>0.724353</td>\n",
       "      <td>India</td>\n",
       "      <td>IN</td>\n",
       "      <td>New Delhi</td>\n",
       "      <td>Asia</td>\n",
       "      <td>[Hindi, English]</td>\n",
       "    </tr>\n",
       "    <tr>\n",
       "      <th>19</th>\n",
       "      <td>0.723590</td>\n",
       "      <td>Italy</td>\n",
       "      <td>IT</td>\n",
       "      <td>Rome</td>\n",
       "      <td>Europe</td>\n",
       "      <td>[Italian]</td>\n",
       "    </tr>\n",
       "  </tbody>\n",
       "</table>\n",
       "</div>"
      ],
      "text/plain": [
       "       score            name code           capital      continent  \\\n",
       "0   0.771005  United Kingdom   GB            London         Europe   \n",
       "1   0.758345       Australia   AU          Canberra        Oceania   \n",
       "2   0.754094     South Korea   KR             Seoul           Asia   \n",
       "3   0.750437   United States   US  Washington, D.C.  North America   \n",
       "4   0.750217     New Zealand   NZ        Wellington        Oceania   \n",
       "5   0.748993    South Africa   ZA          Pretoria         Africa   \n",
       "6   0.748223          Canada   CA            Ottawa  North America   \n",
       "7   0.746446          France   FR             Paris         Europe   \n",
       "8   0.745456         Germany   DE            Berlin         Europe   \n",
       "9   0.743408           Spain   ES            Madrid         Europe   \n",
       "10  0.739835           China   CN           Beijing           Asia   \n",
       "11  0.739585         Nigeria   NG             Abuja         Africa   \n",
       "12  0.738728           Egypt   EG             Cairo         Africa   \n",
       "13  0.735895          Brazil   BR          Brasília  South America   \n",
       "14  0.735177          Mexico   MX       Mexico City  North America   \n",
       "15  0.734055           Japan   JP             Tokyo           Asia   \n",
       "16  0.731329       Argentina   AR      Buenos Aires  South America   \n",
       "17  0.728073       Indonesia   ID           Jakarta           Asia   \n",
       "18  0.724353           India   IN         New Delhi           Asia   \n",
       "19  0.723590           Italy   IT              Rome         Europe   \n",
       "\n",
       "                                            languages  \n",
       "0                                           [English]  \n",
       "1                                           [English]  \n",
       "2                                            [Korean]  \n",
       "3                                           [English]  \n",
       "4                                    [English, Māori]  \n",
       "5   [Zulu, Xhosa, Afrikaans, English, Northern Sot...  \n",
       "6                                   [English, French]  \n",
       "7                                            [French]  \n",
       "8                                            [German]  \n",
       "9                                           [Spanish]  \n",
       "10                                 [Standard Chinese]  \n",
       "11                                          [English]  \n",
       "12                                           [Arabic]  \n",
       "13                                       [Portuguese]  \n",
       "14                                          [Spanish]  \n",
       "15                                         [Japanese]  \n",
       "16                                          [Spanish]  \n",
       "17                                       [Indonesian]  \n",
       "18                                   [Hindi, English]  \n",
       "19                                          [Italian]  "
      ]
     },
     "execution_count": 21,
     "metadata": {},
     "output_type": "execute_result"
    }
   ],
   "source": [
    "qr = collection.search(\"countries with a King or Queen\")\n",
    "qr.rows_dataframe"
   ]
  },
  {
   "cell_type": "markdown",
   "id": "6f8802b2424d385f",
   "metadata": {
    "collapsed": false
   },
   "source": [
    "The precise ranking could be debated, but in terms of rough semantic distance the first answer is in the right ballpark, at the time of writing. "
   ]
  },
  {
   "cell_type": "code",
   "execution_count": 22,
   "id": "fa1cdc4e62ad19a1",
   "metadata": {
    "ExecuteTime": {
     "end_time": "2024-05-09T23:51:05.504631Z",
     "start_time": "2024-05-09T23:51:05.484793Z"
    },
    "collapsed": false
   },
   "outputs": [
    {
     "data": {
      "text/plain": [
       "20"
      ]
     },
     "execution_count": 22,
     "metadata": {},
     "output_type": "execute_result"
    }
   ],
   "source": [
    "qr.num_rows"
   ]
  },
  {
   "cell_type": "code",
   "execution_count": 23,
   "id": "9509d574fd222a72",
   "metadata": {
    "ExecuteTime": {
     "end_time": "2024-05-09T23:51:07.706122Z",
     "start_time": "2024-05-09T23:51:07.698147Z"
    },
    "collapsed": false
   },
   "outputs": [
    {
     "data": {
      "text/plain": [
       "[(0.7710047523911066,\n",
       "  {'name': 'United Kingdom',\n",
       "   'code': 'GB',\n",
       "   'capital': 'London',\n",
       "   'continent': 'Europe',\n",
       "   'languages': ['English']}),\n",
       " (0.7583452373538249,\n",
       "  {'name': 'Australia',\n",
       "   'code': 'AU',\n",
       "   'capital': 'Canberra',\n",
       "   'continent': 'Oceania',\n",
       "   'languages': ['English']}),\n",
       " (0.7540936603499173,\n",
       "  {'name': 'South Korea',\n",
       "   'code': 'KR',\n",
       "   'capital': 'Seoul',\n",
       "   'continent': 'Asia',\n",
       "   'languages': ['Korean']}),\n",
       " (0.7504374327081739,\n",
       "  {'name': 'United States',\n",
       "   'code': 'US',\n",
       "   'capital': 'Washington, D.C.',\n",
       "   'continent': 'North America',\n",
       "   'languages': ['English']}),\n",
       " (0.7502171566966283,\n",
       "  {'name': 'New Zealand',\n",
       "   'code': 'NZ',\n",
       "   'capital': 'Wellington',\n",
       "   'continent': 'Oceania',\n",
       "   'languages': ['English', 'Māori']}),\n",
       " (0.748992841890395,\n",
       "  {'name': 'South Africa',\n",
       "   'code': 'ZA',\n",
       "   'capital': 'Pretoria',\n",
       "   'continent': 'Africa',\n",
       "   'languages': ['Zulu',\n",
       "    'Xhosa',\n",
       "    'Afrikaans',\n",
       "    'English',\n",
       "    'Northern Sotho',\n",
       "    'Tswana',\n",
       "    'Southern Sotho',\n",
       "    'Tsonga',\n",
       "    'Swazi',\n",
       "    'Venda',\n",
       "    'Southern Ndebele']}),\n",
       " (0.74822283101589,\n",
       "  {'name': 'Canada',\n",
       "   'code': 'CA',\n",
       "   'capital': 'Ottawa',\n",
       "   'continent': 'North America',\n",
       "   'languages': ['English', 'French']}),\n",
       " (0.7464458557589044,\n",
       "  {'name': 'France',\n",
       "   'code': 'FR',\n",
       "   'capital': 'Paris',\n",
       "   'continent': 'Europe',\n",
       "   'languages': ['French']}),\n",
       " (0.7454555562192956,\n",
       "  {'name': 'Germany',\n",
       "   'code': 'DE',\n",
       "   'capital': 'Berlin',\n",
       "   'continent': 'Europe',\n",
       "   'languages': ['German']}),\n",
       " (0.7434083913303983,\n",
       "  {'name': 'Spain',\n",
       "   'code': 'ES',\n",
       "   'capital': 'Madrid',\n",
       "   'continent': 'Europe',\n",
       "   'languages': ['Spanish']}),\n",
       " (0.7398351135651812,\n",
       "  {'name': 'China',\n",
       "   'code': 'CN',\n",
       "   'capital': 'Beijing',\n",
       "   'continent': 'Asia',\n",
       "   'languages': ['Standard Chinese']}),\n",
       " (0.7395849105341467,\n",
       "  {'name': 'Nigeria',\n",
       "   'code': 'NG',\n",
       "   'capital': 'Abuja',\n",
       "   'continent': 'Africa',\n",
       "   'languages': ['English']}),\n",
       " (0.7387284972086676,\n",
       "  {'name': 'Egypt',\n",
       "   'code': 'EG',\n",
       "   'capital': 'Cairo',\n",
       "   'continent': 'Africa',\n",
       "   'languages': ['Arabic']}),\n",
       " (0.7358951137401105,\n",
       "  {'name': 'Brazil',\n",
       "   'code': 'BR',\n",
       "   'capital': 'Brasília',\n",
       "   'continent': 'South America',\n",
       "   'languages': ['Portuguese']}),\n",
       " (0.7351767098925348,\n",
       "  {'name': 'Mexico',\n",
       "   'code': 'MX',\n",
       "   'capital': 'Mexico City',\n",
       "   'continent': 'North America',\n",
       "   'languages': ['Spanish']}),\n",
       " (0.7340548737475453,\n",
       "  {'name': 'Japan',\n",
       "   'code': 'JP',\n",
       "   'capital': 'Tokyo',\n",
       "   'continent': 'Asia',\n",
       "   'languages': ['Japanese']}),\n",
       " (0.7313286603399471,\n",
       "  {'name': 'Argentina',\n",
       "   'code': 'AR',\n",
       "   'capital': 'Buenos Aires',\n",
       "   'continent': 'South America',\n",
       "   'languages': ['Spanish']}),\n",
       " (0.7280731626046606,\n",
       "  {'name': 'Indonesia',\n",
       "   'code': 'ID',\n",
       "   'capital': 'Jakarta',\n",
       "   'continent': 'Asia',\n",
       "   'languages': ['Indonesian']}),\n",
       " (0.7243527809360168,\n",
       "  {'name': 'India',\n",
       "   'code': 'IN',\n",
       "   'capital': 'New Delhi',\n",
       "   'continent': 'Asia',\n",
       "   'languages': ['Hindi', 'English']}),\n",
       " (0.7235900790596334,\n",
       "  {'name': 'Italy',\n",
       "   'code': 'IT',\n",
       "   'capital': 'Rome',\n",
       "   'continent': 'Europe',\n",
       "   'languages': ['Italian']})]"
      ]
     },
     "execution_count": 23,
     "metadata": {},
     "output_type": "execute_result"
    }
   ],
   "source": [
    "qr.ranked_rows"
   ]
  },
  {
   "cell_type": "code",
   "execution_count": null,
   "id": "cdd3d5bb25673310",
   "metadata": {
    "ExecuteTime": {
     "start_time": "2024-05-04T04:31:35.914292Z"
    },
    "collapsed": false
   },
   "outputs": [],
   "source": []
  }
 ],
 "metadata": {
  "kernelspec": {
   "display_name": "Python 3",
   "language": "python",
   "name": "python3"
  },
  "language_info": {
   "codemirror_mode": {
    "name": "ipython",
    "version": 2
   },
   "file_extension": ".py",
   "mimetype": "text/x-python",
   "name": "python",
   "nbconvert_exporter": "python",
   "pygments_lexer": "ipython2",
   "version": "2.7.6"
  }
 },
 "nbformat": 4,
 "nbformat_minor": 5
}
