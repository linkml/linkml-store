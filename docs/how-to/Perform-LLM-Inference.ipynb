{
 "cells": [
  {
   "cell_type": "markdown",
   "id": "113e1f5d2f048e03",
   "metadata": {},
   "source": [
    "# Perform LLM Inference\n",
    "\n",
    "This notebook demonstrates how to perform inference using LLMs.\n",
    "\n",
    "Whereas the [previous RAG example](Perform-RAG-Inference.ipynb) used existing examples,\n",
    "this will perform de-novo inference using a schema.\n",
    "\n",
    "Note that linkml-store is a data-first framework, the main emphasis is not on AI or LLMs. However, it does support a pluggable **Inference** framework, and one of the integrations is a simple LLM-based inference engine.\n",
    "\n",
    "For this notebook, we will be using the command line interface, but the same can be done programmatically using the Python API."
   ]
  },
  {
   "cell_type": "code",
   "execution_count": null,
   "id": "1166f8509e1e3d08",
   "metadata": {
    "jupyter": {
     "is_executing": true
    }
   },
   "outputs": [],
   "source": []
  },
  {
   "cell_type": "markdown",
   "id": "966de1b52f388b87",
   "metadata": {},
   "source": [
    "## Loading the data into duckdb"
   ]
  },
  {
   "cell_type": "code",
   "execution_count": 50,
   "id": "da1ed3b6811477ee",
   "metadata": {
    "jupyter": {
     "is_executing": true
    }
   },
   "outputs": [
    {
     "name": "stdout",
     "output_type": "stream",
     "text": [
      "Inserted 2390 objects from ../../tests/input/uniprot/uniprot-comments.tsv into collection 'Entry'.\n"
     ]
    }
   ],
   "source": [
    "%%bash\n",
    "mkdir -p tmp\n",
    "rm -rf tmp/up.ddb\n",
    "linkml-store  -d duckdb:///tmp/up.ddb -c Entry insert ../../tests/input/uniprot/uniprot-comments.tsv"
   ]
  },
  {
   "cell_type": "markdown",
   "id": "88191ea890186dc9",
   "metadata": {},
   "source": [
    "Let's check what this looks like by using `describe` and examining the first entry:"
   ]
  },
  {
   "cell_type": "code",
   "execution_count": 51,
   "id": "af9d9160e75afed4",
   "metadata": {
    "jupyter": {
     "is_executing": true
    }
   },
   "outputs": [
    {
     "name": "stdout",
     "output_type": "stream",
     "text": [
      "         count unique                                   top  freq\n",
      "category  2390      1                                        2390\n",
      "id        2390   2284                            EFC2_HUMAN     4\n",
      "text      2390   1383  Could be the product of a pseudogene   259\n"
     ]
    }
   ],
   "source": [
    "%%bash\n",
    "linkml-store -d tmp/up.ddb describe"
   ]
  },
  {
   "cell_type": "markdown",
   "id": "612072a6-0638-436c-91fa-67438051dea1",
   "metadata": {},
   "source": [
    "## Load the controlled vocabulary for classification\n",
    "\n",
    "Ready-made set of comment categories"
   ]
  },
  {
   "cell_type": "code",
   "execution_count": 52,
   "id": "079bba40-cb67-47b0-ba06-b2a0d43e6a86",
   "metadata": {},
   "outputs": [
    {
     "name": "stdout",
     "output_type": "stream",
     "text": [
      "Inserted 15 objects from ../../tests/input/uniprot/uniprot-caution-cv.csv into collection 'cv'.\n"
     ]
    }
   ],
   "source": [
    "%%bash\n",
    "linkml-store  -d tmp/up.ddb -c cv insert ../../tests/input/uniprot/uniprot-caution-cv.csv"
   ]
  },
  {
   "cell_type": "code",
   "execution_count": 53,
   "id": "e87bfb30-9488-45d3-a133-6fac124a842e",
   "metadata": {},
   "outputs": [
    {
     "name": "stdout",
     "output_type": "stream",
     "text": [
      "TERM: FUNCTION_DISPUTED\n",
      "DEFINITION: A caution indicating that a previously reported function has been challenged\n",
      "  or disproven in subsequent studies; may warrant GO NOT annotation\n",
      "EXAMPLES: Originally described for its in vitro hydrolytic activity towards dGMP,\n",
      "  dAMP and dIMP. However, this was not confirmed in vivo\n",
      "---\n",
      "TERM: FUNCTION_PREDICTION_ONLY\n",
      "DEFINITION: A caution indicating function is based only on computational prediction\n",
      "  or sequence similarity\n",
      "EXAMPLES: Predicted to be involved in X based on sequence similarity\n",
      "---\n",
      "TERM: FUNCTION_LACKS_EVIDENCE\n",
      "DEFINITION: A caution indicating insufficient experimental evidence to support predicted\n",
      "  function\n",
      "EXAMPLES: In contrast to other Macro-domain containing proteins, lacks ADP-ribose\n",
      "  glycohydrolase activity\n",
      "\n"
     ]
    }
   ],
   "source": [
    "%%bash\n",
    "linkml-store  -d tmp/up.ddb::cv query --limit 3 -O yaml"
   ]
  },
  {
   "cell_type": "code",
   "execution_count": 54,
   "id": "45da9e5fd1353ccb",
   "metadata": {
    "ExecuteTime": {
     "end_time": "2025-02-04T14:34:37.309647Z",
     "start_time": "2024-08-21T22:53:31.595517Z"
    }
   },
   "outputs": [
    {
     "name": "stdout",
     "output_type": "stream",
     "text": [
      "TERM: FUNCTION_DISPUTED\n",
      "DEFINITION: A caution indicating that a previously reported function has been challenged\n",
      "  or disproven in subsequent studies; may warrant GO NOT annotation\n",
      "EXAMPLES: Originally described for its in vitro hydrolytic activity towards dGMP,\n",
      "  dAMP and dIMP. However, this was not confirmed in vivo\n",
      "---\n",
      "TERM: FUNCTION_PREDICTION_ONLY\n",
      "DEFINITION: A caution indicating function is based only on computational prediction\n",
      "  or sequence similarity\n",
      "EXAMPLES: Predicted to be involved in X based on sequence similarity\n",
      "---\n",
      "TERM: FUNCTION_LACKS_EVIDENCE\n",
      "DEFINITION: A caution indicating insufficient experimental evidence to support predicted\n",
      "  function\n",
      "EXAMPLES: In contrast to other Macro-domain containing proteins, lacks ADP-ribose\n",
      "  glycohydrolase activity\n",
      "\n"
     ]
    }
   ],
   "source": [
    "%%bash\n",
    "linkml-store  -d tmp/up.ddb query --limit 3 -O yaml"
   ]
  },
  {
   "cell_type": "code",
   "execution_count": 55,
   "id": "7e75f8d0-5fda-4846-a979-416ffc2c7ab7",
   "metadata": {},
   "outputs": [
    {
     "name": "stderr",
     "output_type": "stream",
     "text": [
      "2025-02-04 11:08:15,383 - linkml_store.api.client - INFO - Initializing database: phenopackets, base_dir: /Users/cjm\n",
      "2025-02-04 11:08:15,383 - linkml_store.api.client - INFO - Initializing database: mgi, base_dir: /Users/cjm\n",
      "2025-02-04 11:08:15,383 - linkml_store.api.client - INFO - Initializing database: nmdc, base_dir: /Users/cjm\n",
      "2025-02-04 11:08:15,383 - linkml_store.api.client - INFO - Initializing database: amigo, base_dir: /Users/cjm\n",
      "2025-02-04 11:08:15,383 - linkml_store.api.client - INFO - Initializing database: gocams, base_dir: /Users/cjm\n",
      "2025-02-04 11:08:15,383 - linkml_store.api.client - INFO - Initializing database: cadsr, base_dir: /Users/cjm\n",
      "2025-02-04 11:08:15,384 - linkml_store.api.client - INFO - Initializing database: mixs, base_dir: /Users/cjm\n",
      "2025-02-04 11:08:15,384 - linkml_store.api.client - INFO - Initializing database: mondo, base_dir: /Users/cjm\n",
      "2025-02-04 11:08:15,384 - linkml_store.api.client - INFO - Initializing database: hpoa, base_dir: /Users/cjm\n",
      "2025-02-04 11:08:15,384 - linkml_store.api.client - INFO - Initializing database: hpoa_mongo, base_dir: /Users/cjm\n",
      "2025-02-04 11:08:15,384 - linkml_store.api.client - INFO - Initializing database: hpoa_kg, base_dir: /Users/cjm\n",
      "2025-02-04 11:08:15,384 - linkml_store.api.client - INFO - Initializing database: maxoa, base_dir: /Users/cjm\n",
      "2025-02-04 11:08:15,384 - linkml_store.api.client - INFO - Initializing database: refmet, base_dir: /Users/cjm\n",
      "2025-02-04 11:08:15,384 - linkml_store.api.client - INFO - Initializing database: neo4j, base_dir: /Users/cjm\n",
      "2025-02-04 11:08:15,384 - linkml_store.api.client - INFO - Initializing database: gold, base_dir: /Users/cjm\n",
      "2025-02-04 11:08:15,384 - linkml_store.api.client - INFO - Initializing database: nmdc_duckdb, base_dir: /Users/cjm\n",
      "2025-02-04 11:08:15,384 - linkml_store.api.client - INFO - Creating/attaching database: tmp/up.ddb\n",
      "2025-02-04 11:08:15,385 - linkml_store.api.client - INFO - Initializing databases\n",
      "2025-02-04 11:08:15,385 - linkml_store.api.client - INFO - Attaching tmp/up.ddb\n",
      "2025-02-04 11:08:15,388 - linkml_store.api.database - INFO - Setting schema view for duckdb:///tmp/up.ddb\n"
     ]
    },
    {
     "name": "stdout",
     "output_type": "stream",
     "text": [
      "name: uniprot-comments\n",
      "id: http://example.org/uniprot-comments\n",
      "imports:\n",
      "- linkml:types\n",
      "prefixes:\n",
      "  linkml:\n",
      "    prefix_prefix: linkml\n",
      "    prefix_reference: https://w3id.org/linkml/\n",
      "  up:\n",
      "    prefix_prefix: up\n",
      "    prefix_reference: http://example.org/tuniprot-comments\n",
      "default_prefix: up\n",
      "default_range: string\n",
      "enums:\n",
      "  CommentCategory:\n",
      "    name: CommentCategory\n",
      "    permissible_values:\n",
      "      FUNCTION_DISPUTED:\n",
      "        text: FUNCTION_DISPUTED\n",
      "        description: A caution indicating that a previously reported function has\n",
      "          been challenged or disproven in subsequent studies; may warrant GO NOT annotation\n",
      "        examples:\n",
      "        - value: FUNCTION_DISPUTED\n",
      "          description: Originally described for its in vitro hydrolytic activity towards\n",
      "            dGMP, dAMP and dIMP. However, this was not confirmed in vivo\n",
      "      FUNCTION_PREDICTION_ONLY:\n",
      "        text: FUNCTION_PREDICTION_ONLY\n",
      "        description: A caution indicating function is based only on computational\n",
      "          prediction or sequence similarity\n",
      "        examples:\n",
      "        - value: FUNCTION_PREDICTION_ONLY\n",
      "          description: Predicted to be involved in X based on sequence similarity\n",
      "      FUNCTION_LACKS_EVIDENCE:\n",
      "        text: FUNCTION_LACKS_EVIDENCE\n",
      "        description: A caution indicating insufficient experimental evidence to support\n",
      "          predicted function\n",
      "        examples:\n",
      "        - value: FUNCTION_LACKS_EVIDENCE\n",
      "          description: In contrast to other Macro-domain containing proteins, lacks\n",
      "            ADP-ribose glycohydrolase activity\n",
      "      FUNCTION_DEBATED:\n",
      "        text: FUNCTION_DEBATED\n",
      "        description: A caution about ongoing scientific debate regarding function;\n",
      "          differs from DISPUTED in lacking clear evidence against\n",
      "        examples:\n",
      "        - value: FUNCTION_DEBATED\n",
      "          description: Was initially thought to act as a major regulator of cardiac\n",
      "            hypertrophy... However, while PDE5A regulates nitric-oxide-generated cGMP,\n",
      "            nitric oxide signaling is often depressed by heart disease, limiting its\n",
      "            effect\n",
      "      LOCALIZATION_DISPUTED:\n",
      "        text: LOCALIZATION_DISPUTED\n",
      "        description: A caution about conflicting or uncertain cellular localization\n",
      "          evidence\n",
      "        examples:\n",
      "        - value: LOCALIZATION_DISPUTED\n",
      "          description: Cellular localization remains to be finally defined. While\n",
      "            most authors have deduced a localization at the basolateral side, other\n",
      "            studies demonstrated an apical localization\n",
      "      NAMING_CONFUSION:\n",
      "        text: NAMING_CONFUSION\n",
      "        description: A caution about potential confusion with similarly named proteins\n",
      "          or historical naming issues\n",
      "        examples:\n",
      "        - value: NAMING_CONFUSION\n",
      "          description: This protein should not be confused with the conventional myosin-1\n",
      "            (MYH1);Was termed importin alpha-4\n",
      "      GENE_COPY_NUMBER:\n",
      "        text: GENE_COPY_NUMBER\n",
      "        description: A caution about gene duplication or copy number that might affect\n",
      "          interpretation\n",
      "        examples:\n",
      "        - value: GENE_COPY_NUMBER\n",
      "          description: Maps to a duplicated region on chromosome 15; the gene is present\n",
      "            in at least 3 almost identical copies\n",
      "      EXPRESSION_MECHANISM_UNCLEAR:\n",
      "        text: EXPRESSION_MECHANISM_UNCLEAR\n",
      "        description: A caution about unclear or unusual mechanisms of gene expression\n",
      "          or protein production\n",
      "        examples:\n",
      "        - value: EXPRESSION_MECHANISM_UNCLEAR\n",
      "          description: This peptide has been shown to be biologically active but is\n",
      "            the product of a mitochondrial gene. The mechanisms allowing the production\n",
      "            and secretion of the peptide remain unclear\n",
      "      SEQUENCE_FEATURE_MISSING:\n",
      "        text: SEQUENCE_FEATURE_MISSING\n",
      "        description: A caution about missing or unexpected sequence features that\n",
      "          might affect function\n",
      "        examples:\n",
      "        - value: SEQUENCE_FEATURE_MISSING\n",
      "          description: No predictable signal peptide\n",
      "      SPECIES_DIFFERENCE:\n",
      "        text: SPECIES_DIFFERENCE\n",
      "        description: A caution about significant functional or property differences\n",
      "          between orthologs\n",
      "        examples:\n",
      "        - value: SPECIES_DIFFERENCE\n",
      "          description: Affinity and capacity of the transporter for endogenous substrates\n",
      "            vary among orthologs. For endogenous compounds such as dopamine, histamine,\n",
      "            serotonin and thiamine, mouse ortholog display higher affinity\n",
      "      PUBLICATION_CONFLICT:\n",
      "        text: PUBLICATION_CONFLICT\n",
      "        description: A caution about conflicting published evidence or interpretation\n",
      "        examples:\n",
      "        - value: PUBLICATION_CONFLICT\n",
      "          description: Although initially reported to transport carnitine across the\n",
      "            hepatocyte membrane, another study was unable to verify this finding\n",
      "      CLAIMS_RETRACTED:\n",
      "        text: CLAIMS_RETRACTED\n",
      "        description: A caution about function claims that were retracted or withdrawn\n",
      "        examples:\n",
      "        - value: CLAIMS_RETRACTED\n",
      "          description: Has been reported to enhance netrin-induced phosphorylation\n",
      "            of PAK1 and FYN... This article has been withdrawn by the authors\n",
      "      PROTEIN_IDENTITY:\n",
      "        text: PROTEIN_IDENTITY\n",
      "        description: A caution about uncertainty in the identity or existence of distinct\n",
      "          protein products\n",
      "        examples:\n",
      "        - value: PROTEIN_IDENTITY\n",
      "          description: It is not known whether the so-called human ASE1 and human\n",
      "            CAST proteins represent two sides of a single gene product\n",
      "      FUNCTION_UNCERTAIN_INITIATION:\n",
      "        text: FUNCTION_UNCERTAIN_INITIATION\n",
      "        description: A caution about uncertainty in translation initiation site\n",
      "        examples:\n",
      "        - value: FUNCTION_UNCERTAIN_INITIATION\n",
      "          description: It is uncertain whether Met-1 or Met-37 is the initiator\n",
      "      PSEUDOGENE_STATUS:\n",
      "        text: PSEUDOGENE_STATUS\n",
      "        description: A caution about whether the gene encodes a protein\n",
      "        examples:\n",
      "        - value: PSEUDOGENE_STATUS\n",
      "          description: Could be the product of a pseudogene\n",
      "classes:\n",
      "  Entry:\n",
      "    name: Entry\n",
      "    attributes:\n",
      "      id:\n",
      "        name: id\n",
      "        identifier: true\n",
      "      category:\n",
      "        name: category\n",
      "        range: CommentCategory\n",
      "      text:\n",
      "        name: text\n",
      "        description: The text of the comment\n",
      "source_file: ../../tests/input/uniprot/schema.yaml\n",
      "\n"
     ]
    }
   ],
   "source": [
    "%%bash\n",
    "linkml-store -v -S ../../tests/input/uniprot/schema.yaml  -d tmp/up.ddb schema"
   ]
  },
  {
   "cell_type": "markdown",
   "id": "5723b14db6ae067f",
   "metadata": {},
   "source": [
    "## Inferring a specific field"
   ]
  },
  {
   "cell_type": "code",
   "execution_count": 58,
   "id": "e3b5b54814c56690",
   "metadata": {
    "ExecuteTime": {
     "end_time": "2025-02-04T14:34:37.310628Z",
     "start_time": "2024-08-21T22:55:41.459988Z"
    }
   },
   "outputs": [
    {
     "name": "stderr",
     "output_type": "stream",
     "text": [
      "2025-02-04 11:09:06,091 - linkml_store.api.client - INFO - Initializing database: phenopackets, base_dir: /Users/cjm\n",
      "2025-02-04 11:09:06,092 - linkml_store.api.client - INFO - Initializing database: mgi, base_dir: /Users/cjm\n",
      "2025-02-04 11:09:06,092 - linkml_store.api.client - INFO - Initializing database: nmdc, base_dir: /Users/cjm\n",
      "2025-02-04 11:09:06,092 - linkml_store.api.client - INFO - Initializing database: amigo, base_dir: /Users/cjm\n",
      "2025-02-04 11:09:06,092 - linkml_store.api.client - INFO - Initializing database: gocams, base_dir: /Users/cjm\n",
      "2025-02-04 11:09:06,092 - linkml_store.api.client - INFO - Initializing database: cadsr, base_dir: /Users/cjm\n",
      "2025-02-04 11:09:06,092 - linkml_store.api.client - INFO - Initializing database: mixs, base_dir: /Users/cjm\n",
      "2025-02-04 11:09:06,092 - linkml_store.api.client - INFO - Initializing database: mondo, base_dir: /Users/cjm\n",
      "2025-02-04 11:09:06,092 - linkml_store.api.client - INFO - Initializing database: hpoa, base_dir: /Users/cjm\n",
      "2025-02-04 11:09:06,092 - linkml_store.api.client - INFO - Initializing database: hpoa_mongo, base_dir: /Users/cjm\n",
      "2025-02-04 11:09:06,092 - linkml_store.api.client - INFO - Initializing database: hpoa_kg, base_dir: /Users/cjm\n",
      "2025-02-04 11:09:06,092 - linkml_store.api.client - INFO - Initializing database: maxoa, base_dir: /Users/cjm\n",
      "2025-02-04 11:09:06,092 - linkml_store.api.client - INFO - Initializing database: refmet, base_dir: /Users/cjm\n",
      "2025-02-04 11:09:06,092 - linkml_store.api.client - INFO - Initializing database: neo4j, base_dir: /Users/cjm\n",
      "2025-02-04 11:09:06,092 - linkml_store.api.client - INFO - Initializing database: gold, base_dir: /Users/cjm\n",
      "2025-02-04 11:09:06,092 - linkml_store.api.client - INFO - Initializing database: nmdc_duckdb, base_dir: /Users/cjm\n",
      "2025-02-04 11:09:06,092 - linkml_store.api.client - INFO - Creating/attaching database: tmp/up.ddb\n",
      "2025-02-04 11:09:06,093 - linkml_store.api.client - INFO - Initializing databases\n",
      "2025-02-04 11:09:06,093 - linkml_store.api.client - INFO - Attaching tmp/up.ddb\n",
      "2025-02-04 11:09:06,095 - linkml_store.api.database - INFO - Setting schema view for duckdb:///tmp/up.ddb\n",
      "2025-02-04 11:09:06,096 - linkml_runtime.utils.schemaview - INFO - Importing linkml:types as /Users/cjm/Library/Caches/pypoetry/virtualenvs/linkml-store-8ZYO4kTy-py3.11/lib/python3.11/site-packages/linkml_runtime/linkml_model/model/schema/types from source ../../tests/input/uniprot/schema.yaml; base_dir=None\n",
      "2025-02-04 11:09:06,141 - linkml_store.cli - INFO - Using collection: Entry for inference\n",
      "2025-02-04 11:09:06,263 - linkml_store.inference.implementations.llm_inference_engine - INFO - Initializing model OpenAI Chat: gpt-4o-mini\n",
      "2025-02-04 11:09:06,263 - linkml_store.api.collection - INFO - Pre-query hook (state: None; Q= from_table='Entry' select_cols=None where_clause={'id': 'MOTSC_HUMAN'} sort_by=None limit=None offset=None include_facet_counts=False facet_slots=None\n",
      "2025-02-04 11:09:06,263 - linkml_store.api.collection - INFO - No metadata for Entry; no derivations\n",
      "2025-02-04 11:09:06,264 - linkml_store.api.collection - INFO - Pre-query hook (state: True; Q= None\n",
      "2025-02-04 11:09:06,358 - linkml_store.inference.implementations.llm_inference_engine - INFO - Prompt: Provide a YAML object of the form```yaml\n",
      "{category: ...}\n",
      "```\n",
      "---\n",
      "Query:\n",
      "## INCOMPLETE OBJECT:\n",
      "category: ''\n",
      "id: MOTSC_HUMAN\n",
      "text: This peptide has been shown to be biologically active but is the product of\n",
      "  a mitochondrial gene. Usage of the mitochondrial genetic code yields tandem start\n",
      "  and stop codons so translation must occur in the cytoplasm. The mechanisms allowing\n",
      "  the production and secretion of the peptide remain unclear\n",
      "\n",
      "## OUTPUT:\n",
      "\n",
      "2025-02-04 11:09:07,495 - httpx - INFO - HTTP Request: POST https://api.openai.com/v1/chat/completions \"HTTP/1.1 200 OK\"\n",
      "2025-02-04 11:09:08,030 - linkml_store.inference.implementations.llm_inference_engine - INFO - Response: ```yaml\n",
      "category: EXPRESSION_MECHANISM_UNCLEAR\n",
      "```\n"
     ]
    },
    {
     "name": "stdout",
     "output_type": "stream",
     "text": [
      "id: MOTSC_HUMAN\n",
      "category: EXPRESSION_MECHANISM_UNCLEAR\n",
      "text: This peptide has been shown to be biologically active but is the product of\n",
      "  a mitochondrial gene. Usage of the mitochondrial genetic code yields tandem start\n",
      "  and stop codons so translation must occur in the cytoplasm. The mechanisms allowing\n",
      "  the production and secretion of the peptide remain unclear\n",
      "\n"
     ]
    }
   ],
   "source": [
    "%%bash\n",
    "linkml-store -S ../../tests/input/uniprot/schema.yaml  -d tmp/up.ddb -c Entry infer -t llm -T category --where \"id: MOTSC_HUMAN\""
   ]
  },
  {
   "cell_type": "code",
   "execution_count": 63,
   "id": "970d3e14-b0d5-4468-90f3-0c347c9fe4e5",
   "metadata": {},
   "outputs": [],
   "source": [
    "%%bash\n",
    "linkml-store -S ../../tests/input/uniprot/schema.yaml  -d tmp/up.ddb -c Entry infer -t llm -T category --where \"{}\" -O csv -o tmp/up.predicted.csv"
   ]
  },
  {
   "cell_type": "code",
   "execution_count": 64,
   "id": "684afb71-1737-4dbc-a7b2-d209fc56f1cb",
   "metadata": {},
   "outputs": [],
   "source": [
    "import pandas as pd"
   ]
  },
  {
   "cell_type": "code",
   "execution_count": 65,
   "id": "1b82be5f-8c6b-4b51-b41c-5905c936a84d",
   "metadata": {},
   "outputs": [
    {
     "data": {
      "text/html": [
       "<div>\n",
       "<style scoped>\n",
       "    .dataframe tbody tr th:only-of-type {\n",
       "        vertical-align: middle;\n",
       "    }\n",
       "\n",
       "    .dataframe tbody tr th {\n",
       "        vertical-align: top;\n",
       "    }\n",
       "\n",
       "    .dataframe thead th {\n",
       "        text-align: right;\n",
       "    }\n",
       "</style>\n",
       "<table border=\"1\" class=\"dataframe\">\n",
       "  <thead>\n",
       "    <tr style=\"text-align: right;\">\n",
       "      <th></th>\n",
       "      <th>id</th>\n",
       "      <th>category</th>\n",
       "      <th>text</th>\n",
       "    </tr>\n",
       "  </thead>\n",
       "  <tbody>\n",
       "    <tr>\n",
       "      <th>0</th>\n",
       "      <td>MOTSC_HUMAN</td>\n",
       "      <td>EXPRESSION_MECHANISM_UNCLEAR</td>\n",
       "      <td>This peptide has been shown to be biologically...</td>\n",
       "    </tr>\n",
       "    <tr>\n",
       "      <th>1</th>\n",
       "      <td>POTB3_HUMAN</td>\n",
       "      <td>GENE_COPY_NUMBER</td>\n",
       "      <td>Maps to a duplicated region on chromosome 15; ...</td>\n",
       "    </tr>\n",
       "    <tr>\n",
       "      <th>2</th>\n",
       "      <td>MYO1C_HUMAN</td>\n",
       "      <td>NAMING_CONFUSION</td>\n",
       "      <td>Represents an unconventional myosin. This prot...</td>\n",
       "    </tr>\n",
       "    <tr>\n",
       "      <th>3</th>\n",
       "      <td>IMA4_HUMAN</td>\n",
       "      <td>NAMING_CONFUSION</td>\n",
       "      <td>Was termed importin alpha-4</td>\n",
       "    </tr>\n",
       "    <tr>\n",
       "      <th>4</th>\n",
       "      <td>S22A1_HUMAN</td>\n",
       "      <td>LOCALIZATION_DISPUTED</td>\n",
       "      <td>Cellular localization of OCT1 in the intestine...</td>\n",
       "    </tr>\n",
       "    <tr>\n",
       "      <th>...</th>\n",
       "      <td>...</td>\n",
       "      <td>...</td>\n",
       "      <td>...</td>\n",
       "    </tr>\n",
       "    <tr>\n",
       "      <th>95</th>\n",
       "      <td>POK9_HUMAN</td>\n",
       "      <td>NaN</td>\n",
       "      <td>Truncated; frameshift leads to premature stop ...</td>\n",
       "    </tr>\n",
       "    <tr>\n",
       "      <th>96</th>\n",
       "      <td>UB2L3_HUMAN</td>\n",
       "      <td>PSEUDOGENE_STATUS</td>\n",
       "      <td>PubMed:10760570 reported that UBE2L1, UBE2L2 a...</td>\n",
       "    </tr>\n",
       "    <tr>\n",
       "      <th>97</th>\n",
       "      <td>CBX1_HUMAN</td>\n",
       "      <td>CLAIMS_RETRACTED</td>\n",
       "      <td>Was previously reported to interact with ASXL1...</td>\n",
       "    </tr>\n",
       "    <tr>\n",
       "      <th>98</th>\n",
       "      <td>H33_HUMAN</td>\n",
       "      <td>CLAIMS_RETRACTED</td>\n",
       "      <td>The original paper reporting lysine deaminatio...</td>\n",
       "    </tr>\n",
       "    <tr>\n",
       "      <th>99</th>\n",
       "      <td>RELB_HUMAN</td>\n",
       "      <td>FUNCTION_DISPUTED</td>\n",
       "      <td>Was originally thought to inhibit the transcri...</td>\n",
       "    </tr>\n",
       "  </tbody>\n",
       "</table>\n",
       "<p>100 rows × 3 columns</p>\n",
       "</div>"
      ],
      "text/plain": [
       "             id                      category  \\\n",
       "0   MOTSC_HUMAN  EXPRESSION_MECHANISM_UNCLEAR   \n",
       "1   POTB3_HUMAN              GENE_COPY_NUMBER   \n",
       "2   MYO1C_HUMAN              NAMING_CONFUSION   \n",
       "3    IMA4_HUMAN              NAMING_CONFUSION   \n",
       "4   S22A1_HUMAN         LOCALIZATION_DISPUTED   \n",
       "..          ...                           ...   \n",
       "95   POK9_HUMAN                           NaN   \n",
       "96  UB2L3_HUMAN             PSEUDOGENE_STATUS   \n",
       "97   CBX1_HUMAN              CLAIMS_RETRACTED   \n",
       "98    H33_HUMAN              CLAIMS_RETRACTED   \n",
       "99   RELB_HUMAN             FUNCTION_DISPUTED   \n",
       "\n",
       "                                                 text  \n",
       "0   This peptide has been shown to be biologically...  \n",
       "1   Maps to a duplicated region on chromosome 15; ...  \n",
       "2   Represents an unconventional myosin. This prot...  \n",
       "3                         Was termed importin alpha-4  \n",
       "4   Cellular localization of OCT1 in the intestine...  \n",
       "..                                                ...  \n",
       "95  Truncated; frameshift leads to premature stop ...  \n",
       "96  PubMed:10760570 reported that UBE2L1, UBE2L2 a...  \n",
       "97  Was previously reported to interact with ASXL1...  \n",
       "98  The original paper reporting lysine deaminatio...  \n",
       "99  Was originally thought to inhibit the transcri...  \n",
       "\n",
       "[100 rows x 3 columns]"
      ]
     },
     "execution_count": 65,
     "metadata": {},
     "output_type": "execute_result"
    }
   ],
   "source": [
    "df = pd.read_csv(\"tmp/up.predicted.csv\")\n",
    "df"
   ]
  },
  {
   "cell_type": "markdown",
   "id": "1a3c35ac1b902a86",
   "metadata": {},
   "source": [
    "The RAG engine works by first indexing the countries collection by embedding each entry. The top N results matching the query are fetched and used as *context* for the LLM query.\n",
    "\n",
    "Note that in this particular case, we have a very small collection of twenty entries, and it's not even necessary to perform RAG at all, as the entire collection can easily fit within the context window of the LLM query. However, this small set is useful for demo purposes."
   ]
  },
  {
   "cell_type": "markdown",
   "id": "4695228dca721456",
   "metadata": {},
   "source": [
    "## Inferring a whole object"
   ]
  },
  {
   "cell_type": "code",
   "execution_count": 6,
   "id": "f0c9a8f8dd5e319c",
   "metadata": {
    "ExecuteTime": {
     "end_time": "2025-02-04T14:34:37.310738Z",
     "start_time": "2024-08-21T22:53:41.075755Z"
    }
   },
   "outputs": [
    {
     "name": "stdout",
     "output_type": "stream",
     "text": [
      "predicted_object:\n",
      "  capital: Montevideo\n",
      "  code: UY\n",
      "  continent: South America\n",
      "  languages:\n",
      "  - Spanish\n",
      "\n"
     ]
    }
   ],
   "source": [
    "%%bash\n",
    "linkml-store  -d duckdb:///tmp/countries.ddb -c countries infer -t rag -q \"name: Uruguay\""
   ]
  },
  {
   "cell_type": "markdown",
   "id": "53615fc0697e0c39",
   "metadata": {},
   "source": [
    "## Inferring from multiple fields"
   ]
  },
  {
   "cell_type": "code",
   "execution_count": 27,
   "id": "cf1d1e39a0d4b56f",
   "metadata": {
    "ExecuteTime": {
     "end_time": "2025-02-04T14:34:37.311157Z",
     "start_time": "2024-08-21T23:02:29.166889Z"
    }
   },
   "outputs": [
    {
     "name": "stdout",
     "output_type": "stream",
     "text": [
      "predicted_object:\n",
      "  capital: Paramaribo\n",
      "  code: SR\n",
      "  name: Suriname\n",
      "\n"
     ]
    }
   ],
   "source": [
    "%%bash\n",
    "linkml-store  -d duckdb:///tmp/countries.ddb -c countries infer -t rag  -q \"{continent: South America, languages: [Dutch]}\""
   ]
  },
  {
   "cell_type": "markdown",
   "id": "8c65369fed257b0b",
   "metadata": {},
   "source": [
    "## RAG configuration - using a different model\n",
    "\n",
    "The datasette llm framework is used under the hood. This means that you can use the `llm` command to list the available models and configurations, as well as install new ones."
   ]
  },
  {
   "cell_type": "code",
   "execution_count": 28,
   "id": "bf740ea5beb16d2a",
   "metadata": {
    "ExecuteTime": {
     "end_time": "2025-02-04T14:34:37.311506Z",
     "start_time": "2024-08-21T23:02:41.334264Z"
    }
   },
   "outputs": [
    {
     "name": "stdout",
     "output_type": "stream",
     "text": [
      "OpenAI Chat: gpt-3.5-turbo (aliases: 3.5, chatgpt)\n",
      "OpenAI Chat: gpt-3.5-turbo-16k (aliases: chatgpt-16k, 3.5-16k)\n",
      "OpenAI Chat: gpt-4 (aliases: 4, gpt4)\n",
      "OpenAI Chat: gpt-4-32k (aliases: 4-32k)\n",
      "OpenAI Chat: gpt-4-1106-preview\n",
      "OpenAI Chat: gpt-4-0125-preview\n",
      "OpenAI Chat: gpt-4-turbo-2024-04-09\n",
      "OpenAI Chat: gpt-4-turbo (aliases: gpt-4-turbo-preview, 4-turbo, 4t)\n",
      "OpenAI Chat: gpt-4o (aliases: 4o)\n",
      "OpenAI Chat: gpt-4o-mini (aliases: 4o-mini)\n",
      "OpenAI Completion: gpt-3.5-turbo-instruct (aliases: 3.5-instruct, chatgpt-instruct)\n",
      "OpenAI Chat: gpt-4-vision-preview (aliases: 4V, gpt-4-vision)\n",
      "OpenAI Chat: litellm-mixtral\n",
      "OpenAI Chat: litellm-llama3\n",
      "OpenAI Chat: litellm-llama3-chatqa\n",
      "OpenAI Chat: litellm-groq-mixtral\n",
      "OpenAI Chat: litellm-groq-llama\n",
      "OpenAI Chat: gpt-4o-2024-05-13 (aliases: 4o, gpt-4o)\n",
      "OpenAI Chat: lbl/llama-3\n",
      "OpenAI Chat: lbl/claude-opus\n",
      "OpenAI Chat: lbl/claude-sonnet\n",
      "OpenAI Chat: lbl/gpt-4o\n",
      "OpenAI Chat: lbl/llama-3\n",
      "Anthropic Messages: claude-3-opus-20240229 (aliases: claude-3-opus)\n",
      "Anthropic Messages: claude-3-sonnet-20240229 (aliases: claude-3-sonnet)\n",
      "Anthropic Messages: claude-3-haiku-20240307 (aliases: claude-3-haiku)\n",
      "Anthropic Messages: claude-3-5-sonnet-20240620 (aliases: claude-3.5-sonnet)\n"
     ]
    }
   ],
   "source": [
    "%%bash\n",
    "llm models"
   ]
  },
  {
   "cell_type": "markdown",
   "id": "d543d1a2277951f8",
   "metadata": {},
   "source": [
    "We'll try `claude-3-haiku`, a small model. This may not be powerful enough for extraction tasks, but general knowledge about countries should be within its capabilities."
   ]
  },
  {
   "cell_type": "code",
   "execution_count": 29,
   "id": "77210bae9000f5b8",
   "metadata": {
    "ExecuteTime": {
     "end_time": "2025-02-04T14:34:37.311643Z",
     "start_time": "2024-08-21T23:02:42.160752Z"
    }
   },
   "outputs": [
    {
     "name": "stdout",
     "output_type": "stream",
     "text": [
      "predicted_object:\n",
      "  capital: Montevideo\n",
      "  code: UY\n",
      "  continent: South America\n",
      "  languages:\n",
      "  - Spanish\n",
      "\n"
     ]
    }
   ],
   "source": [
    "%%bash\n",
    "linkml-store  -d duckdb:///tmp/countries.ddb -c countries infer -t rag:llm_config.model_name=claude-3-haiku -q \"name: Uruguay\" "
   ]
  },
  {
   "cell_type": "markdown",
   "id": "e5aa22d2d79ddfcf",
   "metadata": {},
   "source": [
    "## Persisting the RAG model"
   ]
  },
  {
   "cell_type": "code",
   "execution_count": 44,
   "id": "2c0253b043877be5",
   "metadata": {
    "ExecuteTime": {
     "end_time": "2025-02-04T14:34:37.311754Z",
     "start_time": "2024-08-21T23:05:39.504800Z"
    }
   },
   "outputs": [
    {
     "name": "stdout",
     "output_type": "stream",
     "text": [
      "predicted_object:\n",
      "  capital: Montevideo\n",
      "  code: UY\n",
      "  continent: South America\n",
      "  languages:\n",
      "  - Spanish\n",
      "\n"
     ]
    }
   ],
   "source": [
    "%%bash\n",
    "linkml-store  -d duckdb:///tmp/countries.ddb -c countries infer -t rag -q \"name: Uruguay\" -E tmp/countries.rag.json"
   ]
  },
  {
   "cell_type": "code",
   "execution_count": 45,
   "id": "57e0399eeb033544",
   "metadata": {
    "ExecuteTime": {
     "end_time": "2025-02-04T14:34:37.311859Z",
     "start_time": "2024-08-21T23:06:06.456550Z"
    }
   },
   "outputs": [
    {
     "name": "stdout",
     "output_type": "stream",
     "text": [
      "-rw-r--r--  1 cjm  staff  498212 Aug 21 16:05 tmp/countries.rag.json\n"
     ]
    }
   ],
   "source": [
    "%%bash\n",
    "ls -l tmp/countries.rag.json"
   ]
  },
  {
   "cell_type": "code",
   "execution_count": 46,
   "id": "f357aca421d3f29",
   "metadata": {
    "ExecuteTime": {
     "end_time": "2025-02-04T14:34:37.312399Z",
     "start_time": "2024-08-21T23:06:30.767533Z"
    }
   },
   "outputs": [
    {
     "name": "stdout",
     "output_type": "stream",
     "text": [
      "predicted_object:\n",
      "  capital: Montevideo\n",
      "  code: UY\n",
      "  continent: South America\n",
      "  languages:\n",
      "  - Spanish\n",
      "\n"
     ]
    }
   ],
   "source": [
    "%%bash\n",
    "linkml-store  -d duckdb:///tmp/countries.ddb -c countries infer -t rag -q \"name: Uruguay\" -L tmp/countries.rag.json"
   ]
  },
  {
   "cell_type": "markdown",
   "id": "56a938a3cfd88ac9",
   "metadata": {},
   "source": [
    "## Evaluation"
   ]
  },
  {
   "cell_type": "code",
   "execution_count": 55,
   "id": "c6f50474a64adc8e",
   "metadata": {
    "ExecuteTime": {
     "end_time": "2025-02-04T14:34:37.312502Z",
     "start_time": "2024-08-22T02:00:00.774789Z"
    }
   },
   "outputs": [
    {
     "name": "stdout",
     "output_type": "stream",
     "text": [
      "Outcome: true_positive_count=5.0 total_count=5 // accuracy: 1.0\n"
     ]
    }
   ],
   "source": [
    "%%bash\n",
    "linkml-store  -d duckdb:///tmp/countries.ddb -c countries infer -t rag  -T languages -T code -F name -n 5"
   ]
  },
  {
   "cell_type": "markdown",
   "id": "ef995b7df9dc2425",
   "metadata": {},
   "source": [
    "## How RAG indexing works under the hood\n",
    "\n",
    "Behind the scenes, whenever you use the RAG inference engine, a separate collection is automatically created for a test dataset; additionally, an index is also created in the same database. This is true regardless of the database backend (DuckDB, MongoDB, etc.).\n",
    "\n",
    "(note: if you are using an in-memory duckdb instance then the index is forgotten after each run, which\n",
    "could get expensive if you have a large collection).\n",
    "\n",
    "Let's examine our database to see the new collection and index. We will use the Jupyter SQL magic to query the database."
   ]
  },
  {
   "cell_type": "code",
   "execution_count": null,
   "id": "bbe5f552d3c239e8",
   "metadata": {},
   "outputs": [],
   "source": []
  },
  {
   "cell_type": "code",
   "execution_count": 38,
   "id": "ac5fd025661ef7ec",
   "metadata": {
    "ExecuteTime": {
     "end_time": "2025-02-04T14:34:37.313098Z",
     "start_time": "2024-08-21T23:03:50.212113Z"
    }
   },
   "outputs": [
    {
     "name": "stdout",
     "output_type": "stream",
     "text": [
      "The sql extension is already loaded. To reload it, use:\n",
      "  %reload_ext sql\n"
     ]
    }
   ],
   "source": [
    "%load_ext sql\n",
    "%config SqlMagic.autopandas = True\n",
    "%config SqlMagic.feedback = False\n",
    "%config SqlMagic.displaycon = False"
   ]
  },
  {
   "cell_type": "code",
   "execution_count": 39,
   "id": "20e500fe878072b3",
   "metadata": {
    "ExecuteTime": {
     "end_time": "2025-02-04T14:34:37.313575Z",
     "start_time": "2024-08-21T23:03:50.850251Z"
    }
   },
   "outputs": [],
   "source": [
    "%%bash\n",
    "cp tmp/countries.ddb tmp/countries-copy.ddb"
   ]
  },
  {
   "cell_type": "code",
   "execution_count": 40,
   "id": "4452ee3d4c8f718f",
   "metadata": {
    "ExecuteTime": {
     "end_time": "2025-02-04T14:34:37.313686Z",
     "start_time": "2024-08-21T23:03:51.416823Z"
    }
   },
   "outputs": [],
   "source": [
    "%sql duckdb:///tmp/countries-copy.ddb"
   ]
  },
  {
   "cell_type": "code",
   "execution_count": 41,
   "id": "9a06cb5c358797cd",
   "metadata": {
    "ExecuteTime": {
     "end_time": "2025-02-04T14:34:37.313780Z",
     "start_time": "2024-08-21T23:03:52.085675Z"
    }
   },
   "outputs": [
    {
     "data": {
      "text/html": [
       "<div>\n",
       "<style scoped>\n",
       "    .dataframe tbody tr th:only-of-type {\n",
       "        vertical-align: middle;\n",
       "    }\n",
       "\n",
       "    .dataframe tbody tr th {\n",
       "        vertical-align: top;\n",
       "    }\n",
       "\n",
       "    .dataframe thead th {\n",
       "        text-align: right;\n",
       "    }\n",
       "</style>\n",
       "<table border=\"1\" class=\"dataframe\">\n",
       "  <thead>\n",
       "    <tr style=\"text-align: right;\">\n",
       "      <th></th>\n",
       "      <th>table_catalog</th>\n",
       "      <th>table_schema</th>\n",
       "      <th>table_name</th>\n",
       "      <th>table_type</th>\n",
       "      <th>self_referencing_column_name</th>\n",
       "      <th>reference_generation</th>\n",
       "      <th>user_defined_type_catalog</th>\n",
       "      <th>user_defined_type_schema</th>\n",
       "      <th>user_defined_type_name</th>\n",
       "      <th>is_insertable_into</th>\n",
       "      <th>is_typed</th>\n",
       "      <th>commit_action</th>\n",
       "      <th>TABLE_COMMENT</th>\n",
       "    </tr>\n",
       "  </thead>\n",
       "  <tbody>\n",
       "    <tr>\n",
       "      <th>0</th>\n",
       "      <td>countries-copy</td>\n",
       "      <td>main</td>\n",
       "      <td>countries</td>\n",
       "      <td>BASE TABLE</td>\n",
       "      <td>None</td>\n",
       "      <td>None</td>\n",
       "      <td>None</td>\n",
       "      <td>None</td>\n",
       "      <td>None</td>\n",
       "      <td>YES</td>\n",
       "      <td>NO</td>\n",
       "      <td>None</td>\n",
       "      <td>None</td>\n",
       "    </tr>\n",
       "    <tr>\n",
       "      <th>1</th>\n",
       "      <td>countries-copy</td>\n",
       "      <td>main</td>\n",
       "      <td>countries__rag_train</td>\n",
       "      <td>BASE TABLE</td>\n",
       "      <td>None</td>\n",
       "      <td>None</td>\n",
       "      <td>None</td>\n",
       "      <td>None</td>\n",
       "      <td>None</td>\n",
       "      <td>YES</td>\n",
       "      <td>NO</td>\n",
       "      <td>None</td>\n",
       "      <td>None</td>\n",
       "    </tr>\n",
       "    <tr>\n",
       "      <th>2</th>\n",
       "      <td>countries-copy</td>\n",
       "      <td>main</td>\n",
       "      <td>internal__index__countries__rag_train__llm</td>\n",
       "      <td>BASE TABLE</td>\n",
       "      <td>None</td>\n",
       "      <td>None</td>\n",
       "      <td>None</td>\n",
       "      <td>None</td>\n",
       "      <td>None</td>\n",
       "      <td>YES</td>\n",
       "      <td>NO</td>\n",
       "      <td>None</td>\n",
       "      <td>None</td>\n",
       "    </tr>\n",
       "  </tbody>\n",
       "</table>\n",
       "</div>"
      ],
      "text/plain": [
       "    table_catalog table_schema                                  table_name  \\\n",
       "0  countries-copy         main                                   countries   \n",
       "1  countries-copy         main                        countries__rag_train   \n",
       "2  countries-copy         main  internal__index__countries__rag_train__llm   \n",
       "\n",
       "   table_type self_referencing_column_name reference_generation  \\\n",
       "0  BASE TABLE                         None                 None   \n",
       "1  BASE TABLE                         None                 None   \n",
       "2  BASE TABLE                         None                 None   \n",
       "\n",
       "  user_defined_type_catalog user_defined_type_schema user_defined_type_name  \\\n",
       "0                      None                     None                   None   \n",
       "1                      None                     None                   None   \n",
       "2                      None                     None                   None   \n",
       "\n",
       "  is_insertable_into is_typed commit_action TABLE_COMMENT  \n",
       "0                YES       NO          None          None  \n",
       "1                YES       NO          None          None  \n",
       "2                YES       NO          None          None  "
      ]
     },
     "execution_count": 41,
     "metadata": {},
     "output_type": "execute_result"
    }
   ],
   "source": [
    "%%sql\n",
    "SELECT * FROM information_schema.tables"
   ]
  },
  {
   "cell_type": "code",
   "execution_count": 42,
   "id": "d16b905ca3e0c87",
   "metadata": {
    "ExecuteTime": {
     "end_time": "2025-02-04T14:34:37.314800Z",
     "start_time": "2024-08-21T23:03:52.863279Z"
    }
   },
   "outputs": [
    {
     "data": {
      "text/html": [
       "<div>\n",
       "<style scoped>\n",
       "    .dataframe tbody tr th:only-of-type {\n",
       "        vertical-align: middle;\n",
       "    }\n",
       "\n",
       "    .dataframe tbody tr th {\n",
       "        vertical-align: top;\n",
       "    }\n",
       "\n",
       "    .dataframe thead th {\n",
       "        text-align: right;\n",
       "    }\n",
       "</style>\n",
       "<table border=\"1\" class=\"dataframe\">\n",
       "  <thead>\n",
       "    <tr style=\"text-align: right;\">\n",
       "      <th></th>\n",
       "      <th>name</th>\n",
       "      <th>code</th>\n",
       "      <th>capital</th>\n",
       "      <th>continent</th>\n",
       "      <th>languages</th>\n",
       "      <th>__index__</th>\n",
       "    </tr>\n",
       "  </thead>\n",
       "  <tbody>\n",
       "    <tr>\n",
       "      <th>0</th>\n",
       "      <td>Argentina</td>\n",
       "      <td>AR</td>\n",
       "      <td>Buenos Aires</td>\n",
       "      <td>South America</td>\n",
       "      <td>[Spanish]</td>\n",
       "      <td>[-0.009016353, 0.02336632, 0.007532564, -0.008...</td>\n",
       "    </tr>\n",
       "    <tr>\n",
       "      <th>1</th>\n",
       "      <td>South Korea</td>\n",
       "      <td>KR</td>\n",
       "      <td>Seoul</td>\n",
       "      <td>Asia</td>\n",
       "      <td>[Korean]</td>\n",
       "      <td>[3.8781454e-05, 0.013463534, 0.017664365, -0.0...</td>\n",
       "    </tr>\n",
       "    <tr>\n",
       "      <th>2</th>\n",
       "      <td>United States</td>\n",
       "      <td>US</td>\n",
       "      <td>Washington, D.C.</td>\n",
       "      <td>North America</td>\n",
       "      <td>[English]</td>\n",
       "      <td>[-0.0077237985, 0.016569635, -0.0042663547, -0...</td>\n",
       "    </tr>\n",
       "    <tr>\n",
       "      <th>3</th>\n",
       "      <td>Nigeria</td>\n",
       "      <td>NG</td>\n",
       "      <td>Abuja</td>\n",
       "      <td>Africa</td>\n",
       "      <td>[English]</td>\n",
       "      <td>[-0.0055540577, 0.0037728157, -0.003473751, -0...</td>\n",
       "    </tr>\n",
       "    <tr>\n",
       "      <th>4</th>\n",
       "      <td>India</td>\n",
       "      <td>IN</td>\n",
       "      <td>New Delhi</td>\n",
       "      <td>Asia</td>\n",
       "      <td>[Hindi, English]</td>\n",
       "      <td>[-0.0031975685, 0.025214365, 0.002862445, 0.00...</td>\n",
       "    </tr>\n",
       "  </tbody>\n",
       "</table>\n",
       "</div>"
      ],
      "text/plain": [
       "            name code           capital      continent         languages  \\\n",
       "0      Argentina   AR      Buenos Aires  South America         [Spanish]   \n",
       "1    South Korea   KR             Seoul           Asia          [Korean]   \n",
       "2  United States   US  Washington, D.C.  North America         [English]   \n",
       "3        Nigeria   NG             Abuja         Africa         [English]   \n",
       "4          India   IN         New Delhi           Asia  [Hindi, English]   \n",
       "\n",
       "                                           __index__  \n",
       "0  [-0.009016353, 0.02336632, 0.007532564, -0.008...  \n",
       "1  [3.8781454e-05, 0.013463534, 0.017664365, -0.0...  \n",
       "2  [-0.0077237985, 0.016569635, -0.0042663547, -0...  \n",
       "3  [-0.0055540577, 0.0037728157, -0.003473751, -0...  \n",
       "4  [-0.0031975685, 0.025214365, 0.002862445, 0.00...  "
      ]
     },
     "execution_count": 42,
     "metadata": {},
     "output_type": "execute_result"
    }
   ],
   "source": [
    "%%sql\n",
    "select * from internal__index__countries__rag_train__llm limit 5"
   ]
  },
  {
   "cell_type": "code",
   "execution_count": 43,
   "id": "8412b7da0370589a",
   "metadata": {
    "ExecuteTime": {
     "end_time": "2025-02-04T14:34:37.316951Z",
     "start_time": "2024-08-21T23:03:56.676322Z"
    }
   },
   "outputs": [
    {
     "data": {
      "text/html": [
       "<div>\n",
       "<style scoped>\n",
       "    .dataframe tbody tr th:only-of-type {\n",
       "        vertical-align: middle;\n",
       "    }\n",
       "\n",
       "    .dataframe tbody tr th {\n",
       "        vertical-align: top;\n",
       "    }\n",
       "\n",
       "    .dataframe thead th {\n",
       "        text-align: right;\n",
       "    }\n",
       "</style>\n",
       "<table border=\"1\" class=\"dataframe\">\n",
       "  <thead>\n",
       "    <tr style=\"text-align: right;\">\n",
       "      <th></th>\n",
       "      <th>count_star()</th>\n",
       "    </tr>\n",
       "  </thead>\n",
       "  <tbody>\n",
       "    <tr>\n",
       "      <th>0</th>\n",
       "      <td>14</td>\n",
       "    </tr>\n",
       "  </tbody>\n",
       "</table>\n",
       "</div>"
      ],
      "text/plain": [
       "   count_star()\n",
       "0            14"
      ]
     },
     "execution_count": 43,
     "metadata": {},
     "output_type": "execute_result"
    }
   ],
   "source": [
    "%%sql\n",
    "select count(*) from internal__index__countries__rag_train__llm"
   ]
  },
  {
   "cell_type": "code",
   "execution_count": 25,
   "id": "9b369a4364d3225a",
   "metadata": {
    "ExecuteTime": {
     "end_time": "2025-02-04T14:34:37.317501Z",
     "start_time": "2024-08-21T22:56:01.413646Z"
    }
   },
   "outputs": [
    {
     "data": {
      "text/html": [
       "<div>\n",
       "<style scoped>\n",
       "    .dataframe tbody tr th:only-of-type {\n",
       "        vertical-align: middle;\n",
       "    }\n",
       "\n",
       "    .dataframe tbody tr th {\n",
       "        vertical-align: top;\n",
       "    }\n",
       "\n",
       "    .dataframe thead th {\n",
       "        text-align: right;\n",
       "    }\n",
       "</style>\n",
       "<table border=\"1\" class=\"dataframe\">\n",
       "  <thead>\n",
       "    <tr style=\"text-align: right;\">\n",
       "      <th></th>\n",
       "      <th>count_star()</th>\n",
       "    </tr>\n",
       "  </thead>\n",
       "  <tbody>\n",
       "    <tr>\n",
       "      <th>0</th>\n",
       "      <td>20</td>\n",
       "    </tr>\n",
       "  </tbody>\n",
       "</table>\n",
       "</div>"
      ],
      "text/plain": [
       "   count_star()\n",
       "0            20"
      ]
     },
     "execution_count": 25,
     "metadata": {},
     "output_type": "execute_result"
    }
   ],
   "source": [
    "%%sql\n",
    "select count(*) from countries"
   ]
  },
  {
   "cell_type": "markdown",
   "id": "60fc1b7bc202a874",
   "metadata": {},
   "source": [
    "## Configuring the training/test split\n",
    "\n",
    "By default, the infer command will split your data in collection into a test and train set. This is useful for evaluation, but if you want to use the entire dataset, or you want to configure the split size, you can use `--training-test-data-split` (`-S`).\n"
   ]
  },
  {
   "cell_type": "code",
   "execution_count": 16,
   "id": "d1e222f9928ce487",
   "metadata": {
    "ExecuteTime": {
     "end_time": "2025-02-04T14:34:37.317686Z",
     "start_time": "2024-08-21T22:53:52.362385Z"
    }
   },
   "outputs": [],
   "source": []
  },
  {
   "cell_type": "code",
   "execution_count": null,
   "id": "d283afe27a797857",
   "metadata": {
    "ExecuteTime": {
     "end_time": "2025-02-04T14:34:37.317769Z",
     "start_time": "2024-08-21T22:53:52.444399Z"
    }
   },
   "outputs": [],
   "source": []
  },
  {
   "cell_type": "code",
   "execution_count": 37,
   "id": "c6b938a6f63fc481",
   "metadata": {
    "ExecuteTime": {
     "end_time": "2025-02-04T14:34:37.317842Z",
     "start_time": "2024-08-21T23:03:31.285675Z"
    }
   },
   "outputs": [
    {
     "name": "stdout",
     "output_type": "stream",
     "text": [
      "predicted_object:\n",
      "  capital: Montevideo\n",
      "  code: UY\n",
      "  continent: South America\n",
      "  languages:\n",
      "  - Spanish\n",
      "\n"
     ]
    }
   ],
   "source": [
    "%%bash\n",
    "linkml-store  -d duckdb:///tmp/countries.ddb -c countries infer -t rag -S 1.0 0.0 -q \"name: Uruguay\" "
   ]
  },
  {
   "cell_type": "markdown",
   "id": "1cea5554183cdd77",
   "metadata": {},
   "source": [
    "## Extraction tasks\n",
    "\n",
    "We can also use this engine for *extraction tasks* - this involves extracting structured data or knowledge from\n",
    "textual or unstructured data.\n",
    "\n",
    "In fact, we don't need any new capabilities here - extraction can just be seen as a special case of inference,\n",
    "where the feature set includes or is restricted to text, and the target set is the whole object.\n",
    "\n",
    "We can demonstrate this with a simple zero-shot example:"
   ]
  },
  {
   "cell_type": "code",
   "execution_count": 53,
   "id": "d0e36617f7d6dab7",
   "metadata": {
    "ExecuteTime": {
     "end_time": "2025-02-04T14:34:37.317925Z",
     "start_time": "2024-08-21T23:32:29.146032Z"
    }
   },
   "outputs": [],
   "source": [
    "%%bash\n",
    "echo '{text: I saw the cat sitting on the mat, subject: cat, predicate: sits-on, object: mat}' > tmp/extraction-examples.yaml"
   ]
  },
  {
   "cell_type": "code",
   "execution_count": 54,
   "id": "22d81129ff484935",
   "metadata": {
    "ExecuteTime": {
     "end_time": "2025-02-04T14:34:37.318002Z",
     "start_time": "2024-08-21T23:32:29.702387Z"
    }
   },
   "outputs": [
    {
     "name": "stdout",
     "output_type": "stream",
     "text": [
      "predicted_object:\n",
      "  object: Sun\n",
      "  predicate: rotates-around\n",
      "  subject: Earth\n",
      "\n"
     ]
    }
   ],
   "source": [
    "%%bash\n",
    "linkml-store -i tmp/extraction-examples.yaml infer -t rag -q \"text: the Earth rotates around the Sun\""
   ]
  },
  {
   "cell_type": "code",
   "execution_count": null,
   "id": "8844aa25ae33472",
   "metadata": {},
   "outputs": [],
   "source": []
  }
 ],
 "metadata": {
  "kernelspec": {
   "display_name": "Python 3 (ipykernel)",
   "language": "python",
   "name": "python3"
  },
  "language_info": {
   "codemirror_mode": {
    "name": "ipython",
    "version": 3
   },
   "file_extension": ".py",
   "mimetype": "text/x-python",
   "name": "python",
   "nbconvert_exporter": "python",
   "pygments_lexer": "ipython3",
   "version": "3.11.9"
  }
 },
 "nbformat": 4,
 "nbformat_minor": 5
}
