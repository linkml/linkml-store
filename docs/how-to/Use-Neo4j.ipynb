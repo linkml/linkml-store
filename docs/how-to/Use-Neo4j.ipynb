{
 "cells": [
  {
   "attachments": {},
   "cell_type": "markdown",
   "id": "a08e38325e49a772",
   "metadata": {
    "collapsed": false,
    "jupyter": {
     "outputs_hidden": false
    }
   },
   "source": [
    "# How to use Neo4J with LinkML-Store\n",
    "\n",
    "This how-to guide shows you how to use linkml-store over a Neo4j database. linkml-store is a flexible framework that can be used with different backends, employing simple mappings via LinkML schemas.\n",
    "\n",
    "One of the main use cases here is being able to provide a schema for validating a property graph database, as well as making it easier to map between a property graph database and other representations (tabular/dataframe, JSON/YAML, RDF, RDFstar, OWL, ...)\n",
    "\n",
    "We will try and use some of the same examples as in [neo4j graph concepts guide](https://neo4j.com/docs/getting-started/appendix/graphdb-concepts/), making a simple Movie-oriented KG:\n",
    "\n",
    "![neo4j graph concepts](../images/graph_simple-arr.svg)\n",
    "\n",
    "## Running this how-to guide interactively.\n",
    "\n",
    "This guide is both documentation, and a Jupyter notebook.\n",
    "\n",
    "You can run the notebook locally. You will need a local neo4j database running, with authentication disabled.\n",
    "\n",
    "One way to do this is via Docker:    \n",
    "\n",
    "```bash\n",
    "docker run\n",
    "  --name myneo4j\n",
    "  --publish 7474:7474\n",
    "  --publish 7687:7687\n",
    "  --volume $HOME/neo4j/data/:/data \n",
    "  --volume $HOME/neo4j/logs/:/logs\n",
    "  -e NEO4J_AUTH=none\n",
    "  neo4j\n",
    "```    \n",
    "\n",
    "__IMPORTANT NOTE__ if you run this Notebook locally, it will overwrite the default `neo4j`. If you have the enterprise edition\n",
    "you can modify this notebook to use a different database."
   ]
  },
  {
   "cell_type": "code",
   "execution_count": 1,
   "id": "e32388454b2109b",
   "metadata": {
    "ExecuteTime": {
     "end_time": "2024-08-01T18:38:26.769453Z",
     "start_time": "2024-08-01T18:38:24.262788Z"
    },
    "collapsed": false,
    "jupyter": {
     "outputs_hidden": false
    }
   },
   "outputs": [],
   "source": [
    "from linkml_store import Client\n",
    "\n",
    "client = Client()"
   ]
  },
  {
   "cell_type": "markdown",
   "id": "5b508417-2d56-43d9-b28a-7992173944ef",
   "metadata": {},
   "source": [
    "Ensure the database is empty, then connect"
   ]
  },
  {
   "cell_type": "code",
   "execution_count": 2,
   "id": "ee3e648ceb6cf9df",
   "metadata": {
    "ExecuteTime": {
     "end_time": "2024-08-01T18:38:26.794559Z",
     "start_time": "2024-08-01T18:38:26.766197Z"
    },
    "collapsed": false,
    "jupyter": {
     "outputs_hidden": false
    }
   },
   "outputs": [],
   "source": [
    "db = client.attach_database(\"neo4j\", \"test\")\n",
    "db.drop()\n",
    "db = client.attach_database(\"neo4j\", \"test\")"
   ]
  },
  {
   "cell_type": "markdown",
   "id": "302323cf-d1df-4424-b1e7-82d96f33dc27",
   "metadata": {},
   "source": [
    "## Using a schema\n",
    "\n",
    "It is not necessary to defined a LinkML schema in advance, but this has a lot of advantages:\n",
    "\n",
    "- validation\n",
    "- clarity for producers and consumers\n",
    "- declarative mappings and graph projections\n",
    "\n",
    "We'll use a predefined one here. You can see the source schemasheet [here](https://docs.google.com/spreadsheets/d/1oMrzA41tg_nisdWInnqKJrcvv30dOXuwAhznJYYPSB8/edit?gid=1499822522#gid=1499822522)"
   ]
  },
  {
   "cell_type": "code",
   "execution_count": 3,
   "id": "26183717c3361167",
   "metadata": {
    "ExecuteTime": {
     "end_time": "2024-08-01T18:38:26.868264Z",
     "start_time": "2024-08-01T18:38:26.852533Z"
    },
    "collapsed": false,
    "jupyter": {
     "outputs_hidden": false
    }
   },
   "outputs": [],
   "source": [
    "db.load_schema_view(\"input/movies_kg/schema.yaml\")"
   ]
  },
  {
   "cell_type": "markdown",
   "id": "9b49cc04-03b9-423d-bd5d-f93a39b6da5c",
   "metadata": {},
   "source": [
    "Next we'll visualization this using PlamtUML"
   ]
  },
  {
   "cell_type": "code",
   "execution_count": 4,
   "id": "611b504d-a98b-4c61-8fa4-0506f471e820",
   "metadata": {},
   "outputs": [
    {
     "name": "stderr",
     "output_type": "stream",
     "text": [
      "WARNING:root:File \"schema.yaml\", line 36, col 15: Unrecognized prefix: rdf\n"
     ]
    }
   ],
   "source": [
    "%%bash\n",
    "gen-plantuml --directory input/movies_kg/diagrams input/movies_kg/schema.yaml"
   ]
  },
  {
   "cell_type": "markdown",
   "id": "ed869e7a-2315-4cd6-8e3b-2fdb37da8076",
   "metadata": {},
   "source": [
    "![UML Schema](input/movies_kg/diagrams/MoviesKG.svg)"
   ]
  },
  {
   "cell_type": "markdown",
   "id": "2a685e92-f048-4ab9-889a-8a0721c626cc",
   "metadata": {},
   "source": [
    "Note that this is in many respects a \"normal\" UML type schema, with classes and class relationships.\n",
    "\n",
    "Here we define to base classes `Node` and `Edge`. We are treating edges as first-class entities in the model.\n",
    "We are following conventions and using `subject` and `object` for the head and tail nodes.\n",
    "\n",
    "You don't *need* to define your schema this way. In fact it's possible to map **any** LinkML schema to a property graph. You don't need\n",
    "classes like \"Node\" and \"Edge\", and you don't need a reification type model.\n",
    "    \n",
    "But having this kind of \"explicit\" model is easiest to make the relationship to Neo4J easier to grok."
   ]
  },
  {
   "cell_type": "markdown",
   "id": "4494f3078870937f",
   "metadata": {
    "collapsed": false,
    "jupyter": {
     "outputs_hidden": false
    }
   },
   "source": [
    "## Create Node and Edge collections\n",
    "\n",
    "We create two collections, one for nodes, and one for edges.\n",
    "\n",
    "Note: you can organize collections how you like - you could have multiple node collections,\n",
    "(e.g. different collections for persons, movies), and multiple edge collections. However, you can't mix\n",
    "nodes and edges in one collection. "
   ]
  },
  {
   "cell_type": "code",
   "execution_count": 5,
   "id": "a2cff4c989cca5f7",
   "metadata": {
    "ExecuteTime": {
     "end_time": "2024-08-01T18:38:30.037388Z",
     "start_time": "2024-08-01T18:38:26.858982Z"
    },
    "collapsed": false,
    "jupyter": {
     "outputs_hidden": false
    }
   },
   "outputs": [],
   "source": [
    "node_collection = db.create_collection(\"Node\", alias=\"nodes\", recreate_if_exists=True)\n",
    "edge_collection = db.create_collection(\"Edge\", alias=\"nodes\", recreate_if_exists=True)"
   ]
  },
  {
   "cell_type": "markdown",
   "id": "a2350cc25dde8bf4",
   "metadata": {
    "collapsed": false,
    "jupyter": {
     "outputs_hidden": false
    }
   },
   "source": [
    "It's necessary to provide some kind of mechanism to indicate which collections are edge collections.\n",
    "This can be inferred from the schema, but here will will make it explicit.\n",
    "\n",
    "We'll use a default edge projections, which assigns special meaning to `subject`, `predicate`, and `object`."
   ]
  },
  {
   "cell_type": "code",
   "execution_count": 6,
   "id": "852921cfdcf94ba0",
   "metadata": {
    "ExecuteTime": {
     "end_time": "2024-08-01T18:38:30.062777Z",
     "start_time": "2024-08-01T18:38:30.030364Z"
    },
    "collapsed": false,
    "jupyter": {
     "outputs_hidden": false
    }
   },
   "outputs": [],
   "source": [
    "from linkml_store.graphs.graph_map import EdgeProjection\n",
    "\n",
    "edge_collection.metadata.graph_projection = EdgeProjection()"
   ]
  },
  {
   "cell_type": "markdown",
   "id": "0fea7946-9da8-4988-bd24-84b3c4f6860a",
   "metadata": {},
   "source": [
    "## Adding Data"
   ]
  },
  {
   "cell_type": "code",
   "execution_count": 7,
   "id": "650c94f35d9c60c6",
   "metadata": {
    "ExecuteTime": {
     "end_time": "2024-08-01T18:38:30.088543Z",
     "start_time": "2024-08-01T18:38:30.032591Z"
    },
    "collapsed": false,
    "jupyter": {
     "outputs_hidden": false
    }
   },
   "outputs": [],
   "source": [
    "# For convenience, we assign constants for each of the identifiers in the database\n",
    "TH = \"ACTOR:TH\"\n",
    "RZ = \"ACTOR:RZ\"\n",
    "FG = \"MOVIE:FG\"\n",
    "BTTF = \"MOVIE:BTTF\"\n",
    "FGC = \"CHARACTER:FGC\""
   ]
  },
  {
   "cell_type": "code",
   "execution_count": 8,
   "id": "2e7ffb73d504d162",
   "metadata": {
    "ExecuteTime": {
     "end_time": "2024-08-01T18:38:30.102569Z",
     "start_time": "2024-08-01T18:38:30.035894Z"
    },
    "collapsed": false,
    "jupyter": {
     "outputs_hidden": false
    }
   },
   "outputs": [],
   "source": [
    "persons = [\n",
    "    { \"id\": TH, \"category\": \"Actor\", \"name\": \"Tom Hanks\"},\n",
    "    { \"id\": RZ, \"category\": \"Director\", \"name\": \"Robert Zemekis\"},\n",
    "]\n",
    "movies = [\n",
    "    { \"id\": FG, \"category\": \"Movie\", \"name\": \"Forest Gump\"},\n",
    "]\n",
    "characters = [\n",
    "    { \"id\": FGC,\"category\": \"Character\", \"name\": \"Forest Gump (Character)\"},\n",
    "]\n"
   ]
  },
  {
   "cell_type": "code",
   "execution_count": 9,
   "id": "4e1026e66cac7bbe",
   "metadata": {
    "ExecuteTime": {
     "end_time": "2024-08-01T18:38:30.129054Z",
     "start_time": "2024-08-01T18:38:30.038797Z"
    },
    "collapsed": false,
    "jupyter": {
     "outputs_hidden": false
    }
   },
   "outputs": [],
   "source": [
    "edges = [\n",
    "    {\"subject\": RZ, \"predicate\": \"Directed\", \"object\": FG},\n",
    "    {\"subject\": TH, \"predicate\": \"ActedIn\", \"object\": FG, \"plays\": FGC},\n",
    "]"
   ]
  },
  {
   "cell_type": "code",
   "execution_count": 10,
   "id": "ddf29869-f9a7-4549-854e-6345777cd807",
   "metadata": {},
   "outputs": [],
   "source": [
    "# Modify this to experiment with different ways of adding\n",
    "ADD_INDIVIDUALLY = True"
   ]
  },
  {
   "cell_type": "code",
   "execution_count": 11,
   "id": "cf09419f1fc93624",
   "metadata": {
    "ExecuteTime": {
     "end_time": "2024-08-01T18:38:31.299465Z",
     "start_time": "2024-08-01T18:38:30.042580Z"
    },
    "collapsed": false,
    "jupyter": {
     "outputs_hidden": false
    }
   },
   "outputs": [],
   "source": [
    "if ADD_INDIVIDUALLY:\n",
    "    node_collection.insert(persons)\n",
    "    node_collection.insert(movies)\n",
    "    node_collection.insert(characters)\n",
    "    edge_collection.insert(edges)\n",
    "else:\n",
    "    g = {\n",
    "        \"nodes\": persons + movies + characters,\n",
    "        \"edges\": edges\n",
    "    }\n",
    "    db.insert(g)"
   ]
  },
  {
   "cell_type": "markdown",
   "id": "8067aaaf-8285-45fa-a8e7-5ec3e9a6a0e4",
   "metadata": {},
   "source": [
    "## Visualization\n",
    "\n",
    "We will visualize the whole database using py2neo, networkx, and matplotlib.\n",
    "This is not as visually attractive as the native neo4j UI but it works better in a notebook:"
   ]
  },
  {
   "cell_type": "code",
   "execution_count": 12,
   "id": "2200cf996924ed23",
   "metadata": {
    "collapsed": false,
    "jupyter": {
     "outputs_hidden": false
    }
   },
   "outputs": [
    {
     "data": {
      "image/png": "[encoded data removed]",
      "text/plain": [
       "<Figure size 1500x1000 with 1 Axes>"
      ]
     },
     "metadata": {},
     "output_type": "display_data"
    }
   ],
   "source": [
    "import matplotlib.pyplot as plt\n",
    "from linkml_store.utils.neo4j_utils import draw_neo4j_graph\n",
    "\n",
    "plt.figure(figsize=(15, 10))\n",
    "draw_neo4j_graph()\n",
    "plt.title(\"Visualization of simple subset\", fontsize=16)\n",
    "plt.axis('off')\n",
    "plt.tight_layout()\n",
    "plt.show()"
   ]
  },
  {
   "cell_type": "markdown",
   "id": "1a778ad2-b827-47c7-a27a-f7363c23e445",
   "metadata": {},
   "source": [
    "Note this doesn't display edge properties (e.g. the \"plays\" edge property between Tom Hanks and Forrest Gump"
   ]
  },
  {
   "cell_type": "markdown",
   "id": "6ffd2ae8-451f-40ac-a16d-3b692d33f757",
   "metadata": {},
   "source": [
    "### Exploring in Neo4j\n",
    "\n",
    "If we go on over to http://localhost:7474/browser/ (if you are running this locally) you can see this in the normal UI:\n",
    "\n",
    "![neo4j screenshot of single edge](../images/neo4j-screenshot-1.png)"
   ]
  },
  {
   "cell_type": "markdown",
   "id": "772cab28-0d76-4e93-9799-47bd99c8d296",
   "metadata": {},
   "source": [
    "## Validation\n",
    "\n",
    "One of the main use cases for LinkML and LinkML-Store is validation using a schema. Most of the rich features of LinkML validation\n",
    "are available for property graphs, we will illustrate some simple ones here.\n",
    "\n",
    "### Validating an existing database\n",
    "\n",
    "First we'll validate the database. Note that by default, validation is retrospective; it's possible to insert invalid data into the database."
   ]
  },
  {
   "cell_type": "code",
   "execution_count": 13,
   "id": "49cafa21-4659-46e7-960e-722106230c21",
   "metadata": {},
   "outputs": [
    {
     "data": {
      "text/plain": [
       "[]"
      ]
     },
     "execution_count": 13,
     "metadata": {},
     "output_type": "execute_result"
    }
   ],
   "source": [
    "errs = list(db.iter_validate_database())\n",
    "errs"
   ]
  },
  {
   "cell_type": "markdown",
   "id": "e33b0fd0-81ed-449d-913e-f3d0cb85ff1f",
   "metadata": {},
   "source": [
    "Good, no errors!\n",
    "\n",
    "### Prospective Validation\n",
    "\n",
    "We can switch on prospective validation, to prevent any future modifications making the data invalid:"
   ]
  },
  {
   "cell_type": "code",
   "execution_count": 14,
   "id": "8ec48ca0-537f-4052-b56c-5d64c1dccb80",
   "metadata": {},
   "outputs": [],
   "source": [
    "edge_collection.metadata.validate_modifications = True\n"
   ]
  },
  {
   "cell_type": "markdown",
   "id": "2c06f325-38dc-4cd7-a017-1b6e6965fff6",
   "metadata": {},
   "source": [
    "Let's test this out by inserting deliberately invalid data -- making up an edge property not defined\n",
    "in the schema"
   ]
  },
  {
   "cell_type": "code",
   "execution_count": 15,
   "id": "0cd26973-3fee-446a-856a-86160fca3191",
   "metadata": {},
   "outputs": [
    {
     "name": "stdout",
     "output_type": "stream",
     "text": [
      "Got an exception (we expect this!!!)\n",
      "Validation errors: [ValidationResult(type='jsonschema validation', severity=<Severity.ERROR: 'ERROR'>, message=\"Additional properties are not allowed ('date' was unexpected) in /\", instance={'subject': 'ACTOR:RZ', 'predicate': 'Directed', 'object': 'MOVIE:BTTF', 'date': 1985}, instance_index=0, instantiates='Directed', context=[])]\n"
     ]
    }
   ],
   "source": [
    "try:\n",
    "    edge_collection.insert({ \"subject\": RZ, \"predicate\": \"Directed\", \"object\": BTTF, \"date\": 1985})\n",
    "except Exception as e:\n",
    "    print(\"Got an exception (we expect this!!!)\")\n",
    "    print(e)"
   ]
  },
  {
   "cell_type": "markdown",
   "id": "7941adae-dddc-4fec-a009-b472f43e37af",
   "metadata": {},
   "source": [
    "We can also test referential integrity. By default, inserting an edge that points to a non-existent node will\n",
    "create a dangling node in Neo4j (Neo4j enforces that there must be some kind of node).\n",
    "\n",
    "We will change the policy and try and insert a dangling edge"
   ]
  },
  {
   "cell_type": "code",
   "execution_count": 16,
   "id": "b4f305bb-77d6-4b85-b52f-c8dbe2470b17",
   "metadata": {},
   "outputs": [
    {
     "name": "stdout",
     "output_type": "stream",
     "text": [
      "Got an exception (we expect this!!!)\n",
      "Node with identifier MOVIE:MADE_UP_NODE not found in the database.\n"
     ]
    }
   ],
   "source": [
    "from linkml_store.api.stores.neo4j.neo4j_collection import DeletePolicy\n",
    "\n",
    "edge_collection.delete_policy = DeletePolicy.ERROR\n",
    "\n",
    "try:\n",
    "    edge_collection.insert({ \"subject\": RZ, \"predicate\": \"Directed\", \"object\": \"MOVIE:MADE_UP_NODE\"})\n",
    "except Exception as e:\n",
    "    print(\"Got an exception (we expect this!!!)\")\n",
    "    print(e)"
   ]
  },
  {
   "cell_type": "markdown",
   "id": "a7a42fc3-5be5-4f0b-876e-4fd2d862bef7",
   "metadata": {},
   "source": [
    "## Loading Data from a file\n",
    "\n",
    "Loading data into a graph is very much like loading any other data into a LinkML schema. So long as you conform\n",
    "to the schema we defined above (which has defined graph projections), then it can be loaded into Neo4J.\n",
    "\n",
    "Data could be combined in a single JSON file, but it's also convenient to use tabular or dataframe-oriented formats.\n",
    "\n",
    "Here we will load from CSV"
   ]
  },
  {
   "cell_type": "code",
   "execution_count": 17,
   "id": "20f5252b-fd29-4a98-96bd-4bf276830471",
   "metadata": {},
   "outputs": [],
   "source": [
    "import pandas as pd\n"
   ]
  },
  {
   "cell_type": "code",
   "execution_count": 18,
   "id": "00ea1136-bf9f-4230-8ae4-8b2f79ee26cb",
   "metadata": {},
   "outputs": [
    {
     "data": {
      "text/html": [
       "<div>\n",
       "<style scoped>\n",
       "    .dataframe tbody tr th:only-of-type {\n",
       "        vertical-align: middle;\n",
       "    }\n",
       "\n",
       "    .dataframe tbody tr th {\n",
       "        vertical-align: top;\n",
       "    }\n",
       "\n",
       "    .dataframe thead th {\n",
       "        text-align: right;\n",
       "    }\n",
       "</style>\n",
       "<table border=\"1\" class=\"dataframe\">\n",
       "  <thead>\n",
       "    <tr style=\"text-align: right;\">\n",
       "      <th></th>\n",
       "      <th>id</th>\n",
       "      <th>category</th>\n",
       "      <th>name</th>\n",
       "      <th>born</th>\n",
       "      <th>released</th>\n",
       "    </tr>\n",
       "  </thead>\n",
       "  <tbody>\n",
       "    <tr>\n",
       "      <th>0</th>\n",
       "      <td>PERSON:TH</td>\n",
       "      <td>Actor</td>\n",
       "      <td>Tom Hanks</td>\n",
       "      <td>1956</td>\n",
       "      <td>&lt;NA&gt;</td>\n",
       "    </tr>\n",
       "    <tr>\n",
       "      <th>1</th>\n",
       "      <td>PERSON:RZ</td>\n",
       "      <td>Director</td>\n",
       "      <td>Robert Zemeckis</td>\n",
       "      <td>1951</td>\n",
       "      <td>&lt;NA&gt;</td>\n",
       "    </tr>\n",
       "    <tr>\n",
       "      <th>2</th>\n",
       "      <td>PERSON:HW</td>\n",
       "      <td>Actor</td>\n",
       "      <td>Hugo Weaving</td>\n",
       "      <td>1960</td>\n",
       "      <td>&lt;NA&gt;</td>\n",
       "    </tr>\n",
       "    <tr>\n",
       "      <th>3</th>\n",
       "      <td>PERSON:KR</td>\n",
       "      <td>Actor</td>\n",
       "      <td>Keanu Reeves</td>\n",
       "      <td>1964</td>\n",
       "      <td>&lt;NA&gt;</td>\n",
       "    </tr>\n",
       "    <tr>\n",
       "      <th>4</th>\n",
       "      <td>PERSON:MJF</td>\n",
       "      <td>Actor</td>\n",
       "      <td>Michael J. Fox</td>\n",
       "      <td>1961</td>\n",
       "      <td>&lt;NA&gt;</td>\n",
       "    </tr>\n",
       "    <tr>\n",
       "      <th>5</th>\n",
       "      <td>MOVIE:FG</td>\n",
       "      <td>Movie</td>\n",
       "      <td>Forrest Gump</td>\n",
       "      <td>&lt;NA&gt;</td>\n",
       "      <td>1994</td>\n",
       "    </tr>\n",
       "    <tr>\n",
       "      <th>6</th>\n",
       "      <td>MOVIE:TM</td>\n",
       "      <td>Movie</td>\n",
       "      <td>The Matrix</td>\n",
       "      <td>&lt;NA&gt;</td>\n",
       "      <td>1999</td>\n",
       "    </tr>\n",
       "    <tr>\n",
       "      <th>7</th>\n",
       "      <td>MOVIE:TM2</td>\n",
       "      <td>Movie</td>\n",
       "      <td>The Matrix Reloaded</td>\n",
       "      <td>&lt;NA&gt;</td>\n",
       "      <td>2003</td>\n",
       "    </tr>\n",
       "    <tr>\n",
       "      <th>8</th>\n",
       "      <td>MOVIE:TM3</td>\n",
       "      <td>Movie</td>\n",
       "      <td>The Matrix Revolutions</td>\n",
       "      <td>&lt;NA&gt;</td>\n",
       "      <td>2003</td>\n",
       "    </tr>\n",
       "    <tr>\n",
       "      <th>9</th>\n",
       "      <td>MOVIE:BTTF</td>\n",
       "      <td>Movie</td>\n",
       "      <td>Back to the Future</td>\n",
       "      <td>&lt;NA&gt;</td>\n",
       "      <td>1985</td>\n",
       "    </tr>\n",
       "  </tbody>\n",
       "</table>\n",
       "</div>"
      ],
      "text/plain": [
       "           id  category                    name  born  released\n",
       "0   PERSON:TH     Actor               Tom Hanks  1956      <NA>\n",
       "1   PERSON:RZ  Director         Robert Zemeckis  1951      <NA>\n",
       "2   PERSON:HW     Actor            Hugo Weaving  1960      <NA>\n",
       "3   PERSON:KR     Actor            Keanu Reeves  1964      <NA>\n",
       "4  PERSON:MJF     Actor          Michael J. Fox  1961      <NA>\n",
       "5    MOVIE:FG     Movie            Forrest Gump  <NA>      1994\n",
       "6    MOVIE:TM     Movie              The Matrix  <NA>      1999\n",
       "7   MOVIE:TM2     Movie     The Matrix Reloaded  <NA>      2003\n",
       "8   MOVIE:TM3     Movie  The Matrix Revolutions  <NA>      2003\n",
       "9  MOVIE:BTTF     Movie      Back to the Future  <NA>      1985"
      ]
     },
     "execution_count": 18,
     "metadata": {},
     "output_type": "execute_result"
    }
   ],
   "source": [
    "nodes_df = pd.read_csv(\"input/movies_kg/nodes.csv\").convert_dtypes()\n",
    "nodes_df"
   ]
  },
  {
   "cell_type": "code",
   "execution_count": 19,
   "id": "f10f3fa6-4592-43be-8b77-ab2e88c65e0e",
   "metadata": {},
   "outputs": [
    {
     "data": {
      "text/html": [
       "<div>\n",
       "<style scoped>\n",
       "    .dataframe tbody tr th:only-of-type {\n",
       "        vertical-align: middle;\n",
       "    }\n",
       "\n",
       "    .dataframe tbody tr th {\n",
       "        vertical-align: top;\n",
       "    }\n",
       "\n",
       "    .dataframe thead th {\n",
       "        text-align: right;\n",
       "    }\n",
       "</style>\n",
       "<table border=\"1\" class=\"dataframe\">\n",
       "  <thead>\n",
       "    <tr style=\"text-align: right;\">\n",
       "      <th></th>\n",
       "      <th>subject</th>\n",
       "      <th>predicate</th>\n",
       "      <th>object</th>\n",
       "      <th>plays</th>\n",
       "    </tr>\n",
       "  </thead>\n",
       "  <tbody>\n",
       "    <tr>\n",
       "      <th>0</th>\n",
       "      <td>PERSON:TH</td>\n",
       "      <td>ActedIn</td>\n",
       "      <td>MOVIE:FG</td>\n",
       "      <td>CHARACTER:Forrest</td>\n",
       "    </tr>\n",
       "    <tr>\n",
       "      <th>1</th>\n",
       "      <td>PERSON:RZ</td>\n",
       "      <td>Directed</td>\n",
       "      <td>MOVIE:FG</td>\n",
       "      <td>&lt;NA&gt;</td>\n",
       "    </tr>\n",
       "    <tr>\n",
       "      <th>2</th>\n",
       "      <td>PERSON:RZ</td>\n",
       "      <td>Directed</td>\n",
       "      <td>MOVIE:BTTF</td>\n",
       "      <td>&lt;NA&gt;</td>\n",
       "    </tr>\n",
       "    <tr>\n",
       "      <th>3</th>\n",
       "      <td>PERSON:KR</td>\n",
       "      <td>ActedIn</td>\n",
       "      <td>MOVIE:TM</td>\n",
       "      <td>CHARACTER:Neo</td>\n",
       "    </tr>\n",
       "    <tr>\n",
       "      <th>4</th>\n",
       "      <td>PERSON:MJF</td>\n",
       "      <td>ActedIn</td>\n",
       "      <td>MOVIE:BTTF</td>\n",
       "      <td>CHARACTER:MartyMcFly</td>\n",
       "    </tr>\n",
       "    <tr>\n",
       "      <th>5</th>\n",
       "      <td>PERSON:HW</td>\n",
       "      <td>ActedIn</td>\n",
       "      <td>MOVIE:TM</td>\n",
       "      <td>CHARACTER:AgentSmith</td>\n",
       "    </tr>\n",
       "  </tbody>\n",
       "</table>\n",
       "</div>"
      ],
      "text/plain": [
       "      subject predicate      object                 plays\n",
       "0   PERSON:TH   ActedIn    MOVIE:FG     CHARACTER:Forrest\n",
       "1   PERSON:RZ  Directed    MOVIE:FG                  <NA>\n",
       "2   PERSON:RZ  Directed  MOVIE:BTTF                  <NA>\n",
       "3   PERSON:KR   ActedIn    MOVIE:TM         CHARACTER:Neo\n",
       "4  PERSON:MJF   ActedIn  MOVIE:BTTF  CHARACTER:MartyMcFly\n",
       "5   PERSON:HW   ActedIn    MOVIE:TM  CHARACTER:AgentSmith"
      ]
     },
     "execution_count": 19,
     "metadata": {},
     "output_type": "execute_result"
    }
   ],
   "source": [
    "edges_df = pd.read_csv(\"input/movies_kg/edges.csv\").convert_dtypes()\n",
    "edges_df"
   ]
  },
  {
   "cell_type": "code",
   "execution_count": 20,
   "id": "7dc5d74d-7418-4463-b6c1-87cddaa95bc3",
   "metadata": {},
   "outputs": [],
   "source": [
    "node_collection.insert(nodes_df.to_dict(orient=\"records\"))"
   ]
  },
  {
   "cell_type": "code",
   "execution_count": 21,
   "id": "7fc18281-f930-4c93-aed6-b34cefec9d85",
   "metadata": {},
   "outputs": [],
   "source": [
    "# TODO: use type designator in validation \n",
    "edge_collection.metadata.validate_modifications = True"
   ]
  },
  {
   "cell_type": "code",
   "execution_count": 22,
   "id": "53bb3854-c581-4d2f-94b3-d4629e5bb4aa",
   "metadata": {},
   "outputs": [],
   "source": [
    "edge_collection.insert(edges_df.to_dict(orient=\"records\"))"
   ]
  },
  {
   "cell_type": "code",
   "execution_count": 23,
   "id": "cf4eca42-07bf-4f6a-bd59-0945f278a0fb",
   "metadata": {},
   "outputs": [
    {
     "data": {
      "image/png": "[encoded data removed]",
      "text/plain": [
       "<Figure size 1500x1000 with 1 Axes>"
      ]
     },
     "metadata": {},
     "output_type": "display_data"
    }
   ],
   "source": [
    "plt.figure(figsize=(15, 10))\n",
    "draw_neo4j_graph()\n",
    "plt.title(\"Visualization of whole database\", fontsize=16)\n",
    "plt.axis('off')\n",
    "plt.tight_layout()\n",
    "plt.show()"
   ]
  },
  {
   "cell_type": "markdown",
   "id": "973e1da4-242a-4de0-9752-f5f3fb36522a",
   "metadata": {},
   "source": [
    "The above display is a little cluttered.\n",
    "\n",
    "If you are running this notebook locally you can head over to your neo4j and explore via interactive views like this:\n",
    "\n",
    "![neo4j screenshot of more edges](../images/neo4j-screenshot-2.png)"
   ]
  },
  {
   "cell_type": "markdown",
   "id": "3be5ce56-2d9b-470f-a708-df929bbba9f2",
   "metadata": {},
   "source": [
    "## Queries\n",
    "\n",
    "The graph can be queried the same as any other database in linkml-store. Note that at this time we don't expose a graph-oriented API,\n",
    "we instead expose everything as node or edge collections. This has some advantages and disadvantages. The goal is not to replace something\n",
    "like Cypher (you can and should of course just do Cypher queries over the underlying neoj4 database if and when you need to).\n",
    "\n",
    "Let's start by querying for the entire contents of both collections:"
   ]
  },
  {
   "cell_type": "code",
   "execution_count": 24,
   "id": "c1eb5f66-2b3a-4670-8a58-8a6a6b097364",
   "metadata": {},
   "outputs": [
    {
     "data": {
      "text/html": [
       "<div>\n",
       "<style scoped>\n",
       "    .dataframe tbody tr th:only-of-type {\n",
       "        vertical-align: middle;\n",
       "    }\n",
       "\n",
       "    .dataframe tbody tr th {\n",
       "        vertical-align: top;\n",
       "    }\n",
       "\n",
       "    .dataframe thead th {\n",
       "        text-align: right;\n",
       "    }\n",
       "</style>\n",
       "<table border=\"1\" class=\"dataframe\">\n",
       "  <thead>\n",
       "    <tr style=\"text-align: right;\">\n",
       "      <th></th>\n",
       "      <th>name</th>\n",
       "      <th>id</th>\n",
       "      <th>category</th>\n",
       "      <th>born</th>\n",
       "      <th>released</th>\n",
       "    </tr>\n",
       "  </thead>\n",
       "  <tbody>\n",
       "    <tr>\n",
       "      <th>0</th>\n",
       "      <td>Forest Gump</td>\n",
       "      <td>MOVIE:FG</td>\n",
       "      <td>Movie</td>\n",
       "      <td>NaN</td>\n",
       "      <td>NaN</td>\n",
       "    </tr>\n",
       "    <tr>\n",
       "      <th>1</th>\n",
       "      <td>Forest Gump (Character)</td>\n",
       "      <td>CHARACTER:FGC</td>\n",
       "      <td>Character</td>\n",
       "      <td>NaN</td>\n",
       "      <td>NaN</td>\n",
       "    </tr>\n",
       "    <tr>\n",
       "      <th>2</th>\n",
       "      <td>Tom Hanks</td>\n",
       "      <td>PERSON:TH</td>\n",
       "      <td>Actor</td>\n",
       "      <td>1956.0</td>\n",
       "      <td>NaN</td>\n",
       "    </tr>\n",
       "    <tr>\n",
       "      <th>3</th>\n",
       "      <td>Robert Zemeckis</td>\n",
       "      <td>PERSON:RZ</td>\n",
       "      <td>Director</td>\n",
       "      <td>1951.0</td>\n",
       "      <td>NaN</td>\n",
       "    </tr>\n",
       "    <tr>\n",
       "      <th>4</th>\n",
       "      <td>Hugo Weaving</td>\n",
       "      <td>PERSON:HW</td>\n",
       "      <td>Actor</td>\n",
       "      <td>1960.0</td>\n",
       "      <td>NaN</td>\n",
       "    </tr>\n",
       "    <tr>\n",
       "      <th>5</th>\n",
       "      <td>Keanu Reeves</td>\n",
       "      <td>PERSON:KR</td>\n",
       "      <td>Actor</td>\n",
       "      <td>1964.0</td>\n",
       "      <td>NaN</td>\n",
       "    </tr>\n",
       "    <tr>\n",
       "      <th>6</th>\n",
       "      <td>Michael J. Fox</td>\n",
       "      <td>PERSON:MJF</td>\n",
       "      <td>Actor</td>\n",
       "      <td>1961.0</td>\n",
       "      <td>NaN</td>\n",
       "    </tr>\n",
       "    <tr>\n",
       "      <th>7</th>\n",
       "      <td>Forrest Gump</td>\n",
       "      <td>MOVIE:FG</td>\n",
       "      <td>Movie</td>\n",
       "      <td>NaN</td>\n",
       "      <td>1994.0</td>\n",
       "    </tr>\n",
       "    <tr>\n",
       "      <th>8</th>\n",
       "      <td>Back to the Future</td>\n",
       "      <td>MOVIE:BTTF</td>\n",
       "      <td>Movie</td>\n",
       "      <td>NaN</td>\n",
       "      <td>1985.0</td>\n",
       "    </tr>\n",
       "    <tr>\n",
       "      <th>9</th>\n",
       "      <td>Tom Hanks</td>\n",
       "      <td>ACTOR:TH</td>\n",
       "      <td>Actor</td>\n",
       "      <td>NaN</td>\n",
       "      <td>NaN</td>\n",
       "    </tr>\n",
       "    <tr>\n",
       "      <th>10</th>\n",
       "      <td>The Matrix</td>\n",
       "      <td>MOVIE:TM</td>\n",
       "      <td>Movie</td>\n",
       "      <td>NaN</td>\n",
       "      <td>1999.0</td>\n",
       "    </tr>\n",
       "    <tr>\n",
       "      <th>11</th>\n",
       "      <td>Robert Zemekis</td>\n",
       "      <td>ACTOR:RZ</td>\n",
       "      <td>Director</td>\n",
       "      <td>NaN</td>\n",
       "      <td>NaN</td>\n",
       "    </tr>\n",
       "    <tr>\n",
       "      <th>12</th>\n",
       "      <td>The Matrix Reloaded</td>\n",
       "      <td>MOVIE:TM2</td>\n",
       "      <td>Movie</td>\n",
       "      <td>NaN</td>\n",
       "      <td>2003.0</td>\n",
       "    </tr>\n",
       "    <tr>\n",
       "      <th>13</th>\n",
       "      <td>The Matrix Revolutions</td>\n",
       "      <td>MOVIE:TM3</td>\n",
       "      <td>Movie</td>\n",
       "      <td>NaN</td>\n",
       "      <td>2003.0</td>\n",
       "    </tr>\n",
       "  </tbody>\n",
       "</table>\n",
       "</div>"
      ],
      "text/plain": [
       "                       name             id   category    born  released\n",
       "0               Forest Gump       MOVIE:FG      Movie     NaN       NaN\n",
       "1   Forest Gump (Character)  CHARACTER:FGC  Character     NaN       NaN\n",
       "2                 Tom Hanks      PERSON:TH      Actor  1956.0       NaN\n",
       "3           Robert Zemeckis      PERSON:RZ   Director  1951.0       NaN\n",
       "4              Hugo Weaving      PERSON:HW      Actor  1960.0       NaN\n",
       "5              Keanu Reeves      PERSON:KR      Actor  1964.0       NaN\n",
       "6            Michael J. Fox     PERSON:MJF      Actor  1961.0       NaN\n",
       "7              Forrest Gump       MOVIE:FG      Movie     NaN    1994.0\n",
       "8        Back to the Future     MOVIE:BTTF      Movie     NaN    1985.0\n",
       "9                 Tom Hanks       ACTOR:TH      Actor     NaN       NaN\n",
       "10               The Matrix       MOVIE:TM      Movie     NaN    1999.0\n",
       "11           Robert Zemekis       ACTOR:RZ   Director     NaN       NaN\n",
       "12      The Matrix Reloaded      MOVIE:TM2      Movie     NaN    2003.0\n",
       "13   The Matrix Revolutions      MOVIE:TM3      Movie     NaN    2003.0"
      ]
     },
     "execution_count": 24,
     "metadata": {},
     "output_type": "execute_result"
    }
   ],
   "source": [
    "node_collection.find().rows_dataframe"
   ]
  },
  {
   "cell_type": "code",
   "execution_count": 25,
   "id": "eece59f6-b415-4c04-8234-251685e7f737",
   "metadata": {},
   "outputs": [
    {
     "data": {
      "text/html": [
       "<div>\n",
       "<style scoped>\n",
       "    .dataframe tbody tr th:only-of-type {\n",
       "        vertical-align: middle;\n",
       "    }\n",
       "\n",
       "    .dataframe tbody tr th {\n",
       "        vertical-align: top;\n",
       "    }\n",
       "\n",
       "    .dataframe thead th {\n",
       "        text-align: right;\n",
       "    }\n",
       "</style>\n",
       "<table border=\"1\" class=\"dataframe\">\n",
       "  <thead>\n",
       "    <tr style=\"text-align: right;\">\n",
       "      <th></th>\n",
       "      <th>subject</th>\n",
       "      <th>predicate</th>\n",
       "      <th>object</th>\n",
       "      <th>plays</th>\n",
       "    </tr>\n",
       "  </thead>\n",
       "  <tbody>\n",
       "    <tr>\n",
       "      <th>0</th>\n",
       "      <td>ACTOR:RZ</td>\n",
       "      <td>Directed</td>\n",
       "      <td>MOVIE:FG</td>\n",
       "      <td>NaN</td>\n",
       "    </tr>\n",
       "    <tr>\n",
       "      <th>1</th>\n",
       "      <td>ACTOR:TH</td>\n",
       "      <td>ActedIn</td>\n",
       "      <td>MOVIE:FG</td>\n",
       "      <td>CHARACTER:FGC</td>\n",
       "    </tr>\n",
       "    <tr>\n",
       "      <th>2</th>\n",
       "      <td>PERSON:TH</td>\n",
       "      <td>ActedIn</td>\n",
       "      <td>MOVIE:FG</td>\n",
       "      <td>CHARACTER:Forrest</td>\n",
       "    </tr>\n",
       "    <tr>\n",
       "      <th>3</th>\n",
       "      <td>PERSON:TH</td>\n",
       "      <td>ActedIn</td>\n",
       "      <td>MOVIE:FG</td>\n",
       "      <td>CHARACTER:Forrest</td>\n",
       "    </tr>\n",
       "    <tr>\n",
       "      <th>4</th>\n",
       "      <td>PERSON:RZ</td>\n",
       "      <td>Directed</td>\n",
       "      <td>MOVIE:FG</td>\n",
       "      <td>NaN</td>\n",
       "    </tr>\n",
       "    <tr>\n",
       "      <th>5</th>\n",
       "      <td>PERSON:RZ</td>\n",
       "      <td>Directed</td>\n",
       "      <td>MOVIE:FG</td>\n",
       "      <td>NaN</td>\n",
       "    </tr>\n",
       "    <tr>\n",
       "      <th>6</th>\n",
       "      <td>PERSON:RZ</td>\n",
       "      <td>Directed</td>\n",
       "      <td>MOVIE:BTTF</td>\n",
       "      <td>NaN</td>\n",
       "    </tr>\n",
       "    <tr>\n",
       "      <th>7</th>\n",
       "      <td>PERSON:KR</td>\n",
       "      <td>ActedIn</td>\n",
       "      <td>MOVIE:TM</td>\n",
       "      <td>CHARACTER:Neo</td>\n",
       "    </tr>\n",
       "    <tr>\n",
       "      <th>8</th>\n",
       "      <td>PERSON:MJF</td>\n",
       "      <td>ActedIn</td>\n",
       "      <td>MOVIE:BTTF</td>\n",
       "      <td>CHARACTER:MartyMcFly</td>\n",
       "    </tr>\n",
       "    <tr>\n",
       "      <th>9</th>\n",
       "      <td>PERSON:HW</td>\n",
       "      <td>ActedIn</td>\n",
       "      <td>MOVIE:TM</td>\n",
       "      <td>CHARACTER:AgentSmith</td>\n",
       "    </tr>\n",
       "  </tbody>\n",
       "</table>\n",
       "</div>"
      ],
      "text/plain": [
       "      subject predicate      object                 plays\n",
       "0    ACTOR:RZ  Directed    MOVIE:FG                   NaN\n",
       "1    ACTOR:TH   ActedIn    MOVIE:FG         CHARACTER:FGC\n",
       "2   PERSON:TH   ActedIn    MOVIE:FG     CHARACTER:Forrest\n",
       "3   PERSON:TH   ActedIn    MOVIE:FG     CHARACTER:Forrest\n",
       "4   PERSON:RZ  Directed    MOVIE:FG                   NaN\n",
       "5   PERSON:RZ  Directed    MOVIE:FG                   NaN\n",
       "6   PERSON:RZ  Directed  MOVIE:BTTF                   NaN\n",
       "7   PERSON:KR   ActedIn    MOVIE:TM         CHARACTER:Neo\n",
       "8  PERSON:MJF   ActedIn  MOVIE:BTTF  CHARACTER:MartyMcFly\n",
       "9   PERSON:HW   ActedIn    MOVIE:TM  CHARACTER:AgentSmith"
      ]
     },
     "execution_count": 25,
     "metadata": {},
     "output_type": "execute_result"
    }
   ],
   "source": [
    "edge_collection.find().rows_dataframe"
   ]
  },
  {
   "cell_type": "markdown",
   "id": "08de72d0-149a-4252-992e-7ae4a3bc35fc",
   "metadata": {},
   "source": [
    "We can also use standard key-value mongodb-like queries; over nodes:"
   ]
  },
  {
   "cell_type": "code",
   "execution_count": 26,
   "id": "9784409a-5629-495e-bb94-b799b01abf62",
   "metadata": {},
   "outputs": [
    {
     "data": {
      "text/html": [
       "<div>\n",
       "<style scoped>\n",
       "    .dataframe tbody tr th:only-of-type {\n",
       "        vertical-align: middle;\n",
       "    }\n",
       "\n",
       "    .dataframe tbody tr th {\n",
       "        vertical-align: top;\n",
       "    }\n",
       "\n",
       "    .dataframe thead th {\n",
       "        text-align: right;\n",
       "    }\n",
       "</style>\n",
       "<table border=\"1\" class=\"dataframe\">\n",
       "  <thead>\n",
       "    <tr style=\"text-align: right;\">\n",
       "      <th></th>\n",
       "      <th>born</th>\n",
       "      <th>name</th>\n",
       "      <th>id</th>\n",
       "      <th>category</th>\n",
       "    </tr>\n",
       "  </thead>\n",
       "  <tbody>\n",
       "    <tr>\n",
       "      <th>0</th>\n",
       "      <td>1956.0</td>\n",
       "      <td>Tom Hanks</td>\n",
       "      <td>PERSON:TH</td>\n",
       "      <td>Actor</td>\n",
       "    </tr>\n",
       "    <tr>\n",
       "      <th>1</th>\n",
       "      <td>1960.0</td>\n",
       "      <td>Hugo Weaving</td>\n",
       "      <td>PERSON:HW</td>\n",
       "      <td>Actor</td>\n",
       "    </tr>\n",
       "    <tr>\n",
       "      <th>2</th>\n",
       "      <td>1964.0</td>\n",
       "      <td>Keanu Reeves</td>\n",
       "      <td>PERSON:KR</td>\n",
       "      <td>Actor</td>\n",
       "    </tr>\n",
       "    <tr>\n",
       "      <th>3</th>\n",
       "      <td>1961.0</td>\n",
       "      <td>Michael J. Fox</td>\n",
       "      <td>PERSON:MJF</td>\n",
       "      <td>Actor</td>\n",
       "    </tr>\n",
       "    <tr>\n",
       "      <th>4</th>\n",
       "      <td>NaN</td>\n",
       "      <td>Tom Hanks</td>\n",
       "      <td>ACTOR:TH</td>\n",
       "      <td>Actor</td>\n",
       "    </tr>\n",
       "  </tbody>\n",
       "</table>\n",
       "</div>"
      ],
      "text/plain": [
       "     born            name          id category\n",
       "0  1956.0       Tom Hanks   PERSON:TH    Actor\n",
       "1  1960.0    Hugo Weaving   PERSON:HW    Actor\n",
       "2  1964.0    Keanu Reeves   PERSON:KR    Actor\n",
       "3  1961.0  Michael J. Fox  PERSON:MJF    Actor\n",
       "4     NaN       Tom Hanks    ACTOR:TH    Actor"
      ]
     },
     "execution_count": 26,
     "metadata": {},
     "output_type": "execute_result"
    }
   ],
   "source": [
    "node_collection.find({\"category\": \"Actor\"}).rows_dataframe"
   ]
  },
  {
   "cell_type": "markdown",
   "id": "0e9c0dc0-92a4-49d1-9d94-d969fe48e7ec",
   "metadata": {},
   "source": [
    "over edges:"
   ]
  },
  {
   "cell_type": "code",
   "execution_count": 27,
   "id": "c6bfb063-fbb7-478a-8741-1d2fc000b781",
   "metadata": {},
   "outputs": [
    {
     "data": {
      "text/html": [
       "<div>\n",
       "<style scoped>\n",
       "    .dataframe tbody tr th:only-of-type {\n",
       "        vertical-align: middle;\n",
       "    }\n",
       "\n",
       "    .dataframe tbody tr th {\n",
       "        vertical-align: top;\n",
       "    }\n",
       "\n",
       "    .dataframe thead th {\n",
       "        text-align: right;\n",
       "    }\n",
       "</style>\n",
       "<table border=\"1\" class=\"dataframe\">\n",
       "  <thead>\n",
       "    <tr style=\"text-align: right;\">\n",
       "      <th></th>\n",
       "      <th>subject</th>\n",
       "      <th>predicate</th>\n",
       "      <th>object</th>\n",
       "      <th>plays</th>\n",
       "    </tr>\n",
       "  </thead>\n",
       "  <tbody>\n",
       "    <tr>\n",
       "      <th>0</th>\n",
       "      <td>ACTOR:TH</td>\n",
       "      <td>ActedIn</td>\n",
       "      <td>MOVIE:FG</td>\n",
       "      <td>CHARACTER:FGC</td>\n",
       "    </tr>\n",
       "    <tr>\n",
       "      <th>1</th>\n",
       "      <td>PERSON:TH</td>\n",
       "      <td>ActedIn</td>\n",
       "      <td>MOVIE:FG</td>\n",
       "      <td>CHARACTER:Forrest</td>\n",
       "    </tr>\n",
       "    <tr>\n",
       "      <th>2</th>\n",
       "      <td>PERSON:TH</td>\n",
       "      <td>ActedIn</td>\n",
       "      <td>MOVIE:FG</td>\n",
       "      <td>CHARACTER:Forrest</td>\n",
       "    </tr>\n",
       "    <tr>\n",
       "      <th>3</th>\n",
       "      <td>PERSON:KR</td>\n",
       "      <td>ActedIn</td>\n",
       "      <td>MOVIE:TM</td>\n",
       "      <td>CHARACTER:Neo</td>\n",
       "    </tr>\n",
       "    <tr>\n",
       "      <th>4</th>\n",
       "      <td>PERSON:MJF</td>\n",
       "      <td>ActedIn</td>\n",
       "      <td>MOVIE:BTTF</td>\n",
       "      <td>CHARACTER:MartyMcFly</td>\n",
       "    </tr>\n",
       "    <tr>\n",
       "      <th>5</th>\n",
       "      <td>PERSON:HW</td>\n",
       "      <td>ActedIn</td>\n",
       "      <td>MOVIE:TM</td>\n",
       "      <td>CHARACTER:AgentSmith</td>\n",
       "    </tr>\n",
       "  </tbody>\n",
       "</table>\n",
       "</div>"
      ],
      "text/plain": [
       "      subject predicate      object                 plays\n",
       "0    ACTOR:TH   ActedIn    MOVIE:FG         CHARACTER:FGC\n",
       "1   PERSON:TH   ActedIn    MOVIE:FG     CHARACTER:Forrest\n",
       "2   PERSON:TH   ActedIn    MOVIE:FG     CHARACTER:Forrest\n",
       "3   PERSON:KR   ActedIn    MOVIE:TM         CHARACTER:Neo\n",
       "4  PERSON:MJF   ActedIn  MOVIE:BTTF  CHARACTER:MartyMcFly\n",
       "5   PERSON:HW   ActedIn    MOVIE:TM  CHARACTER:AgentSmith"
      ]
     },
     "execution_count": 27,
     "metadata": {},
     "output_type": "execute_result"
    }
   ],
   "source": [
    "edge_collection.find({\"predicate\": \"ActedIn\"}).rows_dataframe"
   ]
  },
  {
   "cell_type": "markdown",
   "id": "3479c326-4fd2-4c61-a5ee-0ecc179e11f7",
   "metadata": {},
   "source": []
  },
  {
   "cell_type": "markdown",
   "id": "f6a1caa0-fc53-4f07-8ffe-43e2f380a04a",
   "metadata": {},
   "source": [
    "## Facet Counts\n",
    "\n",
    "We can also do basic analytic queries such as Solr-style facet grouping and counting.\n",
    "\n",
    "We'll make use of a lightweight function that converts linkml-store facet counts to dataframes:"
   ]
  },
  {
   "cell_type": "code",
   "execution_count": 28,
   "id": "2cc9203c-7049-4e40-8bbc-affa3363f95c",
   "metadata": {},
   "outputs": [],
   "source": [
    "from linkml_store.utils.pandas_utils import facet_summary_to_dataframe_unmelted"
   ]
  },
  {
   "cell_type": "code",
   "execution_count": 29,
   "id": "97fdc974-a403-4f0e-bcf3-9657d773048b",
   "metadata": {},
   "outputs": [
    {
     "data": {
      "text/html": [
       "<div>\n",
       "<style scoped>\n",
       "    .dataframe tbody tr th:only-of-type {\n",
       "        vertical-align: middle;\n",
       "    }\n",
       "\n",
       "    .dataframe tbody tr th {\n",
       "        vertical-align: top;\n",
       "    }\n",
       "\n",
       "    .dataframe thead th {\n",
       "        text-align: right;\n",
       "    }\n",
       "</style>\n",
       "<table border=\"1\" class=\"dataframe\">\n",
       "  <thead>\n",
       "    <tr style=\"text-align: right;\">\n",
       "      <th></th>\n",
       "      <th>category</th>\n",
       "      <th>Value</th>\n",
       "    </tr>\n",
       "  </thead>\n",
       "  <tbody>\n",
       "    <tr>\n",
       "      <th>0</th>\n",
       "      <td>Movie</td>\n",
       "      <td>6</td>\n",
       "    </tr>\n",
       "    <tr>\n",
       "      <th>1</th>\n",
       "      <td>Actor</td>\n",
       "      <td>5</td>\n",
       "    </tr>\n",
       "    <tr>\n",
       "      <th>2</th>\n",
       "      <td>Director</td>\n",
       "      <td>2</td>\n",
       "    </tr>\n",
       "    <tr>\n",
       "      <th>3</th>\n",
       "      <td>Character</td>\n",
       "      <td>1</td>\n",
       "    </tr>\n",
       "  </tbody>\n",
       "</table>\n",
       "</div>"
      ],
      "text/plain": [
       "    category  Value\n",
       "0      Movie      6\n",
       "1      Actor      5\n",
       "2   Director      2\n",
       "3  Character      1"
      ]
     },
     "execution_count": 29,
     "metadata": {},
     "output_type": "execute_result"
    }
   ],
   "source": [
    "r = node_collection.query_facets(facet_columns=[\"category\"])\n",
    "facet_summary_to_dataframe_unmelted(r)"
   ]
  },
  {
   "cell_type": "code",
   "execution_count": 30,
   "id": "e44dc44b-16a2-483c-94b4-8385d18b5b4e",
   "metadata": {},
   "outputs": [],
   "source": [
    "# TODO: implement facet counts for edges\n",
    "#r = edge_collection.query_facets(facet_columns=[\"subject\", \"predicate\", \"object\"])\n",
    "#facet_summary_to_dataframe_unmelted(r)"
   ]
  },
  {
   "cell_type": "markdown",
   "id": "d8d81abb-0610-44b4-b895-24b21afa2d3e",
   "metadata": {},
   "source": [
    "## Indexing via LLM embeddings\n",
    "\n",
    "Neo4j can be indexed and search via LLM embeddings, just like any other linkml-store wrapped database.\n",
    "\n",
    "__TODO__ show examples"
   ]
  },
  {
   "cell_type": "code",
   "execution_count": null,
   "id": "499ac4ea-989a-4ba7-b417-a84721fb0a6d",
   "metadata": {},
   "outputs": [],
   "source": []
  }
 ],
 "metadata": {
  "kernelspec": {
   "display_name": "Python 3 (ipykernel)",
   "language": "python",
   "name": "python3"
  },
  "language_info": {
   "codemirror_mode": {
    "name": "ipython",
    "version": 3
   },
   "file_extension": ".py",
   "mimetype": "text/x-python",
   "name": "python",
   "nbconvert_exporter": "python",
   "pygments_lexer": "ipython3",
   "version": "3.10.9"
  }
 },
 "nbformat": 4,
 "nbformat_minor": 5
}
