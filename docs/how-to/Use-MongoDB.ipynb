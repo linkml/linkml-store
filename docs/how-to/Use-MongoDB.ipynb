{
 "cells": [
  {
   "cell_type": "markdown",
   "source": [
    "# How to use MongoDB with LinkML-Store\n",
    "\n",
    "LinkML-Store provides a uniform interface across different backends. It allows you to write database-neutral code\n",
    "and operations where it makes sense, and use database-specific code where you need it.\n",
    "\n",
    "The best supported backend is duckdb. The next best is MongoDB.\n",
    "\n",
    "This tutorial walks through using MongoDB via the Python interface. It is recommended you start first with the main\n",
    "tutorial.\n",
    "\n"
   ],
   "metadata": {
    "collapsed": false
   },
   "id": "fc4794dd116ed21"
  },
  {
   "cell_type": "markdown",
   "source": [
    "## Creating a client and attaching to a database\n",
    "\n",
    "First we will create a client as normal:"
   ],
   "metadata": {
    "collapsed": false
   },
   "id": "493c7599d2f40c27"
  },
  {
   "cell_type": "code",
   "execution_count": 1,
   "outputs": [],
   "source": [
    "from linkml_store import Client\n",
    "\n",
    "client = Client()"
   ],
   "metadata": {
    "collapsed": false,
    "ExecuteTime": {
     "end_time": "2024-06-23T01:28:18.350753Z",
     "start_time": "2024-06-23T01:28:16.554178Z"
    }
   },
   "id": "initial_id"
  },
  {
   "cell_type": "markdown",
   "source": "Next we'll attach to a MongoDB instance. this assumes you have one running already.\n\nYou can connect in two ways:\n1. Using a connection string\n2. Using an existing MongoClient instance\n\n### Connection using a string",
   "metadata": {
    "collapsed": false
   },
   "id": "470f1cb70bf3641b",
   "outputs": []
  },
  {
   "cell_type": "code",
   "outputs": [],
   "source": "db = client.attach_database(\"mongodb://localhost:27017\", \"test\")",
   "metadata": {
    "collapsed": false,
    "ExecuteTime": {
     "end_time": "2024-06-23T01:28:18.354666Z",
     "start_time": "2024-06-23T01:28:18.351799Z"
    }
   },
   "id": "cc164c0acbe4c39d"
  },
  {
   "cell_type": "code",
   "execution_count": 3,
   "outputs": [
    {
     "data": {
      "text/plain": "'mongodb://localhost:27017'"
     },
     "execution_count": 3,
     "metadata": {},
     "output_type": "execute_result"
    }
   ],
   "source": [
    "db.handle"
   ],
   "metadata": {
    "collapsed": false,
    "ExecuteTime": {
     "end_time": "2024-06-23T01:28:18.359736Z",
     "start_time": "2024-06-23T01:28:18.355122Z"
    }
   },
   "id": "cb437a6dd0f73ec8"
  },
  {
   "cell_type": "markdown",
   "source": "### Connection using an existing MongoClient\n\nIf you already have a MongoClient instance (for example, from an existing application), you can use it directly without having to create a new connection:",
   "metadata": {}
  },
  {
   "cell_type": "code",
   "source": "# Now let's connect using an existing MongoClient\nfrom pymongo import MongoClient\n\n# Create a MongoClient instance directly\nmongo_client = MongoClient(\"mongodb://localhost:27017/\")\n\n# Use the existing client with linkml-store\ndb2 = client.attach_mongodb_client(\n    mongo_client=mongo_client,\n    db_name=\"test2\",\n    alias=\"direct_mongo\"\n)\n\nprint(f\"DB Handle: {db2.handle}\")\nprint(f\"DB Alias: {db2.alias}\")\nprint(f\"DB Name: {db2._db_name}\")",
   "metadata": {},
   "outputs": []
  },
  {
   "cell_type": "markdown",
   "source": "This approach is particularly useful when:\n1. You already have a MongoClient configured in your application\n2. You need special authentication or connection settings\n3. You want to reuse an existing connection pool\n\nFor the rest of this tutorial, we'll continue using the first database (`db`), but all operations work the same on both connection types.",
   "metadata": {}
  },
  {
   "cell_type": "code",
   "outputs": [],
   "source": "db.metadata.model_dump_json()",
   "metadata": {
    "collapsed": false,
    "ExecuteTime": {
     "end_time": "2024-06-23T01:28:18.364131Z",
     "start_time": "2024-06-23T01:28:18.360436Z"
    }
   },
   "id": "4390916095bf647a"
  },
  {
   "cell_type": "markdown",
   "source": [
    "## Creating a collection\n",
    "\n",
    "We'll create a simple test collection. The concept of collection in linkml-store maps directly to mongodb collections"
   ],
   "metadata": {
    "collapsed": false
   },
   "id": "334ea2ced79828f7"
  },
  {
   "cell_type": "code",
   "execution_count": 5,
   "outputs": [],
   "source": [
    "collection = db.create_collection(\"test\", recreate_if_exists=True)"
   ],
   "metadata": {
    "collapsed": false,
    "ExecuteTime": {
     "end_time": "2024-06-23T01:28:18.402657Z",
     "start_time": "2024-06-23T01:28:18.366296Z"
    }
   },
   "id": "c3a79013f9359a9"
  },
  {
   "cell_type": "markdown",
   "source": [
    "## Preparing data to load"
   ],
   "metadata": {
    "collapsed": false
   },
   "id": "207f35ee61edc14d"
  },
  {
   "cell_type": "markdown",
   "source": [
    "Next we'll parse an (incomplete) list of countries in JSON-Lines format:"
   ],
   "metadata": {
    "collapsed": false
   },
   "id": "9c6277c067fef8c7"
  },
  {
   "cell_type": "code",
   "execution_count": 6,
   "outputs": [],
   "source": [
    "COUNTRIES = \"../../tests/input/countries/countries.jsonl\""
   ],
   "metadata": {
    "collapsed": false,
    "ExecuteTime": {
     "end_time": "2024-06-23T01:28:18.407892Z",
     "start_time": "2024-06-23T01:28:18.392332Z"
    }
   },
   "id": "5286ef4e9dd0f316"
  },
  {
   "cell_type": "code",
   "execution_count": 7,
   "outputs": [],
   "source": [
    "from linkml_store.utils.format_utils import load_objects\n",
    "\n",
    "objects = load_objects(COUNTRIES)"
   ],
   "metadata": {
    "collapsed": false,
    "ExecuteTime": {
     "end_time": "2024-06-23T01:28:18.408181Z",
     "start_time": "2024-06-23T01:28:18.394820Z"
    }
   },
   "id": "2e21988e4fc13f58"
  },
  {
   "cell_type": "markdown",
   "source": [
    "Let's check with pandas just to make sure it looks as expected:"
   ],
   "metadata": {
    "collapsed": false
   },
   "id": "90e2e9793375431f"
  },
  {
   "cell_type": "code",
   "execution_count": 8,
   "outputs": [
    {
     "data": {
      "text/plain": "              name code           capital      continent  \\\n0    United States   US  Washington, D.C.  North America   \n1           Canada   CA            Ottawa  North America   \n2           Mexico   MX       Mexico City  North America   \n3           Brazil   BR          Brasília  South America   \n4        Argentina   AR      Buenos Aires  South America   \n5   United Kingdom   GB            London         Europe   \n6           France   FR             Paris         Europe   \n7          Germany   DE            Berlin         Europe   \n8            Italy   IT              Rome         Europe   \n9            Spain   ES            Madrid         Europe   \n10           China   CN           Beijing           Asia   \n11           Japan   JP             Tokyo           Asia   \n12           India   IN         New Delhi           Asia   \n13     South Korea   KR             Seoul           Asia   \n14       Indonesia   ID           Jakarta           Asia   \n15       Australia   AU          Canberra        Oceania   \n16     New Zealand   NZ        Wellington        Oceania   \n17           Egypt   EG             Cairo         Africa   \n18         Nigeria   NG             Abuja         Africa   \n19    South Africa   ZA          Pretoria         Africa   \n\n                                            languages  \n0                                           [English]  \n1                                   [English, French]  \n2                                           [Spanish]  \n3                                        [Portuguese]  \n4                                           [Spanish]  \n5                                           [English]  \n6                                            [French]  \n7                                            [German]  \n8                                           [Italian]  \n9                                           [Spanish]  \n10                                 [Standard Chinese]  \n11                                         [Japanese]  \n12                                   [Hindi, English]  \n13                                           [Korean]  \n14                                       [Indonesian]  \n15                                          [English]  \n16                                   [English, Māori]  \n17                                           [Arabic]  \n18                                          [English]  \n19  [Zulu, Xhosa, Afrikaans, English, Northern Sot...  ",
      "text/html": "<div>\n<style scoped>\n    .dataframe tbody tr th:only-of-type {\n        vertical-align: middle;\n    }\n\n    .dataframe tbody tr th {\n        vertical-align: top;\n    }\n\n    .dataframe thead th {\n        text-align: right;\n    }\n</style>\n<table border=\"1\" class=\"dataframe\">\n  <thead>\n    <tr style=\"text-align: right;\">\n      <th></th>\n      <th>name</th>\n      <th>code</th>\n      <th>capital</th>\n      <th>continent</th>\n      <th>languages</th>\n    </tr>\n  </thead>\n  <tbody>\n    <tr>\n      <th>0</th>\n      <td>United States</td>\n      <td>US</td>\n      <td>Washington, D.C.</td>\n      <td>North America</td>\n      <td>[English]</td>\n    </tr>\n    <tr>\n      <th>1</th>\n      <td>Canada</td>\n      <td>CA</td>\n      <td>Ottawa</td>\n      <td>North America</td>\n      <td>[English, French]</td>\n    </tr>\n    <tr>\n      <th>2</th>\n      <td>Mexico</td>\n      <td>MX</td>\n      <td>Mexico City</td>\n      <td>North America</td>\n      <td>[Spanish]</td>\n    </tr>\n    <tr>\n      <th>3</th>\n      <td>Brazil</td>\n      <td>BR</td>\n      <td>Brasília</td>\n      <td>South America</td>\n      <td>[Portuguese]</td>\n    </tr>\n    <tr>\n      <th>4</th>\n      <td>Argentina</td>\n      <td>AR</td>\n      <td>Buenos Aires</td>\n      <td>South America</td>\n      <td>[Spanish]</td>\n    </tr>\n    <tr>\n      <th>5</th>\n      <td>United Kingdom</td>\n      <td>GB</td>\n      <td>London</td>\n      <td>Europe</td>\n      <td>[English]</td>\n    </tr>\n    <tr>\n      <th>6</th>\n      <td>France</td>\n      <td>FR</td>\n      <td>Paris</td>\n      <td>Europe</td>\n      <td>[French]</td>\n    </tr>\n    <tr>\n      <th>7</th>\n      <td>Germany</td>\n      <td>DE</td>\n      <td>Berlin</td>\n      <td>Europe</td>\n      <td>[German]</td>\n    </tr>\n    <tr>\n      <th>8</th>\n      <td>Italy</td>\n      <td>IT</td>\n      <td>Rome</td>\n      <td>Europe</td>\n      <td>[Italian]</td>\n    </tr>\n    <tr>\n      <th>9</th>\n      <td>Spain</td>\n      <td>ES</td>\n      <td>Madrid</td>\n      <td>Europe</td>\n      <td>[Spanish]</td>\n    </tr>\n    <tr>\n      <th>10</th>\n      <td>China</td>\n      <td>CN</td>\n      <td>Beijing</td>\n      <td>Asia</td>\n      <td>[Standard Chinese]</td>\n    </tr>\n    <tr>\n      <th>11</th>\n      <td>Japan</td>\n      <td>JP</td>\n      <td>Tokyo</td>\n      <td>Asia</td>\n      <td>[Japanese]</td>\n    </tr>\n    <tr>\n      <th>12</th>\n      <td>India</td>\n      <td>IN</td>\n      <td>New Delhi</td>\n      <td>Asia</td>\n      <td>[Hindi, English]</td>\n    </tr>\n    <tr>\n      <th>13</th>\n      <td>South Korea</td>\n      <td>KR</td>\n      <td>Seoul</td>\n      <td>Asia</td>\n      <td>[Korean]</td>\n    </tr>\n    <tr>\n      <th>14</th>\n      <td>Indonesia</td>\n      <td>ID</td>\n      <td>Jakarta</td>\n      <td>Asia</td>\n      <td>[Indonesian]</td>\n    </tr>\n    <tr>\n      <th>15</th>\n      <td>Australia</td>\n      <td>AU</td>\n      <td>Canberra</td>\n      <td>Oceania</td>\n      <td>[English]</td>\n    </tr>\n    <tr>\n      <th>16</th>\n      <td>New Zealand</td>\n      <td>NZ</td>\n      <td>Wellington</td>\n      <td>Oceania</td>\n      <td>[English, Māori]</td>\n    </tr>\n    <tr>\n      <th>17</th>\n      <td>Egypt</td>\n      <td>EG</td>\n      <td>Cairo</td>\n      <td>Africa</td>\n      <td>[Arabic]</td>\n    </tr>\n    <tr>\n      <th>18</th>\n      <td>Nigeria</td>\n      <td>NG</td>\n      <td>Abuja</td>\n      <td>Africa</td>\n      <td>[English]</td>\n    </tr>\n    <tr>\n      <th>19</th>\n      <td>South Africa</td>\n      <td>ZA</td>\n      <td>Pretoria</td>\n      <td>Africa</td>\n      <td>[Zulu, Xhosa, Afrikaans, English, Northern Sot...</td>\n    </tr>\n  </tbody>\n</table>\n</div>"
     },
     "execution_count": 8,
     "metadata": {},
     "output_type": "execute_result"
    }
   ],
   "source": [
    "import pandas as pd\n",
    "pd.DataFrame(objects)"
   ],
   "metadata": {
    "collapsed": false,
    "ExecuteTime": {
     "end_time": "2024-06-23T01:28:18.413360Z",
     "start_time": "2024-06-23T01:28:18.400360Z"
    }
   },
   "id": "e98f9d6eb4a5e385"
  },
  {
   "cell_type": "markdown",
   "source": [
    "## Inserting objects\n",
    "\n",
    "We will call `insert` on the collection to add the objects. Note we haven't specified a schema - this will be induced."
   ],
   "metadata": {
    "collapsed": false
   },
   "id": "d4db12be6a95b027"
  },
  {
   "cell_type": "code",
   "execution_count": 9,
   "outputs": [],
   "source": [
    "collection.insert(objects)"
   ],
   "metadata": {
    "collapsed": false,
    "ExecuteTime": {
     "end_time": "2024-06-23T01:28:18.538479Z",
     "start_time": "2024-06-23T01:28:18.411461Z"
    }
   },
   "id": "668e59a8f28e7bfe"
  },
  {
   "cell_type": "markdown",
   "source": [
    "Let's check this worked by querying:"
   ],
   "metadata": {
    "collapsed": false
   },
   "id": "6a675e8546610e89"
  },
  {
   "cell_type": "code",
   "execution_count": 10,
   "outputs": [],
   "source": [
    "qr = collection.find()"
   ],
   "metadata": {
    "collapsed": false,
    "ExecuteTime": {
     "end_time": "2024-06-23T01:28:18.545205Z",
     "start_time": "2024-06-23T01:28:18.539041Z"
    }
   },
   "id": "9575e280dda32e41"
  },
  {
   "cell_type": "code",
   "execution_count": 11,
   "outputs": [
    {
     "data": {
      "text/plain": "              name code           capital      continent  \\\n0    United States   US  Washington, D.C.  North America   \n1           Canada   CA            Ottawa  North America   \n2           Mexico   MX       Mexico City  North America   \n3           Brazil   BR          Brasília  South America   \n4        Argentina   AR      Buenos Aires  South America   \n5   United Kingdom   GB            London         Europe   \n6           France   FR             Paris         Europe   \n7          Germany   DE            Berlin         Europe   \n8            Italy   IT              Rome         Europe   \n9            Spain   ES            Madrid         Europe   \n10           China   CN           Beijing           Asia   \n11           Japan   JP             Tokyo           Asia   \n12           India   IN         New Delhi           Asia   \n13     South Korea   KR             Seoul           Asia   \n14       Indonesia   ID           Jakarta           Asia   \n15       Australia   AU          Canberra        Oceania   \n16     New Zealand   NZ        Wellington        Oceania   \n17           Egypt   EG             Cairo         Africa   \n18         Nigeria   NG             Abuja         Africa   \n19    South Africa   ZA          Pretoria         Africa   \n\n                                            languages  \n0                                           [English]  \n1                                   [English, French]  \n2                                           [Spanish]  \n3                                        [Portuguese]  \n4                                           [Spanish]  \n5                                           [English]  \n6                                            [French]  \n7                                            [German]  \n8                                           [Italian]  \n9                                           [Spanish]  \n10                                 [Standard Chinese]  \n11                                         [Japanese]  \n12                                   [Hindi, English]  \n13                                           [Korean]  \n14                                       [Indonesian]  \n15                                          [English]  \n16                                   [English, Māori]  \n17                                           [Arabic]  \n18                                          [English]  \n19  [Zulu, Xhosa, Afrikaans, English, Northern Sot...  ",
      "text/html": "<div>\n<style scoped>\n    .dataframe tbody tr th:only-of-type {\n        vertical-align: middle;\n    }\n\n    .dataframe tbody tr th {\n        vertical-align: top;\n    }\n\n    .dataframe thead th {\n        text-align: right;\n    }\n</style>\n<table border=\"1\" class=\"dataframe\">\n  <thead>\n    <tr style=\"text-align: right;\">\n      <th></th>\n      <th>name</th>\n      <th>code</th>\n      <th>capital</th>\n      <th>continent</th>\n      <th>languages</th>\n    </tr>\n  </thead>\n  <tbody>\n    <tr>\n      <th>0</th>\n      <td>United States</td>\n      <td>US</td>\n      <td>Washington, D.C.</td>\n      <td>North America</td>\n      <td>[English]</td>\n    </tr>\n    <tr>\n      <th>1</th>\n      <td>Canada</td>\n      <td>CA</td>\n      <td>Ottawa</td>\n      <td>North America</td>\n      <td>[English, French]</td>\n    </tr>\n    <tr>\n      <th>2</th>\n      <td>Mexico</td>\n      <td>MX</td>\n      <td>Mexico City</td>\n      <td>North America</td>\n      <td>[Spanish]</td>\n    </tr>\n    <tr>\n      <th>3</th>\n      <td>Brazil</td>\n      <td>BR</td>\n      <td>Brasília</td>\n      <td>South America</td>\n      <td>[Portuguese]</td>\n    </tr>\n    <tr>\n      <th>4</th>\n      <td>Argentina</td>\n      <td>AR</td>\n      <td>Buenos Aires</td>\n      <td>South America</td>\n      <td>[Spanish]</td>\n    </tr>\n    <tr>\n      <th>5</th>\n      <td>United Kingdom</td>\n      <td>GB</td>\n      <td>London</td>\n      <td>Europe</td>\n      <td>[English]</td>\n    </tr>\n    <tr>\n      <th>6</th>\n      <td>France</td>\n      <td>FR</td>\n      <td>Paris</td>\n      <td>Europe</td>\n      <td>[French]</td>\n    </tr>\n    <tr>\n      <th>7</th>\n      <td>Germany</td>\n      <td>DE</td>\n      <td>Berlin</td>\n      <td>Europe</td>\n      <td>[German]</td>\n    </tr>\n    <tr>\n      <th>8</th>\n      <td>Italy</td>\n      <td>IT</td>\n      <td>Rome</td>\n      <td>Europe</td>\n      <td>[Italian]</td>\n    </tr>\n    <tr>\n      <th>9</th>\n      <td>Spain</td>\n      <td>ES</td>\n      <td>Madrid</td>\n      <td>Europe</td>\n      <td>[Spanish]</td>\n    </tr>\n    <tr>\n      <th>10</th>\n      <td>China</td>\n      <td>CN</td>\n      <td>Beijing</td>\n      <td>Asia</td>\n      <td>[Standard Chinese]</td>\n    </tr>\n    <tr>\n      <th>11</th>\n      <td>Japan</td>\n      <td>JP</td>\n      <td>Tokyo</td>\n      <td>Asia</td>\n      <td>[Japanese]</td>\n    </tr>\n    <tr>\n      <th>12</th>\n      <td>India</td>\n      <td>IN</td>\n      <td>New Delhi</td>\n      <td>Asia</td>\n      <td>[Hindi, English]</td>\n    </tr>\n    <tr>\n      <th>13</th>\n      <td>South Korea</td>\n      <td>KR</td>\n      <td>Seoul</td>\n      <td>Asia</td>\n      <td>[Korean]</td>\n    </tr>\n    <tr>\n      <th>14</th>\n      <td>Indonesia</td>\n      <td>ID</td>\n      <td>Jakarta</td>\n      <td>Asia</td>\n      <td>[Indonesian]</td>\n    </tr>\n    <tr>\n      <th>15</th>\n      <td>Australia</td>\n      <td>AU</td>\n      <td>Canberra</td>\n      <td>Oceania</td>\n      <td>[English]</td>\n    </tr>\n    <tr>\n      <th>16</th>\n      <td>New Zealand</td>\n      <td>NZ</td>\n      <td>Wellington</td>\n      <td>Oceania</td>\n      <td>[English, Māori]</td>\n    </tr>\n    <tr>\n      <th>17</th>\n      <td>Egypt</td>\n      <td>EG</td>\n      <td>Cairo</td>\n      <td>Africa</td>\n      <td>[Arabic]</td>\n    </tr>\n    <tr>\n      <th>18</th>\n      <td>Nigeria</td>\n      <td>NG</td>\n      <td>Abuja</td>\n      <td>Africa</td>\n      <td>[English]</td>\n    </tr>\n    <tr>\n      <th>19</th>\n      <td>South Africa</td>\n      <td>ZA</td>\n      <td>Pretoria</td>\n      <td>Africa</td>\n      <td>[Zulu, Xhosa, Afrikaans, English, Northern Sot...</td>\n    </tr>\n  </tbody>\n</table>\n</div>"
     },
     "execution_count": 11,
     "metadata": {},
     "output_type": "execute_result"
    }
   ],
   "source": [
    "qr.rows_dataframe"
   ],
   "metadata": {
    "collapsed": false,
    "ExecuteTime": {
     "end_time": "2024-06-23T01:28:18.565655Z",
     "start_time": "2024-06-23T01:28:18.543251Z"
    }
   },
   "id": "9b65321ea7c7ee15"
  },
  {
   "cell_type": "markdown",
   "source": [
    "## Queries\n",
    "\n",
    "We can specify key-value constraints:"
   ],
   "metadata": {
    "collapsed": false
   },
   "id": "f49056b209918a9"
  },
  {
   "cell_type": "code",
   "execution_count": 12,
   "outputs": [],
   "source": [
    "qr = collection.find({\"continent\": \"Europe\"})"
   ],
   "metadata": {
    "collapsed": false,
    "ExecuteTime": {
     "end_time": "2024-06-23T01:28:18.570709Z",
     "start_time": "2024-06-23T01:28:18.565823Z"
    }
   },
   "id": "244378540320adcf"
  },
  {
   "cell_type": "code",
   "execution_count": 13,
   "outputs": [
    {
     "data": {
      "text/plain": "             name code capital continent  languages\n0  United Kingdom   GB  London    Europe  [English]\n1          France   FR   Paris    Europe   [French]\n2         Germany   DE  Berlin    Europe   [German]\n3           Italy   IT    Rome    Europe  [Italian]\n4           Spain   ES  Madrid    Europe  [Spanish]",
      "text/html": "<div>\n<style scoped>\n    .dataframe tbody tr th:only-of-type {\n        vertical-align: middle;\n    }\n\n    .dataframe tbody tr th {\n        vertical-align: top;\n    }\n\n    .dataframe thead th {\n        text-align: right;\n    }\n</style>\n<table border=\"1\" class=\"dataframe\">\n  <thead>\n    <tr style=\"text-align: right;\">\n      <th></th>\n      <th>name</th>\n      <th>code</th>\n      <th>capital</th>\n      <th>continent</th>\n      <th>languages</th>\n    </tr>\n  </thead>\n  <tbody>\n    <tr>\n      <th>0</th>\n      <td>United Kingdom</td>\n      <td>GB</td>\n      <td>London</td>\n      <td>Europe</td>\n      <td>[English]</td>\n    </tr>\n    <tr>\n      <th>1</th>\n      <td>France</td>\n      <td>FR</td>\n      <td>Paris</td>\n      <td>Europe</td>\n      <td>[French]</td>\n    </tr>\n    <tr>\n      <th>2</th>\n      <td>Germany</td>\n      <td>DE</td>\n      <td>Berlin</td>\n      <td>Europe</td>\n      <td>[German]</td>\n    </tr>\n    <tr>\n      <th>3</th>\n      <td>Italy</td>\n      <td>IT</td>\n      <td>Rome</td>\n      <td>Europe</td>\n      <td>[Italian]</td>\n    </tr>\n    <tr>\n      <th>4</th>\n      <td>Spain</td>\n      <td>ES</td>\n      <td>Madrid</td>\n      <td>Europe</td>\n      <td>[Spanish]</td>\n    </tr>\n  </tbody>\n</table>\n</div>"
     },
     "execution_count": 13,
     "metadata": {},
     "output_type": "execute_result"
    }
   ],
   "source": [
    "qr.rows_dataframe"
   ],
   "metadata": {
    "collapsed": false,
    "ExecuteTime": {
     "end_time": "2024-06-23T01:28:18.578140Z",
     "start_time": "2024-06-23T01:28:18.573699Z"
    }
   },
   "id": "1ff46aef2d8abba1"
  },
  {
   "cell_type": "markdown",
   "source": [
    "## Facet counts\n",
    "\n",
    "We will now do a query fetching facet counts for all fields.\n",
    "\n",
    "Unlike Solr, MongoDB doesn't facet natively but under the hood linkml-store implements the necessary logic"
   ],
   "metadata": {
    "collapsed": false
   },
   "id": "b0badaa4915f91ac"
  },
  {
   "cell_type": "code",
   "execution_count": 14,
   "outputs": [],
   "source": [
    "fc = collection.query_facets()"
   ],
   "metadata": {
    "collapsed": false,
    "ExecuteTime": {
     "end_time": "2024-06-23T01:28:18.650731Z",
     "start_time": "2024-06-23T01:28:18.581128Z"
    }
   },
   "id": "df3c2afcdb8153e8"
  },
  {
   "cell_type": "code",
   "execution_count": 15,
   "outputs": [
    {
     "data": {
      "text/plain": "[('Europe', 5),\n ('Asia', 5),\n ('Africa', 3),\n ('North America', 3),\n ('Oceania', 2),\n ('South America', 2)]"
     },
     "execution_count": 15,
     "metadata": {},
     "output_type": "execute_result"
    }
   ],
   "source": [
    "fc[\"continent\"]"
   ],
   "metadata": {
    "collapsed": false,
    "ExecuteTime": {
     "end_time": "2024-06-23T01:28:18.658173Z",
     "start_time": "2024-06-23T01:28:18.607131Z"
    }
   },
   "id": "61cd37ba4849ed22"
  },
  {
   "cell_type": "markdown",
   "source": [
    "## Creating an LLM embedding index\n",
    "\n",
    "We will now attach an indexer. By default the `llm` indexer uses OpenAI so you will need a key:"
   ],
   "metadata": {
    "collapsed": false
   },
   "id": "a27b08ea540659cd"
  },
  {
   "cell_type": "code",
   "execution_count": 16,
   "outputs": [],
   "source": [
    "collection.attach_indexer(\"llm\")"
   ],
   "metadata": {
    "collapsed": false,
    "ExecuteTime": {
     "end_time": "2024-06-23T01:28:19.217982Z",
     "start_time": "2024-06-23T01:28:18.611918Z"
    }
   },
   "id": "674607f18f83360c"
  },
  {
   "cell_type": "markdown",
   "source": [
    "We can now query using the index. Note that search terms need only be *semantically* related, they don't need to contain the same lexical elements"
   ],
   "metadata": {
    "collapsed": false
   },
   "id": "df0094817a4c7980"
  },
  {
   "cell_type": "code",
   "execution_count": 17,
   "outputs": [
    {
     "data": {
      "text/plain": "       score            name code           capital      continent  \\\n0   0.770891  United Kingdom   GB            London         Europe   \n1   0.758388       Australia   AU          Canberra        Oceania   \n2   0.754203     South Korea   KR             Seoul           Asia   \n3   0.750652     New Zealand   NZ        Wellington        Oceania   \n4   0.750419   United States   US  Washington, D.C.  North America   \n5   0.748973    South Africa   ZA          Pretoria         Africa   \n6   0.748322          Canada   CA            Ottawa  North America   \n7   0.746444          France   FR             Paris         Europe   \n8   0.745408         Germany   DE            Berlin         Europe   \n9   0.743449           Spain   ES            Madrid         Europe   \n10  0.739726           China   CN           Beijing           Asia   \n11  0.739504         Nigeria   NG             Abuja         Africa   \n12  0.738601           Egypt   EG             Cairo         Africa   \n13  0.735424          Brazil   BR          Brasília  South America   \n14  0.735056          Mexico   MX       Mexico City  North America   \n15  0.734002           Japan   JP             Tokyo           Asia   \n16  0.731288       Argentina   AR      Buenos Aires  South America   \n17  0.728014       Indonesia   ID           Jakarta           Asia   \n18  0.724164           India   IN         New Delhi           Asia   \n19  0.723299           Italy   IT              Rome         Europe   \n\n                                            languages  \n0                                           [English]  \n1                                           [English]  \n2                                            [Korean]  \n3                                    [English, Māori]  \n4                                           [English]  \n5   [Zulu, Xhosa, Afrikaans, English, Northern Sot...  \n6                                   [English, French]  \n7                                            [French]  \n8                                            [German]  \n9                                           [Spanish]  \n10                                 [Standard Chinese]  \n11                                          [English]  \n12                                           [Arabic]  \n13                                       [Portuguese]  \n14                                          [Spanish]  \n15                                         [Japanese]  \n16                                          [Spanish]  \n17                                       [Indonesian]  \n18                                   [Hindi, English]  \n19                                          [Italian]  ",
      "text/html": "<div>\n<style scoped>\n    .dataframe tbody tr th:only-of-type {\n        vertical-align: middle;\n    }\n\n    .dataframe tbody tr th {\n        vertical-align: top;\n    }\n\n    .dataframe thead th {\n        text-align: right;\n    }\n</style>\n<table border=\"1\" class=\"dataframe\">\n  <thead>\n    <tr style=\"text-align: right;\">\n      <th></th>\n      <th>score</th>\n      <th>name</th>\n      <th>code</th>\n      <th>capital</th>\n      <th>continent</th>\n      <th>languages</th>\n    </tr>\n  </thead>\n  <tbody>\n    <tr>\n      <th>0</th>\n      <td>0.770891</td>\n      <td>United Kingdom</td>\n      <td>GB</td>\n      <td>London</td>\n      <td>Europe</td>\n      <td>[English]</td>\n    </tr>\n    <tr>\n      <th>1</th>\n      <td>0.758388</td>\n      <td>Australia</td>\n      <td>AU</td>\n      <td>Canberra</td>\n      <td>Oceania</td>\n      <td>[English]</td>\n    </tr>\n    <tr>\n      <th>2</th>\n      <td>0.754203</td>\n      <td>South Korea</td>\n      <td>KR</td>\n      <td>Seoul</td>\n      <td>Asia</td>\n      <td>[Korean]</td>\n    </tr>\n    <tr>\n      <th>3</th>\n      <td>0.750652</td>\n      <td>New Zealand</td>\n      <td>NZ</td>\n      <td>Wellington</td>\n      <td>Oceania</td>\n      <td>[English, Māori]</td>\n    </tr>\n    <tr>\n      <th>4</th>\n      <td>0.750419</td>\n      <td>United States</td>\n      <td>US</td>\n      <td>Washington, D.C.</td>\n      <td>North America</td>\n      <td>[English]</td>\n    </tr>\n    <tr>\n      <th>5</th>\n      <td>0.748973</td>\n      <td>South Africa</td>\n      <td>ZA</td>\n      <td>Pretoria</td>\n      <td>Africa</td>\n      <td>[Zulu, Xhosa, Afrikaans, English, Northern Sot...</td>\n    </tr>\n    <tr>\n      <th>6</th>\n      <td>0.748322</td>\n      <td>Canada</td>\n      <td>CA</td>\n      <td>Ottawa</td>\n      <td>North America</td>\n      <td>[English, French]</td>\n    </tr>\n    <tr>\n      <th>7</th>\n      <td>0.746444</td>\n      <td>France</td>\n      <td>FR</td>\n      <td>Paris</td>\n      <td>Europe</td>\n      <td>[French]</td>\n    </tr>\n    <tr>\n      <th>8</th>\n      <td>0.745408</td>\n      <td>Germany</td>\n      <td>DE</td>\n      <td>Berlin</td>\n      <td>Europe</td>\n      <td>[German]</td>\n    </tr>\n    <tr>\n      <th>9</th>\n      <td>0.743449</td>\n      <td>Spain</td>\n      <td>ES</td>\n      <td>Madrid</td>\n      <td>Europe</td>\n      <td>[Spanish]</td>\n    </tr>\n    <tr>\n      <th>10</th>\n      <td>0.739726</td>\n      <td>China</td>\n      <td>CN</td>\n      <td>Beijing</td>\n      <td>Asia</td>\n      <td>[Standard Chinese]</td>\n    </tr>\n    <tr>\n      <th>11</th>\n      <td>0.739504</td>\n      <td>Nigeria</td>\n      <td>NG</td>\n      <td>Abuja</td>\n      <td>Africa</td>\n      <td>[English]</td>\n    </tr>\n    <tr>\n      <th>12</th>\n      <td>0.738601</td>\n      <td>Egypt</td>\n      <td>EG</td>\n      <td>Cairo</td>\n      <td>Africa</td>\n      <td>[Arabic]</td>\n    </tr>\n    <tr>\n      <th>13</th>\n      <td>0.735424</td>\n      <td>Brazil</td>\n      <td>BR</td>\n      <td>Brasília</td>\n      <td>South America</td>\n      <td>[Portuguese]</td>\n    </tr>\n    <tr>\n      <th>14</th>\n      <td>0.735056</td>\n      <td>Mexico</td>\n      <td>MX</td>\n      <td>Mexico City</td>\n      <td>North America</td>\n      <td>[Spanish]</td>\n    </tr>\n    <tr>\n      <th>15</th>\n      <td>0.734002</td>\n      <td>Japan</td>\n      <td>JP</td>\n      <td>Tokyo</td>\n      <td>Asia</td>\n      <td>[Japanese]</td>\n    </tr>\n    <tr>\n      <th>16</th>\n      <td>0.731288</td>\n      <td>Argentina</td>\n      <td>AR</td>\n      <td>Buenos Aires</td>\n      <td>South America</td>\n      <td>[Spanish]</td>\n    </tr>\n    <tr>\n      <th>17</th>\n      <td>0.728014</td>\n      <td>Indonesia</td>\n      <td>ID</td>\n      <td>Jakarta</td>\n      <td>Asia</td>\n      <td>[Indonesian]</td>\n    </tr>\n    <tr>\n      <th>18</th>\n      <td>0.724164</td>\n      <td>India</td>\n      <td>IN</td>\n      <td>New Delhi</td>\n      <td>Asia</td>\n      <td>[Hindi, English]</td>\n    </tr>\n    <tr>\n      <th>19</th>\n      <td>0.723299</td>\n      <td>Italy</td>\n      <td>IT</td>\n      <td>Rome</td>\n      <td>Europe</td>\n      <td>[Italian]</td>\n    </tr>\n  </tbody>\n</table>\n</div>"
     },
     "execution_count": 17,
     "metadata": {},
     "output_type": "execute_result"
    }
   ],
   "source": [
    "qr = collection.search(\"countries with a King or Queen\")\n",
    "qr.rows_dataframe"
   ],
   "metadata": {
    "collapsed": false,
    "ExecuteTime": {
     "end_time": "2024-06-23T01:28:19.351748Z",
     "start_time": "2024-06-23T01:28:19.216122Z"
    }
   },
   "id": "1ddd4ac75719342d"
  },
  {
   "cell_type": "markdown",
   "source": [
    "The precise ranking could be debated, but in terms of rough semantic distance the first answer is in the right ballpark, at the time of writing. "
   ],
   "metadata": {
    "collapsed": false
   },
   "id": "6f8802b2424d385f"
  },
  {
   "cell_type": "code",
   "execution_count": 18,
   "outputs": [
    {
     "data": {
      "text/plain": "20"
     },
     "execution_count": 18,
     "metadata": {},
     "output_type": "execute_result"
    }
   ],
   "source": [
    "qr.num_rows"
   ],
   "metadata": {
    "collapsed": false,
    "ExecuteTime": {
     "end_time": "2024-06-23T01:28:19.354985Z",
     "start_time": "2024-06-23T01:28:19.350505Z"
    }
   },
   "id": "fa1cdc4e62ad19a1"
  },
  {
   "cell_type": "code",
   "execution_count": 19,
   "outputs": [
    {
     "data": {
      "text/plain": "[(0.7708908770614274,\n  {'name': 'United Kingdom',\n   'code': 'GB',\n   'capital': 'London',\n   'continent': 'Europe',\n   'languages': ['English']}),\n (0.7583880255490492,\n  {'name': 'Australia',\n   'code': 'AU',\n   'capital': 'Canberra',\n   'continent': 'Oceania',\n   'languages': ['English']}),\n (0.754202745445488,\n  {'name': 'South Korea',\n   'code': 'KR',\n   'capital': 'Seoul',\n   'continent': 'Asia',\n   'languages': ['Korean']}),\n (0.7506523769140084,\n  {'name': 'New Zealand',\n   'code': 'NZ',\n   'capital': 'Wellington',\n   'continent': 'Oceania',\n   'languages': ['English', 'Māori']}),\n (0.7504190890778679,\n  {'name': 'United States',\n   'code': 'US',\n   'capital': 'Washington, D.C.',\n   'continent': 'North America',\n   'languages': ['English']}),\n (0.7489726600700292,\n  {'name': 'South Africa',\n   'code': 'ZA',\n   'capital': 'Pretoria',\n   'continent': 'Africa',\n   'languages': ['Zulu',\n    'Xhosa',\n    'Afrikaans',\n    'English',\n    'Northern Sotho',\n    'Tswana',\n    'Southern Sotho',\n    'Tsonga',\n    'Swazi',\n    'Venda',\n    'Southern Ndebele']}),\n (0.7483222334041403,\n  {'name': 'Canada',\n   'code': 'CA',\n   'capital': 'Ottawa',\n   'continent': 'North America',\n   'languages': ['English', 'French']}),\n (0.7464438929713734,\n  {'name': 'France',\n   'code': 'FR',\n   'capital': 'Paris',\n   'continent': 'Europe',\n   'languages': ['French']}),\n (0.7454078196210195,\n  {'name': 'Germany',\n   'code': 'DE',\n   'capital': 'Berlin',\n   'continent': 'Europe',\n   'languages': ['German']}),\n (0.7434487849009042,\n  {'name': 'Spain',\n   'code': 'ES',\n   'capital': 'Madrid',\n   'continent': 'Europe',\n   'languages': ['Spanish']}),\n (0.7397262074302214,\n  {'name': 'China',\n   'code': 'CN',\n   'capital': 'Beijing',\n   'continent': 'Asia',\n   'languages': ['Standard Chinese']}),\n (0.7395038203235198,\n  {'name': 'Nigeria',\n   'code': 'NG',\n   'capital': 'Abuja',\n   'continent': 'Africa',\n   'languages': ['English']}),\n (0.7386007424118528,\n  {'name': 'Egypt',\n   'code': 'EG',\n   'capital': 'Cairo',\n   'continent': 'Africa',\n   'languages': ['Arabic']}),\n (0.7354238434740793,\n  {'name': 'Brazil',\n   'code': 'BR',\n   'capital': 'Brasília',\n   'continent': 'South America',\n   'languages': ['Portuguese']}),\n (0.7350558425995254,\n  {'name': 'Mexico',\n   'code': 'MX',\n   'capital': 'Mexico City',\n   'continent': 'North America',\n   'languages': ['Spanish']}),\n (0.7340019061796953,\n  {'name': 'Japan',\n   'code': 'JP',\n   'capital': 'Tokyo',\n   'continent': 'Asia',\n   'languages': ['Japanese']}),\n (0.7312880542513781,\n  {'name': 'Argentina',\n   'code': 'AR',\n   'capital': 'Buenos Aires',\n   'continent': 'South America',\n   'languages': ['Spanish']}),\n (0.7280135748889252,\n  {'name': 'Indonesia',\n   'code': 'ID',\n   'capital': 'Jakarta',\n   'continent': 'Asia',\n   'languages': ['Indonesian']}),\n (0.7241642577932456,\n  {'name': 'India',\n   'code': 'IN',\n   'capital': 'New Delhi',\n   'continent': 'Asia',\n   'languages': ['Hindi', 'English']}),\n (0.7232991877572457,\n  {'name': 'Italy',\n   'code': 'IT',\n   'capital': 'Rome',\n   'continent': 'Europe',\n   'languages': ['Italian']})]"
     },
     "execution_count": 19,
     "metadata": {},
     "output_type": "execute_result"
    }
   ],
   "source": [
    "qr.ranked_rows"
   ],
   "metadata": {
    "collapsed": false,
    "ExecuteTime": {
     "end_time": "2024-06-23T01:28:19.362351Z",
     "start_time": "2024-06-23T01:28:19.357888Z"
    }
   },
   "id": "9509d574fd222a72"
  },
  {
   "cell_type": "code",
   "execution_count": 19,
   "outputs": [],
   "source": [],
   "metadata": {
    "collapsed": false,
    "ExecuteTime": {
     "end_time": "2024-06-23T01:28:19.364582Z",
     "start_time": "2024-06-23T01:28:19.360366Z"
    }
   },
   "id": "cdd3d5bb25673310"
  }
 ],
 "metadata": {
  "kernelspec": {
   "display_name": "Python 3",
   "language": "python",
   "name": "python3"
  },
  "language_info": {
   "codemirror_mode": {
    "name": "ipython",
    "version": 2
   },
   "file_extension": ".py",
   "mimetype": "text/x-python",
   "name": "python",
   "nbconvert_exporter": "python",
   "pygments_lexer": "ipython2",
   "version": "2.7.6"
  }
 },
 "nbformat": 4,
 "nbformat_minor": 5
}