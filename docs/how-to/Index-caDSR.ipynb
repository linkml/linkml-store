{
 "cells": [
  {
   "cell_type": "markdown",
   "source": [
    "# How to index the caDSR metadata element registry with LinkML-Store\n",
    "\n",
    "\n",
    "\n"
   ],
   "metadata": {
    "collapsed": false
   },
   "id": "fc4794dd116ed21"
  },
  {
   "cell_type": "code",
   "execution_count": 1,
   "outputs": [],
   "source": [
    "import os\n",
    "import json"
   ],
   "metadata": {
    "collapsed": false,
    "ExecuteTime": {
     "end_time": "2024-07-05T23:49:54.137195Z",
     "start_time": "2024-07-05T23:49:54.014573Z"
    }
   },
   "id": "a152c5ffd4973c7e"
  },
  {
   "cell_type": "code",
   "execution_count": 2,
   "outputs": [],
   "source": [
    "\n",
    "\n",
    "\n",
    "# note: this is a symlink to the actual data\n",
    "path = \"cadsr/cde-json\"\n",
    "objs = []\n",
    "for root, dirs, files in os.walk(path):\n",
    "    for file in files:\n",
    "        if file.endswith(\".json\"):\n",
    "            with open(os.path.join(root, file)) as stream:\n",
    "                obj = json.load(stream)\n",
    "                objs.append(obj['DataElement'])\n"
   ],
   "metadata": {
    "collapsed": false,
    "ExecuteTime": {
     "end_time": "2024-07-05T23:50:20.320782Z",
     "start_time": "2024-07-05T23:49:54.020085Z"
    }
   },
   "id": "142993c7e60551d1"
  },
  {
   "cell_type": "code",
   "execution_count": 3,
   "outputs": [
    {
     "data": {
      "text/plain": "74229"
     },
     "execution_count": 3,
     "metadata": {},
     "output_type": "execute_result"
    }
   ],
   "source": [
    "len(objs)"
   ],
   "metadata": {
    "collapsed": false,
    "ExecuteTime": {
     "end_time": "2024-07-05T23:50:20.328925Z",
     "start_time": "2024-07-05T23:50:20.321783Z"
    }
   },
   "id": "978bf035146309c2"
  },
  {
   "cell_type": "code",
   "execution_count": 4,
   "outputs": [
    {
     "name": "stdout",
     "output_type": "stream",
     "text": [
      "AlternateNames: []\n",
      "ClassificationSchemes: []\n",
      "DataElementConcept:\n",
      "  ConceptualDomain:\n",
      "    administrativeNotes: null\n",
      "    beginDate: '2006-09-28'\n",
      "    changeDescription: null\n",
      "    context: CCR\n",
      "    contextVersion: '1'\n",
      "    createdBy: REEVESD\n",
      "    dateCreated: '2006-09-28'\n",
      "    dateModified: '2008-11-19'\n",
      "    deletedIndicator: 'No'\n",
      "    endDate: null\n",
      "    id: 1E838B40-6636-0A25-E044-0003BA3F9857\n",
      "    latestVersionIndicator: 'Yes'\n",
      "    longName: MEASURE/INSTRUMENT TESTING\n",
      "    modifiedBy: REEVESD\n",
      "    origin: CCR:Center for Cancer Research\n",
      "    preferredDefinition: Process and results associated with self-reported measures\n",
      "      and instruments, surveys, other tools\n",
      "    preferredName: Person Measure/Instrument Testing\n",
      "    publicId: '2524082'\n",
      "    registrationStatus: Application\n",
      "    unresolvedIssues: null\n",
      "    version: '1'\n",
      "    workflowStatus: RELEASED\n",
      "  ObjectClass:\n",
      "    Concepts:\n",
      "    - conceptCode: C15747\n",
      "      definition: Supportive care is that which helps the patient and their family\n",
      "        to cope with cancer and treatment of it from pre-diagnosis, through the process\n",
      "        of diagnosis and treatment, to cure, continuing illness or death and into\n",
      "        bereavement. It helps the patient to maximize the benefits of treatment and\n",
      "        to live as well as possible with the effects of the disease. Supportive therapy\n",
      "        may provide a patient with friendship, encouragement, practical advice such\n",
      "        as access to community resources or how to develop a more active social life,\n",
      "        vocational counseling, suggestions for minimizing friction with family members,\n",
      "        and, above all, hope that the life of the patient may be improved. In all\n",
      "        situations, supportive therapy involves the teaching of such life skills as\n",
      "        managing medication, learning to socialize, handling finances, and getting\n",
      "        a job.\n",
      "      displayOrder: '0'\n",
      "      evsSource: NCI_CONCEPT_CODE\n",
      "      longName: Supportive Care\n",
      "      primaryIndicator: 'Yes'\n",
      "    administrativeNotes: null\n",
      "    beginDate: '2021-01-27'\n",
      "    changeDescription: null\n",
      "    context: NCIP\n",
      "    contextVersion: '1'\n",
      "    createdBy: MALUMK\n",
      "    dateCreated: '2021-01-27'\n",
      "    dateModified: '2021-01-27'\n",
      "    deletedIndicator: 'No'\n",
      "    endDate: null\n",
      "    id: B9E8B130-3E9E-5D7D-E053-4EBD850A6CF1\n",
      "    latestVersionIndicator: 'Yes'\n",
      "    longName: C15747\n",
      "    modifiedBy: ONEDATA\n",
      "    origin: NCI Thesaurus\n",
      "    preferredDefinition: Supportive care is that which helps the patient and their\n",
      "      family to cope with cancer and treatment of it from pre-diagnosis, through the\n",
      "      process of diagnosis and treatment, to cure, continuing illness or death and\n",
      "      into bereavement. It helps the patient to maximize the benefits of treatment\n",
      "      and to live as well as possible with the effects of the disease. Supportive\n",
      "      therapy may provide a patient with friendship, encouragement, practical advice\n",
      "      such as access to community resources or how to develop a more active social\n",
      "      life, vocational counseling, suggestions for minimizing friction with family\n",
      "      members, and, above all, hope that the life of the patient may be improved.\n",
      "      In all situations, supportive therapy involves the teaching of such life skills\n",
      "      as managing medication, learning to socialize, handling finances, and getting\n",
      "      a job.\n",
      "    preferredName: Supportive Care\n",
      "    publicId: '7559951'\n",
      "    registrationStatus: Application\n",
      "    unresolvedIssues: null\n",
      "    version: '1'\n",
      "    workflowStatus: RELEASED\n",
      "  Property:\n",
      "    Concepts:\n",
      "    - conceptCode: C177230\n",
      "      definition: A question about how strongly an individual agrees that they would\n",
      "        feel a specified emotion when they hear the term \"palliative care\".\n",
      "      displayOrder: '3'\n",
      "      evsSource: NCI_CONCEPT_CODE\n",
      "      longName: What I Feel When I Hear Palliative Care\n",
      "      primaryIndicator: 'No'\n",
      "    - conceptCode: C77960\n",
      "      definition: A feeling of apprehension that one may be in danger.\n",
      "      displayOrder: '2'\n",
      "      evsSource: NCI_CONCEPT_CODE\n",
      "      longName: Fear\n",
      "      primaryIndicator: 'No'\n",
      "    - conceptCode: C25369\n",
      "      definition: The act of agreeing to a plan, protocol, or arrangement. Also used\n",
      "        to describe a harmony of opinion.\n",
      "      displayOrder: '1'\n",
      "      evsSource: NCI_CONCEPT_CODE\n",
      "      longName: Agreement\n",
      "      primaryIndicator: 'No'\n",
      "    - conceptCode: C25664\n",
      "      definition: An ordered reference standard used to measure incremental changes.\n",
      "      displayOrder: '0'\n",
      "      evsSource: NCI_CONCEPT_CODE\n",
      "      longName: Scale\n",
      "      primaryIndicator: 'Yes'\n",
      "    administrativeNotes: null\n",
      "    beginDate: '2021-01-29'\n",
      "    changeDescription: null\n",
      "    context: NCIP\n",
      "    contextVersion: '1'\n",
      "    createdBy: MALUMK\n",
      "    dateCreated: '2021-01-29'\n",
      "    dateModified: '2021-01-29'\n",
      "    deletedIndicator: 'No'\n",
      "    endDate: null\n",
      "    id: BA115178-92C1-5D90-E053-4EBD850A955D\n",
      "    latestVersionIndicator: 'Yes'\n",
      "    longName: C177230:C77960:C25369:C25664\n",
      "    modifiedBy: ONEDATA\n",
      "    origin: null\n",
      "    preferredDefinition: A question about how strongly an individual agrees that they\n",
      "      would feel a specified emotion when they hear the term \"palliative care\".:A\n",
      "      feeling of apprehension that one may be in danger.:The act of agreeing to a\n",
      "      plan, protocol, or arrangement. Also used to describe a harmony of opinion.:An\n",
      "      ordered reference standard used to measure incremental changes.\n",
      "    preferredName: What I Feel When I Hear Palliative Care Fear Agreement Scale\n",
      "    publicId: '7571386'\n",
      "    registrationStatus: Application\n",
      "    unresolvedIssues: null\n",
      "    version: '1'\n",
      "    workflowStatus: RELEASED\n",
      "  administrativeNotes: null\n",
      "  beginDate: '2021-01-29'\n",
      "  changeDescription: Released. 03/18/2021 KMM\n",
      "  context: NHLBI\n",
      "  contextVersion: '1'\n",
      "  createdBy: MALUMK\n",
      "  dateCreated: '2021-01-29'\n",
      "  dateModified: '2021-03-18'\n",
      "  deletedIndicator: 'No'\n",
      "  endDate: null\n",
      "  id: BA115178-92D2-5D90-E053-4EBD850A955D\n",
      "  latestVersionIndicator: 'Yes'\n",
      "  longName: 7559951v1.0:7571386v1.0\n",
      "  modifiedBy: MALUMK\n",
      "  origin: NMDP:National Marrow Donor Program\n",
      "  preferredDefinition: Supportive care is that which helps the patient and their family\n",
      "    to cope with cancer and treatment of it from pre-diagnosis, through the process\n",
      "    of diagnosis and treatment, to cure, continuing illness or death and into bereavement.\n",
      "    It helps the patient to maximize the benefits of treatment and to live as well\n",
      "    as possible with the effects of the disease. Supportive therapy may provide a\n",
      "    patient with friendship, encouragement, practical advice such as access to community\n",
      "    resources or how to develop a more active social life, vocational counseling,\n",
      "    suggestions for minimizing friction with family members, and, above all, hope\n",
      "    that the life of the patient may be improved. In all situations, supportive therapy\n",
      "    involves the teaching of such life skills as managing medication, learning to\n",
      "    socialize, handling finances, and getting a job._A question about how strongly\n",
      "    an individual agrees that they would feel a specified emotion when they hear the\n",
      "    term \"palliative care\"._A feeling of apprehension that one may be in danger._The\n",
      "    act of agreeing to a plan, protocol, or arrangement. Also used to describe a harmony\n",
      "    of opinion._An ordered reference standard used to measure incremental changes.\n",
      "  preferredName: Supportive Care When I Hear The Term Palliative Care, I Feel Fear\n",
      "    Agreement Scale\n",
      "  publicId: '7571388'\n",
      "  registrationStatus: Application\n",
      "  unresolvedIssues: null\n",
      "  version: '1'\n",
      "  workflowStatus: RELEASED\n",
      "ReferenceDocuments:\n",
      "- context: NHLBI\n",
      "  description: I feel fear when hearing the term palliative care.\n",
      "  name: I feel fear when hearing the\n",
      "  type: Preferred Question Text\n",
      "  url: null\n",
      "- context: NHLBI\n",
      "  description: When I hear the term palliative care, I feel scared\n",
      "  name: When I hear the term palliative care, I feel scared\n",
      "  type: Alternate Question Text\n",
      "  url: null\n",
      "- context: NHLBI\n",
      "  description: When I hear the term palliative care, I feel scared\n",
      "  name: When I hear the term palliative care, I feel scared\n",
      "  type: Application Standard Question Text\n",
      "  url: null\n",
      "- context: NHLBI\n",
      "  description: When I hear the term palliative care, I feel scared.\n",
      "  name: When I hear the term palliative care, I feel scared.\n",
      "  type: Alternate Question Text\n",
      "  url: null\n",
      "ValueDomain:\n",
      "  ConceptualDomain:\n",
      "    administrativeNotes: null\n",
      "    beginDate: '2006-09-28'\n",
      "    changeDescription: null\n",
      "    context: CCR\n",
      "    contextVersion: '1'\n",
      "    createdBy: REEVESD\n",
      "    dateCreated: '2006-09-28'\n",
      "    dateModified: '2008-11-19'\n",
      "    deletedIndicator: 'No'\n",
      "    endDate: null\n",
      "    id: 1E838B40-6636-0A25-E044-0003BA3F9857\n",
      "    latestVersionIndicator: 'Yes'\n",
      "    longName: MEASURE/INSTRUMENT TESTING\n",
      "    modifiedBy: REEVESD\n",
      "    origin: CCR:Center for Cancer Research\n",
      "    preferredDefinition: Process and results associated with self-reported measures\n",
      "      and instruments, surveys, other tools\n",
      "    preferredName: Person Measure/Instrument Testing\n",
      "    publicId: '2524082'\n",
      "    registrationStatus: Application\n",
      "    unresolvedIssues: null\n",
      "    version: '1'\n",
      "    workflowStatus: RELEASED\n",
      "  PermissibleValues:\n",
      "  - ValueMeaning:\n",
      "      Concepts:\n",
      "      - conceptCode: C104476\n",
      "        definition: Intensely at odds.\n",
      "        displayOrder: '0'\n",
      "        evsSource: NCI_CONCEPT_CODE\n",
      "        longName: Strongly Disagree\n",
      "        primaryIndicator: 'Yes'\n",
      "      administrativeNotes: null\n",
      "      beginDate: '2013-02-07'\n",
      "      changeDescription: null\n",
      "      context: NCIP\n",
      "      contextVersion: '1'\n",
      "      createdBy: COOPERM\n",
      "      dateCreated: '2013-02-07'\n",
      "      dateModified: '2018-01-19'\n",
      "      deletedIndicator: 'No'\n",
      "      endDate: null\n",
      "      id: D52DC623-4AA8-9139-E040-BB89AD4368ED\n",
      "      latestVersionIndicator: 'Yes'\n",
      "      longName: '3682710'\n",
      "      modifiedBy: SBR\n",
      "      origin: null\n",
      "      preferredDefinition: Intensely at odds.\n",
      "      preferredName: Strongly Disagree\n",
      "      publicId: '3682710'\n",
      "      registrationStatus: Application\n",
      "      unresolvedIssues: null\n",
      "      version: '1'\n",
      "      workflowStatus: RELEASED\n",
      "    beginDate: '2013-02-07'\n",
      "    createdBy: TSESU\n",
      "    dateCreated: '2017-09-07'\n",
      "    dateModified: '2017-09-07'\n",
      "    deletedIndicator: 'No'\n",
      "    endDate: null\n",
      "    id: 58A301BB-F2B8-325F-E053-F662850AD34F\n",
      "    modifiedBy: ONEDATA\n",
      "    origin: null\n",
      "    value: Strongly Disagree\n",
      "    valueDescription: Strongly Disagree\n",
      "  - ValueMeaning:\n",
      "      Concepts:\n",
      "      - conceptCode: C104479\n",
      "        definition: To be at odds.\n",
      "        displayOrder: '0'\n",
      "        evsSource: NCI_CONCEPT_CODE\n",
      "        longName: Disagree\n",
      "        primaryIndicator: 'Yes'\n",
      "      administrativeNotes: null\n",
      "      beginDate: '2013-02-07'\n",
      "      changeDescription: null\n",
      "      context: NCIP\n",
      "      contextVersion: '1'\n",
      "      createdBy: COOPERM\n",
      "      dateCreated: '2013-02-07'\n",
      "      dateModified: '2018-01-19'\n",
      "      deletedIndicator: 'No'\n",
      "      endDate: null\n",
      "      id: D52DC623-4ACB-9139-E040-BB89AD4368ED\n",
      "      latestVersionIndicator: 'Yes'\n",
      "      longName: '3682711'\n",
      "      modifiedBy: SBR\n",
      "      origin: null\n",
      "      preferredDefinition: To be at odds.\n",
      "      preferredName: Disagree\n",
      "      publicId: '3682711'\n",
      "      registrationStatus: Application\n",
      "      unresolvedIssues: null\n",
      "      version: '1'\n",
      "      workflowStatus: RELEASED\n",
      "    beginDate: '2013-02-07'\n",
      "    createdBy: TSESU\n",
      "    dateCreated: '2017-09-07'\n",
      "    dateModified: '2017-09-07'\n",
      "    deletedIndicator: 'No'\n",
      "    endDate: null\n",
      "    id: 58A301BB-F2C2-325F-E053-F662850AD34F\n",
      "    modifiedBy: ONEDATA\n",
      "    origin: null\n",
      "    value: Disagree\n",
      "    valueDescription: Disagree\n",
      "  - ValueMeaning:\n",
      "      Concepts:\n",
      "      - conceptCode: C103804\n",
      "        definition: Without concurrence or opposition.\n",
      "        displayOrder: '0'\n",
      "        evsSource: NCI_CONCEPT_CODE\n",
      "        longName: Neither Agree or Disagree\n",
      "        primaryIndicator: 'Yes'\n",
      "      administrativeNotes: null\n",
      "      beginDate: '2013-02-07'\n",
      "      changeDescription: null\n",
      "      context: NCIP\n",
      "      contextVersion: '1'\n",
      "      createdBy: COOPERM\n",
      "      dateCreated: '2013-02-07'\n",
      "      dateModified: '2023-12-21'\n",
      "      deletedIndicator: 'No'\n",
      "      endDate: null\n",
      "      id: D52DC623-4AF0-9139-E040-BB89AD4368ED\n",
      "      latestVersionIndicator: 'Yes'\n",
      "      longName: '3682712'\n",
      "      modifiedBy: MMADDINENI\n",
      "      origin: null\n",
      "      preferredDefinition: Without concurrence or opposition.\n",
      "      preferredName: Neither Agree or Disagree\n",
      "      publicId: '3682712'\n",
      "      registrationStatus: Application\n",
      "      unresolvedIssues: null\n",
      "      version: '1'\n",
      "      workflowStatus: RELEASED\n",
      "    beginDate: '2013-02-07'\n",
      "    createdBy: TSESU\n",
      "    dateCreated: '2017-09-07'\n",
      "    dateModified: '2017-09-07'\n",
      "    deletedIndicator: 'No'\n",
      "    endDate: null\n",
      "    id: 58A301BB-F2CC-325F-E053-F662850AD34F\n",
      "    modifiedBy: ONEDATA\n",
      "    origin: null\n",
      "    value: No Opinion\n",
      "    valueDescription: Neither Agree or Disagree\n",
      "  - ValueMeaning:\n",
      "      Concepts:\n",
      "      - conceptCode: C104478\n",
      "        definition: To concur.\n",
      "        displayOrder: '0'\n",
      "        evsSource: NCI_CONCEPT_CODE\n",
      "        longName: Agree\n",
      "        primaryIndicator: 'Yes'\n",
      "      administrativeNotes: null\n",
      "      beginDate: '2013-02-07'\n",
      "      changeDescription: null\n",
      "      context: NCIP\n",
      "      contextVersion: '1'\n",
      "      createdBy: COOPERM\n",
      "      dateCreated: '2013-02-07'\n",
      "      dateModified: '2018-01-19'\n",
      "      deletedIndicator: 'No'\n",
      "      endDate: null\n",
      "      id: D52DC623-4B13-9139-E040-BB89AD4368ED\n",
      "      latestVersionIndicator: 'Yes'\n",
      "      longName: '3682713'\n",
      "      modifiedBy: SBR\n",
      "      origin: null\n",
      "      preferredDefinition: To concur.\n",
      "      preferredName: Agree\n",
      "      publicId: '3682713'\n",
      "      registrationStatus: Application\n",
      "      unresolvedIssues: null\n",
      "      version: '1'\n",
      "      workflowStatus: RELEASED\n",
      "    beginDate: '2013-02-07'\n",
      "    createdBy: TSESU\n",
      "    dateCreated: '2017-09-07'\n",
      "    dateModified: '2017-09-07'\n",
      "    deletedIndicator: 'No'\n",
      "    endDate: null\n",
      "    id: 58A301BB-F2D6-325F-E053-F662850AD34F\n",
      "    modifiedBy: ONEDATA\n",
      "    origin: null\n",
      "    value: Agree\n",
      "    valueDescription: Agree\n",
      "  - ValueMeaning:\n",
      "      Concepts:\n",
      "      - conceptCode: C104475\n",
      "        definition: Intense concurrence.\n",
      "        displayOrder: '0'\n",
      "        evsSource: NCI_CONCEPT_CODE\n",
      "        longName: Strongly Agree\n",
      "        primaryIndicator: 'Yes'\n",
      "      administrativeNotes: null\n",
      "      beginDate: '2013-02-07'\n",
      "      changeDescription: null\n",
      "      context: NCIP\n",
      "      contextVersion: '1'\n",
      "      createdBy: COOPERM\n",
      "      dateCreated: '2013-02-07'\n",
      "      dateModified: '2018-01-19'\n",
      "      deletedIndicator: 'No'\n",
      "      endDate: null\n",
      "      id: D52DC623-4B36-9139-E040-BB89AD4368ED\n",
      "      latestVersionIndicator: 'Yes'\n",
      "      longName: '3682714'\n",
      "      modifiedBy: SBR\n",
      "      origin: null\n",
      "      preferredDefinition: Intense concurrence.\n",
      "      preferredName: Strongly Agree\n",
      "      publicId: '3682714'\n",
      "      registrationStatus: Application\n",
      "      unresolvedIssues: null\n",
      "      version: '1'\n",
      "      workflowStatus: RELEASED\n",
      "    beginDate: '2013-02-07'\n",
      "    createdBy: TSESU\n",
      "    dateCreated: '2017-09-07'\n",
      "    dateModified: '2017-09-07'\n",
      "    deletedIndicator: 'No'\n",
      "    endDate: null\n",
      "    id: 58A301BB-F2E0-325F-E053-F662850AD34F\n",
      "    modifiedBy: ONEDATA\n",
      "    origin: null\n",
      "    value: Strongly Agree\n",
      "    valueDescription: Strongly Agree\n",
      "  RepresentationTerm:\n",
      "    Concepts:\n",
      "    - conceptCode: C25664\n",
      "      definition: An ordered reference standard used to measure incremental changes.\n",
      "      displayOrder: '0'\n",
      "      evsSource: NCI_CONCEPT_CODE\n",
      "      longName: Scale\n",
      "      primaryIndicator: 'Yes'\n",
      "    administrativeNotes: null\n",
      "    beginDate: '2006-02-24'\n",
      "    changeDescription: null\n",
      "    context: NCIP\n",
      "    contextVersion: '1'\n",
      "    createdBy: CAMPBELB\n",
      "    dateCreated: '2006-02-24'\n",
      "    dateModified: '2006-02-24'\n",
      "    deletedIndicator: 'No'\n",
      "    endDate: null\n",
      "    id: 0D51E8D8-69DD-387C-E044-0003BA3F9857\n",
      "    latestVersionIndicator: 'Yes'\n",
      "    longName: C25664\n",
      "    modifiedBy: ONEDATA\n",
      "    origin: NCI Thesaurus\n",
      "    preferredDefinition: an ordered reference standard.\n",
      "    preferredName: Scale\n",
      "    publicId: '2452834'\n",
      "    registrationStatus: Standard\n",
      "    unresolvedIssues: null\n",
      "    version: '1'\n",
      "    workflowStatus: RELEASED\n",
      "  administrativeNotes: null\n",
      "  beginDate: '2017-09-21'\n",
      "  changeDescription: 'Created new version to meet BP requirements: smt 9/7/17'\n",
      "  context: NCI Standards\n",
      "  contextVersion: '1'\n",
      "  createdBy: TSESU\n",
      "  dataType: CHARACTER\n",
      "  dateCreated: '2017-09-07'\n",
      "  dateModified: '2017-09-21'\n",
      "  decimalPlace: null\n",
      "  deletedIndicator: 'No'\n",
      "  endDate: null\n",
      "  id: 58A301BB-F2A1-325F-E053-F662850AD34F\n",
      "  latestVersionIndicator: 'Yes'\n",
      "  longName: AGMT_5PT_SCL\n",
      "  maxLength: '20'\n",
      "  maxValue: null\n",
      "  minLength: null\n",
      "  minValue: null\n",
      "  modifiedBy: TSESU\n",
      "  origin: MDADI:M.D.Anderson Dysphagia Inventory, Amy Y.Chen, 2000\n",
      "  preferredDefinition: A number with no fractional part, including the negative and\n",
      "    positive numbers as well as zero.::5_The precise location of something; a spatially\n",
      "    limited location._an ordered reference standard.\n",
      "  preferredName: Agreement 5 Point Likert Scale\n",
      "  publicId: '3682709'\n",
      "  registrationStatus: Standard\n",
      "  type: Enumerated\n",
      "  unresolvedIssues: null\n",
      "  version: '2'\n",
      "  workflowStatus: RELEASED\n",
      "administrativeNotes: null\n",
      "beginDate: '2021-01-29'\n",
      "changeDescription: Released. 03/18/2021 KMM; System generated def displayed as alt\n",
      "  def.\n",
      "context: NHLBI\n",
      "contextVersion: '1'\n",
      "createdBy: MALUMK\n",
      "dateCreated: '2021-01-29'\n",
      "dateModified: '2021-03-18'\n",
      "deletedIndicator: 'No'\n",
      "endDate: null\n",
      "id: BA1184FA-0CD9-5906-E053-4EBD850A7F9F\n",
      "latestVersionIndicator: 'Yes'\n",
      "longName: 7571388v1.0:3682709v2.0\n",
      "modifiedBy: MALUMK\n",
      "origin: NMDP:National Marrow Donor Program\n",
      "preferredDefinition: A person's agreement with a statement related to feeling fear\n",
      "  when hearing the term palliative care using a five-point Likert scale.\n",
      "preferredName: Supportive Care When I Hear the Term Palliative Care, I Feel Fear Agreement\n",
      "  5 Point Likert Scale\n",
      "publicId: '7571389'\n",
      "registrationStatus: Application\n",
      "unresolvedIssues: null\n",
      "version: '1'\n",
      "workflowStatus: RELEASED\n"
     ]
    }
   ],
   "source": [
    "import yaml\n",
    "print(yaml.dump(objs[1]))"
   ],
   "metadata": {
    "collapsed": false,
    "ExecuteTime": {
     "end_time": "2024-07-05T23:50:20.381435Z",
     "start_time": "2024-07-05T23:50:20.325723Z"
    }
   },
   "id": "2b173220f17a40bd"
  },
  {
   "cell_type": "code",
   "execution_count": 4,
   "outputs": [],
   "source": [],
   "metadata": {
    "collapsed": false,
    "ExecuteTime": {
     "end_time": "2024-07-05T23:50:20.381795Z",
     "start_time": "2024-07-05T23:50:20.359392Z"
    }
   },
   "id": "bb4cd8e2e5fccbe9"
  },
  {
   "cell_type": "markdown",
   "source": [
    "## Creating a client and attaching to a database\n",
    "\n",
    "First we will create a client as normal:"
   ],
   "metadata": {
    "collapsed": false
   },
   "id": "493c7599d2f40c27"
  },
  {
   "cell_type": "code",
   "execution_count": 5,
   "outputs": [],
   "source": [
    "from linkml_store import Client\n",
    "\n",
    "client = Client()"
   ],
   "metadata": {
    "collapsed": false,
    "ExecuteTime": {
     "end_time": "2024-07-05T23:50:21.712837Z",
     "start_time": "2024-07-05T23:50:20.362189Z"
    }
   },
   "id": "initial_id"
  },
  {
   "cell_type": "markdown",
   "source": [
    "Next we'll attach to a MongoDB instance. this assumes you have one running already."
   ],
   "metadata": {
    "collapsed": false
   },
   "id": "470f1cb70bf3641b"
  },
  {
   "cell_type": "code",
   "execution_count": 5,
   "outputs": [],
   "source": [],
   "metadata": {
    "collapsed": false,
    "ExecuteTime": {
     "end_time": "2024-07-05T23:50:21.717944Z",
     "start_time": "2024-07-05T23:50:21.713049Z"
    }
   },
   "id": "b6e10e0c4e1ae6d3"
  },
  {
   "cell_type": "code",
   "execution_count": 6,
   "outputs": [],
   "source": [
    "db = client.attach_database(\"mongodb://localhost:27017/cadsr\", \"cadsr\", recreate_if_exists=True)"
   ],
   "metadata": {
    "collapsed": false,
    "ExecuteTime": {
     "end_time": "2024-07-05T23:50:21.718084Z",
     "start_time": "2024-07-05T23:50:21.715036Z"
    }
   },
   "id": "cc164c0acbe4c39d"
  },
  {
   "cell_type": "markdown",
   "source": [
    "## Creating a collection\n",
    "\n",
    "We'll create a simple test collection. The concept of collection in linkml-store maps directly to mongodb collections"
   ],
   "metadata": {
    "collapsed": false
   },
   "id": "334ea2ced79828f7"
  },
  {
   "cell_type": "markdown",
   "source": [],
   "metadata": {
    "collapsed": false
   },
   "id": "a0a98c5a5c9f0072"
  },
  {
   "cell_type": "code",
   "execution_count": 7,
   "outputs": [],
   "source": [
    "collection = db.create_collection(\"cdes\", recreate_if_exists=True)"
   ],
   "metadata": {
    "collapsed": false,
    "ExecuteTime": {
     "end_time": "2024-07-05T23:50:22.240695Z",
     "start_time": "2024-07-05T23:50:21.717882Z"
    }
   },
   "id": "c3a79013f9359a9"
  },
  {
   "cell_type": "markdown",
   "source": [
    "## Loading"
   ],
   "metadata": {
    "collapsed": false
   },
   "id": "207f35ee61edc14d"
  },
  {
   "cell_type": "code",
   "execution_count": 8,
   "outputs": [],
   "source": [
    "collection.insert(objs)"
   ],
   "metadata": {
    "collapsed": false,
    "ExecuteTime": {
     "end_time": "2024-07-05T23:50:36.631821Z",
     "start_time": "2024-07-05T23:50:22.260377Z"
    }
   },
   "id": "4a09a78fe3c8dc33"
  },
  {
   "cell_type": "code",
   "execution_count": 9,
   "outputs": [],
   "source": [
    "collection.commit()"
   ],
   "metadata": {
    "collapsed": false,
    "ExecuteTime": {
     "end_time": "2024-07-05T23:50:36.639055Z",
     "start_time": "2024-07-05T23:50:36.631927Z"
    }
   },
   "id": "b7d4c15c8c23590e"
  },
  {
   "cell_type": "code",
   "execution_count": 10,
   "outputs": [
    {
     "data": {
      "text/plain": "74229"
     },
     "execution_count": 10,
     "metadata": {},
     "output_type": "execute_result"
    }
   ],
   "source": [
    "collection.find({}, limit=5).num_rows"
   ],
   "metadata": {
    "collapsed": false,
    "ExecuteTime": {
     "end_time": "2024-07-05T23:50:36.669008Z",
     "start_time": "2024-07-05T23:50:36.634229Z"
    }
   },
   "id": "f505fdc8cc20196e"
  },
  {
   "cell_type": "markdown",
   "source": [
    "Let's check with pandas just to make sure it looks as expected:"
   ],
   "metadata": {
    "collapsed": false
   },
   "id": "90e2e9793375431f"
  },
  {
   "cell_type": "code",
   "execution_count": 11,
   "outputs": [
    {
     "data": {
      "text/plain": "  publicId version                                      preferredName  \\\n0  2869761       1  Clinical Performed Observation Outcome Referen...   \n1  7571389       1  Supportive Care When I Hear the Term Palliativ...   \n2  2773112       1        Antibody Antibody Isotype java.lang.Boolean   \n\n                                 preferredDefinition                 longName  \\\n0  A coded value specifying the relationship of a...  2868088v1.0:2803170v1.0   \n1  A person's agreement with a statement related ...  7571388v1.0:3682709v2.0   \n2  An antibody is a type of protein made by B lym...  2753919v1.0:2178538v1.0   \n\n  context contextVersion                                 DataElementConcept  \\\n0    NCIP              1  {'publicId': '2868088', 'version': '1', 'prefe...   \n1   NHLBI              1  {'publicId': '7571388', 'version': '1', 'prefe...   \n2    NCIP              1  {'publicId': '2753919', 'version': '1', 'prefe...   \n\n                                         ValueDomain  \\\n0  {'publicId': '2803170', 'version': '1', 'prefe...   \n1  {'publicId': '3682709', 'version': '2', 'prefe...   \n2  {'publicId': '2178538', 'version': '1', 'prefe...   \n\n                               ClassificationSchemes  ...   beginDate endDate  \\\n0  [{'publicId': '2714898', 'version': '3.02', 'l...  ...  2009-05-06    None   \n1                                                 []  ...  2021-01-29    None   \n2  [{'publicId': '2772168', 'version': '1.1', 'lo...  ...  2008-08-12    None   \n\n            createdBy dateCreated modifiedBy dateModified  \\\n0  UMLLOADER_BRIDGPRD  2009-05-06     SBREXT   2019-10-03   \n1              MALUMK  2021-01-29     MALUMK   2021-03-18   \n2    UMLLOADER_CALIMS  2008-08-12    CHILLIJ   2010-06-12   \n\n                                   changeDescription administrativeNotes  \\\n0  Moved UML alt def to CDE preferred def and rel...                None   \n1  Released. 03/18/2021 KMM; System generated def...                None   \n2  8/12/2010 released at request of caLIMS2 model...                None   \n\n  unresolvedIssues deletedIndicator  \n0             None               No  \n1             None               No  \n2             None               No  \n\n[3 rows x 27 columns]",
      "text/html": "<div>\n<style scoped>\n    .dataframe tbody tr th:only-of-type {\n        vertical-align: middle;\n    }\n\n    .dataframe tbody tr th {\n        vertical-align: top;\n    }\n\n    .dataframe thead th {\n        text-align: right;\n    }\n</style>\n<table border=\"1\" class=\"dataframe\">\n  <thead>\n    <tr style=\"text-align: right;\">\n      <th></th>\n      <th>publicId</th>\n      <th>version</th>\n      <th>preferredName</th>\n      <th>preferredDefinition</th>\n      <th>longName</th>\n      <th>context</th>\n      <th>contextVersion</th>\n      <th>DataElementConcept</th>\n      <th>ValueDomain</th>\n      <th>ClassificationSchemes</th>\n      <th>...</th>\n      <th>beginDate</th>\n      <th>endDate</th>\n      <th>createdBy</th>\n      <th>dateCreated</th>\n      <th>modifiedBy</th>\n      <th>dateModified</th>\n      <th>changeDescription</th>\n      <th>administrativeNotes</th>\n      <th>unresolvedIssues</th>\n      <th>deletedIndicator</th>\n    </tr>\n  </thead>\n  <tbody>\n    <tr>\n      <th>0</th>\n      <td>2869761</td>\n      <td>1</td>\n      <td>Clinical Performed Observation Outcome Referen...</td>\n      <td>A coded value specifying the relationship of a...</td>\n      <td>2868088v1.0:2803170v1.0</td>\n      <td>NCIP</td>\n      <td>1</td>\n      <td>{'publicId': '2868088', 'version': '1', 'prefe...</td>\n      <td>{'publicId': '2803170', 'version': '1', 'prefe...</td>\n      <td>[{'publicId': '2714898', 'version': '3.02', 'l...</td>\n      <td>...</td>\n      <td>2009-05-06</td>\n      <td>None</td>\n      <td>UMLLOADER_BRIDGPRD</td>\n      <td>2009-05-06</td>\n      <td>SBREXT</td>\n      <td>2019-10-03</td>\n      <td>Moved UML alt def to CDE preferred def and rel...</td>\n      <td>None</td>\n      <td>None</td>\n      <td>No</td>\n    </tr>\n    <tr>\n      <th>1</th>\n      <td>7571389</td>\n      <td>1</td>\n      <td>Supportive Care When I Hear the Term Palliativ...</td>\n      <td>A person's agreement with a statement related ...</td>\n      <td>7571388v1.0:3682709v2.0</td>\n      <td>NHLBI</td>\n      <td>1</td>\n      <td>{'publicId': '7571388', 'version': '1', 'prefe...</td>\n      <td>{'publicId': '3682709', 'version': '2', 'prefe...</td>\n      <td>[]</td>\n      <td>...</td>\n      <td>2021-01-29</td>\n      <td>None</td>\n      <td>MALUMK</td>\n      <td>2021-01-29</td>\n      <td>MALUMK</td>\n      <td>2021-03-18</td>\n      <td>Released. 03/18/2021 KMM; System generated def...</td>\n      <td>None</td>\n      <td>None</td>\n      <td>No</td>\n    </tr>\n    <tr>\n      <th>2</th>\n      <td>2773112</td>\n      <td>1</td>\n      <td>Antibody Antibody Isotype java.lang.Boolean</td>\n      <td>An antibody is a type of protein made by B lym...</td>\n      <td>2753919v1.0:2178538v1.0</td>\n      <td>NCIP</td>\n      <td>1</td>\n      <td>{'publicId': '2753919', 'version': '1', 'prefe...</td>\n      <td>{'publicId': '2178538', 'version': '1', 'prefe...</td>\n      <td>[{'publicId': '2772168', 'version': '1.1', 'lo...</td>\n      <td>...</td>\n      <td>2008-08-12</td>\n      <td>None</td>\n      <td>UMLLOADER_CALIMS</td>\n      <td>2008-08-12</td>\n      <td>CHILLIJ</td>\n      <td>2010-06-12</td>\n      <td>8/12/2010 released at request of caLIMS2 model...</td>\n      <td>None</td>\n      <td>None</td>\n      <td>No</td>\n    </tr>\n  </tbody>\n</table>\n<p>3 rows × 27 columns</p>\n</div>"
     },
     "execution_count": 11,
     "metadata": {},
     "output_type": "execute_result"
    }
   ],
   "source": [
    "qr = collection.find({}, limit=3)\n",
    "qr.rows_dataframe"
   ],
   "metadata": {
    "collapsed": false,
    "ExecuteTime": {
     "end_time": "2024-07-05T23:50:36.712605Z",
     "start_time": "2024-07-05T23:50:36.666408Z"
    }
   },
   "id": "e763fe6cd50022e2"
  },
  {
   "cell_type": "code",
   "execution_count": 12,
   "outputs": [
    {
     "data": {
      "text/plain": "{'publicId': '7571389',\n 'version': '1',\n 'preferredName': 'Supportive Care When I Hear the Term Palliative Care, I Feel Fear Agreement 5 Point Likert Scale',\n 'preferredDefinition': \"A person's agreement with a statement related to feeling fear when hearing the term palliative care using a five-point Likert scale.\",\n 'longName': '7571388v1.0:3682709v2.0',\n 'context': 'NHLBI',\n 'contextVersion': '1',\n 'DataElementConcept': {'publicId': '7571388',\n  'version': '1',\n  'preferredName': 'Supportive Care When I Hear The Term Palliative Care, I Feel Fear Agreement Scale',\n  'preferredDefinition': 'Supportive care is that which helps the patient and their family to cope with cancer and treatment of it from pre-diagnosis, through the process of diagnosis and treatment, to cure, continuing illness or death and into bereavement. It helps the patient to maximize the benefits of treatment and to live as well as possible with the effects of the disease. Supportive therapy may provide a patient with friendship, encouragement, practical advice such as access to community resources or how to develop a more active social life, vocational counseling, suggestions for minimizing friction with family members, and, above all, hope that the life of the patient may be improved. In all situations, supportive therapy involves the teaching of such life skills as managing medication, learning to socialize, handling finances, and getting a job._A question about how strongly an individual agrees that they would feel a specified emotion when they hear the term \"palliative care\"._A feeling of apprehension that one may be in danger._The act of agreeing to a plan, protocol, or arrangement. Also used to describe a harmony of opinion._An ordered reference standard used to measure incremental changes.',\n  'longName': '7559951v1.0:7571386v1.0',\n  'context': 'NHLBI',\n  'contextVersion': '1',\n  'ObjectClass': {'publicId': '7559951',\n   'version': '1',\n   'preferredName': 'Supportive Care',\n   'preferredDefinition': 'Supportive care is that which helps the patient and their family to cope with cancer and treatment of it from pre-diagnosis, through the process of diagnosis and treatment, to cure, continuing illness or death and into bereavement. It helps the patient to maximize the benefits of treatment and to live as well as possible with the effects of the disease. Supportive therapy may provide a patient with friendship, encouragement, practical advice such as access to community resources or how to develop a more active social life, vocational counseling, suggestions for minimizing friction with family members, and, above all, hope that the life of the patient may be improved. In all situations, supportive therapy involves the teaching of such life skills as managing medication, learning to socialize, handling finances, and getting a job.',\n   'longName': 'C15747',\n   'context': 'NCIP',\n   'contextVersion': '1',\n   'Concepts': [{'longName': 'Supportive Care',\n     'conceptCode': 'C15747',\n     'definition': 'Supportive care is that which helps the patient and their family to cope with cancer and treatment of it from pre-diagnosis, through the process of diagnosis and treatment, to cure, continuing illness or death and into bereavement. It helps the patient to maximize the benefits of treatment and to live as well as possible with the effects of the disease. Supportive therapy may provide a patient with friendship, encouragement, practical advice such as access to community resources or how to develop a more active social life, vocational counseling, suggestions for minimizing friction with family members, and, above all, hope that the life of the patient may be improved. In all situations, supportive therapy involves the teaching of such life skills as managing medication, learning to socialize, handling finances, and getting a job.',\n     'evsSource': 'NCI_CONCEPT_CODE',\n     'primaryIndicator': 'Yes',\n     'displayOrder': '0'}],\n   'origin': 'NCI Thesaurus',\n   'workflowStatus': 'RELEASED',\n   'registrationStatus': 'Application',\n   'id': 'B9E8B130-3E9E-5D7D-E053-4EBD850A6CF1',\n   'latestVersionIndicator': 'Yes',\n   'beginDate': '2021-01-27',\n   'endDate': None,\n   'createdBy': 'MALUMK',\n   'dateCreated': '2021-01-27',\n   'modifiedBy': 'ONEDATA',\n   'dateModified': '2021-01-27',\n   'changeDescription': None,\n   'administrativeNotes': None,\n   'unresolvedIssues': None,\n   'deletedIndicator': 'No'},\n  'Property': {'publicId': '7571386',\n   'version': '1',\n   'preferredName': 'What I Feel When I Hear Palliative Care Fear Agreement Scale',\n   'preferredDefinition': 'A question about how strongly an individual agrees that they would feel a specified emotion when they hear the term \"palliative care\".:A feeling of apprehension that one may be in danger.:The act of agreeing to a plan, protocol, or arrangement. Also used to describe a harmony of opinion.:An ordered reference standard used to measure incremental changes.',\n   'longName': 'C177230:C77960:C25369:C25664',\n   'context': 'NCIP',\n   'contextVersion': '1',\n   'Concepts': [{'longName': 'What I Feel When I Hear Palliative Care',\n     'conceptCode': 'C177230',\n     'definition': 'A question about how strongly an individual agrees that they would feel a specified emotion when they hear the term \"palliative care\".',\n     'evsSource': 'NCI_CONCEPT_CODE',\n     'primaryIndicator': 'No',\n     'displayOrder': '3'},\n    {'longName': 'Fear',\n     'conceptCode': 'C77960',\n     'definition': 'A feeling of apprehension that one may be in danger.',\n     'evsSource': 'NCI_CONCEPT_CODE',\n     'primaryIndicator': 'No',\n     'displayOrder': '2'},\n    {'longName': 'Agreement',\n     'conceptCode': 'C25369',\n     'definition': 'The act of agreeing to a plan, protocol, or arrangement. Also used to describe a harmony of opinion.',\n     'evsSource': 'NCI_CONCEPT_CODE',\n     'primaryIndicator': 'No',\n     'displayOrder': '1'},\n    {'longName': 'Scale',\n     'conceptCode': 'C25664',\n     'definition': 'An ordered reference standard used to measure incremental changes.',\n     'evsSource': 'NCI_CONCEPT_CODE',\n     'primaryIndicator': 'Yes',\n     'displayOrder': '0'}],\n   'origin': None,\n   'workflowStatus': 'RELEASED',\n   'registrationStatus': 'Application',\n   'id': 'BA115178-92C1-5D90-E053-4EBD850A955D',\n   'latestVersionIndicator': 'Yes',\n   'beginDate': '2021-01-29',\n   'endDate': None,\n   'createdBy': 'MALUMK',\n   'dateCreated': '2021-01-29',\n   'modifiedBy': 'ONEDATA',\n   'dateModified': '2021-01-29',\n   'changeDescription': None,\n   'administrativeNotes': None,\n   'unresolvedIssues': None,\n   'deletedIndicator': 'No'},\n  'ConceptualDomain': {'publicId': '2524082',\n   'version': '1',\n   'preferredName': 'Person Measure/Instrument Testing',\n   'preferredDefinition': 'Process and results associated with self-reported measures and instruments, surveys, other tools',\n   'longName': 'MEASURE/INSTRUMENT TESTING',\n   'context': 'CCR',\n   'contextVersion': '1',\n   'origin': 'CCR:Center for Cancer Research',\n   'workflowStatus': 'RELEASED',\n   'registrationStatus': 'Application',\n   'id': '1E838B40-6636-0A25-E044-0003BA3F9857',\n   'latestVersionIndicator': 'Yes',\n   'beginDate': '2006-09-28',\n   'endDate': None,\n   'createdBy': 'REEVESD',\n   'dateCreated': '2006-09-28',\n   'modifiedBy': 'REEVESD',\n   'dateModified': '2008-11-19',\n   'changeDescription': None,\n   'administrativeNotes': None,\n   'unresolvedIssues': None,\n   'deletedIndicator': 'No'},\n  'origin': 'NMDP:National Marrow Donor Program',\n  'workflowStatus': 'RELEASED',\n  'registrationStatus': 'Application',\n  'id': 'BA115178-92D2-5D90-E053-4EBD850A955D',\n  'latestVersionIndicator': 'Yes',\n  'beginDate': '2021-01-29',\n  'endDate': None,\n  'createdBy': 'MALUMK',\n  'dateCreated': '2021-01-29',\n  'modifiedBy': 'MALUMK',\n  'dateModified': '2021-03-18',\n  'changeDescription': 'Released. 03/18/2021 KMM',\n  'administrativeNotes': None,\n  'unresolvedIssues': None,\n  'deletedIndicator': 'No'},\n 'ValueDomain': {'publicId': '3682709',\n  'version': '2',\n  'preferredName': 'Agreement 5 Point Likert Scale',\n  'preferredDefinition': 'A number with no fractional part, including the negative and positive numbers as well as zero.::5_The precise location of something; a spatially limited location._an ordered reference standard.',\n  'longName': 'AGMT_5PT_SCL',\n  'context': 'NCI Standards',\n  'contextVersion': '1',\n  'type': 'Enumerated',\n  'dataType': 'CHARACTER',\n  'minLength': None,\n  'maxLength': '20',\n  'minValue': None,\n  'maxValue': None,\n  'decimalPlace': None,\n  'PermissibleValues': [{'value': 'Strongly Disagree',\n    'valueDescription': 'Strongly Disagree',\n    'ValueMeaning': {'publicId': '3682710',\n     'version': '1',\n     'preferredName': 'Strongly Disagree',\n     'longName': '3682710',\n     'preferredDefinition': 'Intensely at odds.',\n     'context': 'NCIP',\n     'contextVersion': '1',\n     'Concepts': [{'longName': 'Strongly Disagree',\n       'conceptCode': 'C104476',\n       'definition': 'Intensely at odds.',\n       'evsSource': 'NCI_CONCEPT_CODE',\n       'primaryIndicator': 'Yes',\n       'displayOrder': '0'}],\n     'origin': None,\n     'workflowStatus': 'RELEASED',\n     'registrationStatus': 'Application',\n     'id': 'D52DC623-4AA8-9139-E040-BB89AD4368ED',\n     'latestVersionIndicator': 'Yes',\n     'beginDate': '2013-02-07',\n     'endDate': None,\n     'createdBy': 'COOPERM',\n     'dateCreated': '2013-02-07',\n     'modifiedBy': 'SBR',\n     'dateModified': '2018-01-19',\n     'changeDescription': None,\n     'administrativeNotes': None,\n     'unresolvedIssues': None,\n     'deletedIndicator': 'No'},\n    'origin': None,\n    'id': '58A301BB-F2B8-325F-E053-F662850AD34F',\n    'beginDate': '2013-02-07',\n    'endDate': None,\n    'createdBy': 'TSESU',\n    'dateCreated': '2017-09-07',\n    'modifiedBy': 'ONEDATA',\n    'dateModified': '2017-09-07',\n    'deletedIndicator': 'No'},\n   {'value': 'Disagree',\n    'valueDescription': 'Disagree',\n    'ValueMeaning': {'publicId': '3682711',\n     'version': '1',\n     'preferredName': 'Disagree',\n     'longName': '3682711',\n     'preferredDefinition': 'To be at odds.',\n     'context': 'NCIP',\n     'contextVersion': '1',\n     'Concepts': [{'longName': 'Disagree',\n       'conceptCode': 'C104479',\n       'definition': 'To be at odds.',\n       'evsSource': 'NCI_CONCEPT_CODE',\n       'primaryIndicator': 'Yes',\n       'displayOrder': '0'}],\n     'origin': None,\n     'workflowStatus': 'RELEASED',\n     'registrationStatus': 'Application',\n     'id': 'D52DC623-4ACB-9139-E040-BB89AD4368ED',\n     'latestVersionIndicator': 'Yes',\n     'beginDate': '2013-02-07',\n     'endDate': None,\n     'createdBy': 'COOPERM',\n     'dateCreated': '2013-02-07',\n     'modifiedBy': 'SBR',\n     'dateModified': '2018-01-19',\n     'changeDescription': None,\n     'administrativeNotes': None,\n     'unresolvedIssues': None,\n     'deletedIndicator': 'No'},\n    'origin': None,\n    'id': '58A301BB-F2C2-325F-E053-F662850AD34F',\n    'beginDate': '2013-02-07',\n    'endDate': None,\n    'createdBy': 'TSESU',\n    'dateCreated': '2017-09-07',\n    'modifiedBy': 'ONEDATA',\n    'dateModified': '2017-09-07',\n    'deletedIndicator': 'No'},\n   {'value': 'No Opinion',\n    'valueDescription': 'Neither Agree or Disagree',\n    'ValueMeaning': {'publicId': '3682712',\n     'version': '1',\n     'preferredName': 'Neither Agree or Disagree',\n     'longName': '3682712',\n     'preferredDefinition': 'Without concurrence or opposition.',\n     'context': 'NCIP',\n     'contextVersion': '1',\n     'Concepts': [{'longName': 'Neither Agree or Disagree',\n       'conceptCode': 'C103804',\n       'definition': 'Without concurrence or opposition.',\n       'evsSource': 'NCI_CONCEPT_CODE',\n       'primaryIndicator': 'Yes',\n       'displayOrder': '0'}],\n     'origin': None,\n     'workflowStatus': 'RELEASED',\n     'registrationStatus': 'Application',\n     'id': 'D52DC623-4AF0-9139-E040-BB89AD4368ED',\n     'latestVersionIndicator': 'Yes',\n     'beginDate': '2013-02-07',\n     'endDate': None,\n     'createdBy': 'COOPERM',\n     'dateCreated': '2013-02-07',\n     'modifiedBy': 'MMADDINENI',\n     'dateModified': '2023-12-21',\n     'changeDescription': None,\n     'administrativeNotes': None,\n     'unresolvedIssues': None,\n     'deletedIndicator': 'No'},\n    'origin': None,\n    'id': '58A301BB-F2CC-325F-E053-F662850AD34F',\n    'beginDate': '2013-02-07',\n    'endDate': None,\n    'createdBy': 'TSESU',\n    'dateCreated': '2017-09-07',\n    'modifiedBy': 'ONEDATA',\n    'dateModified': '2017-09-07',\n    'deletedIndicator': 'No'},\n   {'value': 'Agree',\n    'valueDescription': 'Agree',\n    'ValueMeaning': {'publicId': '3682713',\n     'version': '1',\n     'preferredName': 'Agree',\n     'longName': '3682713',\n     'preferredDefinition': 'To concur.',\n     'context': 'NCIP',\n     'contextVersion': '1',\n     'Concepts': [{'longName': 'Agree',\n       'conceptCode': 'C104478',\n       'definition': 'To concur.',\n       'evsSource': 'NCI_CONCEPT_CODE',\n       'primaryIndicator': 'Yes',\n       'displayOrder': '0'}],\n     'origin': None,\n     'workflowStatus': 'RELEASED',\n     'registrationStatus': 'Application',\n     'id': 'D52DC623-4B13-9139-E040-BB89AD4368ED',\n     'latestVersionIndicator': 'Yes',\n     'beginDate': '2013-02-07',\n     'endDate': None,\n     'createdBy': 'COOPERM',\n     'dateCreated': '2013-02-07',\n     'modifiedBy': 'SBR',\n     'dateModified': '2018-01-19',\n     'changeDescription': None,\n     'administrativeNotes': None,\n     'unresolvedIssues': None,\n     'deletedIndicator': 'No'},\n    'origin': None,\n    'id': '58A301BB-F2D6-325F-E053-F662850AD34F',\n    'beginDate': '2013-02-07',\n    'endDate': None,\n    'createdBy': 'TSESU',\n    'dateCreated': '2017-09-07',\n    'modifiedBy': 'ONEDATA',\n    'dateModified': '2017-09-07',\n    'deletedIndicator': 'No'},\n   {'value': 'Strongly Agree',\n    'valueDescription': 'Strongly Agree',\n    'ValueMeaning': {'publicId': '3682714',\n     'version': '1',\n     'preferredName': 'Strongly Agree',\n     'longName': '3682714',\n     'preferredDefinition': 'Intense concurrence.',\n     'context': 'NCIP',\n     'contextVersion': '1',\n     'Concepts': [{'longName': 'Strongly Agree',\n       'conceptCode': 'C104475',\n       'definition': 'Intense concurrence.',\n       'evsSource': 'NCI_CONCEPT_CODE',\n       'primaryIndicator': 'Yes',\n       'displayOrder': '0'}],\n     'origin': None,\n     'workflowStatus': 'RELEASED',\n     'registrationStatus': 'Application',\n     'id': 'D52DC623-4B36-9139-E040-BB89AD4368ED',\n     'latestVersionIndicator': 'Yes',\n     'beginDate': '2013-02-07',\n     'endDate': None,\n     'createdBy': 'COOPERM',\n     'dateCreated': '2013-02-07',\n     'modifiedBy': 'SBR',\n     'dateModified': '2018-01-19',\n     'changeDescription': None,\n     'administrativeNotes': None,\n     'unresolvedIssues': None,\n     'deletedIndicator': 'No'},\n    'origin': None,\n    'id': '58A301BB-F2E0-325F-E053-F662850AD34F',\n    'beginDate': '2013-02-07',\n    'endDate': None,\n    'createdBy': 'TSESU',\n    'dateCreated': '2017-09-07',\n    'modifiedBy': 'ONEDATA',\n    'dateModified': '2017-09-07',\n    'deletedIndicator': 'No'}],\n  'ConceptualDomain': {'publicId': '2524082',\n   'version': '1',\n   'preferredName': 'Person Measure/Instrument Testing',\n   'preferredDefinition': 'Process and results associated with self-reported measures and instruments, surveys, other tools',\n   'longName': 'MEASURE/INSTRUMENT TESTING',\n   'context': 'CCR',\n   'contextVersion': '1',\n   'origin': 'CCR:Center for Cancer Research',\n   'workflowStatus': 'RELEASED',\n   'registrationStatus': 'Application',\n   'id': '1E838B40-6636-0A25-E044-0003BA3F9857',\n   'latestVersionIndicator': 'Yes',\n   'beginDate': '2006-09-28',\n   'endDate': None,\n   'createdBy': 'REEVESD',\n   'dateCreated': '2006-09-28',\n   'modifiedBy': 'REEVESD',\n   'dateModified': '2008-11-19',\n   'changeDescription': None,\n   'administrativeNotes': None,\n   'unresolvedIssues': None,\n   'deletedIndicator': 'No'},\n  'RepresentationTerm': {'publicId': '2452834',\n   'version': '1',\n   'preferredName': 'Scale',\n   'preferredDefinition': 'an ordered reference standard.',\n   'longName': 'C25664',\n   'context': 'NCIP',\n   'contextVersion': '1',\n   'Concepts': [{'longName': 'Scale',\n     'conceptCode': 'C25664',\n     'definition': 'An ordered reference standard used to measure incremental changes.',\n     'evsSource': 'NCI_CONCEPT_CODE',\n     'primaryIndicator': 'Yes',\n     'displayOrder': '0'}],\n   'origin': 'NCI Thesaurus',\n   'workflowStatus': 'RELEASED',\n   'registrationStatus': 'Standard',\n   'id': '0D51E8D8-69DD-387C-E044-0003BA3F9857',\n   'latestVersionIndicator': 'Yes',\n   'beginDate': '2006-02-24',\n   'endDate': None,\n   'createdBy': 'CAMPBELB',\n   'dateCreated': '2006-02-24',\n   'modifiedBy': 'ONEDATA',\n   'dateModified': '2006-02-24',\n   'changeDescription': None,\n   'administrativeNotes': None,\n   'unresolvedIssues': None,\n   'deletedIndicator': 'No'},\n  'origin': 'MDADI:M.D.Anderson Dysphagia Inventory, Amy Y.Chen, 2000',\n  'workflowStatus': 'RELEASED',\n  'registrationStatus': 'Standard',\n  'id': '58A301BB-F2A1-325F-E053-F662850AD34F',\n  'latestVersionIndicator': 'Yes',\n  'beginDate': '2017-09-21',\n  'endDate': None,\n  'createdBy': 'TSESU',\n  'dateCreated': '2017-09-07',\n  'modifiedBy': 'TSESU',\n  'dateModified': '2017-09-21',\n  'changeDescription': 'Created new version to meet BP requirements: smt 9/7/17',\n  'administrativeNotes': None,\n  'unresolvedIssues': None,\n  'deletedIndicator': 'No'},\n 'ClassificationSchemes': [],\n 'AlternateNames': [],\n 'ReferenceDocuments': [{'name': 'I feel fear when hearing the',\n   'type': 'Preferred Question Text',\n   'description': 'I feel fear when hearing the term palliative care.',\n   'url': None,\n   'context': 'NHLBI'},\n  {'name': 'When I hear the term palliative care, I feel scared',\n   'type': 'Alternate Question Text',\n   'description': 'When I hear the term palliative care, I feel scared',\n   'url': None,\n   'context': 'NHLBI'},\n  {'name': 'When I hear the term palliative care, I feel scared',\n   'type': 'Application Standard Question Text',\n   'description': 'When I hear the term palliative care, I feel scared',\n   'url': None,\n   'context': 'NHLBI'},\n  {'name': 'When I hear the term palliative care, I feel scared.',\n   'type': 'Alternate Question Text',\n   'description': 'When I hear the term palliative care, I feel scared.',\n   'url': None,\n   'context': 'NHLBI'}],\n 'origin': 'NMDP:National Marrow Donor Program',\n 'workflowStatus': 'RELEASED',\n 'registrationStatus': 'Application',\n 'id': 'BA1184FA-0CD9-5906-E053-4EBD850A7F9F',\n 'latestVersionIndicator': 'Yes',\n 'beginDate': '2021-01-29',\n 'endDate': None,\n 'createdBy': 'MALUMK',\n 'dateCreated': '2021-01-29',\n 'modifiedBy': 'MALUMK',\n 'dateModified': '2021-03-18',\n 'changeDescription': 'Released. 03/18/2021 KMM; System generated def displayed as alt def.',\n 'administrativeNotes': None,\n 'unresolvedIssues': None,\n 'deletedIndicator': 'No'}"
     },
     "execution_count": 12,
     "metadata": {},
     "output_type": "execute_result"
    }
   ],
   "source": [
    "qr.rows[1]"
   ],
   "metadata": {
    "collapsed": false,
    "ExecuteTime": {
     "end_time": "2024-07-05T23:50:36.722188Z",
     "start_time": "2024-07-05T23:50:36.719013Z"
    }
   },
   "id": "4c688db0600f8d57"
  },
  {
   "cell_type": "code",
   "execution_count": 13,
   "outputs": [
    {
     "data": {
      "text/plain": "{'context': [('NCIP', 24061),\n  ('CTEP', 10796),\n  ('NHLBI', 5827),\n  ('COG', 4397),\n  ('NCI Standards', 4092),\n  ('CCR', 2559),\n  ('Alliance', 2362),\n  ('NIDCR', 2332),\n  ('Theradex', 2227),\n  ('DCP', 2188),\n  ('NRG', 1391),\n  ('caCORE', 1213),\n  ('ECOG-ACRIN', 1091),\n  ('PhenX', 915),\n  ('CDMH', 851),\n  ('AMC', 808),\n  ('BBRB', 789),\n  ('OCG', 611),\n  ('PS-CC', 603),\n  ('DCI', 582),\n  ('OCCPR', 517),\n  ('CCTG', 445),\n  ('SWOG', 430),\n  ('MCL', 380),\n  ('Pediatric Cancer', 287),\n  ('ABTC', 242),\n  ('LCC', 221),\n  ('ONC SDC Project', 173),\n  ('PBTC', 172),\n  ('NICHD', 163),\n  ('CRDC', 150),\n  ('NRDS', 147),\n  ('CIP', 132),\n  ('NIH', 130),\n  ('OHSU Knight', 120),\n  ('NIDA', 117),\n  ('AHRQ', 116),\n  ('SPOREs', 97),\n  ('BOLD', 94),\n  ('GDC', 92),\n  ('CITN', 81),\n  ('HTAN', 73),\n  ('PMI', 56),\n  ('iCaRe2', 48),\n  ('EDRN', 35),\n  ('AECC', 12),\n  ('NHC-NCI', 4)],\n 'origin': [('NMDP:National Marrow Donor Program', 5598),\n  (\"COG CRF:Children's Oncology Group Case Report Form\", 3282),\n  ('CDISC:Clinical Data Interchange Standards Consortium', 1693),\n  ('Alliance Case Report Form', 1620),\n  ('ECOG CRF:Eastern Cooperative Oncology Group Case Report Form', 1569),\n  ('THERADEX:Theradex Systems Inc', 1491),\n  ('RTOG CRF:Radiation Therapy Oncology Group Case Report Form', 1060),\n  ('PEARL CRF:Practitioners Engaged in Applied Research and Learning Network Case Report Form',\n   1028),\n  ('TCGA:The Cancer Genome Atlas', 967),\n  ('AMC CRF:AIDS Malignancy Consortium Case Report Form', 924),\n  ('NCCTG CRF:North Central Cancer Treatment Group Case Report Form', 859),\n  ('CALGB CRF:Cancer and Leukemia Group B Case Report Form', 852),\n  ('DCP:Division of Cancer Prevention', 823),\n  ('CCR:Center for Cancer Research', 796),\n  ('SWOG CRF:Southwest Oncology Group Case Report Form', 597),\n  ('NCI CRF Standards', 590),\n  ('HCMI:Human Cancer Models Initiative', 546),\n  ('ACOSOG CRF:American College of Surgeons Oncology Group Case Report Form',\n   542),\n  ('CPTAC: Clinical Proteomic Tumor Analysis Consortium', 515),\n  ('BPV: Biospecimen Pre-analytical Variables (BPV) Program', 475),\n  ('NAACCR:North American Association of Central Cancer Registries', 468),\n  ('AJCC Based:Staging Criteria Based on American Joint Committee on Cancer System',\n   449),\n  ('NSABP CRF:National Surgical Adjuvant Breast and Bowel Project Case Report Form',\n   433),\n  ('GOG CRF:Gynecologic Oncology Group Case Report Form', 401),\n  ('ACRIN:American College of Radiology Imaging Network', 395),\n  ('CTEP CDE Committee', 359),\n  ('MCL:Molecular and Cellular Characterization of Screened Lesions', 345),\n  ('CCG:Center for Cancer Genomics', 336),\n  ('C3D:Central Cancer Clinical Database', 319),\n  ('CCTG: Canadian Cancer Trials Group', 309),\n  ('Princess Margaret Cancer Centre, Toronto, ON', 264),\n  ('CTCAE:Common Terminology Criteria for Adverse Events v3.0', 237),\n  ('DICOM:Digital Imaging and Communications in Medicine', 217),\n  ('NINDS:National Institute of Neurological Disorders and Stroke Common Data Element Project',\n   215),\n  ('PCDC:Pediatric Cancer Data Commons', 203),\n  ('CAP PROTOCOLS:College of American Pathologists Cancer Protocols', 195),\n  ('DCI CRF:  Duke Cancer Institute Case Report Form', 182),\n  ('PCORNet CDM:The Patient-Centered Outcomes Research Network Common Data Model',\n   178),\n  ('NCIC CRF:National Cancer Institute of Canada Case Report Form', 164),\n  ('PROMIS:Patient Reported Outcomes Measurement Information System, PROMIS Health Organization and PROMIS Cooperative Group, 2008-2012',\n   155),\n  ('PedsQL: Pediatric Quality of Life, James W. Varni, Ph.D., 1998', 152),\n  ('Transplant CDE Committee', 143),\n  ('ABTC: Adult Brain Tumor Consortium', 140),\n  ('MSAS 10-18:  Memorial Symptom Assessment Scale (10-18). J. Collins, et al. Journal of Pain and Symptom Management. 2000 May; 19(5): 363-377',\n   134),\n  ('ISA-TAB-Nano:Investigation Study Assay Excel Table Format for Nanotechnology',\n   132),\n  ('PRECEDENT CRF:Practice-based Research Collaborative in Evidence-Based Dentistry Case Report Form',\n   132),\n  ('ADEERS:NCI/CTEP Adverse Event Expedited Report System', 128),\n  ('PRO-CTCAE TM:Patient-Reported Outcomes version of the CTCAE, Item Library Version 1.0, 3/24/2016',\n   127),\n  ('CHAMPS Activities Questionnaire for Older Adults', 124),\n  ('OMOP CDM:The Observational Medical Outcomes Partnership (OMOP) Common Data Model',\n   117),\n  ('AHRQ:AHRQ Common Formats', 116),\n  ('BREAST-Q Version 2.0:Pusic, Klassen, et.al., Memorial Sloan Kettering Cancer Center and the University of British Columbia, 2017.',\n   109),\n  ('CDS:Cancer Data Service', 100),\n  ('NRG CRF:NRG Case Report Form', 100),\n  ('Sentinel CDM:The Sentinel Common Data Model', 98),\n  ('HAP:Human Activity Profile. Daughton, DM and Fix, James, J Rehabil Res Dev. 41(4): 621-630, 1980.',\n   94),\n  ('BOLD:Breast Oncology Local Disease Initiative', 92),\n  ('EPIC:Expanded Prostate Cancer Index Composite', 92),\n  ('LSIDS-A:Lymphedema Symptom and Intensity Survey-Arm; SH Ridner et al., Support Care Cancer (2015)',\n   90),\n  ('PCM:Patient Care Monitor', 89),\n  ('DPBRN CRF:Dental Practice-Based Research Network Case Report Form', 89),\n  ('CCDI:Childhood Cancer Data Initiative', 87),\n  ('MSAS-SF:Memorial Symptom Assessment Scale Short Form.Chang VT, et.al., Cancer. 2000 Sep 1;89(5):1162-71.',\n   82),\n  ('NCISTD: NCI CRF Harmonization and Standards Initiative', 82),\n  ('Brain CDE Disease Committee', 80),\n  ('HEAR-QL:Hearing Environments And Reflection on Quality of Life Measurement for Children aged from Preschool through Adolescense;A. Umansky et al., J Am Acad Audiology',\n   80),\n  ('LBCQ: Lymphedema and Breast Cancer Questionnaire, Jane M. Armer', 80),\n  ('CDUS:Clinical Data Update System', 78),\n  ('HTAN:Human Tumor Atlas Network', 74),\n  ('C-TUQ:Cancer Patient Tobacco Use Questionnaire. NCI-AACR Cancer Patient Tobacco Use Assessment Task Force, 6/19/2015',\n   67),\n  ('Toronto Extremity Salvage Score (TESS); 1996', 66),\n  ('OAMFQ:Older Americans Resource Scale (OARS) Multidimensional Functional Assessment Questionnaire, Fillenbaum, G.G. & Smyer, M., 1981',\n   63),\n  ('GDC:NCI Genomic Data Commons', 61),\n  ('MMQL: Minneapolis-Manchester QOL Survey of Health', 61),\n  ('Skindex-29 Copyright 1996, M.-M. Chren, MD', 60),\n  ('IVI:caBIG In Vivo Imaging Workspace', 60),\n  ('eMERGE:Electronic Medical Records and Genomics Network', 59),\n  ('MSAS:Memorial Symptom Assessment Scale. Portenoy, RK, et.al. Eur J Cancer. 1994;30A(9):1326-36.',\n   56),\n  ('PMI CDISC Harmonization', 54),\n  ('IBCSG CRF:International Breast Cancer Study Group Case Report Form', 53),\n  ('EORTC QLQ-Pan26: EORTC Quality of Life Questionnaire Pancreas 26', 52),\n  ('CPCI: Components of Primary Care Instrument; Flocke et al., Journal of Family Practice, July 1997',\n   52),\n  ('MOS:Medical Outcomes Study, Sherbourne, C. D., 1991 and Stewart, A. L. and J. E. Ware, Jr., Eds. 1992',\n   46),\n  ('iCaRe2: Case Report Forms', 46),\n  ('ACT CDM:The Accrual to Clinical Trials Network Common Data Model', 46),\n  ('MoCA:Montreal Cognitive Assessment; Z.S.Nasreddine et al., J AM Geriatric Society (2005)',\n   44),\n  ('AJCC:American Joint Committee on Cancer Cancer Staging Manual, 6th Ed., 2002',\n   44),\n  ('BASC PRS:Behavior Assessment System for Children, Parent Rating Form. Reynolds, C.R., & Kamphaus, R.W., AGS Publishing, Circle Pines, MN, 2004.',\n   42),\n  ('CRDC:Cancer Research Data Commons', 42),\n  ('NCCN Distress Management Guidelines, Version 2.2016, 07/25/16.', 41),\n  ('NCCN 1.2011 Distress Management Guidelines, 10/12/2010', 40),\n  ('CTD2:Cancer Target Discovery and Development', 40),\n  ('SPPB:Short Physical Performance Battery, Guralnik JM, Simonsick EM, Ferrucci L, et al.J Gerontol. 1994;49(2):M85-94.',\n   40),\n  ('Ped-PRO-CTCAE Item Library Version 1.0 - January 28, 2022; Ped-PRO-CTCAE© was developed with funding from the National Cancer Institute',\n   39),\n  ('RSCL:Rotterdam Symptom Checklist, de Haes, J.C., Olschewski, M., Fayers, P., Visser, M.R.M., Cull, A., Hopwood, P., Sanderman, R., 1982',\n   39),\n  ('MSAS 7-10: Memorial Symptom Assessment Scale (7-10). J. Collins, et al. Journal of Pain and Symptom Management. 2002 Jan; 23(1): 10-16',\n   38),\n  ('FACT-Cog:Functional Assessment of Cancer Therapy - Cognitive Function, David Cella, Ph.D., Version 3, Feb. 2008',\n   37),\n  ('CCI:Charlson Comorbidity Index, Charlson, ME, 1987', 36),\n  ('2015 Edition Common Clinical Data Set - 45 CFR 170.102', 36)]}"
     },
     "execution_count": 13,
     "metadata": {},
     "output_type": "execute_result"
    }
   ],
   "source": [
    "collection.query_facets(facet_columns=[\"context\", \"origin\"])"
   ],
   "metadata": {
    "collapsed": false,
    "ExecuteTime": {
     "end_time": "2024-07-05T23:50:36.881831Z",
     "start_time": "2024-07-05T23:50:36.721520Z"
    }
   },
   "id": "4d99b932ffb41f30"
  },
  {
   "cell_type": "markdown",
   "source": [
    "You can also get facet counts using the CLI:"
   ],
   "metadata": {
    "collapsed": false
   },
   "id": "e2bf9032765dbd82"
  },
  {
   "cell_type": "code",
   "execution_count": null,
   "outputs": [],
   "source": [
    "%%bash\n",
    " linkml-store -d  mongodb://localhost:27017/cadsr -c cdes fq -S longName,DataElementConcept.longName,DataElementConcept.ObjectClass.longName"
   ],
   "metadata": {
    "collapsed": false,
    "is_executing": true
   },
   "id": "9a16d4ae6f8716ee"
  },
  {
   "cell_type": "markdown",
   "source": [
    "## Semantic Search\n",
    "\n",
    "We will index phenopackets using a template that extracts the subject, phenotypic features and diseases."
   ],
   "metadata": {
    "collapsed": false
   },
   "id": "648f05e75f250221"
  },
  {
   "cell_type": "code",
   "execution_count": 14,
   "outputs": [],
   "source": [
    "template = \"\"\"name: {{preferredName}}\n",
    "def: {{preferredDefinition}}\"\"\""
   ],
   "metadata": {
    "collapsed": false,
    "ExecuteTime": {
     "end_time": "2024-07-05T23:50:36.886635Z",
     "start_time": "2024-07-05T23:50:36.881604Z"
    }
   },
   "id": "976095541027ce9e"
  },
  {
   "cell_type": "code",
   "execution_count": 15,
   "outputs": [],
   "source": [
    "from linkml_store.index.implementations.llm_indexer import LLMIndexer\n",
    "\n",
    "index = LLMIndexer(\n",
    "    name=\"cde\", \n",
    "    cached_embeddings_database=\"tmp/llm_cde_cache.db\",\n",
    "    text_template=template,\n",
    "    text_template_syntax=\"jinja2\",\n",
    ")"
   ],
   "metadata": {
    "collapsed": false,
    "ExecuteTime": {
     "end_time": "2024-07-05T23:50:36.892046Z",
     "start_time": "2024-07-05T23:50:36.884406Z"
    }
   },
   "id": "e98f9d6eb4a5e385"
  },
  {
   "cell_type": "code",
   "execution_count": 16,
   "outputs": [
    {
     "name": "stdout",
     "output_type": "stream",
     "text": [
      "name: Clinical Performed Observation Outcome Reference Object Range Comparison Code ISO21090.CD.v1.0\n",
      "def: A coded value specifying the relationship of a value to a normal range or reference range of values. EXAMPLE(S): high, low, within normal range, outside normal range.\n"
     ]
    }
   ],
   "source": [
    "print(index.object_to_text(qr.rows[0]))"
   ],
   "metadata": {
    "collapsed": false,
    "ExecuteTime": {
     "end_time": "2024-07-05T23:50:36.897374Z",
     "start_time": "2024-07-05T23:50:36.893539Z"
    }
   },
   "id": "16dce837e31c88f6"
  },
  {
   "cell_type": "code",
   "execution_count": null,
   "outputs": [
    {
     "data": {
      "text/plain": "FloatProgress(value=0.0, layout=Layout(width='auto'), style=ProgressStyle(bar_color='black'))",
      "application/vnd.jupyter.widget-view+json": {
       "version_major": 2,
       "version_minor": 0,
       "model_id": "f960a2ecb0af445494799bad1ce128b6"
      }
     },
     "metadata": {},
     "output_type": "display_data"
    }
   ],
   "source": [
    "collection.attach_indexer(index, auto_index=True)"
   ],
   "metadata": {
    "collapsed": false,
    "is_executing": true,
    "ExecuteTime": {
     "start_time": "2024-07-05T23:50:36.896640Z"
    }
   },
   "id": "18a0bd86de7f1d81"
  },
  {
   "cell_type": "markdown",
   "source": [
    "## Queries\n",
    "\n",
    "We can specify key-value constraints:"
   ],
   "metadata": {
    "collapsed": false
   },
   "id": "f49056b209918a9"
  },
  {
   "cell_type": "code",
   "execution_count": null,
   "outputs": [],
   "source": [
    "qr = collection.search(\"variables relevant for long COVID\")\n",
    "qr.rows_dataframe[0:10]"
   ],
   "metadata": {
    "collapsed": false,
    "is_executing": true
   },
   "id": "1ddd4ac75719342d"
  },
  {
   "cell_type": "code",
   "execution_count": null,
   "outputs": [],
   "source": [
    "qr.ranked_rows[0]"
   ],
   "metadata": {
    "collapsed": false,
    "is_executing": true
   },
   "id": "5a4fd8fe217fdf6b"
  },
  {
   "cell_type": "markdown",
   "source": [
    "## Validation\n",
    "\n",
    "__TODO__    "
   ],
   "metadata": {
    "collapsed": false
   },
   "id": "41a14e7976a923b3"
  },
  {
   "cell_type": "code",
   "execution_count": null,
   "outputs": [],
   "source": [],
   "metadata": {
    "collapsed": false,
    "is_executing": true
   },
   "id": "5294ee7927a372f1"
  }
 ],
 "metadata": {
  "kernelspec": {
   "display_name": "Python 3",
   "language": "python",
   "name": "python3"
  },
  "language_info": {
   "codemirror_mode": {
    "name": "ipython",
    "version": 2
   },
   "file_extension": ".py",
   "mimetype": "text/x-python",
   "name": "python",
   "nbconvert_exporter": "python",
   "pygments_lexer": "ipython2",
   "version": "2.7.6"
  }
 },
 "nbformat": 4,
 "nbformat_minor": 5
}
