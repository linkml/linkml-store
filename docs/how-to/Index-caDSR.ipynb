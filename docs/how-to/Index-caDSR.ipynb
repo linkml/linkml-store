{
 "cells": [
  {
   "cell_type": "markdown",
   "source": [
    "# How to index the caDSR metadata element registry with LinkML-Store\n",
    "\n",
    "\n",
    "\n"
   ],
   "metadata": {
    "collapsed": false
   },
   "id": "fc4794dd116ed21"
  },
  {
   "cell_type": "code",
   "execution_count": 1,
   "outputs": [],
   "source": [
    "import os\n",
    "import json"
   ],
   "metadata": {
    "collapsed": false,
    "ExecuteTime": {
     "end_time": "2024-07-05T23:02:16.765115Z",
     "start_time": "2024-07-05T23:02:16.686624Z"
    }
   },
   "id": "a152c5ffd4973c7e"
  },
  {
   "cell_type": "code",
   "execution_count": 2,
   "outputs": [],
   "source": [
    "\n",
    "\n",
    "\n",
    "# note: this is a symlink to the actual data\n",
    "path = \"cadsr/cde-json\"\n",
    "objs = []\n",
    "for root, dirs, files in os.walk(path):\n",
    "    for file in files:\n",
    "        if file.endswith(\".json\"):\n",
    "            with open(os.path.join(root, file)) as stream:\n",
    "                obj = json.load(stream)\n",
    "                objs.append(obj['DataElement'])\n"
   ],
   "metadata": {
    "collapsed": false,
    "ExecuteTime": {
     "end_time": "2024-07-05T23:02:41.261716Z",
     "start_time": "2024-07-05T23:02:16.690620Z"
    }
   },
   "id": "142993c7e60551d1"
  },
  {
   "cell_type": "code",
   "execution_count": 3,
   "outputs": [
    {
     "data": {
      "text/plain": "74229"
     },
     "execution_count": 3,
     "metadata": {},
     "output_type": "execute_result"
    }
   ],
   "source": [
    "len(objs)"
   ],
   "metadata": {
    "collapsed": false,
    "ExecuteTime": {
     "end_time": "2024-07-05T23:02:41.269781Z",
     "start_time": "2024-07-05T23:02:41.263241Z"
    }
   },
   "id": "978bf035146309c2"
  },
  {
   "cell_type": "code",
   "execution_count": 4,
   "outputs": [
    {
     "name": "stdout",
     "output_type": "stream",
     "text": [
      "AlternateNames: []\n",
      "ClassificationSchemes: []\n",
      "DataElementConcept:\n",
      "  ConceptualDomain:\n",
      "    administrativeNotes: null\n",
      "    beginDate: '2006-09-28'\n",
      "    changeDescription: null\n",
      "    context: CCR\n",
      "    contextVersion: '1'\n",
      "    createdBy: REEVESD\n",
      "    dateCreated: '2006-09-28'\n",
      "    dateModified: '2008-11-19'\n",
      "    deletedIndicator: 'No'\n",
      "    endDate: null\n",
      "    id: 1E838B40-6636-0A25-E044-0003BA3F9857\n",
      "    latestVersionIndicator: 'Yes'\n",
      "    longName: MEASURE/INSTRUMENT TESTING\n",
      "    modifiedBy: REEVESD\n",
      "    origin: CCR:Center for Cancer Research\n",
      "    preferredDefinition: Process and results associated with self-reported measures\n",
      "      and instruments, surveys, other tools\n",
      "    preferredName: Person Measure/Instrument Testing\n",
      "    publicId: '2524082'\n",
      "    registrationStatus: Application\n",
      "    unresolvedIssues: null\n",
      "    version: '1'\n",
      "    workflowStatus: RELEASED\n",
      "  ObjectClass:\n",
      "    Concepts:\n",
      "    - conceptCode: C15747\n",
      "      definition: Supportive care is that which helps the patient and their family\n",
      "        to cope with cancer and treatment of it from pre-diagnosis, through the process\n",
      "        of diagnosis and treatment, to cure, continuing illness or death and into\n",
      "        bereavement. It helps the patient to maximize the benefits of treatment and\n",
      "        to live as well as possible with the effects of the disease. Supportive therapy\n",
      "        may provide a patient with friendship, encouragement, practical advice such\n",
      "        as access to community resources or how to develop a more active social life,\n",
      "        vocational counseling, suggestions for minimizing friction with family members,\n",
      "        and, above all, hope that the life of the patient may be improved. In all\n",
      "        situations, supportive therapy involves the teaching of such life skills as\n",
      "        managing medication, learning to socialize, handling finances, and getting\n",
      "        a job.\n",
      "      displayOrder: '0'\n",
      "      evsSource: NCI_CONCEPT_CODE\n",
      "      longName: Supportive Care\n",
      "      primaryIndicator: 'Yes'\n",
      "    administrativeNotes: null\n",
      "    beginDate: '2021-01-27'\n",
      "    changeDescription: null\n",
      "    context: NCIP\n",
      "    contextVersion: '1'\n",
      "    createdBy: MALUMK\n",
      "    dateCreated: '2021-01-27'\n",
      "    dateModified: '2021-01-27'\n",
      "    deletedIndicator: 'No'\n",
      "    endDate: null\n",
      "    id: B9E8B130-3E9E-5D7D-E053-4EBD850A6CF1\n",
      "    latestVersionIndicator: 'Yes'\n",
      "    longName: C15747\n",
      "    modifiedBy: ONEDATA\n",
      "    origin: NCI Thesaurus\n",
      "    preferredDefinition: Supportive care is that which helps the patient and their\n",
      "      family to cope with cancer and treatment of it from pre-diagnosis, through the\n",
      "      process of diagnosis and treatment, to cure, continuing illness or death and\n",
      "      into bereavement. It helps the patient to maximize the benefits of treatment\n",
      "      and to live as well as possible with the effects of the disease. Supportive\n",
      "      therapy may provide a patient with friendship, encouragement, practical advice\n",
      "      such as access to community resources or how to develop a more active social\n",
      "      life, vocational counseling, suggestions for minimizing friction with family\n",
      "      members, and, above all, hope that the life of the patient may be improved.\n",
      "      In all situations, supportive therapy involves the teaching of such life skills\n",
      "      as managing medication, learning to socialize, handling finances, and getting\n",
      "      a job.\n",
      "    preferredName: Supportive Care\n",
      "    publicId: '7559951'\n",
      "    registrationStatus: Application\n",
      "    unresolvedIssues: null\n",
      "    version: '1'\n",
      "    workflowStatus: RELEASED\n",
      "  Property:\n",
      "    Concepts:\n",
      "    - conceptCode: C177230\n",
      "      definition: A question about how strongly an individual agrees that they would\n",
      "        feel a specified emotion when they hear the term \"palliative care\".\n",
      "      displayOrder: '3'\n",
      "      evsSource: NCI_CONCEPT_CODE\n",
      "      longName: What I Feel When I Hear Palliative Care\n",
      "      primaryIndicator: 'No'\n",
      "    - conceptCode: C77960\n",
      "      definition: A feeling of apprehension that one may be in danger.\n",
      "      displayOrder: '2'\n",
      "      evsSource: NCI_CONCEPT_CODE\n",
      "      longName: Fear\n",
      "      primaryIndicator: 'No'\n",
      "    - conceptCode: C25369\n",
      "      definition: The act of agreeing to a plan, protocol, or arrangement. Also used\n",
      "        to describe a harmony of opinion.\n",
      "      displayOrder: '1'\n",
      "      evsSource: NCI_CONCEPT_CODE\n",
      "      longName: Agreement\n",
      "      primaryIndicator: 'No'\n",
      "    - conceptCode: C25664\n",
      "      definition: An ordered reference standard used to measure incremental changes.\n",
      "      displayOrder: '0'\n",
      "      evsSource: NCI_CONCEPT_CODE\n",
      "      longName: Scale\n",
      "      primaryIndicator: 'Yes'\n",
      "    administrativeNotes: null\n",
      "    beginDate: '2021-01-29'\n",
      "    changeDescription: null\n",
      "    context: NCIP\n",
      "    contextVersion: '1'\n",
      "    createdBy: MALUMK\n",
      "    dateCreated: '2021-01-29'\n",
      "    dateModified: '2021-01-29'\n",
      "    deletedIndicator: 'No'\n",
      "    endDate: null\n",
      "    id: BA115178-92C1-5D90-E053-4EBD850A955D\n",
      "    latestVersionIndicator: 'Yes'\n",
      "    longName: C177230:C77960:C25369:C25664\n",
      "    modifiedBy: ONEDATA\n",
      "    origin: null\n",
      "    preferredDefinition: A question about how strongly an individual agrees that they\n",
      "      would feel a specified emotion when they hear the term \"palliative care\".:A\n",
      "      feeling of apprehension that one may be in danger.:The act of agreeing to a\n",
      "      plan, protocol, or arrangement. Also used to describe a harmony of opinion.:An\n",
      "      ordered reference standard used to measure incremental changes.\n",
      "    preferredName: What I Feel When I Hear Palliative Care Fear Agreement Scale\n",
      "    publicId: '7571386'\n",
      "    registrationStatus: Application\n",
      "    unresolvedIssues: null\n",
      "    version: '1'\n",
      "    workflowStatus: RELEASED\n",
      "  administrativeNotes: null\n",
      "  beginDate: '2021-01-29'\n",
      "  changeDescription: Released. 03/18/2021 KMM\n",
      "  context: NHLBI\n",
      "  contextVersion: '1'\n",
      "  createdBy: MALUMK\n",
      "  dateCreated: '2021-01-29'\n",
      "  dateModified: '2021-03-18'\n",
      "  deletedIndicator: 'No'\n",
      "  endDate: null\n",
      "  id: BA115178-92D2-5D90-E053-4EBD850A955D\n",
      "  latestVersionIndicator: 'Yes'\n",
      "  longName: 7559951v1.0:7571386v1.0\n",
      "  modifiedBy: MALUMK\n",
      "  origin: NMDP:National Marrow Donor Program\n",
      "  preferredDefinition: Supportive care is that which helps the patient and their family\n",
      "    to cope with cancer and treatment of it from pre-diagnosis, through the process\n",
      "    of diagnosis and treatment, to cure, continuing illness or death and into bereavement.\n",
      "    It helps the patient to maximize the benefits of treatment and to live as well\n",
      "    as possible with the effects of the disease. Supportive therapy may provide a\n",
      "    patient with friendship, encouragement, practical advice such as access to community\n",
      "    resources or how to develop a more active social life, vocational counseling,\n",
      "    suggestions for minimizing friction with family members, and, above all, hope\n",
      "    that the life of the patient may be improved. In all situations, supportive therapy\n",
      "    involves the teaching of such life skills as managing medication, learning to\n",
      "    socialize, handling finances, and getting a job._A question about how strongly\n",
      "    an individual agrees that they would feel a specified emotion when they hear the\n",
      "    term \"palliative care\"._A feeling of apprehension that one may be in danger._The\n",
      "    act of agreeing to a plan, protocol, or arrangement. Also used to describe a harmony\n",
      "    of opinion._An ordered reference standard used to measure incremental changes.\n",
      "  preferredName: Supportive Care When I Hear The Term Palliative Care, I Feel Fear\n",
      "    Agreement Scale\n",
      "  publicId: '7571388'\n",
      "  registrationStatus: Application\n",
      "  unresolvedIssues: null\n",
      "  version: '1'\n",
      "  workflowStatus: RELEASED\n",
      "ReferenceDocuments:\n",
      "- context: NHLBI\n",
      "  description: I feel fear when hearing the term palliative care.\n",
      "  name: I feel fear when hearing the\n",
      "  type: Preferred Question Text\n",
      "  url: null\n",
      "- context: NHLBI\n",
      "  description: When I hear the term palliative care, I feel scared\n",
      "  name: When I hear the term palliative care, I feel scared\n",
      "  type: Alternate Question Text\n",
      "  url: null\n",
      "- context: NHLBI\n",
      "  description: When I hear the term palliative care, I feel scared\n",
      "  name: When I hear the term palliative care, I feel scared\n",
      "  type: Application Standard Question Text\n",
      "  url: null\n",
      "- context: NHLBI\n",
      "  description: When I hear the term palliative care, I feel scared.\n",
      "  name: When I hear the term palliative care, I feel scared.\n",
      "  type: Alternate Question Text\n",
      "  url: null\n",
      "ValueDomain:\n",
      "  ConceptualDomain:\n",
      "    administrativeNotes: null\n",
      "    beginDate: '2006-09-28'\n",
      "    changeDescription: null\n",
      "    context: CCR\n",
      "    contextVersion: '1'\n",
      "    createdBy: REEVESD\n",
      "    dateCreated: '2006-09-28'\n",
      "    dateModified: '2008-11-19'\n",
      "    deletedIndicator: 'No'\n",
      "    endDate: null\n",
      "    id: 1E838B40-6636-0A25-E044-0003BA3F9857\n",
      "    latestVersionIndicator: 'Yes'\n",
      "    longName: MEASURE/INSTRUMENT TESTING\n",
      "    modifiedBy: REEVESD\n",
      "    origin: CCR:Center for Cancer Research\n",
      "    preferredDefinition: Process and results associated with self-reported measures\n",
      "      and instruments, surveys, other tools\n",
      "    preferredName: Person Measure/Instrument Testing\n",
      "    publicId: '2524082'\n",
      "    registrationStatus: Application\n",
      "    unresolvedIssues: null\n",
      "    version: '1'\n",
      "    workflowStatus: RELEASED\n",
      "  PermissibleValues:\n",
      "  - ValueMeaning:\n",
      "      Concepts:\n",
      "      - conceptCode: C104476\n",
      "        definition: Intensely at odds.\n",
      "        displayOrder: '0'\n",
      "        evsSource: NCI_CONCEPT_CODE\n",
      "        longName: Strongly Disagree\n",
      "        primaryIndicator: 'Yes'\n",
      "      administrativeNotes: null\n",
      "      beginDate: '2013-02-07'\n",
      "      changeDescription: null\n",
      "      context: NCIP\n",
      "      contextVersion: '1'\n",
      "      createdBy: COOPERM\n",
      "      dateCreated: '2013-02-07'\n",
      "      dateModified: '2018-01-19'\n",
      "      deletedIndicator: 'No'\n",
      "      endDate: null\n",
      "      id: D52DC623-4AA8-9139-E040-BB89AD4368ED\n",
      "      latestVersionIndicator: 'Yes'\n",
      "      longName: '3682710'\n",
      "      modifiedBy: SBR\n",
      "      origin: null\n",
      "      preferredDefinition: Intensely at odds.\n",
      "      preferredName: Strongly Disagree\n",
      "      publicId: '3682710'\n",
      "      registrationStatus: Application\n",
      "      unresolvedIssues: null\n",
      "      version: '1'\n",
      "      workflowStatus: RELEASED\n",
      "    beginDate: '2013-02-07'\n",
      "    createdBy: TSESU\n",
      "    dateCreated: '2017-09-07'\n",
      "    dateModified: '2017-09-07'\n",
      "    deletedIndicator: 'No'\n",
      "    endDate: null\n",
      "    id: 58A301BB-F2B8-325F-E053-F662850AD34F\n",
      "    modifiedBy: ONEDATA\n",
      "    origin: null\n",
      "    value: Strongly Disagree\n",
      "    valueDescription: Strongly Disagree\n",
      "  - ValueMeaning:\n",
      "      Concepts:\n",
      "      - conceptCode: C104479\n",
      "        definition: To be at odds.\n",
      "        displayOrder: '0'\n",
      "        evsSource: NCI_CONCEPT_CODE\n",
      "        longName: Disagree\n",
      "        primaryIndicator: 'Yes'\n",
      "      administrativeNotes: null\n",
      "      beginDate: '2013-02-07'\n",
      "      changeDescription: null\n",
      "      context: NCIP\n",
      "      contextVersion: '1'\n",
      "      createdBy: COOPERM\n",
      "      dateCreated: '2013-02-07'\n",
      "      dateModified: '2018-01-19'\n",
      "      deletedIndicator: 'No'\n",
      "      endDate: null\n",
      "      id: D52DC623-4ACB-9139-E040-BB89AD4368ED\n",
      "      latestVersionIndicator: 'Yes'\n",
      "      longName: '3682711'\n",
      "      modifiedBy: SBR\n",
      "      origin: null\n",
      "      preferredDefinition: To be at odds.\n",
      "      preferredName: Disagree\n",
      "      publicId: '3682711'\n",
      "      registrationStatus: Application\n",
      "      unresolvedIssues: null\n",
      "      version: '1'\n",
      "      workflowStatus: RELEASED\n",
      "    beginDate: '2013-02-07'\n",
      "    createdBy: TSESU\n",
      "    dateCreated: '2017-09-07'\n",
      "    dateModified: '2017-09-07'\n",
      "    deletedIndicator: 'No'\n",
      "    endDate: null\n",
      "    id: 58A301BB-F2C2-325F-E053-F662850AD34F\n",
      "    modifiedBy: ONEDATA\n",
      "    origin: null\n",
      "    value: Disagree\n",
      "    valueDescription: Disagree\n",
      "  - ValueMeaning:\n",
      "      Concepts:\n",
      "      - conceptCode: C103804\n",
      "        definition: Without concurrence or opposition.\n",
      "        displayOrder: '0'\n",
      "        evsSource: NCI_CONCEPT_CODE\n",
      "        longName: Neither Agree or Disagree\n",
      "        primaryIndicator: 'Yes'\n",
      "      administrativeNotes: null\n",
      "      beginDate: '2013-02-07'\n",
      "      changeDescription: null\n",
      "      context: NCIP\n",
      "      contextVersion: '1'\n",
      "      createdBy: COOPERM\n",
      "      dateCreated: '2013-02-07'\n",
      "      dateModified: '2023-12-21'\n",
      "      deletedIndicator: 'No'\n",
      "      endDate: null\n",
      "      id: D52DC623-4AF0-9139-E040-BB89AD4368ED\n",
      "      latestVersionIndicator: 'Yes'\n",
      "      longName: '3682712'\n",
      "      modifiedBy: MMADDINENI\n",
      "      origin: null\n",
      "      preferredDefinition: Without concurrence or opposition.\n",
      "      preferredName: Neither Agree or Disagree\n",
      "      publicId: '3682712'\n",
      "      registrationStatus: Application\n",
      "      unresolvedIssues: null\n",
      "      version: '1'\n",
      "      workflowStatus: RELEASED\n",
      "    beginDate: '2013-02-07'\n",
      "    createdBy: TSESU\n",
      "    dateCreated: '2017-09-07'\n",
      "    dateModified: '2017-09-07'\n",
      "    deletedIndicator: 'No'\n",
      "    endDate: null\n",
      "    id: 58A301BB-F2CC-325F-E053-F662850AD34F\n",
      "    modifiedBy: ONEDATA\n",
      "    origin: null\n",
      "    value: No Opinion\n",
      "    valueDescription: Neither Agree or Disagree\n",
      "  - ValueMeaning:\n",
      "      Concepts:\n",
      "      - conceptCode: C104478\n",
      "        definition: To concur.\n",
      "        displayOrder: '0'\n",
      "        evsSource: NCI_CONCEPT_CODE\n",
      "        longName: Agree\n",
      "        primaryIndicator: 'Yes'\n",
      "      administrativeNotes: null\n",
      "      beginDate: '2013-02-07'\n",
      "      changeDescription: null\n",
      "      context: NCIP\n",
      "      contextVersion: '1'\n",
      "      createdBy: COOPERM\n",
      "      dateCreated: '2013-02-07'\n",
      "      dateModified: '2018-01-19'\n",
      "      deletedIndicator: 'No'\n",
      "      endDate: null\n",
      "      id: D52DC623-4B13-9139-E040-BB89AD4368ED\n",
      "      latestVersionIndicator: 'Yes'\n",
      "      longName: '3682713'\n",
      "      modifiedBy: SBR\n",
      "      origin: null\n",
      "      preferredDefinition: To concur.\n",
      "      preferredName: Agree\n",
      "      publicId: '3682713'\n",
      "      registrationStatus: Application\n",
      "      unresolvedIssues: null\n",
      "      version: '1'\n",
      "      workflowStatus: RELEASED\n",
      "    beginDate: '2013-02-07'\n",
      "    createdBy: TSESU\n",
      "    dateCreated: '2017-09-07'\n",
      "    dateModified: '2017-09-07'\n",
      "    deletedIndicator: 'No'\n",
      "    endDate: null\n",
      "    id: 58A301BB-F2D6-325F-E053-F662850AD34F\n",
      "    modifiedBy: ONEDATA\n",
      "    origin: null\n",
      "    value: Agree\n",
      "    valueDescription: Agree\n",
      "  - ValueMeaning:\n",
      "      Concepts:\n",
      "      - conceptCode: C104475\n",
      "        definition: Intense concurrence.\n",
      "        displayOrder: '0'\n",
      "        evsSource: NCI_CONCEPT_CODE\n",
      "        longName: Strongly Agree\n",
      "        primaryIndicator: 'Yes'\n",
      "      administrativeNotes: null\n",
      "      beginDate: '2013-02-07'\n",
      "      changeDescription: null\n",
      "      context: NCIP\n",
      "      contextVersion: '1'\n",
      "      createdBy: COOPERM\n",
      "      dateCreated: '2013-02-07'\n",
      "      dateModified: '2018-01-19'\n",
      "      deletedIndicator: 'No'\n",
      "      endDate: null\n",
      "      id: D52DC623-4B36-9139-E040-BB89AD4368ED\n",
      "      latestVersionIndicator: 'Yes'\n",
      "      longName: '3682714'\n",
      "      modifiedBy: SBR\n",
      "      origin: null\n",
      "      preferredDefinition: Intense concurrence.\n",
      "      preferredName: Strongly Agree\n",
      "      publicId: '3682714'\n",
      "      registrationStatus: Application\n",
      "      unresolvedIssues: null\n",
      "      version: '1'\n",
      "      workflowStatus: RELEASED\n",
      "    beginDate: '2013-02-07'\n",
      "    createdBy: TSESU\n",
      "    dateCreated: '2017-09-07'\n",
      "    dateModified: '2017-09-07'\n",
      "    deletedIndicator: 'No'\n",
      "    endDate: null\n",
      "    id: 58A301BB-F2E0-325F-E053-F662850AD34F\n",
      "    modifiedBy: ONEDATA\n",
      "    origin: null\n",
      "    value: Strongly Agree\n",
      "    valueDescription: Strongly Agree\n",
      "  RepresentationTerm:\n",
      "    Concepts:\n",
      "    - conceptCode: C25664\n",
      "      definition: An ordered reference standard used to measure incremental changes.\n",
      "      displayOrder: '0'\n",
      "      evsSource: NCI_CONCEPT_CODE\n",
      "      longName: Scale\n",
      "      primaryIndicator: 'Yes'\n",
      "    administrativeNotes: null\n",
      "    beginDate: '2006-02-24'\n",
      "    changeDescription: null\n",
      "    context: NCIP\n",
      "    contextVersion: '1'\n",
      "    createdBy: CAMPBELB\n",
      "    dateCreated: '2006-02-24'\n",
      "    dateModified: '2006-02-24'\n",
      "    deletedIndicator: 'No'\n",
      "    endDate: null\n",
      "    id: 0D51E8D8-69DD-387C-E044-0003BA3F9857\n",
      "    latestVersionIndicator: 'Yes'\n",
      "    longName: C25664\n",
      "    modifiedBy: ONEDATA\n",
      "    origin: NCI Thesaurus\n",
      "    preferredDefinition: an ordered reference standard.\n",
      "    preferredName: Scale\n",
      "    publicId: '2452834'\n",
      "    registrationStatus: Standard\n",
      "    unresolvedIssues: null\n",
      "    version: '1'\n",
      "    workflowStatus: RELEASED\n",
      "  administrativeNotes: null\n",
      "  beginDate: '2017-09-21'\n",
      "  changeDescription: 'Created new version to meet BP requirements: smt 9/7/17'\n",
      "  context: NCI Standards\n",
      "  contextVersion: '1'\n",
      "  createdBy: TSESU\n",
      "  dataType: CHARACTER\n",
      "  dateCreated: '2017-09-07'\n",
      "  dateModified: '2017-09-21'\n",
      "  decimalPlace: null\n",
      "  deletedIndicator: 'No'\n",
      "  endDate: null\n",
      "  id: 58A301BB-F2A1-325F-E053-F662850AD34F\n",
      "  latestVersionIndicator: 'Yes'\n",
      "  longName: AGMT_5PT_SCL\n",
      "  maxLength: '20'\n",
      "  maxValue: null\n",
      "  minLength: null\n",
      "  minValue: null\n",
      "  modifiedBy: TSESU\n",
      "  origin: MDADI:M.D.Anderson Dysphagia Inventory, Amy Y.Chen, 2000\n",
      "  preferredDefinition: A number with no fractional part, including the negative and\n",
      "    positive numbers as well as zero.::5_The precise location of something; a spatially\n",
      "    limited location._an ordered reference standard.\n",
      "  preferredName: Agreement 5 Point Likert Scale\n",
      "  publicId: '3682709'\n",
      "  registrationStatus: Standard\n",
      "  type: Enumerated\n",
      "  unresolvedIssues: null\n",
      "  version: '2'\n",
      "  workflowStatus: RELEASED\n",
      "administrativeNotes: null\n",
      "beginDate: '2021-01-29'\n",
      "changeDescription: Released. 03/18/2021 KMM; System generated def displayed as alt\n",
      "  def.\n",
      "context: NHLBI\n",
      "contextVersion: '1'\n",
      "createdBy: MALUMK\n",
      "dateCreated: '2021-01-29'\n",
      "dateModified: '2021-03-18'\n",
      "deletedIndicator: 'No'\n",
      "endDate: null\n",
      "id: BA1184FA-0CD9-5906-E053-4EBD850A7F9F\n",
      "latestVersionIndicator: 'Yes'\n",
      "longName: 7571388v1.0:3682709v2.0\n",
      "modifiedBy: MALUMK\n",
      "origin: NMDP:National Marrow Donor Program\n",
      "preferredDefinition: A person's agreement with a statement related to feeling fear\n",
      "  when hearing the term palliative care using a five-point Likert scale.\n",
      "preferredName: Supportive Care When I Hear the Term Palliative Care, I Feel Fear Agreement\n",
      "  5 Point Likert Scale\n",
      "publicId: '7571389'\n",
      "registrationStatus: Application\n",
      "unresolvedIssues: null\n",
      "version: '1'\n",
      "workflowStatus: RELEASED\n"
     ]
    }
   ],
   "source": [
    "import yaml\n",
    "print(yaml.dump(objs[1]))"
   ],
   "metadata": {
    "collapsed": false,
    "ExecuteTime": {
     "end_time": "2024-07-05T23:02:41.301626Z",
     "start_time": "2024-07-05T23:02:41.265757Z"
    }
   },
   "id": "2b173220f17a40bd"
  },
  {
   "cell_type": "code",
   "execution_count": 4,
   "outputs": [],
   "source": [],
   "metadata": {
    "collapsed": false,
    "ExecuteTime": {
     "end_time": "2024-07-05T23:02:41.303800Z",
     "start_time": "2024-07-05T23:02:41.302286Z"
    }
   },
   "id": "bb4cd8e2e5fccbe9"
  },
  {
   "cell_type": "markdown",
   "source": [
    "## Creating a client and attaching to a database\n",
    "\n",
    "First we will create a client as normal:"
   ],
   "metadata": {
    "collapsed": false
   },
   "id": "493c7599d2f40c27"
  },
  {
   "cell_type": "code",
   "execution_count": 5,
   "outputs": [],
   "source": [
    "from linkml_store import Client\n",
    "\n",
    "client = Client()"
   ],
   "metadata": {
    "collapsed": false,
    "ExecuteTime": {
     "end_time": "2024-07-05T23:02:42.448919Z",
     "start_time": "2024-07-05T23:02:41.304784Z"
    }
   },
   "id": "initial_id"
  },
  {
   "cell_type": "markdown",
   "source": [
    "Next we'll attach to a MongoDB instance. this assumes you have one running already."
   ],
   "metadata": {
    "collapsed": false
   },
   "id": "470f1cb70bf3641b"
  },
  {
   "cell_type": "code",
   "execution_count": 5,
   "outputs": [],
   "source": [],
   "metadata": {
    "collapsed": false,
    "ExecuteTime": {
     "end_time": "2024-07-05T23:02:42.450709Z",
     "start_time": "2024-07-05T23:02:42.449013Z"
    }
   },
   "id": "b6e10e0c4e1ae6d3"
  },
  {
   "cell_type": "code",
   "execution_count": 6,
   "outputs": [],
   "source": [
    "db = client.attach_database(\"mongodb://localhost:27017/cadsr\", \"cadsr\", recreate_if_exists=True)"
   ],
   "metadata": {
    "collapsed": false,
    "ExecuteTime": {
     "end_time": "2024-07-05T23:02:42.457160Z",
     "start_time": "2024-07-05T23:02:42.451417Z"
    }
   },
   "id": "cc164c0acbe4c39d"
  },
  {
   "cell_type": "markdown",
   "source": [
    "## Creating a collection\n",
    "\n",
    "We'll create a simple test collection. The concept of collection in linkml-store maps directly to mongodb collections"
   ],
   "metadata": {
    "collapsed": false
   },
   "id": "334ea2ced79828f7"
  },
  {
   "cell_type": "markdown",
   "source": [],
   "metadata": {
    "collapsed": false
   },
   "id": "a0a98c5a5c9f0072"
  },
  {
   "cell_type": "code",
   "execution_count": 7,
   "outputs": [],
   "source": [
    "collection = db.create_collection(\"cdes\", recreate_if_exists=True)"
   ],
   "metadata": {
    "collapsed": false,
    "ExecuteTime": {
     "end_time": "2024-07-05T23:02:43.009946Z",
     "start_time": "2024-07-05T23:02:42.454066Z"
    }
   },
   "id": "c3a79013f9359a9"
  },
  {
   "cell_type": "markdown",
   "source": [
    "## Loading"
   ],
   "metadata": {
    "collapsed": false
   },
   "id": "207f35ee61edc14d"
  },
  {
   "cell_type": "code",
   "execution_count": 8,
   "outputs": [],
   "source": [
    "collection.insert(objs)"
   ],
   "metadata": {
    "collapsed": false,
    "ExecuteTime": {
     "end_time": "2024-07-05T23:02:59.076546Z",
     "start_time": "2024-07-05T23:02:43.022934Z"
    }
   },
   "id": "4a09a78fe3c8dc33"
  },
  {
   "cell_type": "code",
   "execution_count": 9,
   "outputs": [],
   "source": [
    "collection.commit()"
   ],
   "metadata": {
    "collapsed": false,
    "ExecuteTime": {
     "end_time": "2024-07-05T23:02:59.085649Z",
     "start_time": "2024-07-05T23:02:59.077454Z"
    }
   },
   "id": "b7d4c15c8c23590e"
  },
  {
   "cell_type": "code",
   "execution_count": 10,
   "outputs": [
    {
     "data": {
      "text/plain": "74229"
     },
     "execution_count": 10,
     "metadata": {},
     "output_type": "execute_result"
    }
   ],
   "source": [
    "collection.find({}, limit=5).num_rows"
   ],
   "metadata": {
    "collapsed": false,
    "ExecuteTime": {
     "end_time": "2024-07-05T23:02:59.297758Z",
     "start_time": "2024-07-05T23:02:59.080428Z"
    }
   },
   "id": "f505fdc8cc20196e"
  },
  {
   "cell_type": "markdown",
   "source": [
    "Let's check with pandas just to make sure it looks as expected:"
   ],
   "metadata": {
    "collapsed": false
   },
   "id": "90e2e9793375431f"
  },
  {
   "cell_type": "code",
   "execution_count": 11,
   "outputs": [
    {
     "data": {
      "text/plain": "  publicId version                                      preferredName  \\\n0  2869761       1  Clinical Performed Observation Outcome Referen...   \n1  7571389       1  Supportive Care When I Hear the Term Palliativ...   \n2  2773112       1        Antibody Antibody Isotype java.lang.Boolean   \n\n                                 preferredDefinition                 longName  \\\n0  A coded value specifying the relationship of a...  2868088v1.0:2803170v1.0   \n1  A person's agreement with a statement related ...  7571388v1.0:3682709v2.0   \n2  An antibody is a type of protein made by B lym...  2753919v1.0:2178538v1.0   \n\n  context contextVersion                                 DataElementConcept  \\\n0    NCIP              1  {'publicId': '2868088', 'version': '1', 'prefe...   \n1   NHLBI              1  {'publicId': '7571388', 'version': '1', 'prefe...   \n2    NCIP              1  {'publicId': '2753919', 'version': '1', 'prefe...   \n\n                                         ValueDomain  \\\n0  {'publicId': '2803170', 'version': '1', 'prefe...   \n1  {'publicId': '3682709', 'version': '2', 'prefe...   \n2  {'publicId': '2178538', 'version': '1', 'prefe...   \n\n                               ClassificationSchemes  ...   beginDate endDate  \\\n0  [{'publicId': '2714898', 'version': '3.02', 'l...  ...  2009-05-06    None   \n1                                                 []  ...  2021-01-29    None   \n2  [{'publicId': '2772168', 'version': '1.1', 'lo...  ...  2008-08-12    None   \n\n            createdBy dateCreated modifiedBy dateModified  \\\n0  UMLLOADER_BRIDGPRD  2009-05-06     SBREXT   2019-10-03   \n1              MALUMK  2021-01-29     MALUMK   2021-03-18   \n2    UMLLOADER_CALIMS  2008-08-12    CHILLIJ   2010-06-12   \n\n                                   changeDescription administrativeNotes  \\\n0  Moved UML alt def to CDE preferred def and rel...                None   \n1  Released. 03/18/2021 KMM; System generated def...                None   \n2  8/12/2010 released at request of caLIMS2 model...                None   \n\n  unresolvedIssues deletedIndicator  \n0             None               No  \n1             None               No  \n2             None               No  \n\n[3 rows x 27 columns]",
      "text/html": "<div>\n<style scoped>\n    .dataframe tbody tr th:only-of-type {\n        vertical-align: middle;\n    }\n\n    .dataframe tbody tr th {\n        vertical-align: top;\n    }\n\n    .dataframe thead th {\n        text-align: right;\n    }\n</style>\n<table border=\"1\" class=\"dataframe\">\n  <thead>\n    <tr style=\"text-align: right;\">\n      <th></th>\n      <th>publicId</th>\n      <th>version</th>\n      <th>preferredName</th>\n      <th>preferredDefinition</th>\n      <th>longName</th>\n      <th>context</th>\n      <th>contextVersion</th>\n      <th>DataElementConcept</th>\n      <th>ValueDomain</th>\n      <th>ClassificationSchemes</th>\n      <th>...</th>\n      <th>beginDate</th>\n      <th>endDate</th>\n      <th>createdBy</th>\n      <th>dateCreated</th>\n      <th>modifiedBy</th>\n      <th>dateModified</th>\n      <th>changeDescription</th>\n      <th>administrativeNotes</th>\n      <th>unresolvedIssues</th>\n      <th>deletedIndicator</th>\n    </tr>\n  </thead>\n  <tbody>\n    <tr>\n      <th>0</th>\n      <td>2869761</td>\n      <td>1</td>\n      <td>Clinical Performed Observation Outcome Referen...</td>\n      <td>A coded value specifying the relationship of a...</td>\n      <td>2868088v1.0:2803170v1.0</td>\n      <td>NCIP</td>\n      <td>1</td>\n      <td>{'publicId': '2868088', 'version': '1', 'prefe...</td>\n      <td>{'publicId': '2803170', 'version': '1', 'prefe...</td>\n      <td>[{'publicId': '2714898', 'version': '3.02', 'l...</td>\n      <td>...</td>\n      <td>2009-05-06</td>\n      <td>None</td>\n      <td>UMLLOADER_BRIDGPRD</td>\n      <td>2009-05-06</td>\n      <td>SBREXT</td>\n      <td>2019-10-03</td>\n      <td>Moved UML alt def to CDE preferred def and rel...</td>\n      <td>None</td>\n      <td>None</td>\n      <td>No</td>\n    </tr>\n    <tr>\n      <th>1</th>\n      <td>7571389</td>\n      <td>1</td>\n      <td>Supportive Care When I Hear the Term Palliativ...</td>\n      <td>A person's agreement with a statement related ...</td>\n      <td>7571388v1.0:3682709v2.0</td>\n      <td>NHLBI</td>\n      <td>1</td>\n      <td>{'publicId': '7571388', 'version': '1', 'prefe...</td>\n      <td>{'publicId': '3682709', 'version': '2', 'prefe...</td>\n      <td>[]</td>\n      <td>...</td>\n      <td>2021-01-29</td>\n      <td>None</td>\n      <td>MALUMK</td>\n      <td>2021-01-29</td>\n      <td>MALUMK</td>\n      <td>2021-03-18</td>\n      <td>Released. 03/18/2021 KMM; System generated def...</td>\n      <td>None</td>\n      <td>None</td>\n      <td>No</td>\n    </tr>\n    <tr>\n      <th>2</th>\n      <td>2773112</td>\n      <td>1</td>\n      <td>Antibody Antibody Isotype java.lang.Boolean</td>\n      <td>An antibody is a type of protein made by B lym...</td>\n      <td>2753919v1.0:2178538v1.0</td>\n      <td>NCIP</td>\n      <td>1</td>\n      <td>{'publicId': '2753919', 'version': '1', 'prefe...</td>\n      <td>{'publicId': '2178538', 'version': '1', 'prefe...</td>\n      <td>[{'publicId': '2772168', 'version': '1.1', 'lo...</td>\n      <td>...</td>\n      <td>2008-08-12</td>\n      <td>None</td>\n      <td>UMLLOADER_CALIMS</td>\n      <td>2008-08-12</td>\n      <td>CHILLIJ</td>\n      <td>2010-06-12</td>\n      <td>8/12/2010 released at request of caLIMS2 model...</td>\n      <td>None</td>\n      <td>None</td>\n      <td>No</td>\n    </tr>\n  </tbody>\n</table>\n<p>3 rows × 27 columns</p>\n</div>"
     },
     "execution_count": 11,
     "metadata": {},
     "output_type": "execute_result"
    }
   ],
   "source": [
    "qr = collection.find({}, limit=3)\n",
    "qr.rows_dataframe"
   ],
   "metadata": {
    "collapsed": false,
    "ExecuteTime": {
     "end_time": "2024-07-05T23:02:59.335622Z",
     "start_time": "2024-07-05T23:02:59.298689Z"
    }
   },
   "id": "e763fe6cd50022e2"
  },
  {
   "cell_type": "code",
   "execution_count": 12,
   "outputs": [
    {
     "data": {
      "text/plain": "{'publicId': '7571389',\n 'version': '1',\n 'preferredName': 'Supportive Care When I Hear the Term Palliative Care, I Feel Fear Agreement 5 Point Likert Scale',\n 'preferredDefinition': \"A person's agreement with a statement related to feeling fear when hearing the term palliative care using a five-point Likert scale.\",\n 'longName': '7571388v1.0:3682709v2.0',\n 'context': 'NHLBI',\n 'contextVersion': '1',\n 'DataElementConcept': {'publicId': '7571388',\n  'version': '1',\n  'preferredName': 'Supportive Care When I Hear The Term Palliative Care, I Feel Fear Agreement Scale',\n  'preferredDefinition': 'Supportive care is that which helps the patient and their family to cope with cancer and treatment of it from pre-diagnosis, through the process of diagnosis and treatment, to cure, continuing illness or death and into bereavement. It helps the patient to maximize the benefits of treatment and to live as well as possible with the effects of the disease. Supportive therapy may provide a patient with friendship, encouragement, practical advice such as access to community resources or how to develop a more active social life, vocational counseling, suggestions for minimizing friction with family members, and, above all, hope that the life of the patient may be improved. In all situations, supportive therapy involves the teaching of such life skills as managing medication, learning to socialize, handling finances, and getting a job._A question about how strongly an individual agrees that they would feel a specified emotion when they hear the term \"palliative care\"._A feeling of apprehension that one may be in danger._The act of agreeing to a plan, protocol, or arrangement. Also used to describe a harmony of opinion._An ordered reference standard used to measure incremental changes.',\n  'longName': '7559951v1.0:7571386v1.0',\n  'context': 'NHLBI',\n  'contextVersion': '1',\n  'ObjectClass': {'publicId': '7559951',\n   'version': '1',\n   'preferredName': 'Supportive Care',\n   'preferredDefinition': 'Supportive care is that which helps the patient and their family to cope with cancer and treatment of it from pre-diagnosis, through the process of diagnosis and treatment, to cure, continuing illness or death and into bereavement. It helps the patient to maximize the benefits of treatment and to live as well as possible with the effects of the disease. Supportive therapy may provide a patient with friendship, encouragement, practical advice such as access to community resources or how to develop a more active social life, vocational counseling, suggestions for minimizing friction with family members, and, above all, hope that the life of the patient may be improved. In all situations, supportive therapy involves the teaching of such life skills as managing medication, learning to socialize, handling finances, and getting a job.',\n   'longName': 'C15747',\n   'context': 'NCIP',\n   'contextVersion': '1',\n   'Concepts': [{'longName': 'Supportive Care',\n     'conceptCode': 'C15747',\n     'definition': 'Supportive care is that which helps the patient and their family to cope with cancer and treatment of it from pre-diagnosis, through the process of diagnosis and treatment, to cure, continuing illness or death and into bereavement. It helps the patient to maximize the benefits of treatment and to live as well as possible with the effects of the disease. Supportive therapy may provide a patient with friendship, encouragement, practical advice such as access to community resources or how to develop a more active social life, vocational counseling, suggestions for minimizing friction with family members, and, above all, hope that the life of the patient may be improved. In all situations, supportive therapy involves the teaching of such life skills as managing medication, learning to socialize, handling finances, and getting a job.',\n     'evsSource': 'NCI_CONCEPT_CODE',\n     'primaryIndicator': 'Yes',\n     'displayOrder': '0'}],\n   'origin': 'NCI Thesaurus',\n   'workflowStatus': 'RELEASED',\n   'registrationStatus': 'Application',\n   'id': 'B9E8B130-3E9E-5D7D-E053-4EBD850A6CF1',\n   'latestVersionIndicator': 'Yes',\n   'beginDate': '2021-01-27',\n   'endDate': None,\n   'createdBy': 'MALUMK',\n   'dateCreated': '2021-01-27',\n   'modifiedBy': 'ONEDATA',\n   'dateModified': '2021-01-27',\n   'changeDescription': None,\n   'administrativeNotes': None,\n   'unresolvedIssues': None,\n   'deletedIndicator': 'No'},\n  'Property': {'publicId': '7571386',\n   'version': '1',\n   'preferredName': 'What I Feel When I Hear Palliative Care Fear Agreement Scale',\n   'preferredDefinition': 'A question about how strongly an individual agrees that they would feel a specified emotion when they hear the term \"palliative care\".:A feeling of apprehension that one may be in danger.:The act of agreeing to a plan, protocol, or arrangement. Also used to describe a harmony of opinion.:An ordered reference standard used to measure incremental changes.',\n   'longName': 'C177230:C77960:C25369:C25664',\n   'context': 'NCIP',\n   'contextVersion': '1',\n   'Concepts': [{'longName': 'What I Feel When I Hear Palliative Care',\n     'conceptCode': 'C177230',\n     'definition': 'A question about how strongly an individual agrees that they would feel a specified emotion when they hear the term \"palliative care\".',\n     'evsSource': 'NCI_CONCEPT_CODE',\n     'primaryIndicator': 'No',\n     'displayOrder': '3'},\n    {'longName': 'Fear',\n     'conceptCode': 'C77960',\n     'definition': 'A feeling of apprehension that one may be in danger.',\n     'evsSource': 'NCI_CONCEPT_CODE',\n     'primaryIndicator': 'No',\n     'displayOrder': '2'},\n    {'longName': 'Agreement',\n     'conceptCode': 'C25369',\n     'definition': 'The act of agreeing to a plan, protocol, or arrangement. Also used to describe a harmony of opinion.',\n     'evsSource': 'NCI_CONCEPT_CODE',\n     'primaryIndicator': 'No',\n     'displayOrder': '1'},\n    {'longName': 'Scale',\n     'conceptCode': 'C25664',\n     'definition': 'An ordered reference standard used to measure incremental changes.',\n     'evsSource': 'NCI_CONCEPT_CODE',\n     'primaryIndicator': 'Yes',\n     'displayOrder': '0'}],\n   'origin': None,\n   'workflowStatus': 'RELEASED',\n   'registrationStatus': 'Application',\n   'id': 'BA115178-92C1-5D90-E053-4EBD850A955D',\n   'latestVersionIndicator': 'Yes',\n   'beginDate': '2021-01-29',\n   'endDate': None,\n   'createdBy': 'MALUMK',\n   'dateCreated': '2021-01-29',\n   'modifiedBy': 'ONEDATA',\n   'dateModified': '2021-01-29',\n   'changeDescription': None,\n   'administrativeNotes': None,\n   'unresolvedIssues': None,\n   'deletedIndicator': 'No'},\n  'ConceptualDomain': {'publicId': '2524082',\n   'version': '1',\n   'preferredName': 'Person Measure/Instrument Testing',\n   'preferredDefinition': 'Process and results associated with self-reported measures and instruments, surveys, other tools',\n   'longName': 'MEASURE/INSTRUMENT TESTING',\n   'context': 'CCR',\n   'contextVersion': '1',\n   'origin': 'CCR:Center for Cancer Research',\n   'workflowStatus': 'RELEASED',\n   'registrationStatus': 'Application',\n   'id': '1E838B40-6636-0A25-E044-0003BA3F9857',\n   'latestVersionIndicator': 'Yes',\n   'beginDate': '2006-09-28',\n   'endDate': None,\n   'createdBy': 'REEVESD',\n   'dateCreated': '2006-09-28',\n   'modifiedBy': 'REEVESD',\n   'dateModified': '2008-11-19',\n   'changeDescription': None,\n   'administrativeNotes': None,\n   'unresolvedIssues': None,\n   'deletedIndicator': 'No'},\n  'origin': 'NMDP:National Marrow Donor Program',\n  'workflowStatus': 'RELEASED',\n  'registrationStatus': 'Application',\n  'id': 'BA115178-92D2-5D90-E053-4EBD850A955D',\n  'latestVersionIndicator': 'Yes',\n  'beginDate': '2021-01-29',\n  'endDate': None,\n  'createdBy': 'MALUMK',\n  'dateCreated': '2021-01-29',\n  'modifiedBy': 'MALUMK',\n  'dateModified': '2021-03-18',\n  'changeDescription': 'Released. 03/18/2021 KMM',\n  'administrativeNotes': None,\n  'unresolvedIssues': None,\n  'deletedIndicator': 'No'},\n 'ValueDomain': {'publicId': '3682709',\n  'version': '2',\n  'preferredName': 'Agreement 5 Point Likert Scale',\n  'preferredDefinition': 'A number with no fractional part, including the negative and positive numbers as well as zero.::5_The precise location of something; a spatially limited location._an ordered reference standard.',\n  'longName': 'AGMT_5PT_SCL',\n  'context': 'NCI Standards',\n  'contextVersion': '1',\n  'type': 'Enumerated',\n  'dataType': 'CHARACTER',\n  'minLength': None,\n  'maxLength': '20',\n  'minValue': None,\n  'maxValue': None,\n  'decimalPlace': None,\n  'PermissibleValues': [{'value': 'Strongly Disagree',\n    'valueDescription': 'Strongly Disagree',\n    'ValueMeaning': {'publicId': '3682710',\n     'version': '1',\n     'preferredName': 'Strongly Disagree',\n     'longName': '3682710',\n     'preferredDefinition': 'Intensely at odds.',\n     'context': 'NCIP',\n     'contextVersion': '1',\n     'Concepts': [{'longName': 'Strongly Disagree',\n       'conceptCode': 'C104476',\n       'definition': 'Intensely at odds.',\n       'evsSource': 'NCI_CONCEPT_CODE',\n       'primaryIndicator': 'Yes',\n       'displayOrder': '0'}],\n     'origin': None,\n     'workflowStatus': 'RELEASED',\n     'registrationStatus': 'Application',\n     'id': 'D52DC623-4AA8-9139-E040-BB89AD4368ED',\n     'latestVersionIndicator': 'Yes',\n     'beginDate': '2013-02-07',\n     'endDate': None,\n     'createdBy': 'COOPERM',\n     'dateCreated': '2013-02-07',\n     'modifiedBy': 'SBR',\n     'dateModified': '2018-01-19',\n     'changeDescription': None,\n     'administrativeNotes': None,\n     'unresolvedIssues': None,\n     'deletedIndicator': 'No'},\n    'origin': None,\n    'id': '58A301BB-F2B8-325F-E053-F662850AD34F',\n    'beginDate': '2013-02-07',\n    'endDate': None,\n    'createdBy': 'TSESU',\n    'dateCreated': '2017-09-07',\n    'modifiedBy': 'ONEDATA',\n    'dateModified': '2017-09-07',\n    'deletedIndicator': 'No'},\n   {'value': 'Disagree',\n    'valueDescription': 'Disagree',\n    'ValueMeaning': {'publicId': '3682711',\n     'version': '1',\n     'preferredName': 'Disagree',\n     'longName': '3682711',\n     'preferredDefinition': 'To be at odds.',\n     'context': 'NCIP',\n     'contextVersion': '1',\n     'Concepts': [{'longName': 'Disagree',\n       'conceptCode': 'C104479',\n       'definition': 'To be at odds.',\n       'evsSource': 'NCI_CONCEPT_CODE',\n       'primaryIndicator': 'Yes',\n       'displayOrder': '0'}],\n     'origin': None,\n     'workflowStatus': 'RELEASED',\n     'registrationStatus': 'Application',\n     'id': 'D52DC623-4ACB-9139-E040-BB89AD4368ED',\n     'latestVersionIndicator': 'Yes',\n     'beginDate': '2013-02-07',\n     'endDate': None,\n     'createdBy': 'COOPERM',\n     'dateCreated': '2013-02-07',\n     'modifiedBy': 'SBR',\n     'dateModified': '2018-01-19',\n     'changeDescription': None,\n     'administrativeNotes': None,\n     'unresolvedIssues': None,\n     'deletedIndicator': 'No'},\n    'origin': None,\n    'id': '58A301BB-F2C2-325F-E053-F662850AD34F',\n    'beginDate': '2013-02-07',\n    'endDate': None,\n    'createdBy': 'TSESU',\n    'dateCreated': '2017-09-07',\n    'modifiedBy': 'ONEDATA',\n    'dateModified': '2017-09-07',\n    'deletedIndicator': 'No'},\n   {'value': 'No Opinion',\n    'valueDescription': 'Neither Agree or Disagree',\n    'ValueMeaning': {'publicId': '3682712',\n     'version': '1',\n     'preferredName': 'Neither Agree or Disagree',\n     'longName': '3682712',\n     'preferredDefinition': 'Without concurrence or opposition.',\n     'context': 'NCIP',\n     'contextVersion': '1',\n     'Concepts': [{'longName': 'Neither Agree or Disagree',\n       'conceptCode': 'C103804',\n       'definition': 'Without concurrence or opposition.',\n       'evsSource': 'NCI_CONCEPT_CODE',\n       'primaryIndicator': 'Yes',\n       'displayOrder': '0'}],\n     'origin': None,\n     'workflowStatus': 'RELEASED',\n     'registrationStatus': 'Application',\n     'id': 'D52DC623-4AF0-9139-E040-BB89AD4368ED',\n     'latestVersionIndicator': 'Yes',\n     'beginDate': '2013-02-07',\n     'endDate': None,\n     'createdBy': 'COOPERM',\n     'dateCreated': '2013-02-07',\n     'modifiedBy': 'MMADDINENI',\n     'dateModified': '2023-12-21',\n     'changeDescription': None,\n     'administrativeNotes': None,\n     'unresolvedIssues': None,\n     'deletedIndicator': 'No'},\n    'origin': None,\n    'id': '58A301BB-F2CC-325F-E053-F662850AD34F',\n    'beginDate': '2013-02-07',\n    'endDate': None,\n    'createdBy': 'TSESU',\n    'dateCreated': '2017-09-07',\n    'modifiedBy': 'ONEDATA',\n    'dateModified': '2017-09-07',\n    'deletedIndicator': 'No'},\n   {'value': 'Agree',\n    'valueDescription': 'Agree',\n    'ValueMeaning': {'publicId': '3682713',\n     'version': '1',\n     'preferredName': 'Agree',\n     'longName': '3682713',\n     'preferredDefinition': 'To concur.',\n     'context': 'NCIP',\n     'contextVersion': '1',\n     'Concepts': [{'longName': 'Agree',\n       'conceptCode': 'C104478',\n       'definition': 'To concur.',\n       'evsSource': 'NCI_CONCEPT_CODE',\n       'primaryIndicator': 'Yes',\n       'displayOrder': '0'}],\n     'origin': None,\n     'workflowStatus': 'RELEASED',\n     'registrationStatus': 'Application',\n     'id': 'D52DC623-4B13-9139-E040-BB89AD4368ED',\n     'latestVersionIndicator': 'Yes',\n     'beginDate': '2013-02-07',\n     'endDate': None,\n     'createdBy': 'COOPERM',\n     'dateCreated': '2013-02-07',\n     'modifiedBy': 'SBR',\n     'dateModified': '2018-01-19',\n     'changeDescription': None,\n     'administrativeNotes': None,\n     'unresolvedIssues': None,\n     'deletedIndicator': 'No'},\n    'origin': None,\n    'id': '58A301BB-F2D6-325F-E053-F662850AD34F',\n    'beginDate': '2013-02-07',\n    'endDate': None,\n    'createdBy': 'TSESU',\n    'dateCreated': '2017-09-07',\n    'modifiedBy': 'ONEDATA',\n    'dateModified': '2017-09-07',\n    'deletedIndicator': 'No'},\n   {'value': 'Strongly Agree',\n    'valueDescription': 'Strongly Agree',\n    'ValueMeaning': {'publicId': '3682714',\n     'version': '1',\n     'preferredName': 'Strongly Agree',\n     'longName': '3682714',\n     'preferredDefinition': 'Intense concurrence.',\n     'context': 'NCIP',\n     'contextVersion': '1',\n     'Concepts': [{'longName': 'Strongly Agree',\n       'conceptCode': 'C104475',\n       'definition': 'Intense concurrence.',\n       'evsSource': 'NCI_CONCEPT_CODE',\n       'primaryIndicator': 'Yes',\n       'displayOrder': '0'}],\n     'origin': None,\n     'workflowStatus': 'RELEASED',\n     'registrationStatus': 'Application',\n     'id': 'D52DC623-4B36-9139-E040-BB89AD4368ED',\n     'latestVersionIndicator': 'Yes',\n     'beginDate': '2013-02-07',\n     'endDate': None,\n     'createdBy': 'COOPERM',\n     'dateCreated': '2013-02-07',\n     'modifiedBy': 'SBR',\n     'dateModified': '2018-01-19',\n     'changeDescription': None,\n     'administrativeNotes': None,\n     'unresolvedIssues': None,\n     'deletedIndicator': 'No'},\n    'origin': None,\n    'id': '58A301BB-F2E0-325F-E053-F662850AD34F',\n    'beginDate': '2013-02-07',\n    'endDate': None,\n    'createdBy': 'TSESU',\n    'dateCreated': '2017-09-07',\n    'modifiedBy': 'ONEDATA',\n    'dateModified': '2017-09-07',\n    'deletedIndicator': 'No'}],\n  'ConceptualDomain': {'publicId': '2524082',\n   'version': '1',\n   'preferredName': 'Person Measure/Instrument Testing',\n   'preferredDefinition': 'Process and results associated with self-reported measures and instruments, surveys, other tools',\n   'longName': 'MEASURE/INSTRUMENT TESTING',\n   'context': 'CCR',\n   'contextVersion': '1',\n   'origin': 'CCR:Center for Cancer Research',\n   'workflowStatus': 'RELEASED',\n   'registrationStatus': 'Application',\n   'id': '1E838B40-6636-0A25-E044-0003BA3F9857',\n   'latestVersionIndicator': 'Yes',\n   'beginDate': '2006-09-28',\n   'endDate': None,\n   'createdBy': 'REEVESD',\n   'dateCreated': '2006-09-28',\n   'modifiedBy': 'REEVESD',\n   'dateModified': '2008-11-19',\n   'changeDescription': None,\n   'administrativeNotes': None,\n   'unresolvedIssues': None,\n   'deletedIndicator': 'No'},\n  'RepresentationTerm': {'publicId': '2452834',\n   'version': '1',\n   'preferredName': 'Scale',\n   'preferredDefinition': 'an ordered reference standard.',\n   'longName': 'C25664',\n   'context': 'NCIP',\n   'contextVersion': '1',\n   'Concepts': [{'longName': 'Scale',\n     'conceptCode': 'C25664',\n     'definition': 'An ordered reference standard used to measure incremental changes.',\n     'evsSource': 'NCI_CONCEPT_CODE',\n     'primaryIndicator': 'Yes',\n     'displayOrder': '0'}],\n   'origin': 'NCI Thesaurus',\n   'workflowStatus': 'RELEASED',\n   'registrationStatus': 'Standard',\n   'id': '0D51E8D8-69DD-387C-E044-0003BA3F9857',\n   'latestVersionIndicator': 'Yes',\n   'beginDate': '2006-02-24',\n   'endDate': None,\n   'createdBy': 'CAMPBELB',\n   'dateCreated': '2006-02-24',\n   'modifiedBy': 'ONEDATA',\n   'dateModified': '2006-02-24',\n   'changeDescription': None,\n   'administrativeNotes': None,\n   'unresolvedIssues': None,\n   'deletedIndicator': 'No'},\n  'origin': 'MDADI:M.D.Anderson Dysphagia Inventory, Amy Y.Chen, 2000',\n  'workflowStatus': 'RELEASED',\n  'registrationStatus': 'Standard',\n  'id': '58A301BB-F2A1-325F-E053-F662850AD34F',\n  'latestVersionIndicator': 'Yes',\n  'beginDate': '2017-09-21',\n  'endDate': None,\n  'createdBy': 'TSESU',\n  'dateCreated': '2017-09-07',\n  'modifiedBy': 'TSESU',\n  'dateModified': '2017-09-21',\n  'changeDescription': 'Created new version to meet BP requirements: smt 9/7/17',\n  'administrativeNotes': None,\n  'unresolvedIssues': None,\n  'deletedIndicator': 'No'},\n 'ClassificationSchemes': [],\n 'AlternateNames': [],\n 'ReferenceDocuments': [{'name': 'I feel fear when hearing the',\n   'type': 'Preferred Question Text',\n   'description': 'I feel fear when hearing the term palliative care.',\n   'url': None,\n   'context': 'NHLBI'},\n  {'name': 'When I hear the term palliative care, I feel scared',\n   'type': 'Alternate Question Text',\n   'description': 'When I hear the term palliative care, I feel scared',\n   'url': None,\n   'context': 'NHLBI'},\n  {'name': 'When I hear the term palliative care, I feel scared',\n   'type': 'Application Standard Question Text',\n   'description': 'When I hear the term palliative care, I feel scared',\n   'url': None,\n   'context': 'NHLBI'},\n  {'name': 'When I hear the term palliative care, I feel scared.',\n   'type': 'Alternate Question Text',\n   'description': 'When I hear the term palliative care, I feel scared.',\n   'url': None,\n   'context': 'NHLBI'}],\n 'origin': 'NMDP:National Marrow Donor Program',\n 'workflowStatus': 'RELEASED',\n 'registrationStatus': 'Application',\n 'id': 'BA1184FA-0CD9-5906-E053-4EBD850A7F9F',\n 'latestVersionIndicator': 'Yes',\n 'beginDate': '2021-01-29',\n 'endDate': None,\n 'createdBy': 'MALUMK',\n 'dateCreated': '2021-01-29',\n 'modifiedBy': 'MALUMK',\n 'dateModified': '2021-03-18',\n 'changeDescription': 'Released. 03/18/2021 KMM; System generated def displayed as alt def.',\n 'administrativeNotes': None,\n 'unresolvedIssues': None,\n 'deletedIndicator': 'No'}"
     },
     "execution_count": 12,
     "metadata": {},
     "output_type": "execute_result"
    }
   ],
   "source": [
    "qr.rows[1]"
   ],
   "metadata": {
    "collapsed": false,
    "ExecuteTime": {
     "end_time": "2024-07-05T23:02:59.345067Z",
     "start_time": "2024-07-05T23:02:59.342145Z"
    }
   },
   "id": "4c688db0600f8d57"
  },
  {
   "cell_type": "code",
   "execution_count": null,
   "outputs": [],
   "source": [
    "collection.query_facets(facet_columns=[\"context\", \"origin\"])"
   ],
   "metadata": {
    "collapsed": false,
    "is_executing": true,
    "ExecuteTime": {
     "start_time": "2024-07-05T23:02:59.345007Z"
    }
   },
   "id": "4d99b932ffb41f30"
  },
  {
   "cell_type": "markdown",
   "source": [
    "## Semantic Search\n",
    "\n",
    "We will index phenopackets using a template that extracts the subject, phenotypic features and diseases."
   ],
   "metadata": {
    "collapsed": false
   },
   "id": "648f05e75f250221"
  },
  {
   "cell_type": "code",
   "execution_count": null,
   "outputs": [],
   "source": [
    "template = \"\"\"name: {{preferredName}}\n",
    "def: {{preferredDefinition}}\"\"\""
   ],
   "metadata": {
    "collapsed": false,
    "is_executing": true
   },
   "id": "976095541027ce9e"
  },
  {
   "cell_type": "code",
   "execution_count": null,
   "outputs": [],
   "source": [
    "from linkml_store.index.implementations.llm_indexer import LLMIndexer\n",
    "\n",
    "index = LLMIndexer(\n",
    "    name=\"cde\", \n",
    "    cached_embeddings_database=\"tmp/llm_cde_cache.db\",\n",
    "    text_template=template,\n",
    "    text_template_syntax=\"jinja2\",\n",
    ")"
   ],
   "metadata": {
    "collapsed": false,
    "is_executing": true
   },
   "id": "e98f9d6eb4a5e385"
  },
  {
   "cell_type": "code",
   "execution_count": null,
   "outputs": [],
   "source": [
    "print(index.object_to_text(qr.rows[0]))"
   ],
   "metadata": {
    "collapsed": false,
    "is_executing": true
   },
   "id": "16dce837e31c88f6"
  },
  {
   "cell_type": "code",
   "execution_count": null,
   "outputs": [],
   "source": [
    "collection.attach_indexer(index, auto_index=True)"
   ],
   "metadata": {
    "collapsed": false,
    "is_executing": true
   },
   "id": "18a0bd86de7f1d81"
  },
  {
   "cell_type": "markdown",
   "source": [
    "## Queries\n",
    "\n",
    "We can specify key-value constraints:"
   ],
   "metadata": {
    "collapsed": false
   },
   "id": "f49056b209918a9"
  },
  {
   "cell_type": "code",
   "execution_count": null,
   "outputs": [],
   "source": [
    "qr = collection.search(\"variables relevant for long COVID\")\n",
    "qr.rows_dataframe[0:10]"
   ],
   "metadata": {
    "collapsed": false,
    "is_executing": true
   },
   "id": "1ddd4ac75719342d"
  },
  {
   "cell_type": "code",
   "execution_count": null,
   "outputs": [],
   "source": [
    "qr.ranked_rows[0]"
   ],
   "metadata": {
    "collapsed": false,
    "is_executing": true
   },
   "id": "5a4fd8fe217fdf6b"
  },
  {
   "cell_type": "markdown",
   "source": [
    "## Validation\n",
    "\n",
    "__TODO__    "
   ],
   "metadata": {
    "collapsed": false
   },
   "id": "41a14e7976a923b3"
  },
  {
   "cell_type": "code",
   "execution_count": null,
   "outputs": [],
   "source": [],
   "metadata": {
    "collapsed": false,
    "is_executing": true
   },
   "id": "5294ee7927a372f1"
  }
 ],
 "metadata": {
  "kernelspec": {
   "display_name": "Python 3",
   "language": "python",
   "name": "python3"
  },
  "language_info": {
   "codemirror_mode": {
    "name": "ipython",
    "version": 2
   },
   "file_extension": ".py",
   "mimetype": "text/x-python",
   "name": "python",
   "nbconvert_exporter": "python",
   "pygments_lexer": "ipython2",
   "version": "2.7.6"
  }
 },
 "nbformat": 4,
 "nbformat_minor": 5
}
