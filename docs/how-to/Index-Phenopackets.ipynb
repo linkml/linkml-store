{
 "cells": [
  {
   "cell_type": "markdown",
   "source": [
    "# How to index Phenopackets with LinkML-Store\n",
    "\n",
    "\n",
    "\n"
   ],
   "metadata": {
    "collapsed": false
   },
   "id": "fc4794dd116ed21"
  },
  {
   "cell_type": "markdown",
   "source": [
    "## Use pystow to download phenopackets\n",
    "\n",
    "We will download from the Monarch Initiative [phenopacket-store](https://github.com/monarch-initiative/phenopacket-store)"
   ],
   "metadata": {
    "collapsed": false
   },
   "id": "e19f50e1b2fc5d89"
  },
  {
   "cell_type": "code",
   "execution_count": 2,
   "outputs": [
    {
     "data": {
      "text/plain": "Downloading all_phenopackets.tgz: 0.00B [00:00, ?B/s]",
      "application/vnd.jupyter.widget-view+json": {
       "version_major": 2,
       "version_minor": 0,
       "model_id": "9b366f9d761d49f59047f30f10c59f8f"
      }
     },
     "metadata": {},
     "output_type": "display_data"
    }
   ],
   "source": [
    "import pandas as pd\n",
    "import pystow\n",
    "import yaml\n",
    "\n",
    "path = pystow.ensure_untar(\"tmp\", \"phenopackets\", url=\" https://github.com/monarch-initiative/phenopacket-store/releases/latest/download/all_phenopackets.tgz\")"
   ],
   "metadata": {
    "collapsed": false,
    "ExecuteTime": {
     "end_time": "2024-05-27T17:33:18.271136Z",
     "start_time": "2024-05-27T17:33:16.347554Z"
    }
   },
   "id": "158d589d95a155e5"
  },
  {
   "cell_type": "code",
   "execution_count": 3,
   "outputs": [
    {
     "data": {
      "text/plain": "4876"
     },
     "execution_count": 3,
     "metadata": {},
     "output_type": "execute_result"
    }
   ],
   "source": [
    "# iterate over all *.json files in the phenopackets directory and parse to an object\n",
    "# we will recursively walk the path using os.walk ( we don't worry about loading yet)\n",
    "import os\n",
    "import json\n",
    "objs = []\n",
    "for root, dirs, files in os.walk(path):\n",
    "    for file in files:\n",
    "        if file.endswith(\".json\"):\n",
    "            with open(os.path.join(root, file)) as stream:\n",
    "                obj = json.load(stream)\n",
    "                objs.append(obj)\n",
    "len(objs)"
   ],
   "metadata": {
    "collapsed": false,
    "ExecuteTime": {
     "end_time": "2024-05-27T17:33:37.998270Z",
     "start_time": "2024-05-27T17:33:37.313527Z"
    }
   },
   "id": "142993c7e60551d1"
  },
  {
   "cell_type": "markdown",
   "source": [
    "## Creating a client and attaching to a database\n",
    "\n",
    "First we will create a client as normal:"
   ],
   "metadata": {
    "collapsed": false
   },
   "id": "493c7599d2f40c27"
  },
  {
   "cell_type": "code",
   "execution_count": 4,
   "outputs": [],
   "source": [
    "from linkml_store import Client\n",
    "\n",
    "client = Client()"
   ],
   "metadata": {
    "collapsed": false,
    "ExecuteTime": {
     "end_time": "2024-05-27T17:33:50.439394Z",
     "start_time": "2024-05-27T17:33:48.839167Z"
    }
   },
   "id": "initial_id"
  },
  {
   "cell_type": "markdown",
   "source": [
    "Next we'll attach to a MongoDB instance. this assumes you have one running already.\n",
    "\n",
    "We will make a database called \"phenopackets\" and recreate it if it already exists\n",
    "\n",
    "(note for people running this notebook locally - if you happen to have a database with this name in your current mongo instance it will be deleted!)"
   ],
   "metadata": {
    "collapsed": false
   },
   "id": "470f1cb70bf3641b"
  },
  {
   "cell_type": "code",
   "execution_count": 6,
   "outputs": [],
   "source": [
    "db = client.attach_database(\"mongodb://localhost:27017\", \"phenopackets\", recreate_if_exists=True)"
   ],
   "metadata": {
    "collapsed": false,
    "ExecuteTime": {
     "end_time": "2024-05-27T17:34:52.685076Z",
     "start_time": "2024-05-27T17:34:52.679197Z"
    }
   },
   "id": "cc164c0acbe4c39d"
  },
  {
   "cell_type": "markdown",
   "source": [
    "## Creating a collection\n",
    "\n",
    "We'll create a simple test collection. The concept of collection in linkml-store maps directly to mongodb collections"
   ],
   "metadata": {
    "collapsed": false
   },
   "id": "334ea2ced79828f7"
  },
  {
   "cell_type": "markdown",
   "source": [],
   "metadata": {
    "collapsed": false
   },
   "id": "a0a98c5a5c9f0072"
  },
  {
   "cell_type": "code",
   "execution_count": 7,
   "outputs": [],
   "source": [
    "collection = db.create_collection(\"main\", recreate_if_exists=True)"
   ],
   "metadata": {
    "collapsed": false,
    "ExecuteTime": {
     "end_time": "2024-05-27T17:35:14.593535Z",
     "start_time": "2024-05-27T17:35:14.389267Z"
    }
   },
   "id": "c3a79013f9359a9"
  },
  {
   "cell_type": "markdown",
   "source": [
    "## Inserting objects into the store\n",
    "\n",
    "We'll use the standard `insert` method to insert the phenopackets into the collection. At this stage there is no explicit schema."
   ],
   "metadata": {
    "collapsed": false
   },
   "id": "207f35ee61edc14d"
  },
  {
   "cell_type": "code",
   "execution_count": 9,
   "outputs": [],
   "source": [
    "collection.insert(objs)"
   ],
   "metadata": {
    "collapsed": false,
    "ExecuteTime": {
     "end_time": "2024-05-27T17:36:16.757382Z",
     "start_time": "2024-05-27T17:36:16.312786Z"
    }
   },
   "id": "4a09a78fe3c8dc33"
  },
  {
   "cell_type": "markdown",
   "source": [
    "## Check contents\n",
    "\n",
    "We can check the number of rows in the collection, to ensure everything was inserted correctly:"
   ],
   "metadata": {
    "collapsed": false
   },
   "id": "47f933e901372da8"
  },
  {
   "cell_type": "code",
   "execution_count": 10,
   "outputs": [
    {
     "data": {
      "text/plain": "4876"
     },
     "execution_count": 10,
     "metadata": {},
     "output_type": "execute_result"
    }
   ],
   "source": [
    "collection.find({}, limit=1).num_rows"
   ],
   "metadata": {
    "collapsed": false,
    "ExecuteTime": {
     "end_time": "2024-05-27T17:36:18.679148Z",
     "start_time": "2024-05-27T17:36:18.143503Z"
    }
   },
   "id": "f505fdc8cc20196e"
  },
  {
   "cell_type": "code",
   "execution_count": 11,
   "outputs": [],
   "source": [
    "assert collection.find({}, limit=1).num_rows == len(objs)"
   ],
   "metadata": {
    "collapsed": false,
    "ExecuteTime": {
     "end_time": "2024-05-27T17:36:32.318860Z",
     "start_time": "2024-05-27T17:36:32.030695Z"
    }
   },
   "id": "e6ae22c986b9ba5b"
  },
  {
   "cell_type": "markdown",
   "source": [],
   "metadata": {
    "collapsed": false
   },
   "id": "adc134486070cf0d"
  },
  {
   "cell_type": "markdown",
   "source": [
    "Let's check with pandas just to make sure it looks as expected; we'll query for a specific OMIM disease:"
   ],
   "metadata": {
    "collapsed": false
   },
   "id": "90e2e9793375431f"
  },
  {
   "cell_type": "code",
   "execution_count": 12,
   "outputs": [
    {
     "data": {
      "text/plain": "                                id  \\\n0  PMID_28289718_Higgins-Patient-1   \n1   PMID_31173466_Suzuki-Patient-1   \n2  PMID_28289718_Higgins-Patient-2   \n\n                                             subject  \\\n0  {'id': 'Higgins-Patient-1', 'timeAtLastEncount...   \n1  {'id': 'Suzuki-Patient-1', 'timeAtLastEncounte...   \n2  {'id': 'Higgins-Patient-2', 'timeAtLastEncount...   \n\n                                  phenotypicFeatures  \\\n0  [{'type': {'id': 'HP:0001714', 'label': 'Ventr...   \n1  [{'type': {'id': 'HP:0001714', 'label': 'Ventr...   \n2  [{'type': {'id': 'HP:0001714', 'label': 'Ventr...   \n\n                                     interpretations  \\\n0  [{'id': 'Higgins-Patient-1', 'progressStatus':...   \n1  [{'id': 'Suzuki-Patient-1', 'progressStatus': ...   \n2  [{'id': 'Higgins-Patient-2', 'progressStatus':...   \n\n                                            diseases  \\\n0  [{'term': {'id': 'OMIM:618499', 'label': 'Noon...   \n1  [{'term': {'id': 'OMIM:618499', 'label': 'Noon...   \n2  [{'term': {'id': 'OMIM:618499', 'label': 'Noon...   \n\n                                            metaData  \n0  {'created': '2024-03-28T11:11:48.590163946Z', ...  \n1  {'created': '2024-03-28T11:11:48.594725131Z', ...  \n2  {'created': '2024-03-28T11:11:48.592718124Z', ...  ",
      "text/html": "<div>\n<style scoped>\n    .dataframe tbody tr th:only-of-type {\n        vertical-align: middle;\n    }\n\n    .dataframe tbody tr th {\n        vertical-align: top;\n    }\n\n    .dataframe thead th {\n        text-align: right;\n    }\n</style>\n<table border=\"1\" class=\"dataframe\">\n  <thead>\n    <tr style=\"text-align: right;\">\n      <th></th>\n      <th>id</th>\n      <th>subject</th>\n      <th>phenotypicFeatures</th>\n      <th>interpretations</th>\n      <th>diseases</th>\n      <th>metaData</th>\n    </tr>\n  </thead>\n  <tbody>\n    <tr>\n      <th>0</th>\n      <td>PMID_28289718_Higgins-Patient-1</td>\n      <td>{'id': 'Higgins-Patient-1', 'timeAtLastEncount...</td>\n      <td>[{'type': {'id': 'HP:0001714', 'label': 'Ventr...</td>\n      <td>[{'id': 'Higgins-Patient-1', 'progressStatus':...</td>\n      <td>[{'term': {'id': 'OMIM:618499', 'label': 'Noon...</td>\n      <td>{'created': '2024-03-28T11:11:48.590163946Z', ...</td>\n    </tr>\n    <tr>\n      <th>1</th>\n      <td>PMID_31173466_Suzuki-Patient-1</td>\n      <td>{'id': 'Suzuki-Patient-1', 'timeAtLastEncounte...</td>\n      <td>[{'type': {'id': 'HP:0001714', 'label': 'Ventr...</td>\n      <td>[{'id': 'Suzuki-Patient-1', 'progressStatus': ...</td>\n      <td>[{'term': {'id': 'OMIM:618499', 'label': 'Noon...</td>\n      <td>{'created': '2024-03-28T11:11:48.594725131Z', ...</td>\n    </tr>\n    <tr>\n      <th>2</th>\n      <td>PMID_28289718_Higgins-Patient-2</td>\n      <td>{'id': 'Higgins-Patient-2', 'timeAtLastEncount...</td>\n      <td>[{'type': {'id': 'HP:0001714', 'label': 'Ventr...</td>\n      <td>[{'id': 'Higgins-Patient-2', 'progressStatus':...</td>\n      <td>[{'term': {'id': 'OMIM:618499', 'label': 'Noon...</td>\n      <td>{'created': '2024-03-28T11:11:48.592718124Z', ...</td>\n    </tr>\n  </tbody>\n</table>\n</div>"
     },
     "execution_count": 12,
     "metadata": {},
     "output_type": "execute_result"
    }
   ],
   "source": [
    "qr = collection.find({\"diseases.term.id\": \"OMIM:618499\"}, limit=3)\n",
    "qr.rows_dataframe"
   ],
   "metadata": {
    "collapsed": false,
    "ExecuteTime": {
     "end_time": "2024-05-27T17:36:54.800290Z",
     "start_time": "2024-05-27T17:36:54.747560Z"
    }
   },
   "id": "e763fe6cd50022e2"
  },
  {
   "cell_type": "markdown",
   "source": [
    "As expected, there are three rows with the OMIM disease 618499."
   ],
   "metadata": {
    "collapsed": false
   },
   "id": "4a266efbcb405673"
  },
  {
   "cell_type": "markdown",
   "source": [
    "## Query faceting\n",
    "\n",
    "We will now demonstrate faceted queries, allowing us to count the number of instances of different categorical values or categorical value combinations.\n",
    "\n",
    "First we'll facet on the subject sex. We can use path notation, e.g. `subject.sex` here:"
   ],
   "metadata": {
    "collapsed": false
   },
   "id": "d4749758585df35c"
  },
  {
   "cell_type": "code",
   "execution_count": 40,
   "outputs": [
    {
     "data": {
      "text/plain": "{'subject.sex': [('MALE', 1807), ('FEMALE', 1564), (None, 1505)]}"
     },
     "execution_count": 40,
     "metadata": {},
     "output_type": "execute_result"
    }
   ],
   "source": [
    "collection.query_facets({}, facet_columns=[\"subject.sex\"])"
   ],
   "metadata": {
    "collapsed": false,
    "ExecuteTime": {
     "start_time": "2024-05-27T18:21:26.689972Z"
    }
   },
   "id": "9b7f01f14d36958b"
  },
  {
   "cell_type": "markdown",
   "source": [
    "We can also facet by the disease name/label. We'll restrict this to the top 20"
   ],
   "metadata": {
    "collapsed": false
   },
   "id": "ea6e13f82ec50e62"
  },
  {
   "cell_type": "code",
   "execution_count": 49,
   "outputs": [
    {
     "data": {
      "text/plain": "{'diseases.term.label': [(['Developmental and epileptic encephalopathy 4'],\n   463),\n  (['Developmental and epileptic encephalopathy 11'], 342),\n  (['KBG syndrome'], 337),\n  (['Leber congenital amaurosis 6'], 191),\n  (['Glass syndrome'], 158),\n  (['Holt-Oram syndrome'], 103),\n  (['Mitochondrial DNA depletion syndrome 13 (encephalomyopathic type)'], 95),\n  (['Neurodevelopmental disorder with coarse facies and mild distal skeletal abnormalities'],\n   73),\n  (['Jacobsen syndrome'], 69),\n  (['Coffin-Siris syndrome 8'], 65),\n  (['Kabuki Syndrome 1'], 65),\n  (['Houge-Janssen syndrome 2'], 60),\n  (['ZTTK SYNDROME'], 52),\n  (['Greig cephalopolysyndactyly syndrome'], 51),\n  (['Seizures, benign familial infantile, 3'], 51),\n  (['Marfan syndrome'], 50),\n  (['Mitochondrial DNA depletion syndrome 6 (hepatocerebral type)'], 50),\n  (['Loeys-Dietz syndrome 3'], 49),\n  (['Developmental delay, dysmorphic facies, and brain anomalies'], 49),\n  (['Intellectual developmental disorder, autosomal dominant 21'], 46)]}"
     },
     "execution_count": 49,
     "metadata": {},
     "output_type": "execute_result"
    }
   ],
   "source": [
    "collection.query_facets({}, facet_columns=[\"diseases.term.label\"], facet_limit=20)\n"
   ],
   "metadata": {
    "collapsed": false,
    "ExecuteTime": {
     "end_time": "2024-05-27T19:44:53.150300Z",
     "start_time": "2024-05-27T19:44:53.096656Z"
    }
   },
   "id": "27857349279abc41"
  },
  {
   "cell_type": "code",
   "execution_count": 48,
   "outputs": [
    {
     "data": {
      "text/plain": "{'subject.timeAtLastEncounter.age.iso8601duration': [(None, 2087),\n  ('P4Y', 131),\n  ('P3Y', 114),\n  ('P6Y', 100),\n  ('P5Y', 97),\n  ('P2Y', 95),\n  ('P7Y', 85),\n  ('P10Y', 82),\n  ('P9Y', 77),\n  ('P8Y', 71)]}"
     },
     "execution_count": 48,
     "metadata": {},
     "output_type": "execute_result"
    }
   ],
   "source": [
    "collection.query_facets({}, facet_columns=[\"subject.timeAtLastEncounter.age.iso8601duration\"], facet_limit=10)\n"
   ],
   "metadata": {
    "collapsed": false,
    "ExecuteTime": {
     "end_time": "2024-05-27T19:44:24.121772Z",
     "start_time": "2024-05-27T19:44:24.097199Z"
    }
   },
   "id": "86eea02b6c25c2cd"
  },
  {
   "cell_type": "code",
   "execution_count": 63,
   "outputs": [
    {
     "data": {
      "text/plain": "{'interpretations.diagnosis.genomicInterpretations.variantInterpretation.variationDescriptor.geneContext.symbol': [([['STXBP1']],\n   463),\n  ([['SCN2A']], 393),\n  ([['ANKRD11']], 337),\n  ([['RPGRIP1']], 185),\n  ([['SATB2']], 158),\n  ([['FBN1']], 151),\n  ([['LMNA']], 127),\n  ([['TBX5']], 103),\n  ([['SPTAN1']], 85),\n  ([['GLI3']], 82)]}"
     },
     "execution_count": 63,
     "metadata": {},
     "output_type": "execute_result"
    }
   ],
   "source": [
    "collection.query_facets({}, facet_columns=[\"interpretations.diagnosis.genomicInterpretations.variantInterpretation.variationDescriptor.geneContext.symbol\"], facet_limit=10)\n"
   ],
   "metadata": {
    "collapsed": false,
    "ExecuteTime": {
     "end_time": "2024-05-27T21:00:32.482156Z",
     "start_time": "2024-05-27T21:00:32.427328Z"
    }
   },
   "id": "10f2c971ed09c386"
  },
  {
   "cell_type": "markdown",
   "source": [
    "We can also facet on combinations:"
   ],
   "metadata": {
    "collapsed": false
   },
   "id": "ee540382322111a9"
  },
  {
   "cell_type": "code",
   "execution_count": 51,
   "outputs": [
    {
     "data": {
      "text/plain": "{('subject.sex',\n  'diseases.term.label'): [({'diseasestermlabel': ['Developmental and epileptic encephalopathy 4']},\n   463), ({'diseasestermlabel': ['Developmental and epileptic encephalopathy 11']},\n   342), ({'diseasestermlabel': ['Leber congenital amaurosis 6']},\n   191), ({'subjectsex': 'MALE',\n    'diseasestermlabel': ['KBG syndrome']}, 175), ({'subjectsex': 'FEMALE',\n    'diseasestermlabel': ['KBG syndrome']},\n   143), ({'subjectsex': 'MALE', 'diseasestermlabel': ['Glass syndrome']},\n   90), ({'subjectsex': 'FEMALE', 'diseasestermlabel': ['Glass syndrome']},\n   62), ({'subjectsex': 'MALE',\n    'diseasestermlabel': ['Mitochondrial DNA depletion syndrome 13 (encephalomyopathic type)']},\n   58), ({'subjectsex': 'MALE',\n    'diseasestermlabel': ['Neurodevelopmental disorder with coarse facies and mild distal skeletal abnormalities']},\n   54), ({'diseasestermlabel': ['Holt-Oram syndrome']},\n   53), ({'diseasestermlabel': ['Greig cephalopolysyndactyly syndrome']}, 51), ({'diseasestermlabel': ['Seizures, benign familial infantile, 3']},\n   51), ({'subjectsex': 'FEMALE', 'diseasestermlabel': ['Jacobsen syndrome']},\n   49), ({'diseasestermlabel': ['Emery-Dreifuss muscular dystrophy 2, autosomal dominant']},\n   41), ({'diseasestermlabel': ['Cone-rod dystrophy 13']},\n   38), ({'subjectsex': 'FEMALE',\n    'diseasestermlabel': ['Mitochondrial DNA depletion syndrome 13 (encephalomyopathic type)']}, 37), ({'subjectsex': 'MALE',\n    'diseasestermlabel': ['Coffin-Siris syndrome 8']},\n   37), ({'subjectsex': 'FEMALE', 'diseasestermlabel': ['Kabuki Syndrome 1']},\n   35), ({'subjectsex': 'MALE',\n    'diseasestermlabel': ['Houge-Janssen syndrome 2']},\n   32), ({'subjectsex': 'MALE', 'diseasestermlabel': ['Kabuki Syndrome 1']},\n   30)]}"
     },
     "execution_count": 51,
     "metadata": {},
     "output_type": "execute_result"
    }
   ],
   "source": [
    "fqr = collection.query_facets({}, facet_columns=[(\"subject.sex\", \"diseases.term.label\")], facet_limit=20)\n",
    "fqr\n"
   ],
   "metadata": {
    "collapsed": false,
    "ExecuteTime": {
     "end_time": "2024-05-27T19:51:22.787118Z",
     "start_time": "2024-05-27T19:51:22.734478Z"
    }
   },
   "id": "5eca26a67254d3d2"
  },
  {
   "cell_type": "code",
   "execution_count": 60,
   "outputs": [
    {
     "data": {
      "text/plain": "                                          subject.sex  \\\n0        Developmental and epileptic encephalopathy 4   \n1       Developmental and epileptic encephalopathy 11   \n2                        Leber congenital amaurosis 6   \n3                                                MALE   \n4                                              FEMALE   \n5                                                MALE   \n6                                              FEMALE   \n7                                                MALE   \n8                                                MALE   \n9                                  Holt-Oram syndrome   \n10               Greig cephalopolysyndactyly syndrome   \n11             Seizures, benign familial infantile, 3   \n12                                             FEMALE   \n13  Emery-Dreifuss muscular dystrophy 2, autosomal...   \n14                              Cone-rod dystrophy 13   \n15                                             FEMALE   \n16                                               MALE   \n17                                             FEMALE   \n18                                               MALE   \n19                                               MALE   \n\n                                  diseases.term.label  count  \n0                                                 NaN    463  \n1                                                 NaN    342  \n2                                                 NaN    191  \n3                                        KBG syndrome    175  \n4                                        KBG syndrome    143  \n5                                      Glass syndrome     90  \n6                                      Glass syndrome     62  \n7   Mitochondrial DNA depletion syndrome 13 (encep...     58  \n8   Neurodevelopmental disorder with coarse facies...     54  \n9                                                 NaN     53  \n10                                                NaN     51  \n11                                                NaN     51  \n12                                  Jacobsen syndrome     49  \n13                                                NaN     41  \n14                                                NaN     38  \n15  Mitochondrial DNA depletion syndrome 13 (encep...     37  \n16                            Coffin-Siris syndrome 8     37  \n17                                  Kabuki Syndrome 1     35  \n18                           Houge-Janssen syndrome 2     32  \n19                                  Kabuki Syndrome 1     30  ",
      "text/html": "<div>\n<style scoped>\n    .dataframe tbody tr th:only-of-type {\n        vertical-align: middle;\n    }\n\n    .dataframe tbody tr th {\n        vertical-align: top;\n    }\n\n    .dataframe thead th {\n        text-align: right;\n    }\n</style>\n<table border=\"1\" class=\"dataframe\">\n  <thead>\n    <tr style=\"text-align: right;\">\n      <th></th>\n      <th>subject.sex</th>\n      <th>diseases.term.label</th>\n      <th>count</th>\n    </tr>\n  </thead>\n  <tbody>\n    <tr>\n      <th>0</th>\n      <td>Developmental and epileptic encephalopathy 4</td>\n      <td>NaN</td>\n      <td>463</td>\n    </tr>\n    <tr>\n      <th>1</th>\n      <td>Developmental and epileptic encephalopathy 11</td>\n      <td>NaN</td>\n      <td>342</td>\n    </tr>\n    <tr>\n      <th>2</th>\n      <td>Leber congenital amaurosis 6</td>\n      <td>NaN</td>\n      <td>191</td>\n    </tr>\n    <tr>\n      <th>3</th>\n      <td>MALE</td>\n      <td>KBG syndrome</td>\n      <td>175</td>\n    </tr>\n    <tr>\n      <th>4</th>\n      <td>FEMALE</td>\n      <td>KBG syndrome</td>\n      <td>143</td>\n    </tr>\n    <tr>\n      <th>5</th>\n      <td>MALE</td>\n      <td>Glass syndrome</td>\n      <td>90</td>\n    </tr>\n    <tr>\n      <th>6</th>\n      <td>FEMALE</td>\n      <td>Glass syndrome</td>\n      <td>62</td>\n    </tr>\n    <tr>\n      <th>7</th>\n      <td>MALE</td>\n      <td>Mitochondrial DNA depletion syndrome 13 (encep...</td>\n      <td>58</td>\n    </tr>\n    <tr>\n      <th>8</th>\n      <td>MALE</td>\n      <td>Neurodevelopmental disorder with coarse facies...</td>\n      <td>54</td>\n    </tr>\n    <tr>\n      <th>9</th>\n      <td>Holt-Oram syndrome</td>\n      <td>NaN</td>\n      <td>53</td>\n    </tr>\n    <tr>\n      <th>10</th>\n      <td>Greig cephalopolysyndactyly syndrome</td>\n      <td>NaN</td>\n      <td>51</td>\n    </tr>\n    <tr>\n      <th>11</th>\n      <td>Seizures, benign familial infantile, 3</td>\n      <td>NaN</td>\n      <td>51</td>\n    </tr>\n    <tr>\n      <th>12</th>\n      <td>FEMALE</td>\n      <td>Jacobsen syndrome</td>\n      <td>49</td>\n    </tr>\n    <tr>\n      <th>13</th>\n      <td>Emery-Dreifuss muscular dystrophy 2, autosomal...</td>\n      <td>NaN</td>\n      <td>41</td>\n    </tr>\n    <tr>\n      <th>14</th>\n      <td>Cone-rod dystrophy 13</td>\n      <td>NaN</td>\n      <td>38</td>\n    </tr>\n    <tr>\n      <th>15</th>\n      <td>FEMALE</td>\n      <td>Mitochondrial DNA depletion syndrome 13 (encep...</td>\n      <td>37</td>\n    </tr>\n    <tr>\n      <th>16</th>\n      <td>MALE</td>\n      <td>Coffin-Siris syndrome 8</td>\n      <td>37</td>\n    </tr>\n    <tr>\n      <th>17</th>\n      <td>FEMALE</td>\n      <td>Kabuki Syndrome 1</td>\n      <td>35</td>\n    </tr>\n    <tr>\n      <th>18</th>\n      <td>MALE</td>\n      <td>Houge-Janssen syndrome 2</td>\n      <td>32</td>\n    </tr>\n    <tr>\n      <th>19</th>\n      <td>MALE</td>\n      <td>Kabuki Syndrome 1</td>\n      <td>30</td>\n    </tr>\n  </tbody>\n</table>\n</div>"
     },
     "execution_count": 60,
     "metadata": {},
     "output_type": "execute_result"
    }
   ],
   "source": [
    "import pandas as pd\n",
    "def fqr_as_dfs(fqr: dict):\n",
    "    dfs = []\n",
    "    for k, vs in fqr.items():\n",
    "        rows = []\n",
    "        for obj, count in vs:\n",
    "            row = {}\n",
    "            for col, val in zip(k, obj.values()):\n",
    "                row[col] = val[0] if isinstance(val, list) else val\n",
    "            row[\"count\"] = count\n",
    "            rows.append(row)\n",
    "        df = pd.DataFrame(columns=list(k) + [\"count\"], data=rows)\n",
    "        dfs.append(df)\n",
    "    return dfs\n",
    "\n",
    "fqr_as_dfs(fqr)[0]"
   ],
   "metadata": {
    "collapsed": false,
    "ExecuteTime": {
     "end_time": "2024-05-27T20:54:51.637344Z",
     "start_time": "2024-05-27T20:54:51.627322Z"
    }
   },
   "id": "854f55b91f350de2"
  },
  {
   "cell_type": "markdown",
   "source": [
    "## Semantic Search\n",
    "\n",
    "We will index phenopackets using a template that extracts the subject, phenotypic features and diseases.\n",
    "\n",
    "First we will create a textualization template for a phenopacket. We will keep it minimal for simplicity - this doesn't include treatments, families, etc."
   ],
   "metadata": {
    "collapsed": false
   },
   "id": "648f05e75f250221"
  },
  {
   "cell_type": "code",
   "execution_count": 13,
   "outputs": [],
   "source": [
    "template = \"\"\"\n",
    "subject: {{subject}}\n",
    "phenotypes: {% for p in phenotypicFeatures %}{{p.type.label}}{% endfor %}\n",
    "diseases: {% for d in diseases %}{{d.term.label}}{% endfor %}\n",
    "\"\"\""
   ],
   "metadata": {
    "collapsed": false,
    "ExecuteTime": {
     "end_time": "2024-05-27T17:38:08.913543Z",
     "start_time": "2024-05-27T17:38:08.911536Z"
    }
   },
   "id": "976095541027ce9e"
  },
  {
   "cell_type": "markdown",
   "source": [
    "Next we will create an indexer using the template. This will use the Jinja2 syntax for templating.\n",
    "We will also cache LLM embedding queries, so if we want to incrementally add new phenopackets we can avoid re-running the LLM embeddings calls."
   ],
   "metadata": {
    "collapsed": false
   },
   "id": "76a71f8590bd5602"
  },
  {
   "cell_type": "code",
   "execution_count": 18,
   "outputs": [],
   "source": [
    "from linkml_store.index.implementations.llm_indexer import LLMIndexer\n",
    "\n",
    "index = LLMIndexer(\n",
    "    name=\"ppkt\", \n",
    "    cached_embeddings_database=\"tmp/llm_pheno_cache.db\",\n",
    "    text_template=template,\n",
    "    text_template_syntax=\"jinja2\",\n",
    ")"
   ],
   "metadata": {
    "collapsed": false,
    "ExecuteTime": {
     "end_time": "2024-05-27T17:41:12.721803Z",
     "start_time": "2024-05-27T17:41:12.718291Z"
    }
   },
   "id": "e98f9d6eb4a5e385"
  },
  {
   "cell_type": "markdown",
   "source": [
    "We can test the template on the first row of the collection:"
   ],
   "metadata": {
    "collapsed": false
   },
   "id": "e6c28d4d95b920ba"
  },
  {
   "cell_type": "code",
   "execution_count": 19,
   "outputs": [
    {
     "name": "stdout",
     "output_type": "stream",
     "text": [
      "\n",
      "subject: {'id': 'Higgins-Patient-1', 'timeAtLastEncounter': {'age': {'iso8601duration': 'P17Y'}}, 'sex': 'FEMALE'}\n",
      "phenotypes: Ventricular hypertrophyHeart murmurHypertrophic cardiomyopathyShort statureHypertelorismLow-set earsPosteriorly rotated earsGlobal developmental delayCognitive impairmentCardiac arrest\n",
      "diseases: Noonan syndrome-11\n"
     ]
    }
   ],
   "source": [
    "print(index.object_to_text(qr.rows[0]))"
   ],
   "metadata": {
    "collapsed": false,
    "ExecuteTime": {
     "end_time": "2024-05-27T17:41:14.407606Z",
     "start_time": "2024-05-27T17:41:14.404375Z"
    }
   },
   "id": "16dce837e31c88f6"
  },
  {
   "cell_type": "markdown",
   "source": [
    "That looks as expected. We can now attach the indexer to the collection and index the collection:"
   ],
   "metadata": {
    "collapsed": false
   },
   "id": "4fbd1fc091c4c7b"
  },
  {
   "cell_type": "code",
   "execution_count": 20,
   "outputs": [
    {
     "name": "stderr",
     "output_type": "stream",
     "text": [
      "/Users/cjm/Library/Caches/pypoetry/virtualenvs/linkml-store-8ZYO4kTy-py3.10/lib/python3.10/site-packages/duckdb_engine/__init__.py:580: SAWarning: Did not recognize type 'list' of column 'embedding'\n",
      "  columns = self._get_columns_info(rows, domains, enums, schema)  # type: ignore[attr-defined]\n",
      "/Users/cjm/Library/Caches/pypoetry/virtualenvs/linkml-store-8ZYO4kTy-py3.10/lib/python3.10/site-packages/duckdb_engine/__init__.py:173: DuckDBEngineWarning: duckdb-engine doesn't yet support reflection on indices\n",
      "  warnings.warn(\n"
     ]
    }
   ],
   "source": [
    "collection.attach_indexer(index, auto_index=True)"
   ],
   "metadata": {
    "collapsed": false,
    "ExecuteTime": {
     "end_time": "2024-05-27T17:46:57.209831Z",
     "start_time": "2024-05-27T17:41:19.795946Z"
    }
   },
   "id": "18a0bd86de7f1d81"
  },
  {
   "cell_type": "markdown",
   "source": [
    "## Semantic Search\n",
    "\n",
    "Let's query based on text criteria:"
   ],
   "metadata": {
    "collapsed": false
   },
   "id": "f49056b209918a9"
  },
  {
   "cell_type": "code",
   "execution_count": 64,
   "outputs": [
    {
     "data": {
      "text/plain": "      score                         id  \\\n0  0.824664      PMID_30658709_patient   \n1  0.813827    PMID_36932076_Patient_1   \n2  0.804126            PMID_37303127_6   \n3  0.799738    PMID_36932076_Patient_3   \n4  0.799243  PMID_27536553_27536553_P3   \n\n                                             subject  \\\n0  {'id': 'patient', 'timeAtLastEncounter': {'age...   \n1  {'id': 'Patient 1', 'timeAtLastEncounter': {'a...   \n2  {'id': '6', 'timeAtLastEncounter': {'age': {'i...   \n3  {'id': 'Patient 3', 'timeAtLastEncounter': {'a...   \n4  {'id': '27536553_P3', 'timeAtLastEncounter': {...   \n\n                                  phenotypicFeatures  \\\n0  [{'type': {'id': 'HP:0031956', 'label': 'Eleva...   \n1  [{'type': {'id': 'HP:0000979', 'label': 'Purpu...   \n2  [{'type': {'id': 'HP:0001397', 'label': 'Hepat...   \n3  [{'type': {'id': 'HP:0001511', 'label': 'Intra...   \n4  [{'type': {'id': 'HP:0001396', 'label': 'Chole...   \n\n                                     interpretations  \\\n0  [{'id': 'patient', 'progressStatus': 'SOLVED',...   \n1  [{'id': 'Patient 1', 'progressStatus': 'SOLVED...   \n2  [{'id': '6', 'progressStatus': 'SOLVED', 'diag...   \n3  [{'id': 'Patient 3', 'progressStatus': 'SOLVED...   \n4  [{'id': '27536553_P3', 'progressStatus': 'SOLV...   \n\n                                            diseases  \\\n0  [{'term': {'id': 'OMIM:615878', 'label': 'Chol...   \n1  [{'term': {'id': 'OMIM:620376', 'label': 'Auto...   \n2  [{'term': {'id': 'OMIM:151660', 'label': 'Lipo...   \n3  [{'term': {'id': 'OMIM:620376', 'label': 'Auto...   \n4  [{'term': {'id': 'OMIM:256810', 'label': 'Mito...   \n\n                                            metaData  \n0  {'created': '2024-05-05T09:03:25.388371944Z', ...  \n1  {'created': '2024-04-19T06:07:57.188061952Z', ...  \n2  {'created': '2024-03-23T17:41:42.999521017Z', ...  \n3  {'created': '2024-04-19T06:07:57.190312862Z', ...  \n4  {'created': '2024-03-23T19:28:35.688389062Z', ...  ",
      "text/html": "<div>\n<style scoped>\n    .dataframe tbody tr th:only-of-type {\n        vertical-align: middle;\n    }\n\n    .dataframe tbody tr th {\n        vertical-align: top;\n    }\n\n    .dataframe thead th {\n        text-align: right;\n    }\n</style>\n<table border=\"1\" class=\"dataframe\">\n  <thead>\n    <tr style=\"text-align: right;\">\n      <th></th>\n      <th>score</th>\n      <th>id</th>\n      <th>subject</th>\n      <th>phenotypicFeatures</th>\n      <th>interpretations</th>\n      <th>diseases</th>\n      <th>metaData</th>\n    </tr>\n  </thead>\n  <tbody>\n    <tr>\n      <th>0</th>\n      <td>0.824664</td>\n      <td>PMID_30658709_patient</td>\n      <td>{'id': 'patient', 'timeAtLastEncounter': {'age...</td>\n      <td>[{'type': {'id': 'HP:0031956', 'label': 'Eleva...</td>\n      <td>[{'id': 'patient', 'progressStatus': 'SOLVED',...</td>\n      <td>[{'term': {'id': 'OMIM:615878', 'label': 'Chol...</td>\n      <td>{'created': '2024-05-05T09:03:25.388371944Z', ...</td>\n    </tr>\n    <tr>\n      <th>1</th>\n      <td>0.813827</td>\n      <td>PMID_36932076_Patient_1</td>\n      <td>{'id': 'Patient 1', 'timeAtLastEncounter': {'a...</td>\n      <td>[{'type': {'id': 'HP:0000979', 'label': 'Purpu...</td>\n      <td>[{'id': 'Patient 1', 'progressStatus': 'SOLVED...</td>\n      <td>[{'term': {'id': 'OMIM:620376', 'label': 'Auto...</td>\n      <td>{'created': '2024-04-19T06:07:57.188061952Z', ...</td>\n    </tr>\n    <tr>\n      <th>2</th>\n      <td>0.804126</td>\n      <td>PMID_37303127_6</td>\n      <td>{'id': '6', 'timeAtLastEncounter': {'age': {'i...</td>\n      <td>[{'type': {'id': 'HP:0001397', 'label': 'Hepat...</td>\n      <td>[{'id': '6', 'progressStatus': 'SOLVED', 'diag...</td>\n      <td>[{'term': {'id': 'OMIM:151660', 'label': 'Lipo...</td>\n      <td>{'created': '2024-03-23T17:41:42.999521017Z', ...</td>\n    </tr>\n    <tr>\n      <th>3</th>\n      <td>0.799738</td>\n      <td>PMID_36932076_Patient_3</td>\n      <td>{'id': 'Patient 3', 'timeAtLastEncounter': {'a...</td>\n      <td>[{'type': {'id': 'HP:0001511', 'label': 'Intra...</td>\n      <td>[{'id': 'Patient 3', 'progressStatus': 'SOLVED...</td>\n      <td>[{'term': {'id': 'OMIM:620376', 'label': 'Auto...</td>\n      <td>{'created': '2024-04-19T06:07:57.190312862Z', ...</td>\n    </tr>\n    <tr>\n      <th>4</th>\n      <td>0.799243</td>\n      <td>PMID_27536553_27536553_P3</td>\n      <td>{'id': '27536553_P3', 'timeAtLastEncounter': {...</td>\n      <td>[{'type': {'id': 'HP:0001396', 'label': 'Chole...</td>\n      <td>[{'id': '27536553_P3', 'progressStatus': 'SOLV...</td>\n      <td>[{'term': {'id': 'OMIM:256810', 'label': 'Mito...</td>\n      <td>{'created': '2024-03-23T19:28:35.688389062Z', ...</td>\n    </tr>\n  </tbody>\n</table>\n</div>"
     },
     "execution_count": 64,
     "metadata": {},
     "output_type": "execute_result"
    }
   ],
   "source": [
    "qr = collection.search(\"patients with liver diseases\")\n",
    "qr.rows_dataframe[0:5]"
   ],
   "metadata": {
    "collapsed": false,
    "ExecuteTime": {
     "end_time": "2024-05-27T21:27:16.690275Z",
     "start_time": "2024-05-27T21:27:09.166536Z"
    }
   },
   "id": "1ddd4ac75719342d"
  },
  {
   "cell_type": "markdown",
   "source": [
    "Let's check the first one"
   ],
   "metadata": {
    "collapsed": false
   },
   "id": "b54c088d3d69f8a3"
  },
  {
   "cell_type": "code",
   "execution_count": 65,
   "outputs": [
    {
     "data": {
      "text/plain": "(0.8246637496927007,\n {'id': 'PMID_30658709_patient',\n  'subject': {'id': 'patient',\n   'timeAtLastEncounter': {'age': {'iso8601duration': 'P1Y11M'}},\n   'sex': 'FEMALE'},\n  'phenotypicFeatures': [{'type': {'id': 'HP:0031956',\n     'label': 'Elevated circulating aspartate aminotransferase concentration'},\n    'onset': {'age': {'iso8601duration': 'P1Y11M'}}},\n   {'type': {'id': 'HP:0031964',\n     'label': 'Elevated circulating alanine aminotransferase concentration'},\n    'onset': {'age': {'iso8601duration': 'P1Y11M'}}},\n   {'type': {'id': 'HP:0003573', 'label': 'Increased total bilirubin'},\n    'onset': {'age': {'iso8601duration': 'P6M'}}},\n   {'type': {'id': 'HP:0012202',\n     'label': 'Increased serum bile acid concentration'},\n    'onset': {'age': {'iso8601duration': 'P6M'}}},\n   {'type': {'id': 'HP:0002908', 'label': 'Conjugated hyperbilirubinemia'},\n    'onset': {'age': {'iso8601duration': 'P6M'}}},\n   {'type': {'id': 'HP:0001433', 'label': 'Hepatosplenomegaly'},\n    'onset': {'age': {'iso8601duration': 'P6M'}}},\n   {'type': {'id': 'HP:0001510', 'label': 'Growth delay'},\n    'onset': {'age': {'iso8601duration': 'P6M'}}},\n   {'type': {'id': 'HP:0000989', 'label': 'Pruritus'},\n    'onset': {'age': {'iso8601duration': 'P6M'}}},\n   {'type': {'id': 'HP:0000952', 'label': 'Jaundice'},\n    'onset': {'age': {'iso8601duration': 'P6M'}}},\n   {'type': {'id': 'HP:0100810', 'label': 'Pointed helix'},\n    'onset': {'age': {'iso8601duration': 'P6M'}}},\n   {'type': {'id': 'HP:0002650', 'label': 'Scoliosis'}},\n   {'type': {'id': 'HP:0003112',\n     'label': 'Abnormal circulating amino acid concentration'},\n    'excluded': True},\n   {'type': {'id': 'HP:0001928', 'label': 'Abnormality of coagulation'},\n    'excluded': True},\n   {'type': {'id': 'HP:0010701', 'label': 'Abnormal immunoglobulin level'},\n    'excluded': True},\n   {'type': {'id': 'HP:0001627', 'label': 'Abnormal heart morphology'},\n    'excluded': True}],\n  'interpretations': [{'id': 'patient',\n    'progressStatus': 'SOLVED',\n    'diagnosis': {'disease': {'id': 'OMIM:615878',\n      'label': 'Cholestasis, progressive familial intrahepatic 4'},\n     'genomicInterpretations': [{'subjectOrBiosampleId': 'patient',\n       'interpretationStatus': 'CAUSATIVE',\n       'variantInterpretation': {'variationDescriptor': {'id': 'var_kKNGnjOxGXMbcoWzDGEJKVPIB',\n         'geneContext': {'valueId': 'HGNC:11828', 'symbol': 'TJP2'},\n         'expressions': [{'syntax': 'hgvs.c',\n           'value': 'NM_004817.4:c.2355+1G>C'},\n          {'syntax': 'hgvs.g', 'value': 'NC_000009.12:g.69238790G>C'}],\n         'vcfRecord': {'genomeAssembly': 'hg38',\n          'chrom': 'chr9',\n          'pos': '69238790',\n          'ref': 'G',\n          'alt': 'C'},\n         'moleculeContext': 'genomic',\n         'allelicState': {'id': 'GENO:0000136', 'label': 'homozygous'}}}}]}}],\n  'diseases': [{'term': {'id': 'OMIM:615878',\n     'label': 'Cholestasis, progressive familial intrahepatic 4'},\n    'onset': {'ontologyClass': {'id': 'HP:0003593',\n      'label': 'Infantile onset'}}}],\n  'metaData': {'created': '2024-05-05T09:03:25.388371944Z',\n   'createdBy': 'ORCID:0000-0002-0736-9199',\n   'resources': [{'id': 'geno',\n     'name': 'Genotype Ontology',\n     'url': 'http://purl.obolibrary.org/obo/geno.owl',\n     'version': '2022-03-05',\n     'namespacePrefix': 'GENO',\n     'iriPrefix': 'http://purl.obolibrary.org/obo/GENO_'},\n    {'id': 'hgnc',\n     'name': 'HUGO Gene Nomenclature Committee',\n     'url': 'https://www.genenames.org',\n     'version': '06/01/23',\n     'namespacePrefix': 'HGNC',\n     'iriPrefix': 'https://www.genenames.org/data/gene-symbol-report/#!/hgnc_id/'},\n    {'id': 'omim',\n     'name': 'An Online Catalog of Human Genes and Genetic Disorders',\n     'url': 'https://www.omim.org',\n     'version': 'January 4, 2023',\n     'namespacePrefix': 'OMIM',\n     'iriPrefix': 'https://www.omim.org/entry/'},\n    {'id': 'so',\n     'name': 'Sequence types and features ontology',\n     'url': 'http://purl.obolibrary.org/obo/so.obo',\n     'version': '2021-11-22',\n     'namespacePrefix': 'SO',\n     'iriPrefix': 'http://purl.obolibrary.org/obo/SO_'},\n    {'id': 'hp',\n     'name': 'human phenotype ontology',\n     'url': 'http://purl.obolibrary.org/obo/hp.owl',\n     'version': '2024-04-26',\n     'namespacePrefix': 'HP',\n     'iriPrefix': 'http://purl.obolibrary.org/obo/HP_'}],\n   'phenopacketSchemaVersion': '2.0',\n   'externalReferences': [{'id': 'PMID:30658709',\n     'reference': 'https://pubmed.ncbi.nlm.nih.gov/30658709',\n     'description': 'Novel compound heterozygote mutations of TJP2 in a Chinese child with progressive cholestatic liver disease'}]}})"
     },
     "execution_count": 65,
     "metadata": {},
     "output_type": "execute_result"
    }
   ],
   "source": [
    "qr.ranked_rows[0]"
   ],
   "metadata": {
    "collapsed": false,
    "ExecuteTime": {
     "end_time": "2024-05-27T21:27:54.735421Z",
     "start_time": "2024-05-27T21:27:54.732109Z"
    }
   },
   "id": "5a4fd8fe217fdf6b"
  },
  {
   "cell_type": "markdown",
   "source": [
    "We can combine semantic search with queries:"
   ],
   "metadata": {
    "collapsed": false
   },
   "id": "4f38cf9889a15086"
  },
  {
   "cell_type": "code",
   "execution_count": 66,
   "outputs": [
    {
     "data": {
      "text/plain": "      score                         id  \\\n0  0.813827    PMID_36932076_Patient_1   \n1  0.799738    PMID_36932076_Patient_3   \n2  0.799243  PMID_27536553_27536553_P3   \n3  0.798670    PMID_29321044_Patient_3   \n4  0.798010    PMID_36517554_patient_1   \n\n                                             subject  \\\n0  {'id': 'Patient 1', 'timeAtLastEncounter': {'a...   \n1  {'id': 'Patient 3', 'timeAtLastEncounter': {'a...   \n2  {'id': '27536553_P3', 'timeAtLastEncounter': {...   \n3  {'id': 'Patient 3', 'timeAtLastEncounter': {'a...   \n4  {'id': 'patient 1', 'timeAtLastEncounter': {'a...   \n\n                                  phenotypicFeatures  \\\n0  [{'type': {'id': 'HP:0000979', 'label': 'Purpu...   \n1  [{'type': {'id': 'HP:0001511', 'label': 'Intra...   \n2  [{'type': {'id': 'HP:0001396', 'label': 'Chole...   \n3  [{'type': {'id': 'HP:0031956', 'label': 'Eleva...   \n4  [{'type': {'id': 'HP:0002240', 'label': 'Hepat...   \n\n                                     interpretations  \\\n0  [{'id': 'Patient 1', 'progressStatus': 'SOLVED...   \n1  [{'id': 'Patient 3', 'progressStatus': 'SOLVED...   \n2  [{'id': '27536553_P3', 'progressStatus': 'SOLV...   \n3  [{'id': 'Patient 3', 'progressStatus': 'SOLVED...   \n4  [{'id': 'patient 1', 'progressStatus': 'SOLVED...   \n\n                                            diseases  \\\n0  [{'term': {'id': 'OMIM:620376', 'label': 'Auto...   \n1  [{'term': {'id': 'OMIM:620376', 'label': 'Auto...   \n2  [{'term': {'id': 'OMIM:256810', 'label': 'Mito...   \n3  [{'term': {'id': 'OMIM:616829', 'label': 'Cong...   \n4  [{'term': {'id': 'OMIM:620603', 'label': 'Immu...   \n\n                                            metaData  \n0  {'created': '2024-04-19T06:07:57.188061952Z', ...  \n1  {'created': '2024-04-19T06:07:57.190312862Z', ...  \n2  {'created': '2024-03-23T19:28:35.688389062Z', ...  \n3  {'created': '2024-05-11T06:05:50.632786035Z', ...  \n4  {'created': '2024-03-29T11:25:36.649104833Z', ...  ",
      "text/html": "<div>\n<style scoped>\n    .dataframe tbody tr th:only-of-type {\n        vertical-align: middle;\n    }\n\n    .dataframe tbody tr th {\n        vertical-align: top;\n    }\n\n    .dataframe thead th {\n        text-align: right;\n    }\n</style>\n<table border=\"1\" class=\"dataframe\">\n  <thead>\n    <tr style=\"text-align: right;\">\n      <th></th>\n      <th>score</th>\n      <th>id</th>\n      <th>subject</th>\n      <th>phenotypicFeatures</th>\n      <th>interpretations</th>\n      <th>diseases</th>\n      <th>metaData</th>\n    </tr>\n  </thead>\n  <tbody>\n    <tr>\n      <th>0</th>\n      <td>0.813827</td>\n      <td>PMID_36932076_Patient_1</td>\n      <td>{'id': 'Patient 1', 'timeAtLastEncounter': {'a...</td>\n      <td>[{'type': {'id': 'HP:0000979', 'label': 'Purpu...</td>\n      <td>[{'id': 'Patient 1', 'progressStatus': 'SOLVED...</td>\n      <td>[{'term': {'id': 'OMIM:620376', 'label': 'Auto...</td>\n      <td>{'created': '2024-04-19T06:07:57.188061952Z', ...</td>\n    </tr>\n    <tr>\n      <th>1</th>\n      <td>0.799738</td>\n      <td>PMID_36932076_Patient_3</td>\n      <td>{'id': 'Patient 3', 'timeAtLastEncounter': {'a...</td>\n      <td>[{'type': {'id': 'HP:0001511', 'label': 'Intra...</td>\n      <td>[{'id': 'Patient 3', 'progressStatus': 'SOLVED...</td>\n      <td>[{'term': {'id': 'OMIM:620376', 'label': 'Auto...</td>\n      <td>{'created': '2024-04-19T06:07:57.190312862Z', ...</td>\n    </tr>\n    <tr>\n      <th>2</th>\n      <td>0.799243</td>\n      <td>PMID_27536553_27536553_P3</td>\n      <td>{'id': '27536553_P3', 'timeAtLastEncounter': {...</td>\n      <td>[{'type': {'id': 'HP:0001396', 'label': 'Chole...</td>\n      <td>[{'id': '27536553_P3', 'progressStatus': 'SOLV...</td>\n      <td>[{'term': {'id': 'OMIM:256810', 'label': 'Mito...</td>\n      <td>{'created': '2024-03-23T19:28:35.688389062Z', ...</td>\n    </tr>\n    <tr>\n      <th>3</th>\n      <td>0.798670</td>\n      <td>PMID_29321044_Patient_3</td>\n      <td>{'id': 'Patient 3', 'timeAtLastEncounter': {'a...</td>\n      <td>[{'type': {'id': 'HP:0031956', 'label': 'Eleva...</td>\n      <td>[{'id': 'Patient 3', 'progressStatus': 'SOLVED...</td>\n      <td>[{'term': {'id': 'OMIM:616829', 'label': 'Cong...</td>\n      <td>{'created': '2024-05-11T06:05:50.632786035Z', ...</td>\n    </tr>\n    <tr>\n      <th>4</th>\n      <td>0.798010</td>\n      <td>PMID_36517554_patient_1</td>\n      <td>{'id': 'patient 1', 'timeAtLastEncounter': {'a...</td>\n      <td>[{'type': {'id': 'HP:0002240', 'label': 'Hepat...</td>\n      <td>[{'id': 'patient 1', 'progressStatus': 'SOLVED...</td>\n      <td>[{'term': {'id': 'OMIM:620603', 'label': 'Immu...</td>\n      <td>{'created': '2024-03-29T11:25:36.649104833Z', ...</td>\n    </tr>\n  </tbody>\n</table>\n</div>"
     },
     "execution_count": 66,
     "metadata": {},
     "output_type": "execute_result"
    }
   ],
   "source": [
    "qr = collection.search(\"patients with liver diseases\", where={\"subject.sex\": \"MALE\"})\n",
    "qr.rows_dataframe[0:5]"
   ],
   "metadata": {
    "collapsed": false,
    "ExecuteTime": {
     "end_time": "2024-05-27T21:29:21.609814Z",
     "start_time": "2024-05-27T21:29:17.198180Z"
    }
   },
   "id": "8a218f8f7688a2d3"
  },
  {
   "cell_type": "markdown",
   "source": [
    "## Validation\n",
    "\n",
    "Next we will demonstrate validation over a whole collection.\n",
    "\n",
    "Currently validating depends on a LinkML schema - we have previously copied this schema into the test folder.\n",
    "We will load the schema into the database object:"
   ],
   "metadata": {
    "collapsed": false
   },
   "id": "41a14e7976a923b3"
  },
  {
   "cell_type": "code",
   "execution_count": 26,
   "outputs": [],
   "source": [
    "db.load_schema_view(\"../../tests/input/phenopackets_linkml/phenopackets.yaml\")"
   ],
   "metadata": {
    "collapsed": false,
    "ExecuteTime": {
     "end_time": "2024-05-27T18:00:41.800377Z",
     "start_time": "2024-05-27T18:00:41.645117Z"
    }
   },
   "id": "5294ee7927a372f1"
  },
  {
   "cell_type": "markdown",
   "source": [
    "Quick sanity check to ensure that worked:"
   ],
   "metadata": {
    "collapsed": false
   },
   "id": "292d662d92bdfdb4"
  },
  {
   "cell_type": "code",
   "execution_count": 30,
   "outputs": [
    {
     "data": {
      "text/plain": "['Age',\n 'AgeRange',\n 'Dictionary',\n 'Evidence',\n 'ExternalReference',\n 'File',\n 'GestationalAge',\n 'OntologyClass',\n 'Procedure',\n 'TimeElement']"
     },
     "execution_count": 30,
     "metadata": {},
     "output_type": "execute_result"
    }
   ],
   "source": [
    "list(db.schema_view.all_classes())[0:10]"
   ],
   "metadata": {
    "collapsed": false,
    "ExecuteTime": {
     "end_time": "2024-05-27T18:01:37.685499Z",
     "start_time": "2024-05-27T18:01:37.683396Z"
    }
   },
   "id": "c211d3ce33b05fd5"
  },
  {
   "cell_type": "code",
   "execution_count": 32,
   "outputs": [],
   "source": [
    "collection.metadata.type = \"Phenopacket\""
   ],
   "metadata": {
    "collapsed": false,
    "ExecuteTime": {
     "end_time": "2024-05-27T18:03:12.225838Z",
     "start_time": "2024-05-27T18:03:12.219259Z"
    }
   },
   "id": "7109f8da1228fe6a"
  },
  {
   "cell_type": "code",
   "execution_count": 39,
   "outputs": [],
   "source": [
    "from linkml_runtime.dumpers import yaml_dumper\n",
    "for r in db.iter_validate_database():\n",
    "    # known issue - https://github.com/monarch-initiative/phenopacket-store/issues/97\n",
    "    if \"is not of type 'integer'\" in r.message:\n",
    "        continue\n",
    "    print(r.message[0:100])\n",
    "    print(r)\n",
    "    raise ValueError(\"Unexpected validation error\")"
   ],
   "metadata": {
    "collapsed": false,
    "ExecuteTime": {
     "end_time": "2024-05-27T18:20:06.293366Z",
     "start_time": "2024-05-27T18:19:59.380423Z"
    }
   },
   "id": "bce050193361ecf2"
  },
  {
   "cell_type": "markdown",
   "source": [
    "## Command Line Usage\n",
    "\n",
    "We can also use the command line for all of the above operations.\n",
    "\n",
    "For example, feceted queries:"
   ],
   "metadata": {
    "collapsed": false
   },
   "id": "8ff5109280b990e0"
  },
  {
   "cell_type": "code",
   "execution_count": 68,
   "outputs": [
    {
     "name": "stdout",
     "output_type": "stream",
     "text": [
      "{\r\n",
      "  \"subject.sex\": {\r\n",
      "    \"MALE\": 1807,\r\n",
      "    \"FEMALE\": 1564,\r\n",
      "    \"None\": 1505\r\n",
      "  }\r\n",
      "}\r\n"
     ]
    }
   ],
   "source": [
    "!linkml-store -d mongodb://localhost:27017 -c main fq -S subject.sex"
   ],
   "metadata": {
    "collapsed": false,
    "ExecuteTime": {
     "end_time": "2024-05-28T02:17:10.677324Z",
     "start_time": "2024-05-28T02:17:08.349774Z"
    }
   },
   "id": "92208567bec477fb"
  },
  {
   "cell_type": "code",
   "execution_count": null,
   "outputs": [],
   "source": [],
   "metadata": {
    "collapsed": false
   },
   "id": "db26d37f9e60283d"
  }
 ],
 "metadata": {
  "kernelspec": {
   "display_name": "Python 3",
   "language": "python",
   "name": "python3"
  },
  "language_info": {
   "codemirror_mode": {
    "name": "ipython",
    "version": 2
   },
   "file_extension": ".py",
   "mimetype": "text/x-python",
   "name": "python",
   "nbconvert_exporter": "python",
   "pygments_lexer": "ipython2",
   "version": "2.7.6"
  }
 },
 "nbformat": 4,
 "nbformat_minor": 5
}
