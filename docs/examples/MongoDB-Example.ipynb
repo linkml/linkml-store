{
 "cells": [
  {
   "cell_type": "markdown",
   "source": [
    "# Using MongoDB\n",
    "\n",
    "..."
   ],
   "metadata": {
    "collapsed": false
   },
   "id": "fc4794dd116ed21"
  },
  {
   "cell_type": "code",
   "execution_count": 1,
   "outputs": [],
   "source": [
    "from linkml_store import Client\n",
    "\n",
    "client = Client()"
   ],
   "metadata": {
    "collapsed": false,
    "ExecuteTime": {
     "start_time": "2024-04-27T19:00:03.851353Z"
    }
   },
   "id": "initial_id"
  },
  {
   "cell_type": "code",
   "execution_count": 2,
   "outputs": [],
   "source": [
    "db = client.attach_database(\"mongodb://localhost:27017\", \"test\")"
   ],
   "metadata": {
    "collapsed": false,
    "ExecuteTime": {
     "end_time": "2024-04-27T19:00:04.648126Z",
     "start_time": "2024-04-27T19:00:04.644303Z"
    }
   },
   "id": "cc164c0acbe4c39d"
  },
  {
   "cell_type": "code",
   "execution_count": 9,
   "outputs": [],
   "source": [
    "collection = db.create_collection(\"test\", recreate_if_exists=True)"
   ],
   "metadata": {
    "collapsed": false,
    "ExecuteTime": {
     "end_time": "2024-04-27T19:00:16.273293Z",
     "start_time": "2024-04-27T19:00:16.259495Z"
    }
   },
   "id": "c3a79013f9359a9"
  },
  {
   "cell_type": "code",
   "execution_count": 10,
   "outputs": [],
   "source": [
    "COUNTRIES = \"../../tests/input/countries/countries.jsonl\""
   ],
   "metadata": {
    "collapsed": false,
    "ExecuteTime": {
     "end_time": "2024-04-27T19:00:16.871578Z",
     "start_time": "2024-04-27T19:00:16.865833Z"
    }
   },
   "id": "5286ef4e9dd0f316"
  },
  {
   "cell_type": "code",
   "execution_count": 11,
   "outputs": [],
   "source": [
    "from linkml_store.utils.format_utils import load_objects\n",
    "\n",
    "objects = load_objects(COUNTRIES)"
   ],
   "metadata": {
    "collapsed": false,
    "ExecuteTime": {
     "end_time": "2024-04-27T19:00:17.322222Z",
     "start_time": "2024-04-27T19:00:17.317315Z"
    }
   },
   "id": "2e21988e4fc13f58"
  },
  {
   "cell_type": "code",
   "execution_count": 12,
   "outputs": [
    {
     "data": {
      "text/plain": "              name code           capital      continent  \\\n0    United States   US  Washington, D.C.  North America   \n1           Canada   CA            Ottawa  North America   \n2           Mexico   MX       Mexico City  North America   \n3           Brazil   BR          Brasília  South America   \n4        Argentina   AR      Buenos Aires  South America   \n5   United Kingdom   GB            London         Europe   \n6           France   FR             Paris         Europe   \n7          Germany   DE            Berlin         Europe   \n8            Italy   IT              Rome         Europe   \n9            Spain   ES            Madrid         Europe   \n10           China   CN           Beijing           Asia   \n11           Japan   JP             Tokyo           Asia   \n12           India   IN         New Delhi           Asia   \n13     South Korea   KR             Seoul           Asia   \n14       Indonesia   ID           Jakarta           Asia   \n15       Australia   AU          Canberra        Oceania   \n16     New Zealand   NZ        Wellington        Oceania   \n17           Egypt   EG             Cairo         Africa   \n18         Nigeria   NG             Abuja         Africa   \n19    South Africa   ZA          Pretoria         Africa   \n\n                                            languages  \n0                                           [English]  \n1                                   [English, French]  \n2                                           [Spanish]  \n3                                        [Portuguese]  \n4                                           [Spanish]  \n5                                           [English]  \n6                                            [French]  \n7                                            [German]  \n8                                           [Italian]  \n9                                           [Spanish]  \n10                                 [Standard Chinese]  \n11                                         [Japanese]  \n12                                   [Hindi, English]  \n13                                           [Korean]  \n14                                       [Indonesian]  \n15                                          [English]  \n16                                   [English, Māori]  \n17                                           [Arabic]  \n18                                          [English]  \n19  [Zulu, Xhosa, Afrikaans, English, Northern Sot...  ",
      "text/html": "<div>\n<style scoped>\n    .dataframe tbody tr th:only-of-type {\n        vertical-align: middle;\n    }\n\n    .dataframe tbody tr th {\n        vertical-align: top;\n    }\n\n    .dataframe thead th {\n        text-align: right;\n    }\n</style>\n<table border=\"1\" class=\"dataframe\">\n  <thead>\n    <tr style=\"text-align: right;\">\n      <th></th>\n      <th>name</th>\n      <th>code</th>\n      <th>capital</th>\n      <th>continent</th>\n      <th>languages</th>\n    </tr>\n  </thead>\n  <tbody>\n    <tr>\n      <th>0</th>\n      <td>United States</td>\n      <td>US</td>\n      <td>Washington, D.C.</td>\n      <td>North America</td>\n      <td>[English]</td>\n    </tr>\n    <tr>\n      <th>1</th>\n      <td>Canada</td>\n      <td>CA</td>\n      <td>Ottawa</td>\n      <td>North America</td>\n      <td>[English, French]</td>\n    </tr>\n    <tr>\n      <th>2</th>\n      <td>Mexico</td>\n      <td>MX</td>\n      <td>Mexico City</td>\n      <td>North America</td>\n      <td>[Spanish]</td>\n    </tr>\n    <tr>\n      <th>3</th>\n      <td>Brazil</td>\n      <td>BR</td>\n      <td>Brasília</td>\n      <td>South America</td>\n      <td>[Portuguese]</td>\n    </tr>\n    <tr>\n      <th>4</th>\n      <td>Argentina</td>\n      <td>AR</td>\n      <td>Buenos Aires</td>\n      <td>South America</td>\n      <td>[Spanish]</td>\n    </tr>\n    <tr>\n      <th>5</th>\n      <td>United Kingdom</td>\n      <td>GB</td>\n      <td>London</td>\n      <td>Europe</td>\n      <td>[English]</td>\n    </tr>\n    <tr>\n      <th>6</th>\n      <td>France</td>\n      <td>FR</td>\n      <td>Paris</td>\n      <td>Europe</td>\n      <td>[French]</td>\n    </tr>\n    <tr>\n      <th>7</th>\n      <td>Germany</td>\n      <td>DE</td>\n      <td>Berlin</td>\n      <td>Europe</td>\n      <td>[German]</td>\n    </tr>\n    <tr>\n      <th>8</th>\n      <td>Italy</td>\n      <td>IT</td>\n      <td>Rome</td>\n      <td>Europe</td>\n      <td>[Italian]</td>\n    </tr>\n    <tr>\n      <th>9</th>\n      <td>Spain</td>\n      <td>ES</td>\n      <td>Madrid</td>\n      <td>Europe</td>\n      <td>[Spanish]</td>\n    </tr>\n    <tr>\n      <th>10</th>\n      <td>China</td>\n      <td>CN</td>\n      <td>Beijing</td>\n      <td>Asia</td>\n      <td>[Standard Chinese]</td>\n    </tr>\n    <tr>\n      <th>11</th>\n      <td>Japan</td>\n      <td>JP</td>\n      <td>Tokyo</td>\n      <td>Asia</td>\n      <td>[Japanese]</td>\n    </tr>\n    <tr>\n      <th>12</th>\n      <td>India</td>\n      <td>IN</td>\n      <td>New Delhi</td>\n      <td>Asia</td>\n      <td>[Hindi, English]</td>\n    </tr>\n    <tr>\n      <th>13</th>\n      <td>South Korea</td>\n      <td>KR</td>\n      <td>Seoul</td>\n      <td>Asia</td>\n      <td>[Korean]</td>\n    </tr>\n    <tr>\n      <th>14</th>\n      <td>Indonesia</td>\n      <td>ID</td>\n      <td>Jakarta</td>\n      <td>Asia</td>\n      <td>[Indonesian]</td>\n    </tr>\n    <tr>\n      <th>15</th>\n      <td>Australia</td>\n      <td>AU</td>\n      <td>Canberra</td>\n      <td>Oceania</td>\n      <td>[English]</td>\n    </tr>\n    <tr>\n      <th>16</th>\n      <td>New Zealand</td>\n      <td>NZ</td>\n      <td>Wellington</td>\n      <td>Oceania</td>\n      <td>[English, Māori]</td>\n    </tr>\n    <tr>\n      <th>17</th>\n      <td>Egypt</td>\n      <td>EG</td>\n      <td>Cairo</td>\n      <td>Africa</td>\n      <td>[Arabic]</td>\n    </tr>\n    <tr>\n      <th>18</th>\n      <td>Nigeria</td>\n      <td>NG</td>\n      <td>Abuja</td>\n      <td>Africa</td>\n      <td>[English]</td>\n    </tr>\n    <tr>\n      <th>19</th>\n      <td>South Africa</td>\n      <td>ZA</td>\n      <td>Pretoria</td>\n      <td>Africa</td>\n      <td>[Zulu, Xhosa, Afrikaans, English, Northern Sot...</td>\n    </tr>\n  </tbody>\n</table>\n</div>"
     },
     "execution_count": 12,
     "metadata": {},
     "output_type": "execute_result"
    }
   ],
   "source": [
    "import pandas as pd\n",
    "pd.DataFrame(objects)"
   ],
   "metadata": {
    "collapsed": false,
    "ExecuteTime": {
     "end_time": "2024-04-27T19:00:17.787127Z",
     "start_time": "2024-04-27T19:00:17.780450Z"
    }
   },
   "id": "e98f9d6eb4a5e385"
  },
  {
   "cell_type": "code",
   "execution_count": 13,
   "outputs": [],
   "source": [
    "collection.insert(objects)"
   ],
   "metadata": {
    "collapsed": false,
    "ExecuteTime": {
     "end_time": "2024-04-27T19:00:18.449579Z",
     "start_time": "2024-04-27T19:00:18.444422Z"
    }
   },
   "id": "668e59a8f28e7bfe"
  },
  {
   "cell_type": "code",
   "execution_count": 14,
   "outputs": [],
   "source": [
    "qr = collection.find()"
   ],
   "metadata": {
    "collapsed": false,
    "ExecuteTime": {
     "end_time": "2024-04-27T19:00:19.182645Z",
     "start_time": "2024-04-27T19:00:19.175432Z"
    }
   },
   "id": "9575e280dda32e41"
  },
  {
   "cell_type": "code",
   "execution_count": 15,
   "outputs": [
    {
     "data": {
      "text/plain": "                         _id            name code           capital  \\\n0   662d4b42cb92da981987ddfc   United States   US  Washington, D.C.   \n1   662d4b42cb92da981987ddfd          Canada   CA            Ottawa   \n2   662d4b42cb92da981987ddfe          Mexico   MX       Mexico City   \n3   662d4b42cb92da981987ddff          Brazil   BR          Brasília   \n4   662d4b42cb92da981987de00       Argentina   AR      Buenos Aires   \n5   662d4b42cb92da981987de01  United Kingdom   GB            London   \n6   662d4b42cb92da981987de02          France   FR             Paris   \n7   662d4b42cb92da981987de03         Germany   DE            Berlin   \n8   662d4b42cb92da981987de04           Italy   IT              Rome   \n9   662d4b42cb92da981987de05           Spain   ES            Madrid   \n10  662d4b42cb92da981987de06           China   CN           Beijing   \n11  662d4b42cb92da981987de07           Japan   JP             Tokyo   \n12  662d4b42cb92da981987de08           India   IN         New Delhi   \n13  662d4b42cb92da981987de09     South Korea   KR             Seoul   \n14  662d4b42cb92da981987de0a       Indonesia   ID           Jakarta   \n15  662d4b42cb92da981987de0b       Australia   AU          Canberra   \n16  662d4b42cb92da981987de0c     New Zealand   NZ        Wellington   \n17  662d4b42cb92da981987de0d           Egypt   EG             Cairo   \n18  662d4b42cb92da981987de0e         Nigeria   NG             Abuja   \n19  662d4b42cb92da981987de0f    South Africa   ZA          Pretoria   \n\n        continent                                          languages  \n0   North America                                          [English]  \n1   North America                                  [English, French]  \n2   North America                                          [Spanish]  \n3   South America                                       [Portuguese]  \n4   South America                                          [Spanish]  \n5          Europe                                          [English]  \n6          Europe                                           [French]  \n7          Europe                                           [German]  \n8          Europe                                          [Italian]  \n9          Europe                                          [Spanish]  \n10           Asia                                 [Standard Chinese]  \n11           Asia                                         [Japanese]  \n12           Asia                                   [Hindi, English]  \n13           Asia                                           [Korean]  \n14           Asia                                       [Indonesian]  \n15        Oceania                                          [English]  \n16        Oceania                                   [English, Māori]  \n17         Africa                                           [Arabic]  \n18         Africa                                          [English]  \n19         Africa  [Zulu, Xhosa, Afrikaans, English, Northern Sot...  ",
      "text/html": "<div>\n<style scoped>\n    .dataframe tbody tr th:only-of-type {\n        vertical-align: middle;\n    }\n\n    .dataframe tbody tr th {\n        vertical-align: top;\n    }\n\n    .dataframe thead th {\n        text-align: right;\n    }\n</style>\n<table border=\"1\" class=\"dataframe\">\n  <thead>\n    <tr style=\"text-align: right;\">\n      <th></th>\n      <th>_id</th>\n      <th>name</th>\n      <th>code</th>\n      <th>capital</th>\n      <th>continent</th>\n      <th>languages</th>\n    </tr>\n  </thead>\n  <tbody>\n    <tr>\n      <th>0</th>\n      <td>662d4b42cb92da981987ddfc</td>\n      <td>United States</td>\n      <td>US</td>\n      <td>Washington, D.C.</td>\n      <td>North America</td>\n      <td>[English]</td>\n    </tr>\n    <tr>\n      <th>1</th>\n      <td>662d4b42cb92da981987ddfd</td>\n      <td>Canada</td>\n      <td>CA</td>\n      <td>Ottawa</td>\n      <td>North America</td>\n      <td>[English, French]</td>\n    </tr>\n    <tr>\n      <th>2</th>\n      <td>662d4b42cb92da981987ddfe</td>\n      <td>Mexico</td>\n      <td>MX</td>\n      <td>Mexico City</td>\n      <td>North America</td>\n      <td>[Spanish]</td>\n    </tr>\n    <tr>\n      <th>3</th>\n      <td>662d4b42cb92da981987ddff</td>\n      <td>Brazil</td>\n      <td>BR</td>\n      <td>Brasília</td>\n      <td>South America</td>\n      <td>[Portuguese]</td>\n    </tr>\n    <tr>\n      <th>4</th>\n      <td>662d4b42cb92da981987de00</td>\n      <td>Argentina</td>\n      <td>AR</td>\n      <td>Buenos Aires</td>\n      <td>South America</td>\n      <td>[Spanish]</td>\n    </tr>\n    <tr>\n      <th>5</th>\n      <td>662d4b42cb92da981987de01</td>\n      <td>United Kingdom</td>\n      <td>GB</td>\n      <td>London</td>\n      <td>Europe</td>\n      <td>[English]</td>\n    </tr>\n    <tr>\n      <th>6</th>\n      <td>662d4b42cb92da981987de02</td>\n      <td>France</td>\n      <td>FR</td>\n      <td>Paris</td>\n      <td>Europe</td>\n      <td>[French]</td>\n    </tr>\n    <tr>\n      <th>7</th>\n      <td>662d4b42cb92da981987de03</td>\n      <td>Germany</td>\n      <td>DE</td>\n      <td>Berlin</td>\n      <td>Europe</td>\n      <td>[German]</td>\n    </tr>\n    <tr>\n      <th>8</th>\n      <td>662d4b42cb92da981987de04</td>\n      <td>Italy</td>\n      <td>IT</td>\n      <td>Rome</td>\n      <td>Europe</td>\n      <td>[Italian]</td>\n    </tr>\n    <tr>\n      <th>9</th>\n      <td>662d4b42cb92da981987de05</td>\n      <td>Spain</td>\n      <td>ES</td>\n      <td>Madrid</td>\n      <td>Europe</td>\n      <td>[Spanish]</td>\n    </tr>\n    <tr>\n      <th>10</th>\n      <td>662d4b42cb92da981987de06</td>\n      <td>China</td>\n      <td>CN</td>\n      <td>Beijing</td>\n      <td>Asia</td>\n      <td>[Standard Chinese]</td>\n    </tr>\n    <tr>\n      <th>11</th>\n      <td>662d4b42cb92da981987de07</td>\n      <td>Japan</td>\n      <td>JP</td>\n      <td>Tokyo</td>\n      <td>Asia</td>\n      <td>[Japanese]</td>\n    </tr>\n    <tr>\n      <th>12</th>\n      <td>662d4b42cb92da981987de08</td>\n      <td>India</td>\n      <td>IN</td>\n      <td>New Delhi</td>\n      <td>Asia</td>\n      <td>[Hindi, English]</td>\n    </tr>\n    <tr>\n      <th>13</th>\n      <td>662d4b42cb92da981987de09</td>\n      <td>South Korea</td>\n      <td>KR</td>\n      <td>Seoul</td>\n      <td>Asia</td>\n      <td>[Korean]</td>\n    </tr>\n    <tr>\n      <th>14</th>\n      <td>662d4b42cb92da981987de0a</td>\n      <td>Indonesia</td>\n      <td>ID</td>\n      <td>Jakarta</td>\n      <td>Asia</td>\n      <td>[Indonesian]</td>\n    </tr>\n    <tr>\n      <th>15</th>\n      <td>662d4b42cb92da981987de0b</td>\n      <td>Australia</td>\n      <td>AU</td>\n      <td>Canberra</td>\n      <td>Oceania</td>\n      <td>[English]</td>\n    </tr>\n    <tr>\n      <th>16</th>\n      <td>662d4b42cb92da981987de0c</td>\n      <td>New Zealand</td>\n      <td>NZ</td>\n      <td>Wellington</td>\n      <td>Oceania</td>\n      <td>[English, Māori]</td>\n    </tr>\n    <tr>\n      <th>17</th>\n      <td>662d4b42cb92da981987de0d</td>\n      <td>Egypt</td>\n      <td>EG</td>\n      <td>Cairo</td>\n      <td>Africa</td>\n      <td>[Arabic]</td>\n    </tr>\n    <tr>\n      <th>18</th>\n      <td>662d4b42cb92da981987de0e</td>\n      <td>Nigeria</td>\n      <td>NG</td>\n      <td>Abuja</td>\n      <td>Africa</td>\n      <td>[English]</td>\n    </tr>\n    <tr>\n      <th>19</th>\n      <td>662d4b42cb92da981987de0f</td>\n      <td>South Africa</td>\n      <td>ZA</td>\n      <td>Pretoria</td>\n      <td>Africa</td>\n      <td>[Zulu, Xhosa, Afrikaans, English, Northern Sot...</td>\n    </tr>\n  </tbody>\n</table>\n</div>"
     },
     "execution_count": 15,
     "metadata": {},
     "output_type": "execute_result"
    }
   ],
   "source": [
    "qr.rows_dataframe"
   ],
   "metadata": {
    "collapsed": false,
    "ExecuteTime": {
     "end_time": "2024-04-27T19:00:19.980168Z",
     "start_time": "2024-04-27T19:00:19.974214Z"
    }
   },
   "id": "9b65321ea7c7ee15"
  },
  {
   "cell_type": "code",
   "execution_count": 16,
   "outputs": [],
   "source": [
    "qr = collection.find({\"continent\": \"Europe\"})"
   ],
   "metadata": {
    "collapsed": false,
    "ExecuteTime": {
     "end_time": "2024-04-27T19:00:23.773825Z",
     "start_time": "2024-04-27T19:00:23.764300Z"
    }
   },
   "id": "244378540320adcf"
  },
  {
   "cell_type": "code",
   "execution_count": 17,
   "outputs": [
    {
     "data": {
      "text/plain": "                        _id            name code capital continent  languages\n0  662d4b42cb92da981987de01  United Kingdom   GB  London    Europe  [English]\n1  662d4b42cb92da981987de02          France   FR   Paris    Europe   [French]\n2  662d4b42cb92da981987de03         Germany   DE  Berlin    Europe   [German]\n3  662d4b42cb92da981987de04           Italy   IT    Rome    Europe  [Italian]\n4  662d4b42cb92da981987de05           Spain   ES  Madrid    Europe  [Spanish]",
      "text/html": "<div>\n<style scoped>\n    .dataframe tbody tr th:only-of-type {\n        vertical-align: middle;\n    }\n\n    .dataframe tbody tr th {\n        vertical-align: top;\n    }\n\n    .dataframe thead th {\n        text-align: right;\n    }\n</style>\n<table border=\"1\" class=\"dataframe\">\n  <thead>\n    <tr style=\"text-align: right;\">\n      <th></th>\n      <th>_id</th>\n      <th>name</th>\n      <th>code</th>\n      <th>capital</th>\n      <th>continent</th>\n      <th>languages</th>\n    </tr>\n  </thead>\n  <tbody>\n    <tr>\n      <th>0</th>\n      <td>662d4b42cb92da981987de01</td>\n      <td>United Kingdom</td>\n      <td>GB</td>\n      <td>London</td>\n      <td>Europe</td>\n      <td>[English]</td>\n    </tr>\n    <tr>\n      <th>1</th>\n      <td>662d4b42cb92da981987de02</td>\n      <td>France</td>\n      <td>FR</td>\n      <td>Paris</td>\n      <td>Europe</td>\n      <td>[French]</td>\n    </tr>\n    <tr>\n      <th>2</th>\n      <td>662d4b42cb92da981987de03</td>\n      <td>Germany</td>\n      <td>DE</td>\n      <td>Berlin</td>\n      <td>Europe</td>\n      <td>[German]</td>\n    </tr>\n    <tr>\n      <th>3</th>\n      <td>662d4b42cb92da981987de04</td>\n      <td>Italy</td>\n      <td>IT</td>\n      <td>Rome</td>\n      <td>Europe</td>\n      <td>[Italian]</td>\n    </tr>\n    <tr>\n      <th>4</th>\n      <td>662d4b42cb92da981987de05</td>\n      <td>Spain</td>\n      <td>ES</td>\n      <td>Madrid</td>\n      <td>Europe</td>\n      <td>[Spanish]</td>\n    </tr>\n  </tbody>\n</table>\n</div>"
     },
     "execution_count": 17,
     "metadata": {},
     "output_type": "execute_result"
    }
   ],
   "source": [
    "qr.rows_dataframe"
   ],
   "metadata": {
    "collapsed": false,
    "ExecuteTime": {
     "end_time": "2024-04-27T19:00:24.463234Z",
     "start_time": "2024-04-27T19:00:24.438370Z"
    }
   },
   "id": "1ff46aef2d8abba1"
  },
  {
   "cell_type": "code",
   "execution_count": 18,
   "outputs": [],
   "source": [
    "fc = collection.query_facets()"
   ],
   "metadata": {
    "collapsed": false,
    "ExecuteTime": {
     "end_time": "2024-04-27T19:00:26.551550Z",
     "start_time": "2024-04-27T19:00:26.524470Z"
    }
   },
   "id": "df3c2afcdb8153e8"
  },
  {
   "cell_type": "code",
   "execution_count": 19,
   "outputs": [
    {
     "data": {
      "text/plain": "[('Asia', 5),\n ('Europe', 5),\n ('North America', 3),\n ('Africa', 3),\n ('South America', 2),\n ('Oceania', 2)]"
     },
     "execution_count": 19,
     "metadata": {},
     "output_type": "execute_result"
    }
   ],
   "source": [
    "fc[\"continent\"]"
   ],
   "metadata": {
    "collapsed": false,
    "ExecuteTime": {
     "end_time": "2024-04-27T19:00:27.116354Z",
     "start_time": "2024-04-27T19:00:27.111394Z"
    }
   },
   "id": "61cd37ba4849ed22"
  },
  {
   "cell_type": "code",
   "execution_count": 20,
   "outputs": [],
   "source": [
    "collection.attach_indexer(\"llm\")"
   ],
   "metadata": {
    "collapsed": false,
    "ExecuteTime": {
     "end_time": "2024-04-27T19:00:33.576019Z",
     "start_time": "2024-04-27T19:00:30.083228Z"
    }
   },
   "id": "674607f18f83360c"
  },
  {
   "cell_type": "code",
   "execution_count": 21,
   "outputs": [],
   "source": [
    "qr = collection.search(\"countries with a King or Queen\")\n",
    "qr.rows_dataframe"
   ],
   "metadata": {
    "collapsed": false,
    "ExecuteTime": {
     "end_time": "2024-04-27T19:00:33.752488Z",
     "start_time": "2024-04-27T19:00:33.577257Z"
    }
   },
   "id": "1ddd4ac75719342d"
  },
  {
   "cell_type": "code",
   "execution_count": 22,
   "outputs": [
    {
     "data": {
      "text/plain": "20"
     },
     "execution_count": 22,
     "metadata": {},
     "output_type": "execute_result"
    }
   ],
   "source": [
    "qr.num_rows"
   ],
   "metadata": {
    "collapsed": false,
    "ExecuteTime": {
     "end_time": "2024-04-27T19:00:33.757694Z",
     "start_time": "2024-04-27T19:00:33.753437Z"
    }
   },
   "id": "fa1cdc4e62ad19a1"
  },
  {
   "cell_type": "code",
   "execution_count": 23,
   "outputs": [
    {
     "data": {
      "text/plain": "[(0.750363008472632,\n  {'_id': ObjectId('662d4b42cb92da981987de01'),\n   'name': 'United Kingdom',\n   'code': 'GB',\n   'capital': 'London',\n   'continent': 'Europe',\n   'languages': ['English']}),\n (0.7363757533010432,\n  {'_id': ObjectId('662d4b42cb92da981987ddfd'),\n   'name': 'Canada',\n   'code': 'CA',\n   'capital': 'Ottawa',\n   'continent': 'North America',\n   'languages': ['English', 'French']}),\n (0.7352656582302057,\n  {'_id': ObjectId('662d4b42cb92da981987de0b'),\n   'name': 'Australia',\n   'code': 'AU',\n   'capital': 'Canberra',\n   'continent': 'Oceania',\n   'languages': ['English']}),\n (0.7331208754315192,\n  {'_id': ObjectId('662d4b42cb92da981987de09'),\n   'name': 'South Korea',\n   'code': 'KR',\n   'capital': 'Seoul',\n   'continent': 'Asia',\n   'languages': ['Korean']}),\n (0.7327923214365748,\n  {'_id': ObjectId('662d4b42cb92da981987ddfc'),\n   'name': 'United States',\n   'code': 'US',\n   'capital': 'Washington, D.C.',\n   'continent': 'North America',\n   'languages': ['English']}),\n (0.7314638203989439,\n  {'_id': ObjectId('662d4b42cb92da981987de0c'),\n   'name': 'New Zealand',\n   'code': 'NZ',\n   'capital': 'Wellington',\n   'continent': 'Oceania',\n   'languages': ['English', 'Māori']}),\n (0.7292124940295097,\n  {'_id': ObjectId('662d4b42cb92da981987de0f'),\n   'name': 'South Africa',\n   'code': 'ZA',\n   'capital': 'Pretoria',\n   'continent': 'Africa',\n   'languages': ['Zulu',\n    'Xhosa',\n    'Afrikaans',\n    'English',\n    'Northern Sotho',\n    'Tswana',\n    'Southern Sotho',\n    'Tsonga',\n    'Swazi',\n    'Venda',\n    'Southern Ndebele']}),\n (0.7249094217767819,\n  {'_id': ObjectId('662d4b42cb92da981987de02'),\n   'name': 'France',\n   'code': 'FR',\n   'capital': 'Paris',\n   'continent': 'Europe',\n   'languages': ['French']}),\n (0.7226905137326911,\n  {'_id': ObjectId('662d4b42cb92da981987de06'),\n   'name': 'China',\n   'code': 'CN',\n   'capital': 'Beijing',\n   'continent': 'Asia',\n   'languages': ['Standard Chinese']}),\n (0.7219679996358678,\n  {'_id': ObjectId('662d4b42cb92da981987de0e'),\n   'name': 'Nigeria',\n   'code': 'NG',\n   'capital': 'Abuja',\n   'continent': 'Africa',\n   'languages': ['English']}),\n (0.7216173580694863,\n  {'_id': ObjectId('662d4b42cb92da981987de0d'),\n   'name': 'Egypt',\n   'code': 'EG',\n   'capital': 'Cairo',\n   'continent': 'Africa',\n   'languages': ['Arabic']}),\n (0.7213423598673421,\n  {'_id': ObjectId('662d4b42cb92da981987de03'),\n   'name': 'Germany',\n   'code': 'DE',\n   'capital': 'Berlin',\n   'continent': 'Europe',\n   'languages': ['German']}),\n (0.7210998190334833,\n  {'_id': ObjectId('662d4b42cb92da981987de05'),\n   'name': 'Spain',\n   'code': 'ES',\n   'capital': 'Madrid',\n   'continent': 'Europe',\n   'languages': ['Spanish']}),\n (0.7176112959818878,\n  {'_id': ObjectId('662d4b42cb92da981987de07'),\n   'name': 'Japan',\n   'code': 'JP',\n   'capital': 'Tokyo',\n   'continent': 'Asia',\n   'languages': ['Japanese']}),\n (0.7157308807172827,\n  {'_id': ObjectId('662d4b42cb92da981987de00'),\n   'name': 'Argentina',\n   'code': 'AR',\n   'capital': 'Buenos Aires',\n   'continent': 'South America',\n   'languages': ['Spanish']}),\n (0.7149218304650647,\n  {'_id': ObjectId('662d4b42cb92da981987ddff'),\n   'name': 'Brazil',\n   'code': 'BR',\n   'capital': 'Brasília',\n   'continent': 'South America',\n   'languages': ['Portuguese']}),\n (0.7141139396879266,\n  {'_id': ObjectId('662d4b42cb92da981987ddfe'),\n   'name': 'Mexico',\n   'code': 'MX',\n   'capital': 'Mexico City',\n   'continent': 'North America',\n   'languages': ['Spanish']}),\n (0.713500499285373,\n  {'_id': ObjectId('662d4b42cb92da981987de08'),\n   'name': 'India',\n   'code': 'IN',\n   'capital': 'New Delhi',\n   'continent': 'Asia',\n   'languages': ['Hindi', 'English']}),\n (0.7110086838806202,\n  {'_id': ObjectId('662d4b42cb92da981987de0a'),\n   'name': 'Indonesia',\n   'code': 'ID',\n   'capital': 'Jakarta',\n   'continent': 'Asia',\n   'languages': ['Indonesian']}),\n (0.7098208723747818,\n  {'_id': ObjectId('662d4b42cb92da981987de04'),\n   'name': 'Italy',\n   'code': 'IT',\n   'capital': 'Rome',\n   'continent': 'Europe',\n   'languages': ['Italian']})]"
     },
     "execution_count": 23,
     "metadata": {},
     "output_type": "execute_result"
    }
   ],
   "source": [
    "qr.ranked_rows"
   ],
   "metadata": {
    "collapsed": false,
    "ExecuteTime": {
     "end_time": "2024-04-27T19:00:33.766826Z",
     "start_time": "2024-04-27T19:00:33.761513Z"
    }
   },
   "id": "9509d574fd222a72"
  },
  {
   "cell_type": "code",
   "execution_count": null,
   "outputs": [],
   "source": [],
   "metadata": {
    "collapsed": false
   },
   "id": "cdd3d5bb25673310"
  }
 ],
 "metadata": {
  "kernelspec": {
   "display_name": "Python 3",
   "language": "python",
   "name": "python3"
  },
  "language_info": {
   "codemirror_mode": {
    "name": "ipython",
    "version": 2
   },
   "file_extension": ".py",
   "mimetype": "text/x-python",
   "name": "python",
   "nbconvert_exporter": "python",
   "pygments_lexer": "ipython2",
   "version": "2.7.6"
  }
 },
 "nbformat": 4,
 "nbformat_minor": 5
}
