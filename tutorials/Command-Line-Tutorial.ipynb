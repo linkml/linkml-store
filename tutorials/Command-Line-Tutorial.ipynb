{
 "cells": [
  {
   "cell_type": "markdown",
   "id": "92e124c26a2d83da",
   "metadata": {
    "collapsed": false
   },
   "source": [
    "# Tutorial: Using the Command Line Interface\n",
    "\n",
    "This tutorial walks through usage of LinkML-Store via the Command Line Interface (CLI)\n",
    "\n",
    "This tutorial is a Jupyter notebook: it can be executed in a command line environment,\n",
    "or you can try it for yourself by running commands directly.\n",
    "\n",
    "Note the `%%bash` is a directive for Jupyter itself, you don't need to type this"
   ]
  },
  {
   "cell_type": "markdown",
   "id": "9ae24f91d65fdda0",
   "metadata": {
    "collapsed": false
   },
   "source": [
    "## Top level command\n",
    "\n",
    "The top level command is `linkml-store`. This command doesn't do anything itself, instead there are various *subcommands*.\n",
    "\n",
    "The store command has a few *global options* to specify configuration/database/collection"
   ]
  },
  {
   "cell_type": "code",
   "execution_count": 1,
   "id": "f367252f5e8857b4",
   "metadata": {
    "ExecuteTime": {
     "end_time": "2024-07-05T22:45:56.858698Z",
     "start_time": "2024-07-05T22:45:55.044480Z"
    },
    "collapsed": false
   },
   "outputs": [
    {
     "name": "stdout",
     "output_type": "stream",
     "text": [
      "Usage: linkml-store [OPTIONS] COMMAND [ARGS]...\n",
      "\n",
      "  A CLI for interacting with the linkml-store.\n",
      "\n",
      "Options:\n",
      "  -d, --database TEXT             Database name\n",
      "  -c, --collection TEXT           Collection name\n",
      "  -C, --config PATH               Path to the configuration file\n",
      "  --set TEXT                      Metadata settings in the form PATHEXPR=value\n",
      "  -v, --verbose\n",
      "  -q, --quiet / --no-quiet\n",
      "  -B, --base-dir TEXT             Base directory for the client configuration\n",
      "  --stacktrace / --no-stacktrace  If set then show full stacktrace on error\n",
      "                                  [default: no-stacktrace]\n",
      "  --help                          Show this message and exit.\n",
      "\n",
      "Commands:\n",
      "  apply             Apply a patch to a collection.\n",
      "  describe          Describe the collection schema.\n",
      "  diff              Diffs two collectoons to create a patch.\n",
      "  export            Exports a database to a dump.\n",
      "  fq                Query facets from the specified collection.\n",
      "  import            Imports a database from a dump.\n",
      "  index             Create an index over a collection.\n",
      "  indexes           Show the indexes for a collection.\n",
      "  insert            Insert objects from files (JSON, YAML, TSV) into the...\n",
      "  list-collections\n",
      "  query             Query objects from the specified collection.\n",
      "  schema            Show the schema for a database\n",
      "  search            Search objects in the specified collection.\n",
      "  store             Store objects from files (JSON, YAML, TSV) into the...\n",
      "  validate          Validate objects in the specified collection.\n"
     ]
    }
   ],
   "source": [
    "%%bash\n",
    "linkml-store --help"
   ]
  },
  {
   "cell_type": "markdown",
   "id": "684ee59be469e12",
   "metadata": {
    "collapsed": false
   },
   "source": [
    "## Inserting objects from a file\n",
    "\n",
    "Next we'll explore the ``insert`` command:"
   ]
  },
  {
   "cell_type": "code",
   "execution_count": 2,
   "id": "cfe24edc122b04e7",
   "metadata": {
    "ExecuteTime": {
     "end_time": "2024-07-05T22:45:58.361729Z",
     "start_time": "2024-07-05T22:45:56.860277Z"
    },
    "collapsed": false
   },
   "outputs": [
    {
     "name": "stdout",
     "output_type": "stream",
     "text": [
      "Usage: linkml-store insert [OPTIONS] [FILES]...\n",
      "\n",
      "  Insert objects from files (JSON, YAML, TSV) into the specified collection.\n",
      "\n",
      "  Using a configuration:\n",
      "\n",
      "      linkml-store -C config.yaml -c genes insert data/genes/*.json\n",
      "\n",
      "  Note: if you don't provide a schema this will be inferred, but it is usually\n",
      "  better to provide an explicit schema\n",
      "\n",
      "Options:\n",
      "  -f, --format [json|jsonl|yaml|tsv|csv|python|parquet|formatted|table]\n",
      "                                  Input format\n",
      "  -i, --object TEXT               Input object as YAML\n",
      "  --help                          Show this message and exit.\n"
     ]
    }
   ],
   "source": [
    "%%bash\n",
    "linkml-store --stacktrace insert --help"
   ]
  },
  {
   "cell_type": "markdown",
   "id": "8cf50fcf5f257fdd",
   "metadata": {
    "collapsed": false
   },
   "source": [
    "We'll insert a small test file (in JSON Lines format) into a fresh database."
   ]
  },
  {
   "cell_type": "code",
   "execution_count": 3,
   "id": "afc4bfb1ecf80cc4",
   "metadata": {
    "ExecuteTime": {
     "end_time": "2024-07-05T22:45:58.382900Z",
     "start_time": "2024-07-05T22:45:58.362306Z"
    },
    "collapsed": false
   },
   "outputs": [
    {
     "name": "stdout",
     "output_type": "stream",
     "text": [
      "{\"name\": \"United States\", \"code\": \"US\", \"capital\": \"Washington, D.C.\", \"continent\": \"North America\", \"languages\": [\"English\"]}\n",
      "{\"name\": \"Canada\", \"code\": \"CA\", \"capital\": \"Ottawa\", \"continent\": \"North America\", \"languages\": [\"English\", \"French\"]}\n",
      "{\"name\": \"Mexico\", \"code\": \"MX\", \"capital\": \"Mexico City\", \"continent\": \"North America\", \"languages\": [\"Spanish\"]}\n",
      "{\"name\": \"Brazil\", \"code\": \"BR\", \"capital\": \"Brasília\", \"continent\": \"South America\", \"languages\": [\"Portuguese\"]}\n",
      "{\"name\": \"Argentina\", \"code\": \"AR\", \"capital\": \"Buenos Aires\", \"continent\": \"South America\", \"languages\": [\"Spanish\"]}\n",
      "{\"name\": \"United Kingdom\", \"code\": \"GB\", \"capital\": \"London\", \"continent\": \"Europe\", \"languages\": [\"English\"]}\n",
      "{\"name\": \"France\", \"code\": \"FR\", \"capital\": \"Paris\", \"continent\": \"Europe\", \"languages\": [\"French\"]}\n",
      "{\"name\": \"Germany\", \"code\": \"DE\", \"capital\": \"Berlin\", \"continent\": \"Europe\", \"languages\": [\"German\"]}\n",
      "{\"name\": \"Italy\", \"code\": \"IT\", \"capital\": \"Rome\", \"continent\": \"Europe\", \"languages\": [\"Italian\"]}\n",
      "{\"name\": \"Spain\", \"code\": \"ES\", \"capital\": \"Madrid\", \"continent\": \"Europe\", \"languages\": [\"Spanish\"]}\n"
     ]
    }
   ],
   "source": [
    "%%bash\n",
    "head ../../tests/input/countries/countries.jsonl"
   ]
  },
  {
   "cell_type": "markdown",
   "id": "8ec898e12ac5c6ea",
   "metadata": {
    "collapsed": false
   },
   "source": [
    "To make sure we have a fresh setup, we'll create a temporary directory `tmp` (if it doesn't already exist),\n",
    "and be sure to remove any copy of the database we intend to create.\n",
    "\n",
    "We'll then insert the objects:"
   ]
  },
  {
   "cell_type": "code",
   "execution_count": 4,
   "id": "be9cebbea43d03a8",
   "metadata": {
    "ExecuteTime": {
     "end_time": "2024-07-05T22:45:59.940252Z",
     "start_time": "2024-07-05T22:45:58.379201Z"
    },
    "collapsed": false
   },
   "outputs": [
    {
     "name": "stdout",
     "output_type": "stream",
     "text": [
      "Inserted 20 objects from ../../tests/input/countries/countries.jsonl into collection 'countries'.\n"
     ]
    }
   ],
   "source": [
    "%%bash\n",
    "mkdir -p tmp\n",
    "rm -rf tmp/countries.db\n",
    "linkml-store --database duckdb:///tmp/countries.db --collection countries insert ../../tests/input/countries/countries.jsonl"
   ]
  },
  {
   "cell_type": "markdown",
   "id": "9c4c6c201c6c3188",
   "metadata": {
    "collapsed": false
   },
   "source": [
    "Note that the `--database` and `--collection` options come *before* the `insert` subcommand.\n",
    "\n",
    "With LinkML-Store, everything must go into a collection, so we specified `countries` as the name"
   ]
  },
  {
   "cell_type": "markdown",
   "id": "4550b33d68b04a8d",
   "metadata": {
    "collapsed": false
   },
   "source": [
    "## Querying\n",
    "\n",
    "Next we'll explore the `query` command:"
   ]
  },
  {
   "cell_type": "code",
   "execution_count": 5,
   "id": "d4d0b66a1a78f50a",
   "metadata": {
    "ExecuteTime": {
     "end_time": "2024-07-05T22:46:01.404268Z",
     "start_time": "2024-07-05T22:45:59.941995Z"
    },
    "collapsed": false
   },
   "outputs": [
    {
     "name": "stdout",
     "output_type": "stream",
     "text": [
      "Usage: linkml-store query [OPTIONS]\n",
      "\n",
      "  Query objects from the specified collection.\n",
      "\n",
      "  Leave the query field blank to return all objects in the collection.\n",
      "\n",
      "  Examples:\n",
      "\n",
      "      linkml-store -d duckdb:///countries.db -c countries query\n",
      "\n",
      "  Queries can be specified in YAML, as basic key-value pairs\n",
      "\n",
      "  Examples:\n",
      "\n",
      "      linkml-store -d duckdb:///countries.db -c countries query -w 'code: NZ'\n",
      "\n",
      "  More complex queries can be specified using MongoDB-style query syntax\n",
      "\n",
      "  Examples:\n",
      "\n",
      "      linkml-store -d file:. -c persons query  -w 'occupation: {$ne:\n",
      "      Architect}'\n",
      "\n",
      "  Finds all people who are not architects.\n",
      "\n",
      "Options:\n",
      "  -w, --where TEXT                WHERE clause for the query, as YAML\n",
      "  -l, --limit INTEGER             Maximum number of results to return\n",
      "  -O, --output-type [json|jsonl|yaml|tsv|csv|python|parquet|formatted|table]\n",
      "                                  Output format\n",
      "  -o, --output PATH               Output file path\n",
      "  --help                          Show this message and exit.\n"
     ]
    }
   ],
   "source": [
    "%%bash\n",
    "linkml-store query --help"
   ]
  },
  {
   "cell_type": "markdown",
   "id": "99a6d52ab591f584",
   "metadata": {
    "collapsed": false
   },
   "source": [
    "Let's query for all objects that have `code=\"GB\"`, and get the results back as a CSV. The argument for the `--where` (or `-w`) option is a YAML object with a MongoDB-style query."
   ]
  },
  {
   "cell_type": "code",
   "execution_count": 30,
   "id": "225613b70b0d57fc",
   "metadata": {
    "ExecuteTime": {
     "end_time": "2024-07-05T22:48:49.477463Z",
     "start_time": "2024-07-05T22:48:47.541977Z"
    },
    "collapsed": false
   },
   "outputs": [
    {
     "name": "stdout",
     "output_type": "stream",
     "text": [
      "+----+----------------+--------+-----------+-------------+-------------+\n",
      "|    | name           | code   | capital   | continent   | languages   |\n",
      "|----+----------------+--------+-----------+-------------+-------------|\n",
      "|  0 | United Kingdom | GB     | London    | Europe      | ['English'] |\n",
      "+----+----------------+--------+-----------+-------------+-------------+\n"
     ]
    }
   ],
   "source": [
    "%%bash\n",
    "linkml-store --database duckdb:///tmp/countries.db -c countries query -w \"code: GB\" -O table"
   ]
  },
  {
   "cell_type": "markdown",
   "id": "e86ae98fe4c48413",
   "metadata": {
    "collapsed": false
   },
   "source": [
    "We can get the output in different formats:"
   ]
  },
  {
   "cell_type": "code",
   "execution_count": 7,
   "id": "5d47e9648428caf0",
   "metadata": {
    "ExecuteTime": {
     "end_time": "2024-07-05T22:46:04.601126Z",
     "start_time": "2024-07-05T22:46:03.037372Z"
    },
    "collapsed": false
   },
   "outputs": [
    {
     "name": "stdout",
     "output_type": "stream",
     "text": [
      "name: United Kingdom\n",
      "code: GB\n",
      "capital: London\n",
      "continent: Europe\n",
      "languages:\n",
      "- English\n"
     ]
    }
   ],
   "source": [
    "%%bash\n",
    "linkml-store --database duckdb:///tmp/countries.db -c countries query -w \"code: GB\" -O yaml"
   ]
  },
  {
   "cell_type": "markdown",
   "id": "8d980c36b6c9b839",
   "metadata": {
    "collapsed": false
   },
   "source": [
    "Formats include csv, tsv, yaml, json, jsonl, table, formatted (a human-readable format)"
   ]
  },
  {
   "cell_type": "markdown",
   "id": "ae1d98ffa2767e5f",
   "metadata": {
    "collapsed": false
   },
   "source": [
    "## Describing the data set\n",
    "\n",
    "The `describe` command gives a high-level overview of the data set:"
   ]
  },
  {
   "cell_type": "code",
   "execution_count": 8,
   "id": "45cf8f0e25f8d1ae",
   "metadata": {
    "ExecuteTime": {
     "end_time": "2024-07-05T22:46:06.085259Z",
     "start_time": "2024-07-05T22:46:04.601916Z"
    },
    "collapsed": false
   },
   "outputs": [
    {
     "name": "stdout",
     "output_type": "stream",
     "text": [
      "Usage: linkml-store describe [OPTIONS]\n",
      "\n",
      "  Describe the collection schema.\n",
      "\n",
      "Options:\n",
      "  -w, --where TEXT                WHERE clause for the query\n",
      "  -O, --output-type [json|jsonl|yaml|tsv|csv|python|parquet|formatted|table]\n",
      "                                  Output format\n",
      "  -o, --output PATH               Output file path\n",
      "  -l, --limit INTEGER             Maximum number of results to return\n",
      "                                  [default: -1]\n",
      "  --help                          Show this message and exit.\n"
     ]
    }
   ],
   "source": [
    "%%bash\n",
    "linkml-store describe --help"
   ]
  },
  {
   "cell_type": "markdown",
   "id": "ff10a119becb6ad8",
   "metadata": {
    "collapsed": false
   },
   "source": [
    "Let's try with the countries dataset:"
   ]
  },
  {
   "cell_type": "code",
   "execution_count": 34,
   "id": "364f240fc0035045",
   "metadata": {
    "ExecuteTime": {
     "end_time": "2024-07-05T22:49:56.396299Z",
     "start_time": "2024-07-05T22:49:54.448469Z"
    },
    "collapsed": false
   },
   "outputs": [
    {
     "name": "stdout",
     "output_type": "stream",
     "text": [
      "          count unique               top freq\n",
      "capital      20     20  Washington, D.C.    1\n",
      "code         20     20                US    1\n",
      "continent    20      6            Europe    5\n",
      "languages    20     15         [English]    4\n",
      "name         20     20     United States    1\n"
     ]
    }
   ],
   "source": [
    "%%bash\n",
    "linkml-store -d duckdb:///tmp/countries.db -c countries describe -O formatted"
   ]
  },
  {
   "cell_type": "markdown",
   "id": "bdc0a6d167506809",
   "metadata": {
    "collapsed": false
   },
   "source": [
    "Note this command is more useful for numeric data..."
   ]
  },
  {
   "cell_type": "markdown",
   "id": "91fcaf45c7c8c95a",
   "metadata": {
    "collapsed": false
   },
   "source": [
    "## Facet Counts\n",
    "\n",
    "You can combine any query (including an empty query, for fetching the whole database) with a *facet query* which fetches counts for\n",
    "numbers of objects broken down by some specified slot or slots."
   ]
  },
  {
   "cell_type": "code",
   "execution_count": 10,
   "id": "5676c7a8a30699a7",
   "metadata": {
    "ExecuteTime": {
     "end_time": "2024-07-05T22:46:09.234311Z",
     "start_time": "2024-07-05T22:46:07.670424Z"
    },
    "collapsed": false
   },
   "outputs": [
    {
     "name": "stdout",
     "output_type": "stream",
     "text": [
      "Usage: linkml-store fq [OPTIONS]\n",
      "\n",
      "  Query facets from the specified collection.\n",
      "\n",
      "  :param ctx: :param where: :param limit: :param columns: :param output_type:\n",
      "  :param output: :return:\n",
      "\n",
      "Options:\n",
      "  -w, --where TEXT                WHERE clause for the query\n",
      "  -l, --limit INTEGER             Maximum number of results to return\n",
      "  -O, --output-type [json|jsonl|yaml|tsv|csv|python|parquet|formatted|table]\n",
      "                                  Output format\n",
      "  -o, --output PATH               Output file path\n",
      "  -S, --columns TEXT              Columns to facet on\n",
      "  -U, --wide / --no-wide, --no-U  Wide table  [default: no-wide]\n",
      "  --help                          Show this message and exit.\n"
     ]
    }
   ],
   "source": [
    "%%bash\n",
    "linkml-store fq --help"
   ]
  },
  {
   "cell_type": "code",
   "execution_count": 11,
   "id": "6d8152d20290120c",
   "metadata": {
    "ExecuteTime": {
     "end_time": "2024-07-05T22:46:10.807968Z",
     "start_time": "2024-07-05T22:46:09.235078Z"
    },
    "collapsed": false
   },
   "outputs": [
    {
     "name": "stdout",
     "output_type": "stream",
     "text": [
      "{\n",
      "  \"continent\": {\n",
      "    \"Europe\": 5,\n",
      "    \"Asia\": 5,\n",
      "    \"Africa\": 3,\n",
      "    \"North America\": 3,\n",
      "    \"South America\": 2,\n",
      "    \"Oceania\": 2\n",
      "  }\n",
      "}\n"
     ]
    }
   ],
   "source": [
    "%%bash\n",
    "linkml-store -d duckdb:///tmp/countries.db -c countries fq -S continent"
   ]
  },
  {
   "cell_type": "code",
   "execution_count": 59,
   "id": "fa0717e71e31e101",
   "metadata": {
    "ExecuteTime": {
     "end_time": "2024-07-05T23:01:36.975982Z",
     "start_time": "2024-07-05T23:01:35.441457Z"
    },
    "collapsed": false
   },
   "outputs": [
    {
     "name": "stdout",
     "output_type": "stream",
     "text": [
      "+------------------+-------------+-------------+\n",
      "|                  |   continent |   languages |\n",
      "|------------------+-------------+-------------|\n",
      "| Europe           |           5 |         nan |\n",
      "| Asia             |           5 |         nan |\n",
      "| Africa           |           3 |         nan |\n",
      "| North America    |           3 |         nan |\n",
      "| Oceania          |           2 |         nan |\n",
      "| South America    |           2 |         nan |\n",
      "| English          |         nan |           8 |\n",
      "| Spanish          |         nan |           3 |\n",
      "| French           |         nan |           2 |\n",
      "| Japanese         |         nan |           1 |\n",
      "| Indonesian       |         nan |           1 |\n",
      "| German           |         nan |           1 |\n",
      "| Korean           |         nan |           1 |\n",
      "| Northern Sotho   |         nan |           1 |\n",
      "| Venda            |         nan |           1 |\n",
      "| Southern Ndebele |         nan |           1 |\n",
      "| Arabic           |         nan |           1 |\n",
      "| Afrikaans        |         nan |           1 |\n",
      "| Italian          |         nan |           1 |\n",
      "| Standard Chinese |         nan |           1 |\n",
      "| Tswana           |         nan |           1 |\n",
      "| Southern Sotho   |         nan |           1 |\n",
      "| Zulu             |         nan |           1 |\n",
      "| Tsonga           |         nan |           1 |\n",
      "| Portuguese       |         nan |           1 |\n",
      "| Māori            |         nan |           1 |\n",
      "| Xhosa            |         nan |           1 |\n",
      "| Hindi            |         nan |           1 |\n",
      "| Swazi            |         nan |           1 |\n",
      "+------------------+-------------+-------------+\n"
     ]
    }
   ],
   "source": [
    "%%bash\n",
    "linkml-store --stacktrace -d duckdb:///tmp/countries.db -c countries fq -S continent,languages -O table "
   ]
  },
  {
   "cell_type": "markdown",
   "id": "b5a1d7cf536cc60e",
   "metadata": {
    "collapsed": false
   },
   "source": [
    "Remember this is a test dataset deliberately reduced so we don't expect to see all countries there!"
   ]
  },
  {
   "cell_type": "markdown",
   "id": "1fd37a3fabafcac4",
   "metadata": {
    "collapsed": false
   },
   "source": [
    "## Search\n",
    "\n",
    "LinkML-Store is intended to allow for a flexible range of *search strategies*. Some of these may come from the underlying data store\n",
    "(for example, SOLr or ES is backed by Lucene indexing). Or they may be integrated orthogonally.\n",
    "\n",
    "A key search mechanism that is supported is *text embedding* via *Large Language Models (LLMs)*. Note these are not enabled by default.\n",
    "\n",
    "Currently the default mechanism (which works regardless of the underlying store) is a highly naive trigram-based vector embedding. This requires\n",
    "no external model. It is intended primarily for demonstration purposes, and should be swapped out for something else."
   ]
  },
  {
   "cell_type": "markdown",
   "id": "82dd185bda0ec1bd",
   "metadata": {
    "collapsed": false
   },
   "source": [
    "### Indexing a collection\n",
    "\n",
    "First we will explore the `index` command"
   ]
  },
  {
   "cell_type": "code",
   "execution_count": 12,
   "id": "ae0172f931e5f228",
   "metadata": {
    "ExecuteTime": {
     "end_time": "2024-07-05T22:46:12.265265Z",
     "start_time": "2024-07-05T22:46:10.808630Z"
    },
    "collapsed": false
   },
   "outputs": [
    {
     "name": "stdout",
     "output_type": "stream",
     "text": [
      "Usage: linkml-store index [OPTIONS]\n",
      "\n",
      "  Create an index over a collection.\n",
      "\n",
      "  By default a simple trigram index is used.\n",
      "\n",
      "Options:\n",
      "  -t, --index-type TEXT           Type of index to create. Values: simple, llm\n",
      "                                  [default: simple]\n",
      "  -E, --cached-embeddings-database TEXT\n",
      "                                  Path to the database where embeddings are\n",
      "                                  cached\n",
      "  -T, --text-template TEXT        Template for text embeddings\n",
      "  --help                          Show this message and exit.\n"
     ]
    }
   ],
   "source": [
    "%%bash\n",
    "linkml-store index --help"
   ]
  },
  {
   "cell_type": "markdown",
   "id": "65f5422c6dd449d9",
   "metadata": {
    "collapsed": false
   },
   "source": [
    "Next we'll make a (default) index"
   ]
  },
  {
   "cell_type": "code",
   "execution_count": 13,
   "id": "3c97f99cca09a03d",
   "metadata": {
    "ExecuteTime": {
     "end_time": "2024-07-05T22:46:13.966229Z",
     "start_time": "2024-07-05T22:46:12.265933Z"
    },
    "collapsed": false
   },
   "outputs": [],
   "source": [
    "%%bash\n",
    "linkml-store -d duckdb:///tmp/countries.db -c countries index"
   ]
  },
  {
   "cell_type": "markdown",
   "id": "981aea1e6dd63508",
   "metadata": {
    "collapsed": false
   },
   "source": [
    "### Searching a collection using an index\n",
    "\n",
    "Let's explore the `search` command"
   ]
  },
  {
   "cell_type": "code",
   "execution_count": 14,
   "id": "a6e98ccac65635ba",
   "metadata": {
    "ExecuteTime": {
     "end_time": "2024-07-05T22:46:15.422307Z",
     "start_time": "2024-07-05T22:46:13.969534Z"
    },
    "collapsed": false
   },
   "outputs": [
    {
     "name": "stdout",
     "output_type": "stream",
     "text": [
      "Usage: linkml-store search [OPTIONS] SEARCH_TERM\n",
      "\n",
      "  Search objects in the specified collection.\n",
      "\n",
      "Options:\n",
      "  -w, --where TEXT                WHERE clause for the search\n",
      "  -l, --limit INTEGER             Maximum number of search results\n",
      "  -O, --output-type [json|jsonl|yaml|tsv|csv|python|parquet|formatted|table]\n",
      "                                  Output format\n",
      "  -o, --output PATH               Output file path\n",
      "  --auto-index / --no-auto-index  Automatically index the collection\n",
      "                                  [default: no-auto-index]\n",
      "  -t, --index-type TEXT           Type of index to create. Values: simple, llm\n",
      "                                  [default: simple]\n",
      "  --help                          Show this message and exit.\n"
     ]
    }
   ],
   "source": [
    "%%bash\n",
    "linkml-store search --help"
   ]
  },
  {
   "cell_type": "markdown",
   "id": "f5c0cd805f8d19dc",
   "metadata": {
    "collapsed": false
   },
   "source": [
    "Now we'll search for countries in the North where both English and French are spoken. We'll pose this as a natural language query, but the default index is only picking up on trigram tokens in the strings."
   ]
  },
  {
   "cell_type": "code",
   "execution_count": 15,
   "id": "8fce64c44a6aae21",
   "metadata": {
    "ExecuteTime": {
     "end_time": "2024-07-05T22:46:17.076513Z",
     "start_time": "2024-07-05T22:46:15.422957Z"
    },
    "collapsed": false
   },
   "outputs": [
    {
     "name": "stdout",
     "output_type": "stream",
     "text": [
      "score,name,code,capital,continent,languages\r\n",
      "0.15670402880167877,Canada,CA,Ottawa,North America,\"['English', 'French']\"\r\n",
      "0.14806601565681218,South Africa,ZA,Pretoria,Africa,\"['Zulu', 'Xhosa', 'Afrikaans', 'English', 'Northern Sotho', 'Tswana', 'Southern Sotho', 'Tsonga', 'Swazi', 'Venda', 'Southern Ndebele']\"\r\n",
      "0.13749236361227862,United States,US,\"Washington, D.C.\",North America,['English']\r\n",
      "0.09860812114511587,Argentina,AR,Buenos Aires,South America,['Spanish']\r\n",
      "0.09765536333140983,Mexico,MX,Mexico City,North America,['Spanish']\r\n"
     ]
    }
   ],
   "source": [
    "%%bash\n",
    "linkml-store -d duckdb:///tmp/countries.db -c countries search \"countries in the North where both english and french spoken\" --limit 5 -O csv"
   ]
  },
  {
   "cell_type": "markdown",
   "id": "f69630e05da3bd6b",
   "metadata": {
    "collapsed": false
   },
   "source": [
    "By default, all fields in the object are indexed. Canada comes out top as the strings for English and France are present (or rather trigrams from those words). But remember the default method is just for illustration!"
   ]
  },
  {
   "cell_type": "markdown",
   "id": "a59443d06387db90",
   "metadata": {
    "collapsed": false
   },
   "source": [
    "## Indexing using an LLM (OPTIONAL)\n",
    "\n",
    "Note for this to work, you need to have installed this package with the `llm` extra, like this:\n",
    "\n",
    "```bash\n",
    "pip install linkml-store[llm]\n",
    "```\n",
    "\n",
    "Or if you have this repo checked out and are using Poetry:\n",
    "\n",
    "```bash\n",
    "poetry install --all-extras\n",
    "```\n",
    "\n",
    "You will also need an OpenAI account.\n",
    "\n",
    "If this is too much, you can just skip this section!\n"
   ]
  },
  {
   "cell_type": "code",
   "execution_count": 16,
   "id": "180b3f44075c0291",
   "metadata": {
    "ExecuteTime": {
     "end_time": "2024-07-05T22:46:19.930938Z",
     "start_time": "2024-07-05T22:46:17.076938Z"
    },
    "collapsed": false
   },
   "outputs": [],
   "source": [
    "%%bash\n",
    "linkml-store -d duckdb:///tmp/countries.db -c countries index -t llm -E tmp/llm_countries_cache.db"
   ]
  },
  {
   "cell_type": "code",
   "execution_count": 17,
   "id": "9711a8db9c414953",
   "metadata": {
    "ExecuteTime": {
     "end_time": "2024-07-05T22:46:21.907338Z",
     "start_time": "2024-07-05T22:46:19.931736Z"
    },
    "collapsed": false
   },
   "outputs": [
    {
     "name": "stdout",
     "output_type": "stream",
     "text": [
      "score,name,code,capital,continent,languages\r\n",
      "0.7927589434263863,Canada,CA,Ottawa,North America,\"['English', 'French']\"\r\n",
      "0.7641071952797124,France,FR,Paris,Europe,['French']\r\n",
      "0.7546847140878102,United States,US,\"Washington, D.C.\",North America,['English']\r\n",
      "0.7424773577897005,Australia,AU,Canberra,Oceania,['English']\r\n",
      "0.741656789495497,United Kingdom,GB,London,Europe,['English']\r\n"
     ]
    }
   ],
   "source": [
    "%%bash\n",
    "linkml-store -d duckdb:///tmp/countries.db -c countries search -t llm \"countries in the North where both english and french spoken\" --limit 5 -O csv"
   ]
  },
  {
   "cell_type": "markdown",
   "id": "df6bdc130db45fa2",
   "metadata": {
    "collapsed": false
   },
   "source": [
    "The results are not particularly meaningful, but the idea is that this could be used in a RAG-style system."
   ]
  },
  {
   "cell_type": "markdown",
   "id": "2661d59e4e665823",
   "metadata": {
    "collapsed": false
   },
   "source": [
    "## Schemas\n",
    "\n",
    "Note in the above we did not explicitly specify a schema; instead it is *induced*.\n",
    "\n",
    "We can use the `schema` command to see the induced schema in [LinkML YAML](https://linkml.github.io/linkml/)."
   ]
  },
  {
   "cell_type": "code",
   "execution_count": 18,
   "id": "f36b8ae0c4325d2",
   "metadata": {
    "ExecuteTime": {
     "end_time": "2024-07-05T22:46:23.716843Z",
     "start_time": "2024-07-05T22:46:21.907742Z"
    },
    "collapsed": false
   },
   "outputs": [
    {
     "name": "stdout",
     "output_type": "stream",
     "text": [
      "name: test-schema\n",
      "id: http://example.org/test-schema\n",
      "imports:\n",
      "- linkml:types\n",
      "prefixes:\n",
      "  linkml:\n",
      "    prefix_prefix: linkml\n",
      "    prefix_reference: https://w3id.org/linkml/\n",
      "  test_schema:\n",
      "    prefix_prefix: test_schema\n",
      "    prefix_reference: http://example.org/test-schema/\n",
      "default_prefix: test_schema\n",
      "default_range: string\n",
      "classes:\n",
      "  countries:\n",
      "    name: countries\n",
      "    attributes:\n",
      "      name:\n",
      "        name: name\n",
      "        range: string\n",
      "        required: false\n",
      "        multivalued: false\n",
      "      code:\n",
      "        name: code\n",
      "        range: string\n",
      "        required: false\n",
      "        multivalued: false\n",
      "      capital:\n",
      "        name: capital\n",
      "        range: string\n",
      "        required: false\n",
      "        multivalued: false\n",
      "      continent:\n",
      "        name: continent\n",
      "        range: string\n",
      "        required: false\n",
      "        multivalued: false\n",
      "      languages:\n",
      "        name: languages\n",
      "        range: string\n",
      "        required: false\n",
      "        multivalued: true\n",
      "  internal__index__countries__llm:\n",
      "    name: internal__index__countries__llm\n",
      "    attributes:\n",
      "      name:\n",
      "        name: name\n",
      "        range: string\n",
      "        required: false\n",
      "        multivalued: false\n",
      "      code:\n",
      "        name: code\n",
      "        range: string\n",
      "        required: false\n",
      "        multivalued: false\n",
      "      capital:\n",
      "        name: capital\n",
      "        range: string\n",
      "        required: false\n",
      "        multivalued: false\n",
      "      continent:\n",
      "        name: continent\n",
      "        range: string\n",
      "        required: false\n",
      "        multivalued: false\n",
      "      languages:\n",
      "        name: languages\n",
      "        range: string\n",
      "        required: false\n",
      "        multivalued: true\n",
      "      __index__:\n",
      "        name: __index__\n",
      "        range: string\n",
      "        required: false\n",
      "        multivalued: true\n",
      "  internal__index__countries__simple:\n",
      "    name: internal__index__countries__simple\n",
      "    attributes:\n",
      "      name:\n",
      "        name: name\n",
      "        range: string\n",
      "        required: false\n",
      "        multivalued: false\n",
      "      code:\n",
      "        name: code\n",
      "        range: string\n",
      "        required: false\n",
      "        multivalued: false\n",
      "      capital:\n",
      "        name: capital\n",
      "        range: string\n",
      "        required: false\n",
      "        multivalued: false\n",
      "      continent:\n",
      "        name: continent\n",
      "        range: string\n",
      "        required: false\n",
      "        multivalued: false\n",
      "      languages:\n",
      "        name: languages\n",
      "        range: string\n",
      "        required: false\n",
      "        multivalued: true\n",
      "      __index__:\n",
      "        name: __index__\n",
      "        range: string\n",
      "        required: false\n",
      "        multivalued: true\n"
     ]
    }
   ],
   "source": [
    "%%bash\n",
    "linkml-store -d duckdb:///tmp/countries.db schema"
   ]
  },
  {
   "cell_type": "markdown",
   "id": "78696f002f28d51d",
   "metadata": {
    "collapsed": false
   },
   "source": [
    "## Configuration Files and Explicit Schemas\n",
    "\n",
    "Rather than repeat `--database` and `--collection` each time, we can make use of YAML config files.\n",
    "\n",
    "These can also package useful information and schemas.\n",
    "\n",
    "First we will create a fresh copy of a directory with both configuration files and schemas:"
   ]
  },
  {
   "cell_type": "code",
   "execution_count": 19,
   "id": "dad98c3579f24bbd",
   "metadata": {
    "ExecuteTime": {
     "end_time": "2024-07-05T22:46:23.717585Z",
     "start_time": "2024-07-05T22:46:23.696482Z"
    },
    "collapsed": false
   },
   "outputs": [],
   "source": [
    "%%bash\n",
    "cp -pr ../../tests/input/countries tmp\n",
    "rm tmp/countries/countries.db"
   ]
  },
  {
   "cell_type": "markdown",
   "id": "9a9be08dcc572a7f",
   "metadata": {
    "collapsed": false
   },
   "source": [
    "The configuration YAML is fairly minimal - it specifies a single database with a single collection, and a pointer to a schema"
   ]
  },
  {
   "cell_type": "code",
   "execution_count": 20,
   "id": "bfde580a0ec64091",
   "metadata": {
    "ExecuteTime": {
     "end_time": "2024-07-05T22:46:23.737065Z",
     "start_time": "2024-07-05T22:46:23.717022Z"
    },
    "collapsed": false
   },
   "outputs": [
    {
     "name": "stdout",
     "output_type": "stream",
     "text": [
      "databases:\n",
      "  countries_db:\n",
      "    handle: \"duckdb:///{base_dir}/countries.db\"\n",
      "    schema_location: \"{base_dir}/countries.linkml.yaml\"\n",
      "    collections:\n",
      "      countries:\n",
      "        type: Country\n"
     ]
    }
   ],
   "source": [
    "%%bash\n",
    "cat tmp/countries/countries.config.yaml"
   ]
  },
  {
   "cell_type": "markdown",
   "id": "9242b8942af6f976",
   "metadata": {
    "collapsed": false
   },
   "source": [
    "The schema itself is fairly basic - a single class (whose name matches the `type`) in the configuration,\n",
    "with some slots. Note the slots have some constraints, e.g. regexps"
   ]
  },
  {
   "cell_type": "code",
   "execution_count": 21,
   "id": "cebbfe0d134749e7",
   "metadata": {
    "ExecuteTime": {
     "end_time": "2024-07-05T22:46:23.765650Z",
     "start_time": "2024-07-05T22:46:23.730561Z"
    },
    "collapsed": false
   },
   "outputs": [
    {
     "name": "stdout",
     "output_type": "stream",
     "text": [
      "id: https://example.org/countries\n",
      "name: countries\n",
      "description: A schema for representing countries\n",
      "license: https://creativecommons.org/publicdomain/zero/1.0/\n",
      "\n",
      "prefixes:\n",
      "  countries: https://example.org/countries/\n",
      "  linkml: https://w3id.org/linkml/\n",
      "\n",
      "default_prefix: countries\n",
      "default_range: string\n",
      "\n",
      "imports:\n",
      "  - linkml:types\n",
      "\n",
      "classes:\n",
      "  Country:\n",
      "    description: A sovereign state\n",
      "    slots:\n",
      "      - name\n",
      "      - code\n",
      "      - capital\n",
      "      - continent\n",
      "      - languages\n",
      "  Route:\n",
      "    slots:\n",
      "      - origin\n",
      "      - destination\n",
      "      - method\n",
      "\n",
      "slots:\n",
      "  name:\n",
      "    description: The name of the country\n",
      "    required: true\n",
      "    # identifier: true\n",
      "  code:\n",
      "    description: The ISO 3166-1 alpha-2 code of the country\n",
      "    required: true\n",
      "    pattern: '^[A-Z]{2}$'\n",
      "    identifier: true\n",
      "  capital:\n",
      "    description: The capital city of the country\n",
      "    required: true\n",
      "  continent:\n",
      "    description: The continent where the country is located\n",
      "    required: true\n",
      "  languages:\n",
      "    description: The main languages spoken in the country\n",
      "    range: Language\n",
      "    multivalued: true\n",
      "  origin:\n",
      "    range: Country\n",
      "  destination:\n",
      "    range: Country\n",
      "  method:\n",
      "    range: MethodEnum\n",
      "\n",
      "enums:\n",
      "  MethodEnum:\n",
      "    permissible_values:\n",
      "      rail:\n",
      "      air:\n",
      "      road:\n",
      "\n",
      "types:\n",
      "  Language:\n",
      "    typeof: string\n",
      "    description: A human language"
     ]
    }
   ],
   "source": [
    "%%bash\n",
    "cat tmp/countries/countries.linkml.yaml"
   ]
  },
  {
   "cell_type": "code",
   "execution_count": 22,
   "id": "f0db6bd8db3ed955",
   "metadata": {
    "ExecuteTime": {
     "end_time": "2024-07-05T22:46:25.335422Z",
     "start_time": "2024-07-05T22:46:23.766847Z"
    },
    "collapsed": false
   },
   "outputs": [
    {
     "name": "stdout",
     "output_type": "stream",
     "text": [
      "Inserted 20 objects from tmp/countries/countries.jsonl into collection 'countries'.\n"
     ]
    }
   ],
   "source": [
    "%%bash\n",
    "linkml-store -B tmp/countries -C tmp/countries/countries.config.yaml insert tmp/countries/countries.jsonl"
   ]
  },
  {
   "cell_type": "code",
   "execution_count": 23,
   "id": "722706dd4ac509b4",
   "metadata": {
    "ExecuteTime": {
     "end_time": "2024-07-05T22:46:26.858229Z",
     "start_time": "2024-07-05T22:46:25.335919Z"
    },
    "collapsed": false
   },
   "outputs": [
    {
     "name": "stdout",
     "output_type": "stream",
     "text": [
      "countries\n",
      "alias: countries\n",
      "type: Country\n",
      "additional_properties: null\n",
      "attributes: null\n",
      "indexers: null\n",
      "hidden: false\n",
      "is_prepopulated: false\n",
      "source: null\n",
      "derived_from: null\n"
     ]
    }
   ],
   "source": [
    "%%bash\n",
    "linkml-store -B tmp/countries -C tmp/countries/countries.config.yaml list-collections"
   ]
  },
  {
   "cell_type": "code",
   "execution_count": 24,
   "id": "b831b4012a6c03a3",
   "metadata": {
    "ExecuteTime": {
     "end_time": "2024-07-05T22:46:28.432735Z",
     "start_time": "2024-07-05T22:46:26.858828Z"
    },
    "collapsed": false
   },
   "outputs": [
    {
     "name": "stdout",
     "output_type": "stream",
     "text": [
      "[\n",
      "  {\n",
      "    \"name\": \"United Kingdom\",\n",
      "    \"code\": \"GB\",\n",
      "    \"capital\": \"London\",\n",
      "    \"continent\": \"Europe\",\n",
      "    \"languages\": [\n",
      "      \"English\"\n",
      "    ]\n",
      "  }\n",
      "]\n"
     ]
    }
   ],
   "source": [
    "%%bash\n",
    "linkml-store --stacktrace  -B tmp/countries -C tmp/countries/countries.config.yaml -c countries query -w \"code: GB\" "
   ]
  },
  {
   "cell_type": "markdown",
   "id": "5f94d882bd97cb78",
   "metadata": {
    "collapsed": false
   },
   "source": [
    "## Validation\n",
    "\n",
    "LinkML-Store is designed to allow for rich validation, regardless of the underlying database store used.\n",
    "\n",
    "For validation to work, we need to specify an explicit schema, as we have done with the configuration above.\n",
    "\n",
    "To test it, we will insert some fake data:"
   ]
  },
  {
   "cell_type": "code",
   "execution_count": 25,
   "id": "9d81c524271eddfc",
   "metadata": {
    "ExecuteTime": {
     "end_time": "2024-07-05T22:46:30.005084Z",
     "start_time": "2024-07-05T22:46:28.433261Z"
    },
    "collapsed": false
   },
   "outputs": [
    {
     "name": "stdout",
     "output_type": "stream",
     "text": [
      "Inserted 3 objects from {name: Foolandia, code: \"X Y\", languages: [\"Fooish\"]} into collection 'countries'.\n"
     ]
    }
   ],
   "source": [
    "%%bash\n",
    "linkml-store -B tmp/countries -C tmp/countries/countries.config.yaml insert --object '{name: Foolandia, code: \"X Y\", languages: [\"Fooish\"]}'"
   ]
  },
  {
   "cell_type": "markdown",
   "id": "198e7b6dcfd0b1c7",
   "metadata": {
    "collapsed": false
   },
   "source": [
    "Let's check that the data is there:"
   ]
  },
  {
   "cell_type": "code",
   "execution_count": 26,
   "id": "bc79b2c4af397111",
   "metadata": {
    "ExecuteTime": {
     "end_time": "2024-07-05T22:46:31.582774Z",
     "start_time": "2024-07-05T22:46:30.008712Z"
    },
    "collapsed": false
   },
   "outputs": [
    {
     "name": "stdout",
     "output_type": "stream",
     "text": [
      "[\n",
      "  {\n",
      "    \"name\": \"Foolandia\",\n",
      "    \"code\": \"X Y\",\n",
      "    \"capital\": null,\n",
      "    \"continent\": null,\n",
      "    \"languages\": [\n",
      "      \"Fooish\"\n",
      "    ]\n",
      "  }\n",
      "]\n"
     ]
    }
   ],
   "source": [
    "%%bash\n",
    "linkml-store -B tmp/countries -C tmp/countries/countries.config.yaml query -w 'name: Foolandia'"
   ]
  },
  {
   "cell_type": "markdown",
   "id": "ef95ca843c46e78b",
   "metadata": {
    "collapsed": false
   },
   "source": [
    "Note that by default, validation is *deferred*. You can insert whatever you like, and then validate later.\n",
    "\n",
    "Other configurations may be more suited to your project, including strict/prospective validation.\n",
    "\n",
    "Next let's examine the schema:"
   ]
  },
  {
   "cell_type": "code",
   "execution_count": 27,
   "id": "ba9a72c20c4f9f8",
   "metadata": {
    "ExecuteTime": {
     "end_time": "2024-07-05T22:46:33.084471Z",
     "start_time": "2024-07-05T22:46:31.583086Z"
    },
    "collapsed": false
   },
   "outputs": [
    {
     "name": "stdout",
     "output_type": "stream",
     "text": [
      "name: countries\n",
      "description: A schema for representing countries\n",
      "id: https://example.org/countries\n",
      "imports:\n",
      "- linkml:types\n",
      "license: https://creativecommons.org/publicdomain/zero/1.0/\n",
      "prefixes:\n",
      "  countries:\n",
      "    prefix_prefix: countries\n",
      "    prefix_reference: https://example.org/countries/\n",
      "  linkml:\n",
      "    prefix_prefix: linkml\n",
      "    prefix_reference: https://w3id.org/linkml/\n",
      "default_prefix: countries\n",
      "default_range: string\n",
      "types:\n",
      "  Language:\n",
      "    name: Language\n",
      "    description: A human language\n",
      "    typeof: string\n",
      "enums:\n",
      "  MethodEnum:\n",
      "    name: MethodEnum\n",
      "    permissible_values:\n",
      "      rail:\n",
      "        text: rail\n",
      "      air:\n",
      "        text: air\n",
      "      road:\n",
      "        text: road\n",
      "slots:\n",
      "  name:\n",
      "    name: name\n",
      "    description: The name of the country\n",
      "    required: true\n",
      "  code:\n",
      "    name: code\n",
      "    description: The ISO 3166-1 alpha-2 code of the country\n",
      "    identifier: true\n",
      "    required: true\n",
      "    pattern: ^[A-Z]{2}$\n",
      "  capital:\n",
      "    name: capital\n",
      "    description: The capital city of the country\n",
      "    required: true\n",
      "  continent:\n",
      "    name: continent\n",
      "    description: The continent where the country is located\n",
      "    required: true\n",
      "  languages:\n",
      "    name: languages\n",
      "    description: The main languages spoken in the country\n",
      "    range: Language\n",
      "    multivalued: true\n",
      "  origin:\n",
      "    name: origin\n",
      "    range: Country\n",
      "  destination:\n",
      "    name: destination\n",
      "    range: Country\n",
      "  method:\n",
      "    name: method\n",
      "    range: MethodEnum\n",
      "classes:\n",
      "  Country:\n",
      "    name: Country\n",
      "    description: A sovereign state\n",
      "    slots:\n",
      "    - name\n",
      "    - code\n",
      "    - capital\n",
      "    - continent\n",
      "    - languages\n",
      "  Route:\n",
      "    name: Route\n",
      "    slots:\n",
      "    - origin\n",
      "    - destination\n",
      "    - method\n",
      "source_file: tmp/countries/countries.linkml.yaml\n"
     ]
    }
   ],
   "source": [
    "%%bash\n",
    "linkml-store -B tmp/countries -C tmp/countries/countries.config.yaml schema"
   ]
  },
  {
   "cell_type": "markdown",
   "id": "e72e6855cff8280c",
   "metadata": {
    "collapsed": false
   },
   "source": [
    "### Run validation\n",
    "\n",
    "Next we will run the `validate` command:"
   ]
  },
  {
   "cell_type": "markdown",
   "id": "73269d55d343dc2b",
   "metadata": {
    "collapsed": false
   },
   "source": []
  },
  {
   "cell_type": "code",
   "execution_count": 29,
   "id": "597b805524772921",
   "metadata": {
    "ExecuteTime": {
     "end_time": "2024-07-05T22:47:55.515550Z",
     "start_time": "2024-07-05T22:47:53.342198Z"
    },
    "collapsed": false
   },
   "outputs": [
    {
     "name": "stdout",
     "output_type": "stream",
     "text": [
      "+----+-----------------------+------------+--------------------------------------------+---------------------------------------------------------------+------------------+----------------+-----------+\n",
      "|    | type                  | severity   | message                                    | instance                                                      |   instance_index | instantiates   | context   |\n",
      "|----+-----------------------+------------+--------------------------------------------+---------------------------------------------------------------+------------------+----------------+-----------|\n",
      "|  0 | jsonschema validation | ERROR      | 'X Y' does not match '^[A-Z]{2}$' in /code | {'name': 'Foolandia', 'code': 'X Y', 'languages': ['Fooish']} |                0 | Country        | []        |\n",
      "|  1 | jsonschema validation | ERROR      | 'capital' is a required property in /      | {'name': 'Foolandia', 'code': 'X Y', 'languages': ['Fooish']} |                0 | Country        | []        |\n",
      "|  2 | jsonschema validation | ERROR      | 'continent' is a required property in /    | {'name': 'Foolandia', 'code': 'X Y', 'languages': ['Fooish']} |                0 | Country        | []        |\n",
      "+----+-----------------------+------------+--------------------------------------------+---------------------------------------------------------------+------------------+----------------+-----------+\n"
     ]
    }
   ],
   "source": [
    "%%bash\n",
    "linkml-store -B tmp/countries -C tmp/countries/countries.config.yaml validate -O table"
   ]
  },
  {
   "cell_type": "markdown",
   "id": "e411262d116ec17d",
   "metadata": {
    "collapsed": false
   },
   "source": [
    "Here we can see 3 issues with the data we added:\n",
    "\n",
    "* the code doesn't match the regexp we provided (it has a space)\n",
    "* the capital is missing\n",
    "* the continent is missing\n",
    "   "
   ]
  },
  {
   "cell_type": "code",
   "execution_count": 28,
   "id": "935911ccc9e2cd8f",
   "metadata": {
    "ExecuteTime": {
     "end_time": "2024-07-05T22:46:34.810278Z",
     "start_time": "2024-07-05T22:46:34.808427Z"
    },
    "collapsed": false
   },
   "outputs": [],
   "source": []
  }
 ],
 "metadata": {
  "kernelspec": {
   "display_name": "Python 3",
   "language": "python",
   "name": "python3"
  },
  "language_info": {
   "codemirror_mode": {
    "name": "ipython",
    "version": 2
   },
   "file_extension": ".py",
   "mimetype": "text/x-python",
   "name": "python",
   "nbconvert_exporter": "python",
   "pygments_lexer": "ipython2",
   "version": "2.7.6"
  }
 },
 "nbformat": 4,
 "nbformat_minor": 5
}
