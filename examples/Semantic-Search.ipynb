{
 "cells": [
  {
   "cell_type": "markdown",
   "id": "315813bcb5f486a4",
   "metadata": {
    "collapsed": false
   },
   "source": [
    "# Semantic Search tutorial\n",
    "\n",
    "This tutorial will show you how to use indexing and semantic search."
   ]
  },
  {
   "cell_type": "code",
   "execution_count": 1,
   "id": "b3962319d0e1cdd2",
   "metadata": {
    "ExecuteTime": {
     "end_time": "2024-04-09T23:14:50.682747Z",
     "start_time": "2024-04-09T23:14:50.645822Z"
    },
    "collapsed": false
   },
   "outputs": [],
   "source": [
    "import pystow"
   ]
  },
  {
   "cell_type": "code",
   "execution_count": 2,
   "id": "5a0030a3e24b1545",
   "metadata": {
    "ExecuteTime": {
     "end_time": "2024-04-09T23:14:51.041566Z",
     "start_time": "2024-04-09T23:14:51.038284Z"
    },
    "collapsed": false
   },
   "outputs": [],
   "source": [
    "path=pystow.ensure(\"tmp\", \"eccode.json\", url=\"https://w3id.org/biopragmatics/resources/eccode/eccode.json\")"
   ]
  },
  {
   "cell_type": "code",
   "execution_count": 3,
   "id": "793566db96fc1cd9",
   "metadata": {
    "ExecuteTime": {
     "end_time": "2024-04-09T23:14:51.576916Z",
     "start_time": "2024-04-09T23:14:51.331026Z"
    },
    "collapsed": false
   },
   "outputs": [],
   "source": [
    "import json\n",
    "\n",
    "graphdoc = json.load(open(path))\n",
    "graph = graphdoc[\"graphs\"][0]"
   ]
  },
  {
   "cell_type": "code",
   "execution_count": 4,
   "id": "b3c3cf57c2d9aeed",
   "metadata": {
    "ExecuteTime": {
     "end_time": "2024-04-09T23:14:51.760482Z",
     "start_time": "2024-04-09T23:14:51.756834Z"
    },
    "collapsed": false
   },
   "outputs": [
    {
     "data": {
      "text/plain": [
       "(7177, 506022)"
      ]
     },
     "execution_count": 4,
     "metadata": {},
     "output_type": "execute_result"
    }
   ],
   "source": [
    "len(graph[\"nodes\"]), len(graph[\"edges\"])"
   ]
  },
  {
   "cell_type": "code",
   "execution_count": 5,
   "id": "93e613ff3730dd2a",
   "metadata": {
    "ExecuteTime": {
     "end_time": "2024-04-09T23:14:52.463851Z",
     "start_time": "2024-04-09T23:14:52.338928Z"
    },
    "collapsed": false
   },
   "outputs": [],
   "source": [
    "!rm -f /tmp/eccode.db"
   ]
  },
  {
   "cell_type": "code",
   "execution_count": 6,
   "id": "6a8adce3d3ec93c6",
   "metadata": {
    "ExecuteTime": {
     "end_time": "2024-04-09T23:14:53.123391Z",
     "start_time": "2024-04-09T23:14:52.879912Z"
    },
    "collapsed": false
   },
   "outputs": [],
   "source": [
    "from linkml_store import Client\n",
    "\n",
    "client = Client()\n",
    "db = client.attach_database(\"duckdb:////tmp/eccode.db\", \"eccode\")"
   ]
  },
  {
   "cell_type": "code",
   "execution_count": 7,
   "id": "4fa95b75cd1f19cf",
   "metadata": {
    "ExecuteTime": {
     "end_time": "2024-04-09T23:14:53.720342Z",
     "start_time": "2024-04-09T23:14:53.715945Z"
    },
    "collapsed": false
   },
   "outputs": [],
   "source": [
    "nodes_collection = db.create_collection(\"Node\", \"nodes\")"
   ]
  },
  {
   "cell_type": "code",
   "execution_count": 8,
   "id": "aee6a95b4a86432d",
   "metadata": {
    "ExecuteTime": {
     "end_time": "2024-04-09T23:14:54.988860Z",
     "start_time": "2024-04-09T23:14:54.679230Z"
    },
    "collapsed": false
   },
   "outputs": [],
   "source": [
    "nodes_collection.add(graph[\"nodes\"])"
   ]
  },
  {
   "cell_type": "code",
   "execution_count": 9,
   "id": "8e75156bfdafe7b",
   "metadata": {
    "ExecuteTime": {
     "end_time": "2024-04-09T23:15:09.144334Z",
     "start_time": "2024-04-09T23:15:09.136965Z"
    },
    "collapsed": false
   },
   "outputs": [],
   "source": [
    "from linkml_store.index.implementations.llm_index import LLMIndex\n",
    "\n",
    "index = LLMIndex(name=\"test\")"
   ]
  },
  {
   "cell_type": "code",
   "execution_count": null,
   "id": "993c0360941dbb3b",
   "metadata": {
    "ExecuteTime": {
     "start_time": "2024-04-09T23:15:17.203593Z"
    },
    "collapsed": false,
    "is_executing": true
   },
   "outputs": [],
   "source": [
    "nodes_collection.attach_index(index)"
   ]
  },
  {
   "cell_type": "code",
   "execution_count": null,
   "id": "e3abb5d529063c6e",
   "metadata": {
    "collapsed": false
   },
   "outputs": [],
   "source": []
  }
 ],
 "metadata": {
  "kernelspec": {
   "display_name": "Python 3",
   "language": "python",
   "name": "python3"
  },
  "language_info": {
   "codemirror_mode": {
    "name": "ipython",
    "version": 2
   },
   "file_extension": ".py",
   "mimetype": "text/x-python",
   "name": "python",
   "nbconvert_exporter": "python",
   "pygments_lexer": "ipython2",
   "version": "2.7.6"
  }
 },
 "nbformat": 4,
 "nbformat_minor": 5
}
